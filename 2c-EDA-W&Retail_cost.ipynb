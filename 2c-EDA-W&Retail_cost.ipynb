{
 "cells": [
  {
   "cell_type": "markdown",
   "metadata": {},
   "source": [
    "# EDA W&Retail Cost vs Features such as Oil and Exchange Rate"
   ]
  },
  {
   "cell_type": "markdown",
   "metadata": {},
   "source": [
    "South frican Petrol Price is compromised of 4 main elements                                             \n",
    "                    ** 1. General Fuel Levy                                                             \n",
    "                    ** 2. RAF Levy                                                                      \n",
    "                    ** 3. BFP(freight and insurance cost, cargo dues, storage and financing)                                                 \n",
    "                    ** 4. Wholesale and retail margien, and distribution and transport cost as WSale_Retail Cost"
   ]
  },
  {
   "cell_type": "markdown",
   "metadata": {},
   "source": [
    "#### 1. Load & Understand our data"
   ]
  },
  {
   "cell_type": "code",
   "execution_count": 1,
   "metadata": {},
   "outputs": [
    {
     "data": {
      "text/html": [
       "<div>\n",
       "<style scoped>\n",
       "    .dataframe tbody tr th:only-of-type {\n",
       "        vertical-align: middle;\n",
       "    }\n",
       "\n",
       "    .dataframe tbody tr th {\n",
       "        vertical-align: top;\n",
       "    }\n",
       "\n",
       "    .dataframe thead th {\n",
       "        text-align: right;\n",
       "    }\n",
       "</style>\n",
       "<table border=\"1\" class=\"dataframe\">\n",
       "  <thead>\n",
       "    <tr style=\"text-align: right;\">\n",
       "      <th></th>\n",
       "      <th>Date</th>\n",
       "      <th>Customs &amp;excise</th>\n",
       "      <th>Equalization fund levy</th>\n",
       "      <th>Transport cost</th>\n",
       "      <th>Petroeum  Products Levy</th>\n",
       "      <th>Wholesale margin</th>\n",
       "      <th>Retail margin</th>\n",
       "      <th>Slate levy</th>\n",
       "      <th>Delivery cost</th>\n",
       "      <th>DSML</th>\n",
       "      <th>Incremental Inland Transport Recovery Cost</th>\n",
       "      <th>Secondary Storage</th>\n",
       "      <th>Secondary distribution</th>\n",
       "      <th>Petrol</th>\n",
       "    </tr>\n",
       "  </thead>\n",
       "  <tbody>\n",
       "    <tr>\n",
       "      <th>0</th>\n",
       "      <td>2010-01-01</td>\n",
       "      <td>4</td>\n",
       "      <td>0</td>\n",
       "      <td>14.0</td>\n",
       "      <td>0.15</td>\n",
       "      <td>51.087</td>\n",
       "      <td>72.7</td>\n",
       "      <td>0.0</td>\n",
       "      <td>10.8</td>\n",
       "      <td>10.0</td>\n",
       "      <td>3.0</td>\n",
       "      <td>NaN</td>\n",
       "      <td>NaN</td>\n",
       "      <td>786.0</td>\n",
       "    </tr>\n",
       "    <tr>\n",
       "      <th>1</th>\n",
       "      <td>2010-02-01</td>\n",
       "      <td>4</td>\n",
       "      <td>0</td>\n",
       "      <td>14.0</td>\n",
       "      <td>0.15</td>\n",
       "      <td>51.087</td>\n",
       "      <td>72.7</td>\n",
       "      <td>0.0</td>\n",
       "      <td>10.8</td>\n",
       "      <td>10.0</td>\n",
       "      <td>3.0</td>\n",
       "      <td>NaN</td>\n",
       "      <td>NaN</td>\n",
       "      <td>804.0</td>\n",
       "    </tr>\n",
       "    <tr>\n",
       "      <th>2</th>\n",
       "      <td>2010-03-01</td>\n",
       "      <td>4</td>\n",
       "      <td>0</td>\n",
       "      <td>14.0</td>\n",
       "      <td>0.15</td>\n",
       "      <td>51.087</td>\n",
       "      <td>72.7</td>\n",
       "      <td>0.0</td>\n",
       "      <td>10.8</td>\n",
       "      <td>10.0</td>\n",
       "      <td>3.0</td>\n",
       "      <td>NaN</td>\n",
       "      <td>NaN</td>\n",
       "      <td>810.3</td>\n",
       "    </tr>\n",
       "    <tr>\n",
       "      <th>3</th>\n",
       "      <td>2010-04-01</td>\n",
       "      <td>4</td>\n",
       "      <td>0</td>\n",
       "      <td>14.0</td>\n",
       "      <td>0.15</td>\n",
       "      <td>51.087</td>\n",
       "      <td>72.7</td>\n",
       "      <td>0.0</td>\n",
       "      <td>10.8</td>\n",
       "      <td>10.0</td>\n",
       "      <td>3.0</td>\n",
       "      <td>NaN</td>\n",
       "      <td>NaN</td>\n",
       "      <td>858.3</td>\n",
       "    </tr>\n",
       "    <tr>\n",
       "      <th>4</th>\n",
       "      <td>2010-05-01</td>\n",
       "      <td>4</td>\n",
       "      <td>0</td>\n",
       "      <td>15.5</td>\n",
       "      <td>0.15</td>\n",
       "      <td>51.087</td>\n",
       "      <td>72.7</td>\n",
       "      <td>0.0</td>\n",
       "      <td>10.8</td>\n",
       "      <td>10.0</td>\n",
       "      <td>3.0</td>\n",
       "      <td>NaN</td>\n",
       "      <td>NaN</td>\n",
       "      <td>871.8</td>\n",
       "    </tr>\n",
       "  </tbody>\n",
       "</table>\n",
       "</div>"
      ],
      "text/plain": [
       "        Date  Customs &excise  Equalization fund levy  Transport cost  \\\n",
       "0 2010-01-01                4                       0            14.0   \n",
       "1 2010-02-01                4                       0            14.0   \n",
       "2 2010-03-01                4                       0            14.0   \n",
       "3 2010-04-01                4                       0            14.0   \n",
       "4 2010-05-01                4                       0            15.5   \n",
       "\n",
       "   Petroeum  Products Levy  Wholesale margin  Retail margin  Slate levy  \\\n",
       "0                     0.15            51.087           72.7         0.0   \n",
       "1                     0.15            51.087           72.7         0.0   \n",
       "2                     0.15            51.087           72.7         0.0   \n",
       "3                     0.15            51.087           72.7         0.0   \n",
       "4                     0.15            51.087           72.7         0.0   \n",
       "\n",
       "   Delivery cost  DSML   Incremental Inland Transport Recovery Cost  \\\n",
       "0           10.8   10.0                                         3.0   \n",
       "1           10.8   10.0                                         3.0   \n",
       "2           10.8   10.0                                         3.0   \n",
       "3           10.8   10.0                                         3.0   \n",
       "4           10.8   10.0                                         3.0   \n",
       "\n",
       "   Secondary Storage    Secondary distribution    Petrol  \n",
       "0                  NaN                       NaN   786.0  \n",
       "1                  NaN                       NaN   804.0  \n",
       "2                  NaN                       NaN   810.3  \n",
       "3                  NaN                       NaN   858.3  \n",
       "4                  NaN                       NaN   871.8  "
      ]
     },
     "execution_count": 1,
     "metadata": {},
     "output_type": "execute_result"
    }
   ],
   "source": [
    "import pandas as pd \n",
    "\n",
    "df = pd.read_excel('Data Collection\\Petrol.xlsx', sheet_name='Combinedv2')\n",
    "\n",
    "df1 = pd.read_excel('Data Collection\\BFP.xlsx', sheet_name='Combined')\n",
    "df1['Crude_Rands'] = (df1.Avg_Brent_Crude * df1.Ex_Rate)\n",
    "\n",
    "#New dataset with new columns\n",
    "to_drop = df[['BFP ', 'Fuel tax', 'Road accident fund']]\n",
    "data = df.drop(to_drop, axis=1)\n",
    "#Create a new column of Crude Oil Price in Rands\n",
    "data.head()"
   ]
  },
  {
   "cell_type": "code",
   "execution_count": 2,
   "metadata": {},
   "outputs": [
    {
     "data": {
      "text/plain": [
       "0    161.737\n",
       "1    161.737\n",
       "2    161.737\n",
       "3    161.737\n",
       "4    163.237\n",
       "Name: Other_cost, dtype: float64"
      ]
     },
     "execution_count": 2,
     "metadata": {},
     "output_type": "execute_result"
    }
   ],
   "source": [
    "data['Other_cost']=data.iloc[:,2:13].sum(axis=1)\n",
    "data_other = data['Other_cost']\n",
    "data_other.head()"
   ]
  },
  {
   "cell_type": "code",
   "execution_count": 3,
   "metadata": {},
   "outputs": [
    {
     "data": {
      "text/html": [
       "<div>\n",
       "<style scoped>\n",
       "    .dataframe tbody tr th:only-of-type {\n",
       "        vertical-align: middle;\n",
       "    }\n",
       "\n",
       "    .dataframe tbody tr th {\n",
       "        vertical-align: top;\n",
       "    }\n",
       "\n",
       "    .dataframe thead th {\n",
       "        text-align: right;\n",
       "    }\n",
       "</style>\n",
       "<table border=\"1\" class=\"dataframe\">\n",
       "  <thead>\n",
       "    <tr style=\"text-align: right;\">\n",
       "      <th></th>\n",
       "      <th>Date</th>\n",
       "      <th>BFP</th>\n",
       "      <th>Ex_Rate</th>\n",
       "      <th>Avg_Brent_Crude</th>\n",
       "      <th>Petrol</th>\n",
       "      <th>Crude_Rands</th>\n",
       "      <th>Fuel tax</th>\n",
       "      <th>Road accident fund</th>\n",
       "      <th>Other_cost</th>\n",
       "    </tr>\n",
       "  </thead>\n",
       "  <tbody>\n",
       "    <tr>\n",
       "      <th>0</th>\n",
       "      <td>2010-01-01</td>\n",
       "      <td>406.263</td>\n",
       "      <td>7.5246</td>\n",
       "      <td>74.31</td>\n",
       "      <td>786.0</td>\n",
       "      <td>559.153026</td>\n",
       "      <td>150.0</td>\n",
       "      <td>64</td>\n",
       "      <td>161.737</td>\n",
       "    </tr>\n",
       "    <tr>\n",
       "      <th>1</th>\n",
       "      <td>2010-02-01</td>\n",
       "      <td>424.263</td>\n",
       "      <td>7.4735</td>\n",
       "      <td>76.84</td>\n",
       "      <td>804.0</td>\n",
       "      <td>574.263740</td>\n",
       "      <td>150.0</td>\n",
       "      <td>64</td>\n",
       "      <td>161.737</td>\n",
       "    </tr>\n",
       "    <tr>\n",
       "      <th>2</th>\n",
       "      <td>2010-03-01</td>\n",
       "      <td>430.563</td>\n",
       "      <td>7.6902</td>\n",
       "      <td>73.17</td>\n",
       "      <td>810.3</td>\n",
       "      <td>562.691934</td>\n",
       "      <td>150.0</td>\n",
       "      <td>64</td>\n",
       "      <td>161.737</td>\n",
       "    </tr>\n",
       "    <tr>\n",
       "      <th>3</th>\n",
       "      <td>2010-04-01</td>\n",
       "      <td>453.063</td>\n",
       "      <td>7.4753</td>\n",
       "      <td>78.89</td>\n",
       "      <td>858.3</td>\n",
       "      <td>589.726417</td>\n",
       "      <td>167.5</td>\n",
       "      <td>72</td>\n",
       "      <td>161.737</td>\n",
       "    </tr>\n",
       "    <tr>\n",
       "      <th>4</th>\n",
       "      <td>2010-05-01</td>\n",
       "      <td>465.063</td>\n",
       "      <td>7.3749</td>\n",
       "      <td>85.75</td>\n",
       "      <td>871.8</td>\n",
       "      <td>632.397675</td>\n",
       "      <td>167.5</td>\n",
       "      <td>72</td>\n",
       "      <td>163.237</td>\n",
       "    </tr>\n",
       "  </tbody>\n",
       "</table>\n",
       "</div>"
      ],
      "text/plain": [
       "        Date      BFP  Ex_Rate  Avg_Brent_Crude  Petrol  Crude_Rands  \\\n",
       "0 2010-01-01  406.263   7.5246            74.31   786.0   559.153026   \n",
       "1 2010-02-01  424.263   7.4735            76.84   804.0   574.263740   \n",
       "2 2010-03-01  430.563   7.6902            73.17   810.3   562.691934   \n",
       "3 2010-04-01  453.063   7.4753            78.89   858.3   589.726417   \n",
       "4 2010-05-01  465.063   7.3749            85.75   871.8   632.397675   \n",
       "\n",
       "   Fuel tax  Road accident fund  Other_cost  \n",
       "0     150.0                  64     161.737  \n",
       "1     150.0                  64     161.737  \n",
       "2     150.0                  64     161.737  \n",
       "3     167.5                  72     161.737  \n",
       "4     167.5                  72     163.237  "
      ]
     },
     "execution_count": 3,
     "metadata": {},
     "output_type": "execute_result"
    }
   ],
   "source": [
    "all_df = [df1, to_drop, data_other]\n",
    "dataset = pd.concat(all_df, axis=1)\n",
    "dataset = dataset.drop(['BFP '], axis=1)\n",
    "dataset.head()"
   ]
  },
  {
   "cell_type": "code",
   "execution_count": 4,
   "metadata": {},
   "outputs": [
    {
     "data": {
      "text/plain": [
       "(147, 9)"
      ]
     },
     "execution_count": 4,
     "metadata": {},
     "output_type": "execute_result"
    }
   ],
   "source": [
    "dataset.shape"
   ]
  },
  {
   "cell_type": "code",
   "execution_count": 5,
   "metadata": {},
   "outputs": [
    {
     "data": {
      "text/html": [
       "<div>\n",
       "<style scoped>\n",
       "    .dataframe tbody tr th:only-of-type {\n",
       "        vertical-align: middle;\n",
       "    }\n",
       "\n",
       "    .dataframe tbody tr th {\n",
       "        vertical-align: top;\n",
       "    }\n",
       "\n",
       "    .dataframe thead th {\n",
       "        text-align: right;\n",
       "    }\n",
       "</style>\n",
       "<table border=\"1\" class=\"dataframe\">\n",
       "  <thead>\n",
       "    <tr style=\"text-align: right;\">\n",
       "      <th></th>\n",
       "      <th>BFP</th>\n",
       "      <th>Ex_Rate</th>\n",
       "      <th>Avg_Brent_Crude</th>\n",
       "      <th>Petrol</th>\n",
       "      <th>Crude_Rands</th>\n",
       "      <th>Fuel tax</th>\n",
       "      <th>Road accident fund</th>\n",
       "      <th>Other_cost</th>\n",
       "    </tr>\n",
       "  </thead>\n",
       "  <tbody>\n",
       "    <tr>\n",
       "      <th>count</th>\n",
       "      <td>147.000000</td>\n",
       "      <td>147.000000</td>\n",
       "      <td>147.000000</td>\n",
       "      <td>147.000000</td>\n",
       "      <td>147.000000</td>\n",
       "      <td>147.000000</td>\n",
       "      <td>147.000000</td>\n",
       "      <td>147.000000</td>\n",
       "    </tr>\n",
       "    <tr>\n",
       "      <th>mean</th>\n",
       "      <td>640.008156</td>\n",
       "      <td>11.940469</td>\n",
       "      <td>75.918231</td>\n",
       "      <td>1335.749912</td>\n",
       "      <td>843.021648</td>\n",
       "      <td>272.530612</td>\n",
       "      <td>142.285714</td>\n",
       "      <td>277.082823</td>\n",
       "    </tr>\n",
       "    <tr>\n",
       "      <th>std</th>\n",
       "      <td>137.463177</td>\n",
       "      <td>3.130337</td>\n",
       "      <td>26.278941</td>\n",
       "      <td>276.116053</td>\n",
       "      <td>205.333792</td>\n",
       "      <td>78.398508</td>\n",
       "      <td>52.243109</td>\n",
       "      <td>71.047662</td>\n",
       "    </tr>\n",
       "    <tr>\n",
       "      <th>min</th>\n",
       "      <td>274.770000</td>\n",
       "      <td>6.770100</td>\n",
       "      <td>18.990000</td>\n",
       "      <td>786.000000</td>\n",
       "      <td>350.880129</td>\n",
       "      <td>150.000000</td>\n",
       "      <td>64.000000</td>\n",
       "      <td>161.737000</td>\n",
       "    </tr>\n",
       "    <tr>\n",
       "      <th>25%</th>\n",
       "      <td>549.820000</td>\n",
       "      <td>8.794050</td>\n",
       "      <td>54.985000</td>\n",
       "      <td>1195.700000</td>\n",
       "      <td>665.399415</td>\n",
       "      <td>197.500000</td>\n",
       "      <td>88.000000</td>\n",
       "      <td>230.280000</td>\n",
       "    </tr>\n",
       "    <tr>\n",
       "      <th>50%</th>\n",
       "      <td>620.870000</td>\n",
       "      <td>12.860900</td>\n",
       "      <td>72.510000</td>\n",
       "      <td>1329.700000</td>\n",
       "      <td>842.732274</td>\n",
       "      <td>255.000000</td>\n",
       "      <td>154.000000</td>\n",
       "      <td>262.730000</td>\n",
       "    </tr>\n",
       "    <tr>\n",
       "      <th>75%</th>\n",
       "      <td>727.120000</td>\n",
       "      <td>14.463200</td>\n",
       "      <td>102.730000</td>\n",
       "      <td>1491.553500</td>\n",
       "      <td>971.138913</td>\n",
       "      <td>337.000000</td>\n",
       "      <td>193.000000</td>\n",
       "      <td>336.030000</td>\n",
       "    </tr>\n",
       "    <tr>\n",
       "      <th>max</th>\n",
       "      <td>1100.270000</td>\n",
       "      <td>18.477100</td>\n",
       "      <td>126.390000</td>\n",
       "      <td>2159.500000</td>\n",
       "      <td>1469.238100</td>\n",
       "      <td>393.000000</td>\n",
       "      <td>218.000000</td>\n",
       "      <td>444.230000</td>\n",
       "    </tr>\n",
       "  </tbody>\n",
       "</table>\n",
       "</div>"
      ],
      "text/plain": [
       "               BFP     Ex_Rate  Avg_Brent_Crude       Petrol  Crude_Rands  \\\n",
       "count   147.000000  147.000000       147.000000   147.000000   147.000000   \n",
       "mean    640.008156   11.940469        75.918231  1335.749912   843.021648   \n",
       "std     137.463177    3.130337        26.278941   276.116053   205.333792   \n",
       "min     274.770000    6.770100        18.990000   786.000000   350.880129   \n",
       "25%     549.820000    8.794050        54.985000  1195.700000   665.399415   \n",
       "50%     620.870000   12.860900        72.510000  1329.700000   842.732274   \n",
       "75%     727.120000   14.463200       102.730000  1491.553500   971.138913   \n",
       "max    1100.270000   18.477100       126.390000  2159.500000  1469.238100   \n",
       "\n",
       "         Fuel tax  Road accident fund  Other_cost  \n",
       "count  147.000000          147.000000  147.000000  \n",
       "mean   272.530612          142.285714  277.082823  \n",
       "std     78.398508           52.243109   71.047662  \n",
       "min    150.000000           64.000000  161.737000  \n",
       "25%    197.500000           88.000000  230.280000  \n",
       "50%    255.000000          154.000000  262.730000  \n",
       "75%    337.000000          193.000000  336.030000  \n",
       "max    393.000000          218.000000  444.230000  "
      ]
     },
     "execution_count": 5,
     "metadata": {},
     "output_type": "execute_result"
    }
   ],
   "source": [
    "dataset.describe()"
   ]
  },
  {
   "cell_type": "code",
   "execution_count": 6,
   "metadata": {},
   "outputs": [
    {
     "data": {
      "text/plain": [
       "Index(['Date', 'BFP', 'Ex_Rate', 'Avg_Brent_Crude', 'Petrol', 'Crude_Rands',\n",
       "       'Fuel tax', 'Road accident fund', 'Other_cost'],\n",
       "      dtype='object')"
      ]
     },
     "execution_count": 6,
     "metadata": {},
     "output_type": "execute_result"
    }
   ],
   "source": [
    "dataset.columns"
   ]
  },
  {
   "cell_type": "markdown",
   "metadata": {},
   "source": [
    "#### 2. Cleaning the data"
   ]
  },
  {
   "cell_type": "markdown",
   "metadata": {},
   "source": [
    "Check for any null values or missing values"
   ]
  },
  {
   "cell_type": "code",
   "execution_count": 7,
   "metadata": {},
   "outputs": [
    {
     "data": {
      "text/plain": [
       "Date                  0\n",
       "BFP                   0\n",
       "Ex_Rate               0\n",
       "Avg_Brent_Crude       0\n",
       "Petrol                0\n",
       "Crude_Rands           0\n",
       "Fuel tax              0\n",
       "Road accident fund    0\n",
       "Other_cost            0\n",
       "dtype: int64"
      ]
     },
     "execution_count": 7,
     "metadata": {},
     "output_type": "execute_result"
    }
   ],
   "source": [
    "dataset.isnull().sum()"
   ]
  },
  {
   "cell_type": "markdown",
   "metadata": {},
   "source": [
    "Check for duplicates, and if any drop them"
   ]
  },
  {
   "cell_type": "code",
   "execution_count": 8,
   "metadata": {},
   "outputs": [
    {
     "data": {
      "text/plain": [
       "0"
      ]
     },
     "execution_count": 8,
     "metadata": {},
     "output_type": "execute_result"
    }
   ],
   "source": [
    "#returns the sum of duplicates\n",
    "dataset.duplicated().sum()"
   ]
  },
  {
   "cell_type": "code",
   "execution_count": 9,
   "metadata": {},
   "outputs": [
    {
     "data": {
      "text/html": [
       "<div>\n",
       "<style scoped>\n",
       "    .dataframe tbody tr th:only-of-type {\n",
       "        vertical-align: middle;\n",
       "    }\n",
       "\n",
       "    .dataframe tbody tr th {\n",
       "        vertical-align: top;\n",
       "    }\n",
       "\n",
       "    .dataframe thead th {\n",
       "        text-align: right;\n",
       "    }\n",
       "</style>\n",
       "<table border=\"1\" class=\"dataframe\">\n",
       "  <thead>\n",
       "    <tr style=\"text-align: right;\">\n",
       "      <th></th>\n",
       "      <th>Date</th>\n",
       "      <th>BFP</th>\n",
       "      <th>Ex_Rate</th>\n",
       "      <th>Avg_Brent_Crude</th>\n",
       "      <th>Petrol</th>\n",
       "      <th>Crude_Rands</th>\n",
       "      <th>Fuel tax</th>\n",
       "      <th>Road accident fund</th>\n",
       "      <th>Other_cost</th>\n",
       "    </tr>\n",
       "  </thead>\n",
       "  <tbody>\n",
       "  </tbody>\n",
       "</table>\n",
       "</div>"
      ],
      "text/plain": [
       "Empty DataFrame\n",
       "Columns: [Date, BFP, Ex_Rate, Avg_Brent_Crude, Petrol, Crude_Rands, Fuel tax, Road accident fund, Other_cost]\n",
       "Index: []"
      ]
     },
     "execution_count": 9,
     "metadata": {},
     "output_type": "execute_result"
    }
   ],
   "source": [
    "#returns duplicates in dataframe form\n",
    "dataset[dataset.duplicated()]"
   ]
  },
  {
   "cell_type": "markdown",
   "metadata": {},
   "source": [
    "#### 3. Create the Profile Report of our data"
   ]
  },
  {
   "cell_type": "markdown",
   "metadata": {},
   "source": [
    "summary using the juypter notebook : To Create the simple report quickly"
   ]
  },
  {
   "cell_type": "code",
   "execution_count": 10,
   "metadata": {},
   "outputs": [],
   "source": [
    "# pip install pandas-profiling"
   ]
  },
  {
   "cell_type": "code",
   "execution_count": null,
   "metadata": {},
   "outputs": [],
   "source": [
    "#  Lets import the library needed\n",
    "#from pandas_profiling import ProfileReport \n",
    "\n",
    "# lets create the profiling report\n",
    "#profile = ProfileReport( dataset, title = 'Pandas Profiling Report', explorative=True)\n",
    "\n",
    "# profile.to_widgets()"
   ]
  },
  {
   "cell_type": "markdown",
   "metadata": {},
   "source": [
    "#### 4. Data Visualization"
   ]
  },
  {
   "cell_type": "code",
   "execution_count": 11,
   "metadata": {},
   "outputs": [],
   "source": [
    "import matplotlib.pyplot as plt\n",
    "import seaborn as sns "
   ]
  },
  {
   "cell_type": "code",
   "execution_count": 21,
   "metadata": {},
   "outputs": [
    {
     "data": {
      "image/png": "[encoded data removed]",
      "text/plain": [
       "<Figure size 432x288 with 1 Axes>"
      ]
     },
     "metadata": {
      "needs_background": "light"
     },
     "output_type": "display_data"
    }
   ],
   "source": [
    "plt.scatter(dataset['Ex_Rate'], dataset['Other_cost'])\n",
    "plt.show()"
   ]
  },
  {
   "cell_type": "code",
   "execution_count": null,
   "metadata": {},
   "outputs": [],
   "source": [
    "from plotly.subplots import make_subplots\n",
    "import plotly.graph_objs as go\n",
    "from plotly.offline import iplot\n",
    "\n",
    "\n",
    "# chart 1\n",
    "chart1 = go.Histogram(x=dataset.Oil_Rand)\n",
    "\n",
    "# chart 2\n",
    "chart2 = go.Histogram(x=dataset.Crude_Oil)\n",
    "\n",
    "#chart 3\n",
    "chart3 = go.Histogram(x=dataset.ZAR_USD)\n",
    "\n",
    "#chart 4\n",
    "chart4 = go.Histogram(x=dataset['W&Retail_Cost'])\n",
    "\n",
    "\n",
    "fig = make_subplots(rows=1, cols=4, subplot_titles=(\"Oil Price(Rand): Main Feature\", \"Crude Oil : Feature A\", \"ZAR-USD : Feature B\", 'Label : Wholesale & Retail Cost'))\n",
    "fig.append_trace(chart1, 1, 1)\n",
    "fig.append_trace(chart2, 1, 2)\n",
    "fig.append_trace(chart3, 1, 3)\n",
    "fig.append_trace(chart4, 1, 4)\n",
    "fig['layout'].update(height=600, width=1000,\n",
    "\t\t\t\t\ttitle='subplot')\n",
    "iplot(fig)\n"
   ]
  },
  {
   "cell_type": "code",
   "execution_count": null,
   "metadata": {},
   "outputs": [],
   "source": [
    "import matplotlib.pyplot as plt\n",
    "import seaborn as sns \n",
    "#define dimensions of subplots (rows, columns)\n",
    "fig, axes = plt.subplots(1, 4, figsize=(20,8))\n",
    "\n",
    "#create chart in each subplot\n",
    "sns.boxplot(data=dataset, y='Oil_Rand', ax=axes[0])\n",
    "sns.boxplot(data=dataset, y='Crude_Oil', ax=axes[1])\n",
    "sns.boxplot(data=dataset, y='ZAR_USD', ax=axes[2])\n",
    "sns.boxplot(data=dataset, y='W&Retail_Cost', ax=axes[3])"
   ]
  },
  {
   "cell_type": "code",
   "execution_count": null,
   "metadata": {},
   "outputs": [],
   "source": [
    "#define dimensions of subplots (rows, columns)\n",
    "fig, axes = plt.subplots(1, 4, figsize=(20,8))\n",
    "\n",
    "#create chart in each subplot\n",
    "sns.histplot(data=dataset, y='Oil_Rand', ax=axes[0])\n",
    "sns.histplot(data=dataset, y='Crude_Oil', ax=axes[1])\n",
    "sns.histplot(data=dataset, y='ZAR_USD', ax=axes[2])\n",
    "sns.histplot(data=dataset, y='W&Retail_Cost', ax=axes[3])"
   ]
  },
  {
   "cell_type": "markdown",
   "metadata": {},
   "source": [
    "Graph Compilation"
   ]
  },
  {
   "cell_type": "code",
   "execution_count": null,
   "metadata": {},
   "outputs": [],
   "source": [
    "import matplotlib.pyplot as plt\n",
    "import seaborn as sns \n",
    "#define dimensions of subplots (rows, columns)\n",
    "fig, axes = plt.subplots(2, 4, figsize=(20,10))\n",
    "\n",
    "#create chart in each subplot in row 1\n",
    "sns.boxplot(data=dataset, y='Oil_Rand', ax=axes[0,0])\n",
    "sns.boxplot(data=dataset, y='Crude_Oil', ax=axes[0,1])\n",
    "sns.boxplot(data=dataset, y='ZAR_USD', ax=axes[0,2])\n",
    "sns.boxplot(data=dataset, y='W&Retail_Cost', ax=axes[0,3])\n",
    "\n",
    "\n",
    "#create chart in each subplot in row 2\n",
    "sns.histplot(data=dataset, y='Oil_Rand', ax=axes[1,0])\n",
    "sns.histplot(data=dataset, y='Crude_Oil', ax=axes[1,1])\n",
    "sns.histplot(data=dataset, y='ZAR_USD', ax=axes[1,2])\n",
    "sns.histplot(data=dataset, y='W&Retail_Cost', ax=axes[1,3])\n",
    "\n",
    "\n",
    "#Create another graph for the distribution\n",
    "\n",
    "cols = ['Oil_Rand', 'Crude_Oil', 'ZAR_USD', 'W&Retail_Cost']\n",
    "\n",
    "# create the figure and axes\n",
    "fig, axes = plt.subplots(1, 4, figsize=(13,6))\n",
    "axes = axes.ravel()  # flattening the array makes indexing easier\n",
    "\n",
    "for col, ax in zip(cols, axes):\n",
    "    sns.histplot(data=dataset[col], kde=True, stat='density', ax=ax)\n",
    "\n",
    "fig.tight_layout()\n",
    "plt.show()\n"
   ]
  },
  {
   "cell_type": "code",
   "execution_count": null,
   "metadata": {},
   "outputs": [],
   "source": [
    "# select the columns to be plotted\n",
    "cols = ['Oil_Rand', 'Crude_Oil', 'ZAR_USD', 'W&Retail_Cost']\n",
    "\n",
    "# create the figure and axes\n",
    "fig, axes = plt.subplots(1, 4, figsize=(20,6))\n",
    "axes = axes.ravel()  # flattening the array makes indexing easier\n",
    "\n",
    "for col, ax in zip(cols, axes):\n",
    "    sns.histplot(data=dataset[col], kde=True, stat='density', ax=ax)\n",
    "\n",
    "fig.tight_layout()\n",
    "plt.show()\n"
   ]
  },
  {
   "cell_type": "code",
   "execution_count": null,
   "metadata": {},
   "outputs": [],
   "source": [
    "#define dimensions of subplots (rows, columns)\n",
    "fig, axes = plt.subplots(1, 3, figsize=(15,8))\n",
    "\n",
    "#create chart in each subplot\n",
    "sns.scatterplot(data=dataset, x='Oil_Rand',y='W&Retail_Cost', ax=axes[0])\n",
    "axes[0].set_title('Oil Price(Rand) vs Wholesale & Retail Cost')\n",
    "\n",
    "\n",
    "sns.scatterplot(data=dataset, x='Crude_Oil', y='W&Retail_Cost', ax=axes[1])\n",
    "axes[1].set_title('Crude Oil (USD) vs Wholesale & Retail Cost')\n",
    "\n",
    "sns.scatterplot(data=dataset, x='ZAR_USD', y='W&Retail_Cost', ax=axes[2])\n",
    "axes[3].set_title('ZAR_USD vs Wholesale & Retail Cost')"
   ]
  },
  {
   "cell_type": "markdown",
   "metadata": {},
   "source": [
    "#### 5. Descriptive statistics and data distribution"
   ]
  },
  {
   "cell_type": "code",
   "execution_count": null,
   "metadata": {},
   "outputs": [],
   "source": [
    "# Create a function that we can re-use\n",
    "def show_distribution(var_data):\n",
    "    from matplotlib import pyplot as plt\n",
    "\n",
    "    # Get statistics\n",
    "    min_val = var_data.min()\n",
    "    max_val = var_data.max()\n",
    "    mean_val = var_data.mean()\n",
    "    med_val = var_data.median()\n",
    "    mod_val = var_data.mode()[0]\n",
    "\n",
    "    print('Minimum:{:.2f}\\nMean:{:.2f}\\nMedian:{:.2f}\\nMode:{:.2f}\\nMaximum:{:.2f}\\n'.format(min_val,\n",
    "                                                                                            mean_val,\n",
    "                                                                                            med_val,\n",
    "                                                                                            mod_val,\n",
    "                                                                                            max_val))\n",
    "\n",
    "    # Create a figure for 2 subplots (2 rows, 1 column)\n",
    "    fig, ax = plt.subplots(2, 1, figsize = (12,6))\n",
    "\n",
    "    # Plot the histogram   \n",
    "    ax[0].hist(var_data)\n",
    "    ax[0].set_ylabel('Frequency')\n",
    "\n",
    "    # Add lines for the mean, median, and mode\n",
    "    ax[0].axvline(x=min_val, color = 'gray', linestyle='dashed', linewidth = 2)\n",
    "    ax[0].axvline(x=mean_val, color = 'cyan', linestyle='dashed', linewidth = 2)\n",
    "    ax[0].axvline(x=med_val, color = 'red', linestyle='dashed', linewidth = 2)\n",
    "    ax[0].axvline(x=mod_val, color = 'yellow', linestyle='dashed', linewidth = 2)\n",
    "    ax[0].axvline(x=max_val, color = 'gray', linestyle='dashed', linewidth = 2)\n",
    "\n",
    "    # Plot the boxplot   \n",
    "    ax[1].boxplot(var_data, vert=False)\n",
    "    ax[1].set_xlabel('Value')\n",
    "\n",
    "    # Add a title to the Figure\n",
    "    fig.suptitle('Data Distribution')\n",
    "\n",
    "    # Show the figure\n",
    "    fig.show()\n"
   ]
  },
  {
   "cell_type": "code",
   "execution_count": null,
   "metadata": {},
   "outputs": [],
   "source": [
    "# Graph of Oil in Rands\n",
    "col = dataset['Oil_Rand']\n",
    "# Call the function\n",
    "show_distribution(col)\n",
    "\n",
    "#Graph of Crude Oil in USD\n",
    "colB = dataset['Crude_Oil']\n",
    "# Call the function\n",
    "show_distribution(colB)\n",
    "\n",
    "#Graph of Exchange Rate\n",
    "colC = dataset['ZAR_USD']\n",
    "# Call the function\n",
    "show_distribution(colC)\n",
    "\n",
    "#Graph of Wholesale & Retail cost\n",
    "colD = dataset['W&Retail_Cost']\n",
    "# Call the function\n",
    "show_distribution(colD)"
   ]
  },
  {
   "cell_type": "code",
   "execution_count": null,
   "metadata": {},
   "outputs": [],
   "source": [
    "def show_density(var_data):\n",
    "    from matplotlib import pyplot as plt\n",
    "\n",
    "    fig = plt.figure(figsize=(10,4))\n",
    "\n",
    "    # Plot density\n",
    "    var_data.plot.density()\n",
    "\n",
    "    # Add titles and labels\n",
    "    plt.title('Data Density')\n",
    "\n",
    "    # Show the mean, median, and mode\n",
    "    plt.axvline(x=var_data.mean(), color = 'cyan', linestyle='dashed', linewidth = 2)\n",
    "    plt.axvline(x=var_data.median(), color = 'red', linestyle='dashed', linewidth = 2)\n",
    "    plt.axvline(x=var_data.mode()[0], color = 'yellow', linestyle='dashed', linewidth = 2)\n",
    "\n",
    "    # Show the figure\n",
    "    plt.show()"
   ]
  },
  {
   "cell_type": "code",
   "execution_count": null,
   "metadata": {},
   "outputs": [],
   "source": [
    "# Get the density of Grade\n",
    "col = dataset['Oil_Rand']\n",
    "col1 = dataset['Crude_Oil']\n",
    "col2 = dataset['ZAR_USD']\n",
    "col3 = dataset['W&Retail_Cost']\n",
    "show_density(col)\n",
    "show_density(col1)\n",
    "show_density(col2)\n",
    "show_density(col3)"
   ]
  },
  {
   "cell_type": "markdown",
   "metadata": {},
   "source": [
    "#### 6. Relationship Analysis : Corrolation"
   ]
  },
  {
   "cell_type": "code",
   "execution_count": null,
   "metadata": {},
   "outputs": [],
   "source": [
    "# Show a graph of the result\n",
    "\n",
    "sns.jointplot(data = dataset, x=\"Oil_Rand\", y=\"W&Retail_Cost\", kind=\"reg\", ax=axes[0])\n",
    "\n",
    "sns.jointplot(data = dataset, x=\"Crude_Oil\", y=\"W&Retail_Cost\", kind=\"reg\", ax=axes[1])\n",
    "\n",
    "sns.jointplot(data = dataset, x=\"ZAR_USD\", y=\"W&Retail_Cost\", kind=\"reg\", ax=axes[2])\n"
   ]
  },
  {
   "cell_type": "code",
   "execution_count": null,
   "metadata": {},
   "outputs": [],
   "source": [
    "import plotly.express as px\n",
    "\n",
    "fig = px.scatter_3d(dataset, x='Crude_Oil', y='ZAR_USD', z='W&Retail_Cost', color='W&Retail_Cost')\n",
    "fig.show()"
   ]
  },
  {
   "cell_type": "code",
   "execution_count": 15,
   "metadata": {},
   "outputs": [
    {
     "data": {
      "text/plain": [
       "<AxesSubplot:>"
      ]
     },
     "execution_count": 15,
     "metadata": {},
     "output_type": "execute_result"
    },
    {
     "data": {
      "image/png": "[encoded data removed]",
      "text/plain": [
       "<Figure size 432x288 with 2 Axes>"
      ]
     },
     "metadata": {
      "needs_background": "light"
     },
     "output_type": "display_data"
    }
   ],
   "source": [
    "# Check the corelation between the selected features and the label\n",
    "df2 = dataset[['BFP','Ex_Rate' ,'Avg_Brent_Crude', 'Petrol', 'Crude_Rands', 'Other_cost']]\n",
    "\n",
    "corelation = df2.corr()\n",
    "#Create the graph\n",
    "sns.heatmap(corelation, xticklabels=corelation.columns, yticklabels=corelation.columns, annot=True)"
   ]
  },
  {
   "cell_type": "code",
   "execution_count": 16,
   "metadata": {},
   "outputs": [
    {
     "data": {
      "text/plain": [
       "<seaborn.axisgrid.PairGrid at 0x20c26ee7700>"
      ]
     },
     "execution_count": 16,
     "metadata": {},
     "output_type": "execute_result"
    },
    {
     "data": {
      "image/png": "[encoded data removed]",
      "text/plain": [
       "<Figure size 1080x1080 with 42 Axes>"
      ]
     },
     "metadata": {
      "needs_background": "light"
     },
     "output_type": "display_data"
    }
   ],
   "source": [
    "sns.pairplot(df2)"
   ]
  },
  {
   "cell_type": "markdown",
   "metadata": {},
   "source": [
    "#### 6b. Wholesale & Retail Cost vs ZAR_USD"
   ]
  },
  {
   "cell_type": "markdown",
   "metadata": {},
   "source": [
    "Its easy to see that the Wholesale & Retail Cost and Exchange Rate are highly colerated"
   ]
  },
  {
   "cell_type": "markdown",
   "metadata": {},
   "source": [
    "Lets draw a scatter plot between the two"
   ]
  },
  {
   "cell_type": "code",
   "execution_count": 17,
   "metadata": {},
   "outputs": [
    {
     "data": {
      "text/plain": [
       "<seaborn.axisgrid.FacetGrid at 0x20c2931ea10>"
      ]
     },
     "execution_count": 17,
     "metadata": {},
     "output_type": "execute_result"
    },
    {
     "data": {
      "image/png": "[encoded data removed]",
      "text/plain": [
       "<Figure size 360x360 with 1 Axes>"
      ]
     },
     "metadata": {
      "needs_background": "light"
     },
     "output_type": "display_data"
    }
   ],
   "source": [
    "sns.relplot(data = df2 ,x= 'Ex_Rate', y='Other_cost')"
   ]
  },
  {
   "cell_type": "code",
   "execution_count": 19,
   "metadata": {},
   "outputs": [
    {
     "name": "stderr",
     "output_type": "stream",
     "text": [
      "C:\\Users\\PC\\AppData\\Local\\Programs\\Python\\Python310\\lib\\site-packages\\seaborn\\distributions.py:2619: FutureWarning: `distplot` is a deprecated function and will be removed in a future version. Please adapt your code to use either `displot` (a figure-level function with similar flexibility) or `histplot` (an axes-level function for histograms).\n",
      "  warnings.warn(msg, FutureWarning)\n"
     ]
    },
    {
     "data": {
      "text/plain": [
       "<AxesSubplot:xlabel='Other_cost', ylabel='Density'>"
      ]
     },
     "execution_count": 19,
     "metadata": {},
     "output_type": "execute_result"
    },
    {
     "data": {
      "image/png": "[encoded data removed]",
      "text/plain": [
       "<Figure size 432x288 with 1 Axes>"
      ]
     },
     "metadata": {
      "needs_background": "light"
     },
     "output_type": "display_data"
    }
   ],
   "source": [
    "sns.distplot(df2['Other_cost'])"
   ]
  },
  {
   "cell_type": "code",
   "execution_count": 20,
   "metadata": {},
   "outputs": [
    {
     "data": {
      "application/vnd.plotly.v1+json": {
       "config": {
        "plotlyServerURL": "https://plot.ly"
       },
       "data": [
        {
         "hovertemplate": "Ex_Rate=%{x}<br>Other_cost=%{y}<extra></extra>",
         "legendgroup": "",
         "marker": {
          "color": "#636efa",
          "symbol": "circle"
         },
         "mode": "markers",
         "name": "",
         "orientation": "v",
         "showlegend": false,
         "type": "scatter",
         "x": [
          7.5246,
          7.4735,
          7.6902,
          7.4753,
          7.3749,
          7.6575,
          7.6708,
          7.5757,
          7.3178,
          7.1859,
          6.9374,
          6.9767,
          6.901,
          6.8983,
          7.2334,
          6.9512,
          6.7701,
          6.8516,
          6.8353,
          6.8134,
          7.059,
          7.5657,
          8.0012,
          8.1398,
          8.2122,
          8.0841,
          7.679,
          7.6193,
          7.8536,
          8.1031,
          8.4189,
          8.2657,
          8.2758,
          8.3075,
          8.6479,
          8.8252,
          8.6833,
          8.7629,
          8.9067,
          9.1932,
          9.1598,
          9.2987,
          10.0487,
          9.9348,
          10.0928,
          10.0027,
          9.9452,
          10.2121,
          10.3581,
          10.8105,
          11.0054,
          10.7695,
          10.5576,
          10.4042,
          10.6743,
          10.6609,
          10.6781,
          10.6781,
          11.1004,
          11.0969,
          11.4749,
          11.5777,
          11.589,
          12.0423,
          12.0459,
          11.9454,
          12.3196,
          12.4128,
          12.8609,
          13.7884,
          13.4734,
          14.0938,
          14.8819,
          16.3276,
          15.7832,
          15.4655,
          14.6477,
          15.2048,
          15.1553,
          14.4407,
          13.8016,
          14.0057,
          13.9646,
          13.9125,
          13.8687,
          13.5813,
          13.2899,
          12.9148,
          13.5105,
          13.2587,
          12.8756,
          13.15,
          13.2152,
          13.1317,
          13.621,
          14.0964,
          13.2303,
          12.2029,
          11.8167,
          11.8489,
          11.9797,
          12.5099,
          13.2871,
          13.4713,
          13.943,
          14.7899,
          14.4892,
          14.0923,
          14.1778,
          13.9476,
          13.8038,
          14.3871,
          14.1401,
          14.4127,
          14.6227,
          14.0709,
          15.1729,
          14.8432,
          14.9293,
          14.8037,
          14.4784,
          14.3276,
          14.9789,
          16.4305,
          18.4771,
          18.1715,
          17.1271,
          16.8234,
          17.2814,
          16.7204,
          16.4657,
          15.6305,
          14.939,
          15.087,
          14.763,
          14.95,
          14.448,
          14.11,
          13.92,
          14.65,
          14.77,
          14.56,
          14.72,
          15.85,
          15.92,
          15.51,
          15.23
         ],
         "xaxis": "x",
         "y": [
          161.737,
          161.737,
          161.737,
          161.737,
          163.237,
          163.237,
          163.237,
          163.237,
          163.237,
          171.737,
          171.737,
          171.737,
          175.351,
          175.351,
          175.351,
          182.75099999999998,
          182.75099999999998,
          182.75099999999998,
          182.75099999999998,
          182.75099999999998,
          182.75099999999998,
          186.75099999999998,
          186.75099999999998,
          191.75,
          201.35,
          201.35,
          205.73,
          209.63,
          214.02999999999997,
          216.20999999999998,
          209.63,
          205.25,
          205.75,
          218.90999999999997,
          221.11,
          235.01,
          231.43,
          229.23000000000002,
          233.61,
          246.67000000000002,
          240.11,
          229.13,
          231.32999999999998,
          242.29000000000002,
          237.11,
          242.01,
          239.81,
          246.73000000000002,
          251.91000000000003,
          254.11,
          256.31,
          260.60999999999996,
          251.82999999999998,
          245.25,
          245.25,
          249.63,
          249.45,
          249.45,
          249.45,
          259.75,
          257.85,
          257.85,
          257.85,
          260.05,
          260.05,
          260.05,
          260.05,
          260.23,
          254.82999999999998,
          254.82999999999998,
          254.82999999999998,
          262.72999999999996,
          262.72999999999996,
          262.72999999999996,
          262.72999999999996,
          268.43,
          268.43,
          268.43,
          268.43,
          268.43,
          268.43,
          268.43,
          268.43,
          288.53000000000003,
          298.53000000000003,
          298.53000000000003,
          298.53000000000003,
          299.03000000000003,
          299.03000000000003,
          299.03000000000003,
          299.03000000000003,
          299.03000000000003,
          303.63,
          303.63,
          303.63,
          307.53,
          307.53,
          307.53,
          307.53,
          317.73,
          317.73,
          317.73,
          317.73,
          317.73,
          322.63,
          322.63,
          344.54999999999995,
          352.25,
          330.33,
          330.33,
          330.33,
          336.03,
          336.03,
          349.19,
          340.40999999999997,
          336.03,
          336.03,
          336.03,
          336.03,
          347.3,
          353.22999999999996,
          353.22999999999996,
          353.22999999999996,
          359.53,
          359.53,
          359.53,
          359.53,
          359.53,
          364.83,
          364.83,
          364.83,
          379.43,
          379.13,
          379.13,
          379.13,
          380.33,
          380.33,
          380.33,
          380.33,
          386.91,
          395.69,
          393.49,
          395.69,
          439.83000000000004,
          442.03000000000003,
          428.87,
          444.23
         ],
         "yaxis": "y"
        },
        {
         "hovertemplate": "<b>OLS trendline</b><br>Other_cost = 20.0186 * Ex_Rate + 38.051<br>R<sup>2</sup>=0.777949<br><br>Ex_Rate=%{x}<br>Other_cost=%{y} <b>(trend)</b><extra></extra>",
         "legendgroup": "",
         "line": {
          "color": "red"
         },
         "marker": {
          "color": "#636efa",
          "symbol": "circle"
         },
         "mode": "lines",
         "name": "",
         "showlegend": false,
         "type": "scatter",
         "x": [
          6.7701,
          6.8134,
          6.8353,
          6.8516,
          6.8983,
          6.901,
          6.9374,
          6.9512,
          6.9767,
          7.059,
          7.1859,
          7.2334,
          7.3178,
          7.3749,
          7.4735,
          7.4753,
          7.5246,
          7.5657,
          7.5757,
          7.6193,
          7.6575,
          7.6708,
          7.679,
          7.6902,
          7.8536,
          8.0012,
          8.0841,
          8.1031,
          8.1398,
          8.2122,
          8.2657,
          8.2758,
          8.3075,
          8.4189,
          8.6479,
          8.6833,
          8.7629,
          8.8252,
          8.9067,
          9.1598,
          9.1932,
          9.2987,
          9.9348,
          9.9452,
          10.0027,
          10.0487,
          10.0928,
          10.2121,
          10.3581,
          10.4042,
          10.5576,
          10.6609,
          10.6743,
          10.6781,
          10.6781,
          10.7695,
          10.8105,
          11.0054,
          11.0969,
          11.1004,
          11.4749,
          11.5777,
          11.589,
          11.8167,
          11.8489,
          11.9454,
          11.9797,
          12.0423,
          12.0459,
          12.2029,
          12.3196,
          12.4128,
          12.5099,
          12.8609,
          12.8756,
          12.9148,
          13.1317,
          13.15,
          13.2152,
          13.2303,
          13.2587,
          13.2871,
          13.2899,
          13.4713,
          13.4734,
          13.5105,
          13.5813,
          13.621,
          13.7884,
          13.8016,
          13.8038,
          13.8687,
          13.9125,
          13.92,
          13.943,
          13.9476,
          13.9646,
          14.0057,
          14.0709,
          14.0923,
          14.0938,
          14.0964,
          14.11,
          14.1401,
          14.1778,
          14.3276,
          14.3871,
          14.4127,
          14.4407,
          14.448,
          14.4784,
          14.4892,
          14.56,
          14.6227,
          14.6477,
          14.65,
          14.72,
          14.763,
          14.77,
          14.7899,
          14.8037,
          14.8432,
          14.8819,
          14.9293,
          14.939,
          14.95,
          14.9789,
          15.087,
          15.1553,
          15.1729,
          15.2048,
          15.23,
          15.4655,
          15.51,
          15.6305,
          15.7832,
          15.85,
          15.92,
          16.3276,
          16.4305,
          16.4657,
          16.7204,
          16.8234,
          17.1271,
          17.2814,
          18.1715,
          18.4771
         ],
         "xaxis": "x",
         "y": [
          173.57910104957642,
          174.44590781519435,
          174.8843158560034,
          175.2106195576102,
          176.1454896720295,
          176.1995399784306,
          176.9282181832457,
          177.20447530485137,
          177.71495042086195,
          179.362483834496,
          181.90284823534859,
          182.85373325536824,
          184.54330579620319,
          185.68636968342685,
          187.66020679866762,
          187.69624033626837,
          188.6831588938888,
          189.5059246691058,
          189.70611098910996,
          190.57892334432802,
          191.3436350867438,
          191.60988289234933,
          191.77403567475272,
          191.99824435315736,
          195.26928882202503,
          198.22403890528614,
          199.88358349812046,
          200.2639375061283,
          200.9986213005435,
          202.44797025737347,
          203.51896706939567,
          203.72115525259983,
          204.35574588701292,
          206.58582149185906,
          211.17008821995387,
          211.87874779276854,
          213.47223090000153,
          214.71939167362729,
          216.35091018166105,
          221.41762594096582,
          222.08624824977966,
          224.19821392582332,
          236.9320657412867,
          237.14025951409104,
          238.29133085411485,
          239.21218792613388,
          240.09500959735215,
          242.4832323950015,
          245.40595266706197,
          246.32881160228106,
          249.3996697511446,
          251.46759443678735,
          251.7358441055929,
          251.81191490719448,
          251.81191490719448,
          253.64161787203233,
          254.46238178404928,
          258.36401316092997,
          260.1957179889679,
          260.26578320096934,
          267.76276088512435,
          269.82067625476697,
          270.0468867963716,
          274.6051293028659,
          275.2497292532792,
          277.18152724131915,
          277.8681663189334,
          279.1213326821593,
          279.1933997573608,
          282.3363249814258,
          284.6724993358741,
          286.5382358383127,
          288.4820450055529,
          295.50858483769827,
          295.80285872810435,
          296.58758910252055,
          300.92963038341037,
          301.295971349018,
          302.6011861554449,
          302.9034674986512,
          303.47199664746296,
          304.0405257962747,
          304.09657796587584,
          307.727957810751,
          307.7699969379518,
          308.51268818516724,
          309.9300073307965,
          310.724747021213,
          314.07586601808225,
          314.3401119604877,
          314.3841529508887,
          315.68336216771553,
          316.56017824933366,
          316.7103179893368,
          317.17074652534626,
          317.2628322325482,
          317.60314897655525,
          318.4259147517722,
          319.7311295581992,
          320.15952828300806,
          320.1895562310087,
          320.2416046742098,
          320.5138580694154,
          321.1164188926279,
          321.8711213190435,
          324.86991239270554,
          326.0610209967301,
          326.5734979759407,
          327.13401967195233,
          327.28015568555537,
          327.88872209836796,
          328.1049233239724,
          329.52224246960174,
          330.7774106960277,
          331.27787649603806,
          331.323919349639,
          332.725223589668,
          333.5860247656858,
          333.72615518968865,
          334.1245259664969,
          334.4007830881026,
          335.19151905211896,
          335.966240110535,
          336.9151232673546,
          337.1093039977587,
          337.3295089497632,
          337.90804741457515,
          340.0720615338199,
          341.4393340994482,
          341.7916620226555,
          342.4302563834687,
          342.93472590987915,
          347.64911374597665,
          348.53994286999506,
          350.95218802604495,
          354.0090331325082,
          355.3462777501358,
          356.7475819901648,
          364.9071763935336,
          366.96709362637614,
          367.67174947279074,
          372.77049504329625,
          374.8324141393389,
          380.91207267786456,
          384.00094759552854,
          401.8195319390971,
          407.93722587842353
         ],
         "yaxis": "y"
        }
       ],
       "layout": {
        "legend": {
         "tracegroupgap": 0
        },
        "margin": {
         "t": 60
        },
        "template": {
         "data": {
          "bar": [
           {
            "error_x": {
             "color": "#2a3f5f"
            },
            "error_y": {
             "color": "#2a3f5f"
            },
            "marker": {
             "line": {
              "color": "#E5ECF6",
              "width": 0.5
             },
             "pattern": {
              "fillmode": "overlay",
              "size": 10,
              "solidity": 0.2
             }
            },
            "type": "bar"
           }
          ],
          "barpolar": [
           {
            "marker": {
             "line": {
              "color": "#E5ECF6",
              "width": 0.5
             },
             "pattern": {
              "fillmode": "overlay",
              "size": 10,
              "solidity": 0.2
             }
            },
            "type": "barpolar"
           }
          ],
          "carpet": [
           {
            "aaxis": {
             "endlinecolor": "#2a3f5f",
             "gridcolor": "white",
             "linecolor": "white",
             "minorgridcolor": "white",
             "startlinecolor": "#2a3f5f"
            },
            "baxis": {
             "endlinecolor": "#2a3f5f",
             "gridcolor": "white",
             "linecolor": "white",
             "minorgridcolor": "white",
             "startlinecolor": "#2a3f5f"
            },
            "type": "carpet"
           }
          ],
          "choropleth": [
           {
            "colorbar": {
             "outlinewidth": 0,
             "ticks": ""
            },
            "type": "choropleth"
           }
          ],
          "contour": [
           {
            "colorbar": {
             "outlinewidth": 0,
             "ticks": ""
            },
            "colorscale": [
             [
              0,
              "#0d0887"
             ],
             [
              0.1111111111111111,
              "#46039f"
             ],
             [
              0.2222222222222222,
              "#7201a8"
             ],
             [
              0.3333333333333333,
              "#9c179e"
             ],
             [
              0.4444444444444444,
              "#bd3786"
             ],
             [
              0.5555555555555556,
              "#d8576b"
             ],
             [
              0.6666666666666666,
              "#ed7953"
             ],
             [
              0.7777777777777778,
              "#fb9f3a"
             ],
             [
              0.8888888888888888,
              "#fdca26"
             ],
             [
              1,
              "#f0f921"
             ]
            ],
            "type": "contour"
           }
          ],
          "contourcarpet": [
           {
            "colorbar": {
             "outlinewidth": 0,
             "ticks": ""
            },
            "type": "contourcarpet"
           }
          ],
          "heatmap": [
           {
            "colorbar": {
             "outlinewidth": 0,
             "ticks": ""
            },
            "colorscale": [
             [
              0,
              "#0d0887"
             ],
             [
              0.1111111111111111,
              "#46039f"
             ],
             [
              0.2222222222222222,
              "#7201a8"
             ],
             [
              0.3333333333333333,
              "#9c179e"
             ],
             [
              0.4444444444444444,
              "#bd3786"
             ],
             [
              0.5555555555555556,
              "#d8576b"
             ],
             [
              0.6666666666666666,
              "#ed7953"
             ],
             [
              0.7777777777777778,
              "#fb9f3a"
             ],
             [
              0.8888888888888888,
              "#fdca26"
             ],
             [
              1,
              "#f0f921"
             ]
            ],
            "type": "heatmap"
           }
          ],
          "heatmapgl": [
           {
            "colorbar": {
             "outlinewidth": 0,
             "ticks": ""
            },
            "colorscale": [
             [
              0,
              "#0d0887"
             ],
             [
              0.1111111111111111,
              "#46039f"
             ],
             [
              0.2222222222222222,
              "#7201a8"
             ],
             [
              0.3333333333333333,
              "#9c179e"
             ],
             [
              0.4444444444444444,
              "#bd3786"
             ],
             [
              0.5555555555555556,
              "#d8576b"
             ],
             [
              0.6666666666666666,
              "#ed7953"
             ],
             [
              0.7777777777777778,
              "#fb9f3a"
             ],
             [
              0.8888888888888888,
              "#fdca26"
             ],
             [
              1,
              "#f0f921"
             ]
            ],
            "type": "heatmapgl"
           }
          ],
          "histogram": [
           {
            "marker": {
             "pattern": {
              "fillmode": "overlay",
              "size": 10,
              "solidity": 0.2
             }
            },
            "type": "histogram"
           }
          ],
          "histogram2d": [
           {
            "colorbar": {
             "outlinewidth": 0,
             "ticks": ""
            },
            "colorscale": [
             [
              0,
              "#0d0887"
             ],
             [
              0.1111111111111111,
              "#46039f"
             ],
             [
              0.2222222222222222,
              "#7201a8"
             ],
             [
              0.3333333333333333,
              "#9c179e"
             ],
             [
              0.4444444444444444,
              "#bd3786"
             ],
             [
              0.5555555555555556,
              "#d8576b"
             ],
             [
              0.6666666666666666,
              "#ed7953"
             ],
             [
              0.7777777777777778,
              "#fb9f3a"
             ],
             [
              0.8888888888888888,
              "#fdca26"
             ],
             [
              1,
              "#f0f921"
             ]
            ],
            "type": "histogram2d"
           }
          ],
          "histogram2dcontour": [
           {
            "colorbar": {
             "outlinewidth": 0,
             "ticks": ""
            },
            "colorscale": [
             [
              0,
              "#0d0887"
             ],
             [
              0.1111111111111111,
              "#46039f"
             ],
             [
              0.2222222222222222,
              "#7201a8"
             ],
             [
              0.3333333333333333,
              "#9c179e"
             ],
             [
              0.4444444444444444,
              "#bd3786"
             ],
             [
              0.5555555555555556,
              "#d8576b"
             ],
             [
              0.6666666666666666,
              "#ed7953"
             ],
             [
              0.7777777777777778,
              "#fb9f3a"
             ],
             [
              0.8888888888888888,
              "#fdca26"
             ],
             [
              1,
              "#f0f921"
             ]
            ],
            "type": "histogram2dcontour"
           }
          ],
          "mesh3d": [
           {
            "colorbar": {
             "outlinewidth": 0,
             "ticks": ""
            },
            "type": "mesh3d"
           }
          ],
          "parcoords": [
           {
            "line": {
             "colorbar": {
              "outlinewidth": 0,
              "ticks": ""
             }
            },
            "type": "parcoords"
           }
          ],
          "pie": [
           {
            "automargin": true,
            "type": "pie"
           }
          ],
          "scatter": [
           {
            "marker": {
             "colorbar": {
              "outlinewidth": 0,
              "ticks": ""
             }
            },
            "type": "scatter"
           }
          ],
          "scatter3d": [
           {
            "line": {
             "colorbar": {
              "outlinewidth": 0,
              "ticks": ""
             }
            },
            "marker": {
             "colorbar": {
              "outlinewidth": 0,
              "ticks": ""
             }
            },
            "type": "scatter3d"
           }
          ],
          "scattercarpet": [
           {
            "marker": {
             "colorbar": {
              "outlinewidth": 0,
              "ticks": ""
             }
            },
            "type": "scattercarpet"
           }
          ],
          "scattergeo": [
           {
            "marker": {
             "colorbar": {
              "outlinewidth": 0,
              "ticks": ""
             }
            },
            "type": "scattergeo"
           }
          ],
          "scattergl": [
           {
            "marker": {
             "colorbar": {
              "outlinewidth": 0,
              "ticks": ""
             }
            },
            "type": "scattergl"
           }
          ],
          "scattermapbox": [
           {
            "marker": {
             "colorbar": {
              "outlinewidth": 0,
              "ticks": ""
             }
            },
            "type": "scattermapbox"
           }
          ],
          "scatterpolar": [
           {
            "marker": {
             "colorbar": {
              "outlinewidth": 0,
              "ticks": ""
             }
            },
            "type": "scatterpolar"
           }
          ],
          "scatterpolargl": [
           {
            "marker": {
             "colorbar": {
              "outlinewidth": 0,
              "ticks": ""
             }
            },
            "type": "scatterpolargl"
           }
          ],
          "scatterternary": [
           {
            "marker": {
             "colorbar": {
              "outlinewidth": 0,
              "ticks": ""
             }
            },
            "type": "scatterternary"
           }
          ],
          "surface": [
           {
            "colorbar": {
             "outlinewidth": 0,
             "ticks": ""
            },
            "colorscale": [
             [
              0,
              "#0d0887"
             ],
             [
              0.1111111111111111,
              "#46039f"
             ],
             [
              0.2222222222222222,
              "#7201a8"
             ],
             [
              0.3333333333333333,
              "#9c179e"
             ],
             [
              0.4444444444444444,
              "#bd3786"
             ],
             [
              0.5555555555555556,
              "#d8576b"
             ],
             [
              0.6666666666666666,
              "#ed7953"
             ],
             [
              0.7777777777777778,
              "#fb9f3a"
             ],
             [
              0.8888888888888888,
              "#fdca26"
             ],
             [
              1,
              "#f0f921"
             ]
            ],
            "type": "surface"
           }
          ],
          "table": [
           {
            "cells": {
             "fill": {
              "color": "#EBF0F8"
             },
             "line": {
              "color": "white"
             }
            },
            "header": {
             "fill": {
              "color": "#C8D4E3"
             },
             "line": {
              "color": "white"
             }
            },
            "type": "table"
           }
          ]
         },
         "layout": {
          "annotationdefaults": {
           "arrowcolor": "#2a3f5f",
           "arrowhead": 0,
           "arrowwidth": 1
          },
          "autotypenumbers": "strict",
          "coloraxis": {
           "colorbar": {
            "outlinewidth": 0,
            "ticks": ""
           }
          },
          "colorscale": {
           "diverging": [
            [
             0,
             "#8e0152"
            ],
            [
             0.1,
             "#c51b7d"
            ],
            [
             0.2,
             "#de77ae"
            ],
            [
             0.3,
             "#f1b6da"
            ],
            [
             0.4,
             "#fde0ef"
            ],
            [
             0.5,
             "#f7f7f7"
            ],
            [
             0.6,
             "#e6f5d0"
            ],
            [
             0.7,
             "#b8e186"
            ],
            [
             0.8,
             "#7fbc41"
            ],
            [
             0.9,
             "#4d9221"
            ],
            [
             1,
             "#276419"
            ]
           ],
           "sequential": [
            [
             0,
             "#0d0887"
            ],
            [
             0.1111111111111111,
             "#46039f"
            ],
            [
             0.2222222222222222,
             "#7201a8"
            ],
            [
             0.3333333333333333,
             "#9c179e"
            ],
            [
             0.4444444444444444,
             "#bd3786"
            ],
            [
             0.5555555555555556,
             "#d8576b"
            ],
            [
             0.6666666666666666,
             "#ed7953"
            ],
            [
             0.7777777777777778,
             "#fb9f3a"
            ],
            [
             0.8888888888888888,
             "#fdca26"
            ],
            [
             1,
             "#f0f921"
            ]
           ],
           "sequentialminus": [
            [
             0,
             "#0d0887"
            ],
            [
             0.1111111111111111,
             "#46039f"
            ],
            [
             0.2222222222222222,
             "#7201a8"
            ],
            [
             0.3333333333333333,
             "#9c179e"
            ],
            [
             0.4444444444444444,
             "#bd3786"
            ],
            [
             0.5555555555555556,
             "#d8576b"
            ],
            [
             0.6666666666666666,
             "#ed7953"
            ],
            [
             0.7777777777777778,
             "#fb9f3a"
            ],
            [
             0.8888888888888888,
             "#fdca26"
            ],
            [
             1,
             "#f0f921"
            ]
           ]
          },
          "colorway": [
           "#636efa",
           "#EF553B",
           "#00cc96",
           "#ab63fa",
           "#FFA15A",
           "#19d3f3",
           "#FF6692",
           "#B6E880",
           "#FF97FF",
           "#FECB52"
          ],
          "font": {
           "color": "#2a3f5f"
          },
          "geo": {
           "bgcolor": "white",
           "lakecolor": "white",
           "landcolor": "#E5ECF6",
           "showlakes": true,
           "showland": true,
           "subunitcolor": "white"
          },
          "hoverlabel": {
           "align": "left"
          },
          "hovermode": "closest",
          "mapbox": {
           "style": "light"
          },
          "paper_bgcolor": "white",
          "plot_bgcolor": "#E5ECF6",
          "polar": {
           "angularaxis": {
            "gridcolor": "white",
            "linecolor": "white",
            "ticks": ""
           },
           "bgcolor": "#E5ECF6",
           "radialaxis": {
            "gridcolor": "white",
            "linecolor": "white",
            "ticks": ""
           }
          },
          "scene": {
           "xaxis": {
            "backgroundcolor": "#E5ECF6",
            "gridcolor": "white",
            "gridwidth": 2,
            "linecolor": "white",
            "showbackground": true,
            "ticks": "",
            "zerolinecolor": "white"
           },
           "yaxis": {
            "backgroundcolor": "#E5ECF6",
            "gridcolor": "white",
            "gridwidth": 2,
            "linecolor": "white",
            "showbackground": true,
            "ticks": "",
            "zerolinecolor": "white"
           },
           "zaxis": {
            "backgroundcolor": "#E5ECF6",
            "gridcolor": "white",
            "gridwidth": 2,
            "linecolor": "white",
            "showbackground": true,
            "ticks": "",
            "zerolinecolor": "white"
           }
          },
          "shapedefaults": {
           "line": {
            "color": "#2a3f5f"
           }
          },
          "ternary": {
           "aaxis": {
            "gridcolor": "white",
            "linecolor": "white",
            "ticks": ""
           },
           "baxis": {
            "gridcolor": "white",
            "linecolor": "white",
            "ticks": ""
           },
           "bgcolor": "#E5ECF6",
           "caxis": {
            "gridcolor": "white",
            "linecolor": "white",
            "ticks": ""
           }
          },
          "title": {
           "x": 0.05
          },
          "xaxis": {
           "automargin": true,
           "gridcolor": "white",
           "linecolor": "white",
           "ticks": "",
           "title": {
            "standoff": 15
           },
           "zerolinecolor": "white",
           "zerolinewidth": 2
          },
          "yaxis": {
           "automargin": true,
           "gridcolor": "white",
           "linecolor": "white",
           "ticks": "",
           "title": {
            "standoff": 15
           },
           "zerolinecolor": "white",
           "zerolinewidth": 2
          }
         }
        },
        "xaxis": {
         "anchor": "y",
         "domain": [
          0,
          1
         ],
         "title": {
          "text": "Ex_Rate"
         }
        },
        "yaxis": {
         "anchor": "x",
         "domain": [
          0,
          1
         ],
         "title": {
          "text": "Other_cost"
         }
        }
       }
      }
     },
     "metadata": {},
     "output_type": "display_data"
    }
   ],
   "source": [
    "import plotly.express as px\n",
    "\n",
    "#Show a graph of the result\n",
    "px.scatter(dataset, x='Ex_Rate', y='Other_cost', trendline='ols', trendline_color_override='red')\n"
   ]
  },
  {
   "cell_type": "markdown",
   "metadata": {},
   "source": [
    "#### Simple linear Regression"
   ]
  },
  {
   "cell_type": "code",
   "execution_count": 29,
   "metadata": {},
   "outputs": [
    {
     "name": "stdout",
     "output_type": "stream",
     "text": [
      "R-squared: BFP 0.9078394437852623\n",
      "R-squared: Other cost 0.7779494980452659\n"
     ]
    }
   ],
   "source": [
    "import statsmodels.formula.api as smf\n",
    "# First, we define our formula using a special syntax\n",
    "# This says BFP is explained by Oil_Rand\n",
    "formula = \"BFP ~ Crude_Rands\"\n",
    "\n",
    "# Perform linear regression. This method takes care of\n",
    "# the entire fitting procedure for us.\n",
    "model = smf.ols(formula = formula, data = dataset).fit()\n",
    "\n",
    "\n",
    "# Lets do the same to Petrol Price\n",
    "other_formula = 'Other_cost ~ Ex_Rate'\n",
    "other_model = smf.ols(formula = other_formula, data = dataset).fit()\n",
    "\n",
    "print(\"R-squared: BFP\", model.rsquared)\n",
    "print(\"R-squared: Other cost\", other_model.rsquared)"
   ]
  },
  {
   "cell_type": "markdown",
   "metadata": {},
   "source": [
    "#### Interpreting our model"
   ]
  },
  {
   "cell_type": "code",
   "execution_count": 30,
   "metadata": {},
   "outputs": [
    {
     "name": "stdout",
     "output_type": "stream",
     "text": [
      "Intercept: 102.27204838363235 Slope: 0.6378674961030573\n",
      "Intercept: 38.05096054357334 Slope: 20.018632000414026\n"
     ]
    }
   ],
   "source": [
    "print(\"Intercept:\", model.params[0], \"Slope:\", model.params[1])\n",
    "print(\"Intercept:\", other_model.params[0], \"Slope:\", other_model.params[1])"
   ]
  },
  {
   "cell_type": "code",
   "execution_count": 26,
   "metadata": {},
   "outputs": [
    {
     "name": "stdout",
     "output_type": "stream",
     "text": [
      "Estimate BFP from Oil Price\n",
      "1039.4524883580882\n"
     ]
    }
   ],
   "source": [
    "def estimate_bfp(Crude_Rands):\n",
    "    # Model param[0] is the intercepts and param[1] is the slope\n",
    "    return Crude_Rands * model.params[1] + model.params[0]\n",
    "\n",
    "print(\"Estimate BFP from Oil Price\")\n",
    "print(estimate_bfp(Crude_Rands=1469.24))"
   ]
  },
  {
   "cell_type": "code",
   "execution_count": 31,
   "metadata": {},
   "outputs": [
    {
     "name": "stdout",
     "output_type": "stream",
     "text": [
      "Estimate other cost from exchange rate\n",
      "343.93565750989967\n"
     ]
    }
   ],
   "source": [
    "def estimate_other_cost(Ex_Rate):\n",
    "    # Model param[0] is the intercepts and param[1] is the slope\n",
    "    return Ex_Rate * other_model.params[1] + other_model.params[0]\n",
    "\n",
    "print(\"Estimate other cost from exchange rate\")\n",
    "print(estimate_other_cost(Ex_Rate=15.28))"
   ]
  },
  {
   "cell_type": "markdown",
   "metadata": {},
   "source": [
    "#### Petrol Price prediction"
   ]
  },
  {
   "cell_type": "code",
   "execution_count": 33,
   "metadata": {},
   "outputs": [
    {
     "name": "stdout",
     "output_type": "stream",
     "text": [
      "1994.39\n"
     ]
    }
   ],
   "source": [
    "petrol_price = 1039.45 + 343.94 + 393 + 218\n",
    "print(petrol_price)"
   ]
  },
  {
   "cell_type": "code",
   "execution_count": null,
   "metadata": {},
   "outputs": [],
   "source": []
  }
 ],
 "metadata": {
  "interpreter": {
   "hash": "8ed06d07b9ff369db6ed7b53447be18709da67cd911d838d72fee7fecb26667a"
  },
  "kernelspec": {
   "display_name": "Python 3 (ipykernel)",
   "language": "python",
   "name": "python3"
  },
  "language_info": {
   "codemirror_mode": {
    "name": "ipython",
    "version": 3
   },
   "file_extension": ".py",
   "mimetype": "text/x-python",
   "name": "python",
   "nbconvert_exporter": "python",
   "pygments_lexer": "ipython3",
   "version": "3.10.2"
  }
 },
 "nbformat": 4,
 "nbformat_minor": 4
}
