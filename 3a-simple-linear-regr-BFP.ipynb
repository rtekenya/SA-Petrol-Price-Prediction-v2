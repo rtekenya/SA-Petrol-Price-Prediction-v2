{
 "cells": [
  {
   "cell_type": "markdown",
   "metadata": {},
   "source": [
    "<center>\n",
    "    <img src=\"https://image.shutterstock.com/image-vector/regression-concept-keywords-people-icons-260nw-1820291330.jpg\" width=\"600\" alt=\"cognitiveclass.ai logo\"  />\n",
    "</center>\n",
    "\n",
    "# Simple Linear Regression : BFP & Petrol Price\n"
   ]
  },
  {
   "cell_type": "code",
   "execution_count": 1,
   "metadata": {},
   "outputs": [
    {
     "data": {
      "text/html": [
       "<div>\n",
       "<style scoped>\n",
       "    .dataframe tbody tr th:only-of-type {\n",
       "        vertical-align: middle;\n",
       "    }\n",
       "\n",
       "    .dataframe tbody tr th {\n",
       "        vertical-align: top;\n",
       "    }\n",
       "\n",
       "    .dataframe thead th {\n",
       "        text-align: right;\n",
       "    }\n",
       "</style>\n",
       "<table border=\"1\" class=\"dataframe\">\n",
       "  <thead>\n",
       "    <tr style=\"text-align: right;\">\n",
       "      <th></th>\n",
       "      <th>Date</th>\n",
       "      <th>BFP</th>\n",
       "      <th>Ex_Rate</th>\n",
       "      <th>Avg_Brent_Crude</th>\n",
       "      <th>Petrol</th>\n",
       "      <th>Crude_Rands</th>\n",
       "    </tr>\n",
       "  </thead>\n",
       "  <tbody>\n",
       "    <tr>\n",
       "      <th>0</th>\n",
       "      <td>2010-01-01</td>\n",
       "      <td>406.263</td>\n",
       "      <td>7.5246</td>\n",
       "      <td>74.31</td>\n",
       "      <td>786.0</td>\n",
       "      <td>559.153026</td>\n",
       "    </tr>\n",
       "    <tr>\n",
       "      <th>1</th>\n",
       "      <td>2010-02-01</td>\n",
       "      <td>424.263</td>\n",
       "      <td>7.4735</td>\n",
       "      <td>76.84</td>\n",
       "      <td>804.0</td>\n",
       "      <td>574.263740</td>\n",
       "    </tr>\n",
       "    <tr>\n",
       "      <th>2</th>\n",
       "      <td>2010-03-01</td>\n",
       "      <td>430.563</td>\n",
       "      <td>7.6902</td>\n",
       "      <td>73.17</td>\n",
       "      <td>810.3</td>\n",
       "      <td>562.691934</td>\n",
       "    </tr>\n",
       "    <tr>\n",
       "      <th>3</th>\n",
       "      <td>2010-04-01</td>\n",
       "      <td>453.063</td>\n",
       "      <td>7.4753</td>\n",
       "      <td>78.89</td>\n",
       "      <td>858.3</td>\n",
       "      <td>589.726417</td>\n",
       "    </tr>\n",
       "    <tr>\n",
       "      <th>4</th>\n",
       "      <td>2010-05-01</td>\n",
       "      <td>465.063</td>\n",
       "      <td>7.3749</td>\n",
       "      <td>85.75</td>\n",
       "      <td>871.8</td>\n",
       "      <td>632.397675</td>\n",
       "    </tr>\n",
       "  </tbody>\n",
       "</table>\n",
       "</div>"
      ],
      "text/plain": [
       "        Date      BFP  Ex_Rate  Avg_Brent_Crude  Petrol  Crude_Rands\n",
       "0 2010-01-01  406.263   7.5246            74.31   786.0   559.153026\n",
       "1 2010-02-01  424.263   7.4735            76.84   804.0   574.263740\n",
       "2 2010-03-01  430.563   7.6902            73.17   810.3   562.691934\n",
       "3 2010-04-01  453.063   7.4753            78.89   858.3   589.726417\n",
       "4 2010-05-01  465.063   7.3749            85.75   871.8   632.397675"
      ]
     },
     "execution_count": 1,
     "metadata": {},
     "output_type": "execute_result"
    }
   ],
   "source": [
    "#Import neccesary libries\n",
    "import pandas as pd \n",
    "import numpy as np\n",
    "\n",
    "#Load and create a new column\n",
    "dataset = pd.read_excel('Data Collection\\BFP.xlsx', sheet_name='Combined')\n",
    "dataset['Crude_Rands'] = (dataset.Avg_Brent_Crude * dataset.Ex_Rate)\n",
    "dataset.head()"
   ]
  },
  {
   "cell_type": "markdown",
   "metadata": {},
   "source": [
    "### Data Visualization"
   ]
  },
  {
   "cell_type": "code",
   "execution_count": 2,
   "metadata": {},
   "outputs": [
    {
     "data": {
      "application/vnd.plotly.v1+json": {
       "config": {
        "plotlyServerURL": "https://plot.ly"
       },
       "data": [
        {
         "alignmentgroup": "True",
         "bingroup": "x",
         "hovertemplate": "Crude_Rands=%{x}<br>count=%{y}<extra></extra>",
         "legendgroup": "",
         "marker": {
          "color": "#636efa",
          "pattern": {
           "shape": ""
          }
         },
         "name": "",
         "nbinsx": 10,
         "offsetgroup": "",
         "orientation": "v",
         "showlegend": false,
         "type": "histogram",
         "x": [
          559.1530260000001,
          574.26374,
          562.6919340000001,
          589.726417,
          632.397675,
          584.26725,
          572.318388,
          596.0560760000001,
          566.3245420000001,
          555.9730830000001,
          573.931102,
          594.066005,
          626.40377,
          662.029851,
          740.483158,
          795.286792,
          836.0396489999999,
          795.81334,
          780.522907,
          796.3501919999999,
          781.2195300000001,
          859.539177,
          874.3711360000001,
          899.5292979999999,
          886.5891119999999,
          892.6463219999999,
          970.54881,
          955.612606,
          943.8456480000001,
          893.528837,
          801.6476580000001,
          843.4320280000002,
          939.386058,
          938.4151999999999,
          943.053495,
          962.2998080000001,
          947.6085289999999,
          989.156152,
          1035.671076,
          996.9106079999999,
          935.765168,
          954.2325940000001,
          1033.408308,
          1073.4551399999998,
          1121.007296,
          1122.6030210000001,
          1085.220224,
          1101.0686219999998,
          1146.952413,
          1171.3176749999998,
          1198.157898,
          1159.552065,
          1143.493656,
          1141.236698,
          1191.4653660000001,
          1136.878376,
          1084.574617,
          1043.570713,
          971.7290160000001,
          884.977775,
          630.890002,
          558.0451400000001,
          671.35077,
          675.693453,
          710.8285589999999,
          768.805944,
          763.076024,
          704.054016,
          598.8035040000001,
          658.947636,
          654.537772,
          624.778154,
          568.786218,
          503.379908,
          506.79855200000003,
          595.267095,
          604.657056,
          707.9354880000001,
          732.607202,
          653.874896,
          634.0455039999999,
          652.66562,
          696.274956,
          730.1279999999999,
          741.2820150000001,
          741.674793,
          730.811601,
          665.370496,
          718.8937050000001,
          663.730522,
          598.457888,
          634.2244999999999,
          682.6972319999999,
          735.2438830000001,
          774.49006,
          882.7165679999999,
          847.7976239999999,
          842.732274,
          756.9778020000001,
          778.5912189999999,
          849.1211359999999,
          960.76032,
          985.2384650000001,
          1000.5134509999999,
          1011.00693,
          1157.309675,
          1175.7985800000001,
          927.132417,
          809.268824,
          823.745256,
          883.8573140000001,
          949.980213,
          1006.0681150000001,
          1027.481383,
          933.9518489999999,
          901.1004360000001,
          894.745913,
          933.340416,
          891.5777959999999,
          932.929174,
          970.1975840000001,
          924.1302000000001,
          834.32473,
          556.66534,
          350.88012899999995,
          521.7037650000001,
          682.8574769999999,
          730.472028,
          774.552348,
          650.6743660000001,
          665.4283340999999,
          651.666806,
          734.9988000000001,
          801.1197,
          885.78,
          973.843,
          926.9836799999999,
          931.26,
          1016.16,
          1084.1000000000001,
          1070.825,
          1099.28,
          1227.6480000000001,
          1323.475,
          1209.92,
          1349.37,
          1469.2381
         ],
         "xaxis": "x",
         "yaxis": "y"
        }
       ],
       "layout": {
        "barmode": "relative",
        "height": 400,
        "legend": {
         "tracegroupgap": 0
        },
        "template": {
         "data": {
          "bar": [
           {
            "error_x": {
             "color": "#2a3f5f"
            },
            "error_y": {
             "color": "#2a3f5f"
            },
            "marker": {
             "line": {
              "color": "#E5ECF6",
              "width": 0.5
             },
             "pattern": {
              "fillmode": "overlay",
              "size": 10,
              "solidity": 0.2
             }
            },
            "type": "bar"
           }
          ],
          "barpolar": [
           {
            "marker": {
             "line": {
              "color": "#E5ECF6",
              "width": 0.5
             },
             "pattern": {
              "fillmode": "overlay",
              "size": 10,
              "solidity": 0.2
             }
            },
            "type": "barpolar"
           }
          ],
          "carpet": [
           {
            "aaxis": {
             "endlinecolor": "#2a3f5f",
             "gridcolor": "white",
             "linecolor": "white",
             "minorgridcolor": "white",
             "startlinecolor": "#2a3f5f"
            },
            "baxis": {
             "endlinecolor": "#2a3f5f",
             "gridcolor": "white",
             "linecolor": "white",
             "minorgridcolor": "white",
             "startlinecolor": "#2a3f5f"
            },
            "type": "carpet"
           }
          ],
          "choropleth": [
           {
            "colorbar": {
             "outlinewidth": 0,
             "ticks": ""
            },
            "type": "choropleth"
           }
          ],
          "contour": [
           {
            "colorbar": {
             "outlinewidth": 0,
             "ticks": ""
            },
            "colorscale": [
             [
              0,
              "#0d0887"
             ],
             [
              0.1111111111111111,
              "#46039f"
             ],
             [
              0.2222222222222222,
              "#7201a8"
             ],
             [
              0.3333333333333333,
              "#9c179e"
             ],
             [
              0.4444444444444444,
              "#bd3786"
             ],
             [
              0.5555555555555556,
              "#d8576b"
             ],
             [
              0.6666666666666666,
              "#ed7953"
             ],
             [
              0.7777777777777778,
              "#fb9f3a"
             ],
             [
              0.8888888888888888,
              "#fdca26"
             ],
             [
              1,
              "#f0f921"
             ]
            ],
            "type": "contour"
           }
          ],
          "contourcarpet": [
           {
            "colorbar": {
             "outlinewidth": 0,
             "ticks": ""
            },
            "type": "contourcarpet"
           }
          ],
          "heatmap": [
           {
            "colorbar": {
             "outlinewidth": 0,
             "ticks": ""
            },
            "colorscale": [
             [
              0,
              "#0d0887"
             ],
             [
              0.1111111111111111,
              "#46039f"
             ],
             [
              0.2222222222222222,
              "#7201a8"
             ],
             [
              0.3333333333333333,
              "#9c179e"
             ],
             [
              0.4444444444444444,
              "#bd3786"
             ],
             [
              0.5555555555555556,
              "#d8576b"
             ],
             [
              0.6666666666666666,
              "#ed7953"
             ],
             [
              0.7777777777777778,
              "#fb9f3a"
             ],
             [
              0.8888888888888888,
              "#fdca26"
             ],
             [
              1,
              "#f0f921"
             ]
            ],
            "type": "heatmap"
           }
          ],
          "heatmapgl": [
           {
            "colorbar": {
             "outlinewidth": 0,
             "ticks": ""
            },
            "colorscale": [
             [
              0,
              "#0d0887"
             ],
             [
              0.1111111111111111,
              "#46039f"
             ],
             [
              0.2222222222222222,
              "#7201a8"
             ],
             [
              0.3333333333333333,
              "#9c179e"
             ],
             [
              0.4444444444444444,
              "#bd3786"
             ],
             [
              0.5555555555555556,
              "#d8576b"
             ],
             [
              0.6666666666666666,
              "#ed7953"
             ],
             [
              0.7777777777777778,
              "#fb9f3a"
             ],
             [
              0.8888888888888888,
              "#fdca26"
             ],
             [
              1,
              "#f0f921"
             ]
            ],
            "type": "heatmapgl"
           }
          ],
          "histogram": [
           {
            "marker": {
             "pattern": {
              "fillmode": "overlay",
              "size": 10,
              "solidity": 0.2
             }
            },
            "type": "histogram"
           }
          ],
          "histogram2d": [
           {
            "colorbar": {
             "outlinewidth": 0,
             "ticks": ""
            },
            "colorscale": [
             [
              0,
              "#0d0887"
             ],
             [
              0.1111111111111111,
              "#46039f"
             ],
             [
              0.2222222222222222,
              "#7201a8"
             ],
             [
              0.3333333333333333,
              "#9c179e"
             ],
             [
              0.4444444444444444,
              "#bd3786"
             ],
             [
              0.5555555555555556,
              "#d8576b"
             ],
             [
              0.6666666666666666,
              "#ed7953"
             ],
             [
              0.7777777777777778,
              "#fb9f3a"
             ],
             [
              0.8888888888888888,
              "#fdca26"
             ],
             [
              1,
              "#f0f921"
             ]
            ],
            "type": "histogram2d"
           }
          ],
          "histogram2dcontour": [
           {
            "colorbar": {
             "outlinewidth": 0,
             "ticks": ""
            },
            "colorscale": [
             [
              0,
              "#0d0887"
             ],
             [
              0.1111111111111111,
              "#46039f"
             ],
             [
              0.2222222222222222,
              "#7201a8"
             ],
             [
              0.3333333333333333,
              "#9c179e"
             ],
             [
              0.4444444444444444,
              "#bd3786"
             ],
             [
              0.5555555555555556,
              "#d8576b"
             ],
             [
              0.6666666666666666,
              "#ed7953"
             ],
             [
              0.7777777777777778,
              "#fb9f3a"
             ],
             [
              0.8888888888888888,
              "#fdca26"
             ],
             [
              1,
              "#f0f921"
             ]
            ],
            "type": "histogram2dcontour"
           }
          ],
          "mesh3d": [
           {
            "colorbar": {
             "outlinewidth": 0,
             "ticks": ""
            },
            "type": "mesh3d"
           }
          ],
          "parcoords": [
           {
            "line": {
             "colorbar": {
              "outlinewidth": 0,
              "ticks": ""
             }
            },
            "type": "parcoords"
           }
          ],
          "pie": [
           {
            "automargin": true,
            "type": "pie"
           }
          ],
          "scatter": [
           {
            "marker": {
             "colorbar": {
              "outlinewidth": 0,
              "ticks": ""
             }
            },
            "type": "scatter"
           }
          ],
          "scatter3d": [
           {
            "line": {
             "colorbar": {
              "outlinewidth": 0,
              "ticks": ""
             }
            },
            "marker": {
             "colorbar": {
              "outlinewidth": 0,
              "ticks": ""
             }
            },
            "type": "scatter3d"
           }
          ],
          "scattercarpet": [
           {
            "marker": {
             "colorbar": {
              "outlinewidth": 0,
              "ticks": ""
             }
            },
            "type": "scattercarpet"
           }
          ],
          "scattergeo": [
           {
            "marker": {
             "colorbar": {
              "outlinewidth": 0,
              "ticks": ""
             }
            },
            "type": "scattergeo"
           }
          ],
          "scattergl": [
           {
            "marker": {
             "colorbar": {
              "outlinewidth": 0,
              "ticks": ""
             }
            },
            "type": "scattergl"
           }
          ],
          "scattermapbox": [
           {
            "marker": {
             "colorbar": {
              "outlinewidth": 0,
              "ticks": ""
             }
            },
            "type": "scattermapbox"
           }
          ],
          "scatterpolar": [
           {
            "marker": {
             "colorbar": {
              "outlinewidth": 0,
              "ticks": ""
             }
            },
            "type": "scatterpolar"
           }
          ],
          "scatterpolargl": [
           {
            "marker": {
             "colorbar": {
              "outlinewidth": 0,
              "ticks": ""
             }
            },
            "type": "scatterpolargl"
           }
          ],
          "scatterternary": [
           {
            "marker": {
             "colorbar": {
              "outlinewidth": 0,
              "ticks": ""
             }
            },
            "type": "scatterternary"
           }
          ],
          "surface": [
           {
            "colorbar": {
             "outlinewidth": 0,
             "ticks": ""
            },
            "colorscale": [
             [
              0,
              "#0d0887"
             ],
             [
              0.1111111111111111,
              "#46039f"
             ],
             [
              0.2222222222222222,
              "#7201a8"
             ],
             [
              0.3333333333333333,
              "#9c179e"
             ],
             [
              0.4444444444444444,
              "#bd3786"
             ],
             [
              0.5555555555555556,
              "#d8576b"
             ],
             [
              0.6666666666666666,
              "#ed7953"
             ],
             [
              0.7777777777777778,
              "#fb9f3a"
             ],
             [
              0.8888888888888888,
              "#fdca26"
             ],
             [
              1,
              "#f0f921"
             ]
            ],
            "type": "surface"
           }
          ],
          "table": [
           {
            "cells": {
             "fill": {
              "color": "#EBF0F8"
             },
             "line": {
              "color": "white"
             }
            },
            "header": {
             "fill": {
              "color": "#C8D4E3"
             },
             "line": {
              "color": "white"
             }
            },
            "type": "table"
           }
          ]
         },
         "layout": {
          "annotationdefaults": {
           "arrowcolor": "#2a3f5f",
           "arrowhead": 0,
           "arrowwidth": 1
          },
          "autotypenumbers": "strict",
          "coloraxis": {
           "colorbar": {
            "outlinewidth": 0,
            "ticks": ""
           }
          },
          "colorscale": {
           "diverging": [
            [
             0,
             "#8e0152"
            ],
            [
             0.1,
             "#c51b7d"
            ],
            [
             0.2,
             "#de77ae"
            ],
            [
             0.3,
             "#f1b6da"
            ],
            [
             0.4,
             "#fde0ef"
            ],
            [
             0.5,
             "#f7f7f7"
            ],
            [
             0.6,
             "#e6f5d0"
            ],
            [
             0.7,
             "#b8e186"
            ],
            [
             0.8,
             "#7fbc41"
            ],
            [
             0.9,
             "#4d9221"
            ],
            [
             1,
             "#276419"
            ]
           ],
           "sequential": [
            [
             0,
             "#0d0887"
            ],
            [
             0.1111111111111111,
             "#46039f"
            ],
            [
             0.2222222222222222,
             "#7201a8"
            ],
            [
             0.3333333333333333,
             "#9c179e"
            ],
            [
             0.4444444444444444,
             "#bd3786"
            ],
            [
             0.5555555555555556,
             "#d8576b"
            ],
            [
             0.6666666666666666,
             "#ed7953"
            ],
            [
             0.7777777777777778,
             "#fb9f3a"
            ],
            [
             0.8888888888888888,
             "#fdca26"
            ],
            [
             1,
             "#f0f921"
            ]
           ],
           "sequentialminus": [
            [
             0,
             "#0d0887"
            ],
            [
             0.1111111111111111,
             "#46039f"
            ],
            [
             0.2222222222222222,
             "#7201a8"
            ],
            [
             0.3333333333333333,
             "#9c179e"
            ],
            [
             0.4444444444444444,
             "#bd3786"
            ],
            [
             0.5555555555555556,
             "#d8576b"
            ],
            [
             0.6666666666666666,
             "#ed7953"
            ],
            [
             0.7777777777777778,
             "#fb9f3a"
            ],
            [
             0.8888888888888888,
             "#fdca26"
            ],
            [
             1,
             "#f0f921"
            ]
           ]
          },
          "colorway": [
           "#636efa",
           "#EF553B",
           "#00cc96",
           "#ab63fa",
           "#FFA15A",
           "#19d3f3",
           "#FF6692",
           "#B6E880",
           "#FF97FF",
           "#FECB52"
          ],
          "font": {
           "color": "#2a3f5f"
          },
          "geo": {
           "bgcolor": "white",
           "lakecolor": "white",
           "landcolor": "#E5ECF6",
           "showlakes": true,
           "showland": true,
           "subunitcolor": "white"
          },
          "hoverlabel": {
           "align": "left"
          },
          "hovermode": "closest",
          "mapbox": {
           "style": "light"
          },
          "paper_bgcolor": "white",
          "plot_bgcolor": "#E5ECF6",
          "polar": {
           "angularaxis": {
            "gridcolor": "white",
            "linecolor": "white",
            "ticks": ""
           },
           "bgcolor": "#E5ECF6",
           "radialaxis": {
            "gridcolor": "white",
            "linecolor": "white",
            "ticks": ""
           }
          },
          "scene": {
           "xaxis": {
            "backgroundcolor": "#E5ECF6",
            "gridcolor": "white",
            "gridwidth": 2,
            "linecolor": "white",
            "showbackground": true,
            "ticks": "",
            "zerolinecolor": "white"
           },
           "yaxis": {
            "backgroundcolor": "#E5ECF6",
            "gridcolor": "white",
            "gridwidth": 2,
            "linecolor": "white",
            "showbackground": true,
            "ticks": "",
            "zerolinecolor": "white"
           },
           "zaxis": {
            "backgroundcolor": "#E5ECF6",
            "gridcolor": "white",
            "gridwidth": 2,
            "linecolor": "white",
            "showbackground": true,
            "ticks": "",
            "zerolinecolor": "white"
           }
          },
          "shapedefaults": {
           "line": {
            "color": "#2a3f5f"
           }
          },
          "ternary": {
           "aaxis": {
            "gridcolor": "white",
            "linecolor": "white",
            "ticks": ""
           },
           "baxis": {
            "gridcolor": "white",
            "linecolor": "white",
            "ticks": ""
           },
           "bgcolor": "#E5ECF6",
           "caxis": {
            "gridcolor": "white",
            "linecolor": "white",
            "ticks": ""
           }
          },
          "title": {
           "x": 0.05
          },
          "xaxis": {
           "automargin": true,
           "gridcolor": "white",
           "linecolor": "white",
           "ticks": "",
           "title": {
            "standoff": 15
           },
           "zerolinecolor": "white",
           "zerolinewidth": 2
          },
          "yaxis": {
           "automargin": true,
           "gridcolor": "white",
           "linecolor": "white",
           "ticks": "",
           "title": {
            "standoff": 15
           },
           "zerolinecolor": "white",
           "zerolinewidth": 2
          }
         }
        },
        "title": {
         "text": "Feature"
        },
        "width": 800,
        "xaxis": {
         "anchor": "y",
         "domain": [
          0,
          1
         ],
         "title": {
          "text": "Crude_Rands"
         }
        },
        "yaxis": {
         "anchor": "x",
         "domain": [
          0,
          1
         ],
         "title": {
          "text": "count"
         }
        }
       }
      }
     },
     "metadata": {},
     "output_type": "display_data"
    },
    {
     "data": {
      "application/vnd.plotly.v1+json": {
       "config": {
        "plotlyServerURL": "https://plot.ly"
       },
       "data": [
        {
         "alignmentgroup": "True",
         "bingroup": "x",
         "hovertemplate": "BFP=%{x}<br>count=%{y}<extra></extra>",
         "legendgroup": "",
         "marker": {
          "color": "#636efa",
          "pattern": {
           "shape": ""
          }
         },
         "name": "",
         "nbinsx": 10,
         "offsetgroup": "",
         "orientation": "v",
         "showlegend": false,
         "type": "histogram",
         "x": [
          406.263,
          424.263,
          430.563,
          453.063,
          465.063,
          438.063,
          420.063,
          410.063,
          400.063,
          396.563,
          416.563,
          429.563,
          453.949,
          479.949,
          522.949,
          552.149,
          581.149,
          579.149,
          548.149,
          565.149,
          574.149,
          606.149,
          629.149,
          603.55,
          598.55,
          632.55,
          656.17,
          694.57,
          718.17,
          660.99,
          582.57,
          608.95,
          698.45,
          708.29,
          696.09,
          673.19,
          664.77,
          707.97,
          784.59,
          760.43,
          693.99,
          696.97,
          778.77,
          799.81,
          796.99,
          772.09,
          746.29,
          756.37,
          792.19,
          828.99,
          862.79,
          848.59,
          842.37,
          826.95,
          857.95,
          853.57,
          786.75,
          781.75,
          736.75,
          656.25,
          533.25,
          440.25,
          536.25,
          615.65,
          615.65,
          662.65,
          703.65,
          652.47,
          578.87,
          582.87,
          560.87,
          553.97,
          550.97,
          556.97,
          487.97,
          540.97,
          552.97,
          604.97,
          612.97,
          513.97,
          495.97,
          538.97,
          583.97,
          543.87,
          591.87,
          620.87,
          612.87,
          548.67,
          597.67,
          572.67,
          504.67,
          523.67,
          586.07,
          615.07,
          619.07,
          686.17,
          652.17,
          622.17,
          586.17,
          596.07,
          645.07,
          727.07,
          750.07,
          751.07,
          751.17,
          851.17,
          829.25,
          637.55,
          536.47,
          543.47,
          617.47,
          723.17,
          777.17,
          764.01,
          677.79,
          693.17,
          704.17,
          722.17,
          709.17,
          719.57,
          699.97,
          686.97,
          667.97,
          448.67,
          274.77,
          392.77,
          564.774,
          569.77,
          565.47,
          533.47,
          506.47,
          479.17,
          519.17,
          600.17,
          665.17,
          736.17,
          727.17,
          717.17,
          743.17,
          827.59,
          817.11,
          818.31,
          937.11,
          973.97,
          903.47,
          969.63,
          1100.27
         ],
         "xaxis": "x",
         "yaxis": "y"
        }
       ],
       "layout": {
        "barmode": "relative",
        "height": 400,
        "legend": {
         "tracegroupgap": 0
        },
        "template": {
         "data": {
          "bar": [
           {
            "error_x": {
             "color": "#2a3f5f"
            },
            "error_y": {
             "color": "#2a3f5f"
            },
            "marker": {
             "line": {
              "color": "#E5ECF6",
              "width": 0.5
             },
             "pattern": {
              "fillmode": "overlay",
              "size": 10,
              "solidity": 0.2
             }
            },
            "type": "bar"
           }
          ],
          "barpolar": [
           {
            "marker": {
             "line": {
              "color": "#E5ECF6",
              "width": 0.5
             },
             "pattern": {
              "fillmode": "overlay",
              "size": 10,
              "solidity": 0.2
             }
            },
            "type": "barpolar"
           }
          ],
          "carpet": [
           {
            "aaxis": {
             "endlinecolor": "#2a3f5f",
             "gridcolor": "white",
             "linecolor": "white",
             "minorgridcolor": "white",
             "startlinecolor": "#2a3f5f"
            },
            "baxis": {
             "endlinecolor": "#2a3f5f",
             "gridcolor": "white",
             "linecolor": "white",
             "minorgridcolor": "white",
             "startlinecolor": "#2a3f5f"
            },
            "type": "carpet"
           }
          ],
          "choropleth": [
           {
            "colorbar": {
             "outlinewidth": 0,
             "ticks": ""
            },
            "type": "choropleth"
           }
          ],
          "contour": [
           {
            "colorbar": {
             "outlinewidth": 0,
             "ticks": ""
            },
            "colorscale": [
             [
              0,
              "#0d0887"
             ],
             [
              0.1111111111111111,
              "#46039f"
             ],
             [
              0.2222222222222222,
              "#7201a8"
             ],
             [
              0.3333333333333333,
              "#9c179e"
             ],
             [
              0.4444444444444444,
              "#bd3786"
             ],
             [
              0.5555555555555556,
              "#d8576b"
             ],
             [
              0.6666666666666666,
              "#ed7953"
             ],
             [
              0.7777777777777778,
              "#fb9f3a"
             ],
             [
              0.8888888888888888,
              "#fdca26"
             ],
             [
              1,
              "#f0f921"
             ]
            ],
            "type": "contour"
           }
          ],
          "contourcarpet": [
           {
            "colorbar": {
             "outlinewidth": 0,
             "ticks": ""
            },
            "type": "contourcarpet"
           }
          ],
          "heatmap": [
           {
            "colorbar": {
             "outlinewidth": 0,
             "ticks": ""
            },
            "colorscale": [
             [
              0,
              "#0d0887"
             ],
             [
              0.1111111111111111,
              "#46039f"
             ],
             [
              0.2222222222222222,
              "#7201a8"
             ],
             [
              0.3333333333333333,
              "#9c179e"
             ],
             [
              0.4444444444444444,
              "#bd3786"
             ],
             [
              0.5555555555555556,
              "#d8576b"
             ],
             [
              0.6666666666666666,
              "#ed7953"
             ],
             [
              0.7777777777777778,
              "#fb9f3a"
             ],
             [
              0.8888888888888888,
              "#fdca26"
             ],
             [
              1,
              "#f0f921"
             ]
            ],
            "type": "heatmap"
           }
          ],
          "heatmapgl": [
           {
            "colorbar": {
             "outlinewidth": 0,
             "ticks": ""
            },
            "colorscale": [
             [
              0,
              "#0d0887"
             ],
             [
              0.1111111111111111,
              "#46039f"
             ],
             [
              0.2222222222222222,
              "#7201a8"
             ],
             [
              0.3333333333333333,
              "#9c179e"
             ],
             [
              0.4444444444444444,
              "#bd3786"
             ],
             [
              0.5555555555555556,
              "#d8576b"
             ],
             [
              0.6666666666666666,
              "#ed7953"
             ],
             [
              0.7777777777777778,
              "#fb9f3a"
             ],
             [
              0.8888888888888888,
              "#fdca26"
             ],
             [
              1,
              "#f0f921"
             ]
            ],
            "type": "heatmapgl"
           }
          ],
          "histogram": [
           {
            "marker": {
             "pattern": {
              "fillmode": "overlay",
              "size": 10,
              "solidity": 0.2
             }
            },
            "type": "histogram"
           }
          ],
          "histogram2d": [
           {
            "colorbar": {
             "outlinewidth": 0,
             "ticks": ""
            },
            "colorscale": [
             [
              0,
              "#0d0887"
             ],
             [
              0.1111111111111111,
              "#46039f"
             ],
             [
              0.2222222222222222,
              "#7201a8"
             ],
             [
              0.3333333333333333,
              "#9c179e"
             ],
             [
              0.4444444444444444,
              "#bd3786"
             ],
             [
              0.5555555555555556,
              "#d8576b"
             ],
             [
              0.6666666666666666,
              "#ed7953"
             ],
             [
              0.7777777777777778,
              "#fb9f3a"
             ],
             [
              0.8888888888888888,
              "#fdca26"
             ],
             [
              1,
              "#f0f921"
             ]
            ],
            "type": "histogram2d"
           }
          ],
          "histogram2dcontour": [
           {
            "colorbar": {
             "outlinewidth": 0,
             "ticks": ""
            },
            "colorscale": [
             [
              0,
              "#0d0887"
             ],
             [
              0.1111111111111111,
              "#46039f"
             ],
             [
              0.2222222222222222,
              "#7201a8"
             ],
             [
              0.3333333333333333,
              "#9c179e"
             ],
             [
              0.4444444444444444,
              "#bd3786"
             ],
             [
              0.5555555555555556,
              "#d8576b"
             ],
             [
              0.6666666666666666,
              "#ed7953"
             ],
             [
              0.7777777777777778,
              "#fb9f3a"
             ],
             [
              0.8888888888888888,
              "#fdca26"
             ],
             [
              1,
              "#f0f921"
             ]
            ],
            "type": "histogram2dcontour"
           }
          ],
          "mesh3d": [
           {
            "colorbar": {
             "outlinewidth": 0,
             "ticks": ""
            },
            "type": "mesh3d"
           }
          ],
          "parcoords": [
           {
            "line": {
             "colorbar": {
              "outlinewidth": 0,
              "ticks": ""
             }
            },
            "type": "parcoords"
           }
          ],
          "pie": [
           {
            "automargin": true,
            "type": "pie"
           }
          ],
          "scatter": [
           {
            "marker": {
             "colorbar": {
              "outlinewidth": 0,
              "ticks": ""
             }
            },
            "type": "scatter"
           }
          ],
          "scatter3d": [
           {
            "line": {
             "colorbar": {
              "outlinewidth": 0,
              "ticks": ""
             }
            },
            "marker": {
             "colorbar": {
              "outlinewidth": 0,
              "ticks": ""
             }
            },
            "type": "scatter3d"
           }
          ],
          "scattercarpet": [
           {
            "marker": {
             "colorbar": {
              "outlinewidth": 0,
              "ticks": ""
             }
            },
            "type": "scattercarpet"
           }
          ],
          "scattergeo": [
           {
            "marker": {
             "colorbar": {
              "outlinewidth": 0,
              "ticks": ""
             }
            },
            "type": "scattergeo"
           }
          ],
          "scattergl": [
           {
            "marker": {
             "colorbar": {
              "outlinewidth": 0,
              "ticks": ""
             }
            },
            "type": "scattergl"
           }
          ],
          "scattermapbox": [
           {
            "marker": {
             "colorbar": {
              "outlinewidth": 0,
              "ticks": ""
             }
            },
            "type": "scattermapbox"
           }
          ],
          "scatterpolar": [
           {
            "marker": {
             "colorbar": {
              "outlinewidth": 0,
              "ticks": ""
             }
            },
            "type": "scatterpolar"
           }
          ],
          "scatterpolargl": [
           {
            "marker": {
             "colorbar": {
              "outlinewidth": 0,
              "ticks": ""
             }
            },
            "type": "scatterpolargl"
           }
          ],
          "scatterternary": [
           {
            "marker": {
             "colorbar": {
              "outlinewidth": 0,
              "ticks": ""
             }
            },
            "type": "scatterternary"
           }
          ],
          "surface": [
           {
            "colorbar": {
             "outlinewidth": 0,
             "ticks": ""
            },
            "colorscale": [
             [
              0,
              "#0d0887"
             ],
             [
              0.1111111111111111,
              "#46039f"
             ],
             [
              0.2222222222222222,
              "#7201a8"
             ],
             [
              0.3333333333333333,
              "#9c179e"
             ],
             [
              0.4444444444444444,
              "#bd3786"
             ],
             [
              0.5555555555555556,
              "#d8576b"
             ],
             [
              0.6666666666666666,
              "#ed7953"
             ],
             [
              0.7777777777777778,
              "#fb9f3a"
             ],
             [
              0.8888888888888888,
              "#fdca26"
             ],
             [
              1,
              "#f0f921"
             ]
            ],
            "type": "surface"
           }
          ],
          "table": [
           {
            "cells": {
             "fill": {
              "color": "#EBF0F8"
             },
             "line": {
              "color": "white"
             }
            },
            "header": {
             "fill": {
              "color": "#C8D4E3"
             },
             "line": {
              "color": "white"
             }
            },
            "type": "table"
           }
          ]
         },
         "layout": {
          "annotationdefaults": {
           "arrowcolor": "#2a3f5f",
           "arrowhead": 0,
           "arrowwidth": 1
          },
          "autotypenumbers": "strict",
          "coloraxis": {
           "colorbar": {
            "outlinewidth": 0,
            "ticks": ""
           }
          },
          "colorscale": {
           "diverging": [
            [
             0,
             "#8e0152"
            ],
            [
             0.1,
             "#c51b7d"
            ],
            [
             0.2,
             "#de77ae"
            ],
            [
             0.3,
             "#f1b6da"
            ],
            [
             0.4,
             "#fde0ef"
            ],
            [
             0.5,
             "#f7f7f7"
            ],
            [
             0.6,
             "#e6f5d0"
            ],
            [
             0.7,
             "#b8e186"
            ],
            [
             0.8,
             "#7fbc41"
            ],
            [
             0.9,
             "#4d9221"
            ],
            [
             1,
             "#276419"
            ]
           ],
           "sequential": [
            [
             0,
             "#0d0887"
            ],
            [
             0.1111111111111111,
             "#46039f"
            ],
            [
             0.2222222222222222,
             "#7201a8"
            ],
            [
             0.3333333333333333,
             "#9c179e"
            ],
            [
             0.4444444444444444,
             "#bd3786"
            ],
            [
             0.5555555555555556,
             "#d8576b"
            ],
            [
             0.6666666666666666,
             "#ed7953"
            ],
            [
             0.7777777777777778,
             "#fb9f3a"
            ],
            [
             0.8888888888888888,
             "#fdca26"
            ],
            [
             1,
             "#f0f921"
            ]
           ],
           "sequentialminus": [
            [
             0,
             "#0d0887"
            ],
            [
             0.1111111111111111,
             "#46039f"
            ],
            [
             0.2222222222222222,
             "#7201a8"
            ],
            [
             0.3333333333333333,
             "#9c179e"
            ],
            [
             0.4444444444444444,
             "#bd3786"
            ],
            [
             0.5555555555555556,
             "#d8576b"
            ],
            [
             0.6666666666666666,
             "#ed7953"
            ],
            [
             0.7777777777777778,
             "#fb9f3a"
            ],
            [
             0.8888888888888888,
             "#fdca26"
            ],
            [
             1,
             "#f0f921"
            ]
           ]
          },
          "colorway": [
           "#636efa",
           "#EF553B",
           "#00cc96",
           "#ab63fa",
           "#FFA15A",
           "#19d3f3",
           "#FF6692",
           "#B6E880",
           "#FF97FF",
           "#FECB52"
          ],
          "font": {
           "color": "#2a3f5f"
          },
          "geo": {
           "bgcolor": "white",
           "lakecolor": "white",
           "landcolor": "#E5ECF6",
           "showlakes": true,
           "showland": true,
           "subunitcolor": "white"
          },
          "hoverlabel": {
           "align": "left"
          },
          "hovermode": "closest",
          "mapbox": {
           "style": "light"
          },
          "paper_bgcolor": "white",
          "plot_bgcolor": "#E5ECF6",
          "polar": {
           "angularaxis": {
            "gridcolor": "white",
            "linecolor": "white",
            "ticks": ""
           },
           "bgcolor": "#E5ECF6",
           "radialaxis": {
            "gridcolor": "white",
            "linecolor": "white",
            "ticks": ""
           }
          },
          "scene": {
           "xaxis": {
            "backgroundcolor": "#E5ECF6",
            "gridcolor": "white",
            "gridwidth": 2,
            "linecolor": "white",
            "showbackground": true,
            "ticks": "",
            "zerolinecolor": "white"
           },
           "yaxis": {
            "backgroundcolor": "#E5ECF6",
            "gridcolor": "white",
            "gridwidth": 2,
            "linecolor": "white",
            "showbackground": true,
            "ticks": "",
            "zerolinecolor": "white"
           },
           "zaxis": {
            "backgroundcolor": "#E5ECF6",
            "gridcolor": "white",
            "gridwidth": 2,
            "linecolor": "white",
            "showbackground": true,
            "ticks": "",
            "zerolinecolor": "white"
           }
          },
          "shapedefaults": {
           "line": {
            "color": "#2a3f5f"
           }
          },
          "ternary": {
           "aaxis": {
            "gridcolor": "white",
            "linecolor": "white",
            "ticks": ""
           },
           "baxis": {
            "gridcolor": "white",
            "linecolor": "white",
            "ticks": ""
           },
           "bgcolor": "#E5ECF6",
           "caxis": {
            "gridcolor": "white",
            "linecolor": "white",
            "ticks": ""
           }
          },
          "title": {
           "x": 0.05
          },
          "xaxis": {
           "automargin": true,
           "gridcolor": "white",
           "linecolor": "white",
           "ticks": "",
           "title": {
            "standoff": 15
           },
           "zerolinecolor": "white",
           "zerolinewidth": 2
          },
          "yaxis": {
           "automargin": true,
           "gridcolor": "white",
           "linecolor": "white",
           "ticks": "",
           "title": {
            "standoff": 15
           },
           "zerolinecolor": "white",
           "zerolinewidth": 2
          }
         }
        },
        "title": {
         "text": "Label A"
        },
        "width": 800,
        "xaxis": {
         "anchor": "y",
         "domain": [
          0,
          1
         ],
         "title": {
          "text": "BFP"
         }
        },
        "yaxis": {
         "anchor": "x",
         "domain": [
          0,
          1
         ],
         "title": {
          "text": "count"
         }
        }
       }
      }
     },
     "metadata": {},
     "output_type": "display_data"
    },
    {
     "data": {
      "application/vnd.plotly.v1+json": {
       "config": {
        "plotlyServerURL": "https://plot.ly"
       },
       "data": [
        {
         "alignmentgroup": "True",
         "bingroup": "x",
         "hovertemplate": "Petrol=%{x}<br>count=%{y}<extra></extra>",
         "legendgroup": "",
         "marker": {
          "color": "#636efa",
          "pattern": {
           "shape": ""
          }
         },
         "name": "",
         "nbinsx": 10,
         "offsetgroup": "",
         "orientation": "v",
         "showlegend": false,
         "type": "histogram",
         "x": [
          785.9999999999999,
          803.9999999999999,
          810.3,
          858.3,
          871.8,
          844.8,
          826.8,
          816.8,
          806.8,
          811.8,
          831.8,
          844.8,
          872.8000000000001,
          898.8000000000001,
          941.8,
          996.4,
          1025.4,
          1023.4,
          992.4,
          1009.4,
          1018.4,
          1054.4,
          1077.4,
          1056.8,
          1061.3999999999999,
          1095.3999999999999,
          1123.4,
          1193.7,
          1221.7,
          1166.7,
          1081.7,
          1103.7,
          1193.7,
          1216.7,
          1206.6999999999998,
          1197.6999999999998,
          1185.6999999999998,
          1226.7,
          1307.7000000000003,
          1319.6000000000001,
          1246.6000000000001,
          1238.6000000000004,
          1322.6000000000001,
          1354.6000000000001,
          1346.6000000000001,
          1326.6000000000001,
          1298.6000000000001,
          1315.6,
          1356.6000000000001,
          1395.6000000000001,
          1431.6,
          1441.7,
          1426.6999999999998,
          1404.7,
          1435.7,
          1435.7000000000003,
          1368.7,
          1363.7,
          1318.7,
          1248.4999999999998,
          1123.6,
          1030.6,
          1126.6,
          1288.7,
          1288.7,
          1335.7,
          1376.7,
          1325.6999999999998,
          1246.7,
          1250.7,
          1228.7,
          1229.7,
          1226.7,
          1232.7,
          1163.7,
          1252.4,
          1264.4,
          1316.4,
          1324.4,
          1225.4,
          1207.4,
          1250.4,
          1295.4,
          1275.3999999999999,
          1333.3999999999999,
          1362.3999999999999,
          1354.3999999999999,
          1329.7,
          1378.7,
          1353.7,
          1285.7,
          1304.7,
          1371.7,
          1400.7,
          1404.7,
          1458.7,
          1441.7,
          1411.7,
          1375.7,
          1447.8000000000002,
          1496.8000000000002,
          1578.8000000000002,
          1602.6599999999999,
          1602.8000000000002,
          1607.8,
          1707.8,
          1707.8,
          1523.8,
          1400.8,
          1407.8,
          1481.8,
          1613.2,
          1667.2,
          1676.2,
          1581.2,
          1592.2,
          1603.2,
          1621.2,
          1608.2,
          1629.8700000000003,
          1616.2,
          1603.2,
          1584.2,
          1396.2,
          1222.3000000000002,
          1340.3,
          1512.3,
          1517.3,
          1518.3000000000002,
          1486.307,
          1459.3000000000002,
          1446.6000000000001,
          1486.3,
          1567.3,
          1625.3,
          1731.5,
          1722.5,
          1712.5,
          1738.5,
          1829.5,
          1827.8,
          1826.8,
          1947.8,
          2028.8000000000002,
          1960.5,
          2013.5000000000002,
          2159.5
         ],
         "xaxis": "x",
         "yaxis": "y"
        }
       ],
       "layout": {
        "barmode": "relative",
        "height": 400,
        "legend": {
         "tracegroupgap": 0
        },
        "template": {
         "data": {
          "bar": [
           {
            "error_x": {
             "color": "#2a3f5f"
            },
            "error_y": {
             "color": "#2a3f5f"
            },
            "marker": {
             "line": {
              "color": "#E5ECF6",
              "width": 0.5
             },
             "pattern": {
              "fillmode": "overlay",
              "size": 10,
              "solidity": 0.2
             }
            },
            "type": "bar"
           }
          ],
          "barpolar": [
           {
            "marker": {
             "line": {
              "color": "#E5ECF6",
              "width": 0.5
             },
             "pattern": {
              "fillmode": "overlay",
              "size": 10,
              "solidity": 0.2
             }
            },
            "type": "barpolar"
           }
          ],
          "carpet": [
           {
            "aaxis": {
             "endlinecolor": "#2a3f5f",
             "gridcolor": "white",
             "linecolor": "white",
             "minorgridcolor": "white",
             "startlinecolor": "#2a3f5f"
            },
            "baxis": {
             "endlinecolor": "#2a3f5f",
             "gridcolor": "white",
             "linecolor": "white",
             "minorgridcolor": "white",
             "startlinecolor": "#2a3f5f"
            },
            "type": "carpet"
           }
          ],
          "choropleth": [
           {
            "colorbar": {
             "outlinewidth": 0,
             "ticks": ""
            },
            "type": "choropleth"
           }
          ],
          "contour": [
           {
            "colorbar": {
             "outlinewidth": 0,
             "ticks": ""
            },
            "colorscale": [
             [
              0,
              "#0d0887"
             ],
             [
              0.1111111111111111,
              "#46039f"
             ],
             [
              0.2222222222222222,
              "#7201a8"
             ],
             [
              0.3333333333333333,
              "#9c179e"
             ],
             [
              0.4444444444444444,
              "#bd3786"
             ],
             [
              0.5555555555555556,
              "#d8576b"
             ],
             [
              0.6666666666666666,
              "#ed7953"
             ],
             [
              0.7777777777777778,
              "#fb9f3a"
             ],
             [
              0.8888888888888888,
              "#fdca26"
             ],
             [
              1,
              "#f0f921"
             ]
            ],
            "type": "contour"
           }
          ],
          "contourcarpet": [
           {
            "colorbar": {
             "outlinewidth": 0,
             "ticks": ""
            },
            "type": "contourcarpet"
           }
          ],
          "heatmap": [
           {
            "colorbar": {
             "outlinewidth": 0,
             "ticks": ""
            },
            "colorscale": [
             [
              0,
              "#0d0887"
             ],
             [
              0.1111111111111111,
              "#46039f"
             ],
             [
              0.2222222222222222,
              "#7201a8"
             ],
             [
              0.3333333333333333,
              "#9c179e"
             ],
             [
              0.4444444444444444,
              "#bd3786"
             ],
             [
              0.5555555555555556,
              "#d8576b"
             ],
             [
              0.6666666666666666,
              "#ed7953"
             ],
             [
              0.7777777777777778,
              "#fb9f3a"
             ],
             [
              0.8888888888888888,
              "#fdca26"
             ],
             [
              1,
              "#f0f921"
             ]
            ],
            "type": "heatmap"
           }
          ],
          "heatmapgl": [
           {
            "colorbar": {
             "outlinewidth": 0,
             "ticks": ""
            },
            "colorscale": [
             [
              0,
              "#0d0887"
             ],
             [
              0.1111111111111111,
              "#46039f"
             ],
             [
              0.2222222222222222,
              "#7201a8"
             ],
             [
              0.3333333333333333,
              "#9c179e"
             ],
             [
              0.4444444444444444,
              "#bd3786"
             ],
             [
              0.5555555555555556,
              "#d8576b"
             ],
             [
              0.6666666666666666,
              "#ed7953"
             ],
             [
              0.7777777777777778,
              "#fb9f3a"
             ],
             [
              0.8888888888888888,
              "#fdca26"
             ],
             [
              1,
              "#f0f921"
             ]
            ],
            "type": "heatmapgl"
           }
          ],
          "histogram": [
           {
            "marker": {
             "pattern": {
              "fillmode": "overlay",
              "size": 10,
              "solidity": 0.2
             }
            },
            "type": "histogram"
           }
          ],
          "histogram2d": [
           {
            "colorbar": {
             "outlinewidth": 0,
             "ticks": ""
            },
            "colorscale": [
             [
              0,
              "#0d0887"
             ],
             [
              0.1111111111111111,
              "#46039f"
             ],
             [
              0.2222222222222222,
              "#7201a8"
             ],
             [
              0.3333333333333333,
              "#9c179e"
             ],
             [
              0.4444444444444444,
              "#bd3786"
             ],
             [
              0.5555555555555556,
              "#d8576b"
             ],
             [
              0.6666666666666666,
              "#ed7953"
             ],
             [
              0.7777777777777778,
              "#fb9f3a"
             ],
             [
              0.8888888888888888,
              "#fdca26"
             ],
             [
              1,
              "#f0f921"
             ]
            ],
            "type": "histogram2d"
           }
          ],
          "histogram2dcontour": [
           {
            "colorbar": {
             "outlinewidth": 0,
             "ticks": ""
            },
            "colorscale": [
             [
              0,
              "#0d0887"
             ],
             [
              0.1111111111111111,
              "#46039f"
             ],
             [
              0.2222222222222222,
              "#7201a8"
             ],
             [
              0.3333333333333333,
              "#9c179e"
             ],
             [
              0.4444444444444444,
              "#bd3786"
             ],
             [
              0.5555555555555556,
              "#d8576b"
             ],
             [
              0.6666666666666666,
              "#ed7953"
             ],
             [
              0.7777777777777778,
              "#fb9f3a"
             ],
             [
              0.8888888888888888,
              "#fdca26"
             ],
             [
              1,
              "#f0f921"
             ]
            ],
            "type": "histogram2dcontour"
           }
          ],
          "mesh3d": [
           {
            "colorbar": {
             "outlinewidth": 0,
             "ticks": ""
            },
            "type": "mesh3d"
           }
          ],
          "parcoords": [
           {
            "line": {
             "colorbar": {
              "outlinewidth": 0,
              "ticks": ""
             }
            },
            "type": "parcoords"
           }
          ],
          "pie": [
           {
            "automargin": true,
            "type": "pie"
           }
          ],
          "scatter": [
           {
            "marker": {
             "colorbar": {
              "outlinewidth": 0,
              "ticks": ""
             }
            },
            "type": "scatter"
           }
          ],
          "scatter3d": [
           {
            "line": {
             "colorbar": {
              "outlinewidth": 0,
              "ticks": ""
             }
            },
            "marker": {
             "colorbar": {
              "outlinewidth": 0,
              "ticks": ""
             }
            },
            "type": "scatter3d"
           }
          ],
          "scattercarpet": [
           {
            "marker": {
             "colorbar": {
              "outlinewidth": 0,
              "ticks": ""
             }
            },
            "type": "scattercarpet"
           }
          ],
          "scattergeo": [
           {
            "marker": {
             "colorbar": {
              "outlinewidth": 0,
              "ticks": ""
             }
            },
            "type": "scattergeo"
           }
          ],
          "scattergl": [
           {
            "marker": {
             "colorbar": {
              "outlinewidth": 0,
              "ticks": ""
             }
            },
            "type": "scattergl"
           }
          ],
          "scattermapbox": [
           {
            "marker": {
             "colorbar": {
              "outlinewidth": 0,
              "ticks": ""
             }
            },
            "type": "scattermapbox"
           }
          ],
          "scatterpolar": [
           {
            "marker": {
             "colorbar": {
              "outlinewidth": 0,
              "ticks": ""
             }
            },
            "type": "scatterpolar"
           }
          ],
          "scatterpolargl": [
           {
            "marker": {
             "colorbar": {
              "outlinewidth": 0,
              "ticks": ""
             }
            },
            "type": "scatterpolargl"
           }
          ],
          "scatterternary": [
           {
            "marker": {
             "colorbar": {
              "outlinewidth": 0,
              "ticks": ""
             }
            },
            "type": "scatterternary"
           }
          ],
          "surface": [
           {
            "colorbar": {
             "outlinewidth": 0,
             "ticks": ""
            },
            "colorscale": [
             [
              0,
              "#0d0887"
             ],
             [
              0.1111111111111111,
              "#46039f"
             ],
             [
              0.2222222222222222,
              "#7201a8"
             ],
             [
              0.3333333333333333,
              "#9c179e"
             ],
             [
              0.4444444444444444,
              "#bd3786"
             ],
             [
              0.5555555555555556,
              "#d8576b"
             ],
             [
              0.6666666666666666,
              "#ed7953"
             ],
             [
              0.7777777777777778,
              "#fb9f3a"
             ],
             [
              0.8888888888888888,
              "#fdca26"
             ],
             [
              1,
              "#f0f921"
             ]
            ],
            "type": "surface"
           }
          ],
          "table": [
           {
            "cells": {
             "fill": {
              "color": "#EBF0F8"
             },
             "line": {
              "color": "white"
             }
            },
            "header": {
             "fill": {
              "color": "#C8D4E3"
             },
             "line": {
              "color": "white"
             }
            },
            "type": "table"
           }
          ]
         },
         "layout": {
          "annotationdefaults": {
           "arrowcolor": "#2a3f5f",
           "arrowhead": 0,
           "arrowwidth": 1
          },
          "autotypenumbers": "strict",
          "coloraxis": {
           "colorbar": {
            "outlinewidth": 0,
            "ticks": ""
           }
          },
          "colorscale": {
           "diverging": [
            [
             0,
             "#8e0152"
            ],
            [
             0.1,
             "#c51b7d"
            ],
            [
             0.2,
             "#de77ae"
            ],
            [
             0.3,
             "#f1b6da"
            ],
            [
             0.4,
             "#fde0ef"
            ],
            [
             0.5,
             "#f7f7f7"
            ],
            [
             0.6,
             "#e6f5d0"
            ],
            [
             0.7,
             "#b8e186"
            ],
            [
             0.8,
             "#7fbc41"
            ],
            [
             0.9,
             "#4d9221"
            ],
            [
             1,
             "#276419"
            ]
           ],
           "sequential": [
            [
             0,
             "#0d0887"
            ],
            [
             0.1111111111111111,
             "#46039f"
            ],
            [
             0.2222222222222222,
             "#7201a8"
            ],
            [
             0.3333333333333333,
             "#9c179e"
            ],
            [
             0.4444444444444444,
             "#bd3786"
            ],
            [
             0.5555555555555556,
             "#d8576b"
            ],
            [
             0.6666666666666666,
             "#ed7953"
            ],
            [
             0.7777777777777778,
             "#fb9f3a"
            ],
            [
             0.8888888888888888,
             "#fdca26"
            ],
            [
             1,
             "#f0f921"
            ]
           ],
           "sequentialminus": [
            [
             0,
             "#0d0887"
            ],
            [
             0.1111111111111111,
             "#46039f"
            ],
            [
             0.2222222222222222,
             "#7201a8"
            ],
            [
             0.3333333333333333,
             "#9c179e"
            ],
            [
             0.4444444444444444,
             "#bd3786"
            ],
            [
             0.5555555555555556,
             "#d8576b"
            ],
            [
             0.6666666666666666,
             "#ed7953"
            ],
            [
             0.7777777777777778,
             "#fb9f3a"
            ],
            [
             0.8888888888888888,
             "#fdca26"
            ],
            [
             1,
             "#f0f921"
            ]
           ]
          },
          "colorway": [
           "#636efa",
           "#EF553B",
           "#00cc96",
           "#ab63fa",
           "#FFA15A",
           "#19d3f3",
           "#FF6692",
           "#B6E880",
           "#FF97FF",
           "#FECB52"
          ],
          "font": {
           "color": "#2a3f5f"
          },
          "geo": {
           "bgcolor": "white",
           "lakecolor": "white",
           "landcolor": "#E5ECF6",
           "showlakes": true,
           "showland": true,
           "subunitcolor": "white"
          },
          "hoverlabel": {
           "align": "left"
          },
          "hovermode": "closest",
          "mapbox": {
           "style": "light"
          },
          "paper_bgcolor": "white",
          "plot_bgcolor": "#E5ECF6",
          "polar": {
           "angularaxis": {
            "gridcolor": "white",
            "linecolor": "white",
            "ticks": ""
           },
           "bgcolor": "#E5ECF6",
           "radialaxis": {
            "gridcolor": "white",
            "linecolor": "white",
            "ticks": ""
           }
          },
          "scene": {
           "xaxis": {
            "backgroundcolor": "#E5ECF6",
            "gridcolor": "white",
            "gridwidth": 2,
            "linecolor": "white",
            "showbackground": true,
            "ticks": "",
            "zerolinecolor": "white"
           },
           "yaxis": {
            "backgroundcolor": "#E5ECF6",
            "gridcolor": "white",
            "gridwidth": 2,
            "linecolor": "white",
            "showbackground": true,
            "ticks": "",
            "zerolinecolor": "white"
           },
           "zaxis": {
            "backgroundcolor": "#E5ECF6",
            "gridcolor": "white",
            "gridwidth": 2,
            "linecolor": "white",
            "showbackground": true,
            "ticks": "",
            "zerolinecolor": "white"
           }
          },
          "shapedefaults": {
           "line": {
            "color": "#2a3f5f"
           }
          },
          "ternary": {
           "aaxis": {
            "gridcolor": "white",
            "linecolor": "white",
            "ticks": ""
           },
           "baxis": {
            "gridcolor": "white",
            "linecolor": "white",
            "ticks": ""
           },
           "bgcolor": "#E5ECF6",
           "caxis": {
            "gridcolor": "white",
            "linecolor": "white",
            "ticks": ""
           }
          },
          "title": {
           "x": 0.05
          },
          "xaxis": {
           "automargin": true,
           "gridcolor": "white",
           "linecolor": "white",
           "ticks": "",
           "title": {
            "standoff": 15
           },
           "zerolinecolor": "white",
           "zerolinewidth": 2
          },
          "yaxis": {
           "automargin": true,
           "gridcolor": "white",
           "linecolor": "white",
           "ticks": "",
           "title": {
            "standoff": 15
           },
           "zerolinecolor": "white",
           "zerolinewidth": 2
          }
         }
        },
        "title": {
         "text": "Label B"
        },
        "width": 800,
        "xaxis": {
         "anchor": "y",
         "domain": [
          0,
          1
         ],
         "title": {
          "text": "Petrol"
         }
        },
        "yaxis": {
         "anchor": "x",
         "domain": [
          0,
          1
         ],
         "title": {
          "text": "count"
         }
        }
       }
      }
     },
     "metadata": {},
     "output_type": "display_data"
    }
   ],
   "source": [
    "import plotly.express as px\n",
    "\n",
    "fig = px.histogram(dataset, x=\"Crude_Rands\" , nbins=10, title=\"Feature\", width=800, height=400)\n",
    "fig1 = px.histogram(dataset, x=\"BFP\" , nbins=10, title=\"Label A\", width=800, height=400)\n",
    "fig2 = px.histogram(dataset, x=\"Petrol\" , nbins=10, title=\"Label B\", width=800, height=400)\n",
    "fig.show()\n",
    "fig1.show()\n",
    "fig2.show() \n"
   ]
  },
  {
   "cell_type": "code",
   "execution_count": 3,
   "metadata": {},
   "outputs": [
    {
     "data": {
      "text/plain": [
       "<AxesSubplot:ylabel='Petrol'>"
      ]
     },
     "execution_count": 3,
     "metadata": {},
     "output_type": "execute_result"
    },
    {
     "data": {
      "image/png": "[encoded data removed]",
      "text/plain": [
       "<Figure size 1080x360 with 3 Axes>"
      ]
     },
     "metadata": {
      "needs_background": "light"
     },
     "output_type": "display_data"
    }
   ],
   "source": [
    "import matplotlib.pyplot as plt\n",
    "import seaborn as sns \n",
    "#define dimensions of subplots (rows, columns)\n",
    "fig, axes = plt.subplots(1, 3, figsize=(15,5))\n",
    "\n",
    "#create chart in each subplot\n",
    "sns.boxplot(data=dataset, y='Crude_Rands', ax=axes[0])\n",
    "sns.boxplot(data=dataset, y='BFP', ax=axes[1])\n",
    "sns.boxplot(data=dataset, y='Petrol', ax=axes[2])"
   ]
  },
  {
   "cell_type": "code",
   "execution_count": 4,
   "metadata": {},
   "outputs": [
    {
     "data": {
      "text/plain": [
       "<AxesSubplot:xlabel='Petrol', ylabel='Count'>"
      ]
     },
     "execution_count": 4,
     "metadata": {},
     "output_type": "execute_result"
    },
    {
     "data": {
      "image/png": "[encoded data removed]",
      "text/plain": [
       "<Figure size 1080x360 with 3 Axes>"
      ]
     },
     "metadata": {
      "needs_background": "light"
     },
     "output_type": "display_data"
    }
   ],
   "source": [
    "#define dimensions of subplots (rows, columns)\n",
    "fig, axes = plt.subplots(1, 3, figsize=(15,5))\n",
    "\n",
    "#create chart in each subplot\n",
    "sns.histplot(data=dataset, x='Crude_Rands', ax=axes[0])\n",
    "sns.histplot(data=dataset, x='BFP', ax=axes[1])\n",
    "sns.histplot(data=dataset, x='Petrol', ax=axes[2])"
   ]
  },
  {
   "cell_type": "code",
   "execution_count": 5,
   "metadata": {},
   "outputs": [
    {
     "data": {
      "text/plain": [
       "Text(0.5, 1.0, 'Oil Price(Rand) vs Petrol Price')"
      ]
     },
     "execution_count": 5,
     "metadata": {},
     "output_type": "execute_result"
    },
    {
     "data": {
      "image/png": "[encoded data removed]",
      "text/plain": [
       "<Figure size 1080x360 with 2 Axes>"
      ]
     },
     "metadata": {
      "needs_background": "light"
     },
     "output_type": "display_data"
    }
   ],
   "source": [
    "#define dimensions of subplots (rows, columns)\n",
    "fig, axes = plt.subplots(1, 2, figsize=(15,5))\n",
    "\n",
    "#create chart in each subplot\n",
    "sns.scatterplot(data=dataset, x='Crude_Rands',y='BFP', ax=axes[0])\n",
    "axes[0].set_title('Oil Price(Rand) vs BFP')\n",
    "\n",
    "\n",
    "sns.scatterplot(data=dataset, x='Crude_Rands', y='Petrol', ax=axes[1])\n",
    "axes[1].set_title('Oil Price(Rand) vs Petrol Price')\n"
   ]
  },
  {
   "cell_type": "markdown",
   "metadata": {},
   "source": [
    "### Simple Linear Regression"
   ]
  },
  {
   "cell_type": "markdown",
   "metadata": {},
   "source": [
    "1. BFP"
   ]
  },
  {
   "cell_type": "code",
   "execution_count": 6,
   "metadata": {},
   "outputs": [
    {
     "data": {
      "application/vnd.plotly.v1+json": {
       "config": {
        "plotlyServerURL": "https://plot.ly"
       },
       "data": [
        {
         "hovertemplate": "Crude_Rands=%{x}<br>BFP=%{y}<extra></extra>",
         "legendgroup": "",
         "marker": {
          "color": "#636efa",
          "symbol": "circle"
         },
         "mode": "markers",
         "name": "",
         "orientation": "v",
         "showlegend": false,
         "type": "scatter",
         "x": [
          559.1530260000001,
          574.26374,
          562.6919340000001,
          589.726417,
          632.397675,
          584.26725,
          572.318388,
          596.0560760000001,
          566.3245420000001,
          555.9730830000001,
          573.931102,
          594.066005,
          626.40377,
          662.029851,
          740.483158,
          795.286792,
          836.0396489999999,
          795.81334,
          780.522907,
          796.3501919999999,
          781.2195300000001,
          859.539177,
          874.3711360000001,
          899.5292979999999,
          886.5891119999999,
          892.6463219999999,
          970.54881,
          955.612606,
          943.8456480000001,
          893.528837,
          801.6476580000001,
          843.4320280000002,
          939.386058,
          938.4151999999999,
          943.053495,
          962.2998080000001,
          947.6085289999999,
          989.156152,
          1035.671076,
          996.9106079999999,
          935.765168,
          954.2325940000001,
          1033.408308,
          1073.4551399999998,
          1121.007296,
          1122.6030210000001,
          1085.220224,
          1101.0686219999998,
          1146.952413,
          1171.3176749999998,
          1198.157898,
          1159.552065,
          1143.493656,
          1141.236698,
          1191.4653660000001,
          1136.878376,
          1084.574617,
          1043.570713,
          971.7290160000001,
          884.977775,
          630.890002,
          558.0451400000001,
          671.35077,
          675.693453,
          710.8285589999999,
          768.805944,
          763.076024,
          704.054016,
          598.8035040000001,
          658.947636,
          654.537772,
          624.778154,
          568.786218,
          503.379908,
          506.79855200000003,
          595.267095,
          604.657056,
          707.9354880000001,
          732.607202,
          653.874896,
          634.0455039999999,
          652.66562,
          696.274956,
          730.1279999999999,
          741.2820150000001,
          741.674793,
          730.811601,
          665.370496,
          718.8937050000001,
          663.730522,
          598.457888,
          634.2244999999999,
          682.6972319999999,
          735.2438830000001,
          774.49006,
          882.7165679999999,
          847.7976239999999,
          842.732274,
          756.9778020000001,
          778.5912189999999,
          849.1211359999999,
          960.76032,
          985.2384650000001,
          1000.5134509999999,
          1011.00693,
          1157.309675,
          1175.7985800000001,
          927.132417,
          809.268824,
          823.745256,
          883.8573140000001,
          949.980213,
          1006.0681150000001,
          1027.481383,
          933.9518489999999,
          901.1004360000001,
          894.745913,
          933.340416,
          891.5777959999999,
          932.929174,
          970.1975840000001,
          924.1302000000001,
          834.32473,
          556.66534,
          350.88012899999995,
          521.7037650000001,
          682.8574769999999,
          730.472028,
          774.552348,
          650.6743660000001,
          665.4283340999999,
          651.666806,
          734.9988000000001,
          801.1197,
          885.78,
          973.843,
          926.9836799999999,
          931.26,
          1016.16,
          1084.1000000000001,
          1070.825,
          1099.28,
          1227.6480000000001,
          1323.475,
          1209.92,
          1349.37,
          1469.2381
         ],
         "xaxis": "x",
         "y": [
          406.263,
          424.263,
          430.563,
          453.063,
          465.063,
          438.063,
          420.063,
          410.063,
          400.063,
          396.563,
          416.563,
          429.563,
          453.949,
          479.949,
          522.949,
          552.149,
          581.149,
          579.149,
          548.149,
          565.149,
          574.149,
          606.149,
          629.149,
          603.55,
          598.55,
          632.55,
          656.17,
          694.57,
          718.17,
          660.99,
          582.57,
          608.95,
          698.45,
          708.29,
          696.09,
          673.19,
          664.77,
          707.97,
          784.59,
          760.43,
          693.99,
          696.97,
          778.77,
          799.81,
          796.99,
          772.09,
          746.29,
          756.37,
          792.19,
          828.99,
          862.79,
          848.59,
          842.37,
          826.95,
          857.95,
          853.57,
          786.75,
          781.75,
          736.75,
          656.25,
          533.25,
          440.25,
          536.25,
          615.65,
          615.65,
          662.65,
          703.65,
          652.47,
          578.87,
          582.87,
          560.87,
          553.97,
          550.97,
          556.97,
          487.97,
          540.97,
          552.97,
          604.97,
          612.97,
          513.97,
          495.97,
          538.97,
          583.97,
          543.87,
          591.87,
          620.87,
          612.87,
          548.67,
          597.67,
          572.67,
          504.67,
          523.67,
          586.07,
          615.07,
          619.07,
          686.17,
          652.17,
          622.17,
          586.17,
          596.07,
          645.07,
          727.07,
          750.07,
          751.07,
          751.17,
          851.17,
          829.25,
          637.55,
          536.47,
          543.47,
          617.47,
          723.17,
          777.17,
          764.01,
          677.79,
          693.17,
          704.17,
          722.17,
          709.17,
          719.57,
          699.97,
          686.97,
          667.97,
          448.67,
          274.77,
          392.77,
          564.774,
          569.77,
          565.47,
          533.47,
          506.47,
          479.17,
          519.17,
          600.17,
          665.17,
          736.17,
          727.17,
          717.17,
          743.17,
          827.59,
          817.11,
          818.31,
          937.11,
          973.97,
          903.47,
          969.63,
          1100.27
         ],
         "yaxis": "y"
        },
        {
         "hovertemplate": "<b>OLS trendline</b><br>BFP = 0.637867 * Crude_Rands + 102.272<br>R<sup>2</sup>=0.907839<br><br>Crude_Rands=%{x}<br>BFP=%{y} <b>(trend)</b><extra></extra>",
         "legendgroup": "",
         "line": {
          "color": "red"
         },
         "marker": {
          "color": "#636efa",
          "symbol": "circle"
         },
         "mode": "lines",
         "name": "",
         "showlegend": false,
         "type": "scatter",
         "x": [
          350.88012899999995,
          503.379908,
          506.79855200000003,
          521.7037650000001,
          555.9730830000001,
          556.66534,
          558.0451400000001,
          559.1530260000001,
          562.6919340000001,
          566.3245420000001,
          568.786218,
          572.318388,
          573.931102,
          574.26374,
          584.26725,
          589.726417,
          594.066005,
          595.267095,
          596.0560760000001,
          598.457888,
          598.8035040000001,
          604.657056,
          624.778154,
          626.40377,
          630.890002,
          632.397675,
          634.0455039999999,
          634.2244999999999,
          650.6743660000001,
          651.666806,
          652.66562,
          653.874896,
          654.537772,
          658.947636,
          662.029851,
          663.730522,
          665.370496,
          665.4283340999999,
          671.35077,
          675.693453,
          682.6972319999999,
          682.8574769999999,
          696.274956,
          704.054016,
          707.9354880000001,
          710.8285589999999,
          718.8937050000001,
          730.1279999999999,
          730.472028,
          730.811601,
          732.607202,
          734.9988000000001,
          735.2438830000001,
          740.483158,
          741.2820150000001,
          741.674793,
          756.9778020000001,
          763.076024,
          768.805944,
          774.49006,
          774.552348,
          778.5912189999999,
          780.522907,
          781.2195300000001,
          795.286792,
          795.81334,
          796.3501919999999,
          801.1197,
          801.6476580000001,
          809.268824,
          823.745256,
          834.32473,
          836.0396489999999,
          842.732274,
          843.4320280000002,
          847.7976239999999,
          849.1211359999999,
          859.539177,
          874.3711360000001,
          882.7165679999999,
          883.8573140000001,
          884.977775,
          885.78,
          886.5891119999999,
          891.5777959999999,
          892.6463219999999,
          893.528837,
          894.745913,
          899.5292979999999,
          901.1004360000001,
          924.1302000000001,
          926.9836799999999,
          927.132417,
          931.26,
          932.929174,
          933.340416,
          933.9518489999999,
          935.765168,
          938.4151999999999,
          939.386058,
          943.053495,
          943.8456480000001,
          947.6085289999999,
          949.980213,
          954.2325940000001,
          955.612606,
          960.76032,
          962.2998080000001,
          970.1975840000001,
          970.54881,
          971.7290160000001,
          973.843,
          985.2384650000001,
          989.156152,
          996.9106079999999,
          1000.5134509999999,
          1006.0681150000001,
          1011.00693,
          1016.16,
          1027.481383,
          1033.408308,
          1035.671076,
          1043.570713,
          1070.825,
          1073.4551399999998,
          1084.1000000000001,
          1084.574617,
          1085.220224,
          1099.28,
          1101.0686219999998,
          1121.007296,
          1122.6030210000001,
          1136.878376,
          1141.236698,
          1143.493656,
          1146.952413,
          1157.309675,
          1159.552065,
          1171.3176749999998,
          1175.7985800000001,
          1191.4653660000001,
          1198.157898,
          1209.92,
          1227.6480000000001,
          1323.475,
          1349.37,
          1469.2381
         ],
         "xaxis": "x",
         "y": [
          326.0870777011796,
          423.3617298881792,
          425.5423717765269,
          435.0499226717197,
          456.90920673753914,
          457.3507749767889,
          458.2309045479119,
          458.9375890166995,
          461.1949434015986,
          463.51206597088253,
          465.08228907721946,
          467.33534551092987,
          468.3640433520402,
          468.5762223202089,
          474.95713619615077,
          478.4393613812492,
          481.20744351292814,
          481.9735797838226,
          482.4768451187655,
          484.00888292531573,
          484.2293401378489,
          487.9631306953979,
          500.7977250955021,
          501.8346527030472,
          504.6962742758246,
          505.6579698772768,
          506.70906643551274,
          506.8232421658452,
          517.3160770024961,
          517.9491222203285,
          518.5862332055813,
          519.3575910597988,
          519.7804181141455,
          522.5933270219806,
          524.559371786482,
          525.6441745389469,
          526.6902606480011,
          526.7271536920274,
          530.5048830503913,
          533.2749393819706,
          537.7424223559597,
          537.8446374328728,
          546.4032111666181,
          551.3652206908537,
          553.8410855166878,
          555.6864814715061,
          560.8309759562317,
          567.9969675783648,
          568.2164118573141,
          568.4330144365683,
          569.5783699504384,
          571.1038925783836,
          571.260223057931,
          574.6021862835763,
          575.1117511979107,
          575.362291517295,
          585.1235835509676,
          589.0134411487882,
          592.668370872059,
          596.2940837125384,
          596.3338152031356,
          598.9100797349888,
          600.1422407228013,
          600.586593891539,
          609.5596430805047,
          609.8955109348428,
          610.2379513758606,
          613.2802655014641,
          613.6170327489717,
          618.4783268227775,
          627.7123722551237,
          634.460674845591,
          635.5545659341406,
          639.8235738852472,
          640.2699242171154,
          643.0545960066329,
          643.8988212921352,
          650.5441510191042,
          660.0049755687376,
          665.3282553824758,
          666.0559001771853,
          666.7706058297365,
          667.2823190817978,
          667.7984253273046,
          670.9805446992341,
          671.662122703375,
          672.2250503366984,
          673.0013835573857,
          676.0525493702326,
          677.0547272323249,
          691.7446651308492,
          693.5648072736294,
          693.6596817713973,
          696.2925328045649,
          697.357244644505,
          697.6195625493376,
          698.0095757860822,
          699.1662330362485,
          700.8566023126814,
          701.475881074213,
          703.8152199305187,
          704.3205085811594,
          706.7207280627629,
          708.2335481973907,
          710.946003818337,
          711.8262686173691,
          715.1098280572037,
          716.0918174130445,
          721.1295520149474,
          721.3535876641336,
          722.1064027102395,
          723.4548443911212,
          730.7236411176013,
          733.2226063148069,
          738.168921747168,
          740.4670581904304,
          744.0101978078044,
          747.1605073655705,
          750.4474832237142,
          757.669025450348,
          761.4496182596886,
          762.8929644181108,
          767.9318860914238,
          785.3165098981881,
          786.9941907143884,
          793.7842009089561,
          794.086943666354,
          794.4987553869105,
          803.4670294998004,
          804.607933336415,
          817.3261653964105,
          818.3440265066295,
          827.4498114564617,
          830.2298433978126,
          831.6694835460823,
          833.8757122133013,
          840.4822729917246,
          841.9126206863111,
          849.417520877136,
          852.275744529762,
          862.2690780875644,
          866.538026716994,
          874.0406892686426,
          885.3488042395577,
          946.4737327886253,
          962.991311600214,
          1039.4512764098447
         ],
         "yaxis": "y"
        }
       ],
       "layout": {
        "legend": {
         "tracegroupgap": 0
        },
        "margin": {
         "t": 60
        },
        "template": {
         "data": {
          "bar": [
           {
            "error_x": {
             "color": "#2a3f5f"
            },
            "error_y": {
             "color": "#2a3f5f"
            },
            "marker": {
             "line": {
              "color": "#E5ECF6",
              "width": 0.5
             },
             "pattern": {
              "fillmode": "overlay",
              "size": 10,
              "solidity": 0.2
             }
            },
            "type": "bar"
           }
          ],
          "barpolar": [
           {
            "marker": {
             "line": {
              "color": "#E5ECF6",
              "width": 0.5
             },
             "pattern": {
              "fillmode": "overlay",
              "size": 10,
              "solidity": 0.2
             }
            },
            "type": "barpolar"
           }
          ],
          "carpet": [
           {
            "aaxis": {
             "endlinecolor": "#2a3f5f",
             "gridcolor": "white",
             "linecolor": "white",
             "minorgridcolor": "white",
             "startlinecolor": "#2a3f5f"
            },
            "baxis": {
             "endlinecolor": "#2a3f5f",
             "gridcolor": "white",
             "linecolor": "white",
             "minorgridcolor": "white",
             "startlinecolor": "#2a3f5f"
            },
            "type": "carpet"
           }
          ],
          "choropleth": [
           {
            "colorbar": {
             "outlinewidth": 0,
             "ticks": ""
            },
            "type": "choropleth"
           }
          ],
          "contour": [
           {
            "colorbar": {
             "outlinewidth": 0,
             "ticks": ""
            },
            "colorscale": [
             [
              0,
              "#0d0887"
             ],
             [
              0.1111111111111111,
              "#46039f"
             ],
             [
              0.2222222222222222,
              "#7201a8"
             ],
             [
              0.3333333333333333,
              "#9c179e"
             ],
             [
              0.4444444444444444,
              "#bd3786"
             ],
             [
              0.5555555555555556,
              "#d8576b"
             ],
             [
              0.6666666666666666,
              "#ed7953"
             ],
             [
              0.7777777777777778,
              "#fb9f3a"
             ],
             [
              0.8888888888888888,
              "#fdca26"
             ],
             [
              1,
              "#f0f921"
             ]
            ],
            "type": "contour"
           }
          ],
          "contourcarpet": [
           {
            "colorbar": {
             "outlinewidth": 0,
             "ticks": ""
            },
            "type": "contourcarpet"
           }
          ],
          "heatmap": [
           {
            "colorbar": {
             "outlinewidth": 0,
             "ticks": ""
            },
            "colorscale": [
             [
              0,
              "#0d0887"
             ],
             [
              0.1111111111111111,
              "#46039f"
             ],
             [
              0.2222222222222222,
              "#7201a8"
             ],
             [
              0.3333333333333333,
              "#9c179e"
             ],
             [
              0.4444444444444444,
              "#bd3786"
             ],
             [
              0.5555555555555556,
              "#d8576b"
             ],
             [
              0.6666666666666666,
              "#ed7953"
             ],
             [
              0.7777777777777778,
              "#fb9f3a"
             ],
             [
              0.8888888888888888,
              "#fdca26"
             ],
             [
              1,
              "#f0f921"
             ]
            ],
            "type": "heatmap"
           }
          ],
          "heatmapgl": [
           {
            "colorbar": {
             "outlinewidth": 0,
             "ticks": ""
            },
            "colorscale": [
             [
              0,
              "#0d0887"
             ],
             [
              0.1111111111111111,
              "#46039f"
             ],
             [
              0.2222222222222222,
              "#7201a8"
             ],
             [
              0.3333333333333333,
              "#9c179e"
             ],
             [
              0.4444444444444444,
              "#bd3786"
             ],
             [
              0.5555555555555556,
              "#d8576b"
             ],
             [
              0.6666666666666666,
              "#ed7953"
             ],
             [
              0.7777777777777778,
              "#fb9f3a"
             ],
             [
              0.8888888888888888,
              "#fdca26"
             ],
             [
              1,
              "#f0f921"
             ]
            ],
            "type": "heatmapgl"
           }
          ],
          "histogram": [
           {
            "marker": {
             "pattern": {
              "fillmode": "overlay",
              "size": 10,
              "solidity": 0.2
             }
            },
            "type": "histogram"
           }
          ],
          "histogram2d": [
           {
            "colorbar": {
             "outlinewidth": 0,
             "ticks": ""
            },
            "colorscale": [
             [
              0,
              "#0d0887"
             ],
             [
              0.1111111111111111,
              "#46039f"
             ],
             [
              0.2222222222222222,
              "#7201a8"
             ],
             [
              0.3333333333333333,
              "#9c179e"
             ],
             [
              0.4444444444444444,
              "#bd3786"
             ],
             [
              0.5555555555555556,
              "#d8576b"
             ],
             [
              0.6666666666666666,
              "#ed7953"
             ],
             [
              0.7777777777777778,
              "#fb9f3a"
             ],
             [
              0.8888888888888888,
              "#fdca26"
             ],
             [
              1,
              "#f0f921"
             ]
            ],
            "type": "histogram2d"
           }
          ],
          "histogram2dcontour": [
           {
            "colorbar": {
             "outlinewidth": 0,
             "ticks": ""
            },
            "colorscale": [
             [
              0,
              "#0d0887"
             ],
             [
              0.1111111111111111,
              "#46039f"
             ],
             [
              0.2222222222222222,
              "#7201a8"
             ],
             [
              0.3333333333333333,
              "#9c179e"
             ],
             [
              0.4444444444444444,
              "#bd3786"
             ],
             [
              0.5555555555555556,
              "#d8576b"
             ],
             [
              0.6666666666666666,
              "#ed7953"
             ],
             [
              0.7777777777777778,
              "#fb9f3a"
             ],
             [
              0.8888888888888888,
              "#fdca26"
             ],
             [
              1,
              "#f0f921"
             ]
            ],
            "type": "histogram2dcontour"
           }
          ],
          "mesh3d": [
           {
            "colorbar": {
             "outlinewidth": 0,
             "ticks": ""
            },
            "type": "mesh3d"
           }
          ],
          "parcoords": [
           {
            "line": {
             "colorbar": {
              "outlinewidth": 0,
              "ticks": ""
             }
            },
            "type": "parcoords"
           }
          ],
          "pie": [
           {
            "automargin": true,
            "type": "pie"
           }
          ],
          "scatter": [
           {
            "marker": {
             "colorbar": {
              "outlinewidth": 0,
              "ticks": ""
             }
            },
            "type": "scatter"
           }
          ],
          "scatter3d": [
           {
            "line": {
             "colorbar": {
              "outlinewidth": 0,
              "ticks": ""
             }
            },
            "marker": {
             "colorbar": {
              "outlinewidth": 0,
              "ticks": ""
             }
            },
            "type": "scatter3d"
           }
          ],
          "scattercarpet": [
           {
            "marker": {
             "colorbar": {
              "outlinewidth": 0,
              "ticks": ""
             }
            },
            "type": "scattercarpet"
           }
          ],
          "scattergeo": [
           {
            "marker": {
             "colorbar": {
              "outlinewidth": 0,
              "ticks": ""
             }
            },
            "type": "scattergeo"
           }
          ],
          "scattergl": [
           {
            "marker": {
             "colorbar": {
              "outlinewidth": 0,
              "ticks": ""
             }
            },
            "type": "scattergl"
           }
          ],
          "scattermapbox": [
           {
            "marker": {
             "colorbar": {
              "outlinewidth": 0,
              "ticks": ""
             }
            },
            "type": "scattermapbox"
           }
          ],
          "scatterpolar": [
           {
            "marker": {
             "colorbar": {
              "outlinewidth": 0,
              "ticks": ""
             }
            },
            "type": "scatterpolar"
           }
          ],
          "scatterpolargl": [
           {
            "marker": {
             "colorbar": {
              "outlinewidth": 0,
              "ticks": ""
             }
            },
            "type": "scatterpolargl"
           }
          ],
          "scatterternary": [
           {
            "marker": {
             "colorbar": {
              "outlinewidth": 0,
              "ticks": ""
             }
            },
            "type": "scatterternary"
           }
          ],
          "surface": [
           {
            "colorbar": {
             "outlinewidth": 0,
             "ticks": ""
            },
            "colorscale": [
             [
              0,
              "#0d0887"
             ],
             [
              0.1111111111111111,
              "#46039f"
             ],
             [
              0.2222222222222222,
              "#7201a8"
             ],
             [
              0.3333333333333333,
              "#9c179e"
             ],
             [
              0.4444444444444444,
              "#bd3786"
             ],
             [
              0.5555555555555556,
              "#d8576b"
             ],
             [
              0.6666666666666666,
              "#ed7953"
             ],
             [
              0.7777777777777778,
              "#fb9f3a"
             ],
             [
              0.8888888888888888,
              "#fdca26"
             ],
             [
              1,
              "#f0f921"
             ]
            ],
            "type": "surface"
           }
          ],
          "table": [
           {
            "cells": {
             "fill": {
              "color": "#EBF0F8"
             },
             "line": {
              "color": "white"
             }
            },
            "header": {
             "fill": {
              "color": "#C8D4E3"
             },
             "line": {
              "color": "white"
             }
            },
            "type": "table"
           }
          ]
         },
         "layout": {
          "annotationdefaults": {
           "arrowcolor": "#2a3f5f",
           "arrowhead": 0,
           "arrowwidth": 1
          },
          "autotypenumbers": "strict",
          "coloraxis": {
           "colorbar": {
            "outlinewidth": 0,
            "ticks": ""
           }
          },
          "colorscale": {
           "diverging": [
            [
             0,
             "#8e0152"
            ],
            [
             0.1,
             "#c51b7d"
            ],
            [
             0.2,
             "#de77ae"
            ],
            [
             0.3,
             "#f1b6da"
            ],
            [
             0.4,
             "#fde0ef"
            ],
            [
             0.5,
             "#f7f7f7"
            ],
            [
             0.6,
             "#e6f5d0"
            ],
            [
             0.7,
             "#b8e186"
            ],
            [
             0.8,
             "#7fbc41"
            ],
            [
             0.9,
             "#4d9221"
            ],
            [
             1,
             "#276419"
            ]
           ],
           "sequential": [
            [
             0,
             "#0d0887"
            ],
            [
             0.1111111111111111,
             "#46039f"
            ],
            [
             0.2222222222222222,
             "#7201a8"
            ],
            [
             0.3333333333333333,
             "#9c179e"
            ],
            [
             0.4444444444444444,
             "#bd3786"
            ],
            [
             0.5555555555555556,
             "#d8576b"
            ],
            [
             0.6666666666666666,
             "#ed7953"
            ],
            [
             0.7777777777777778,
             "#fb9f3a"
            ],
            [
             0.8888888888888888,
             "#fdca26"
            ],
            [
             1,
             "#f0f921"
            ]
           ],
           "sequentialminus": [
            [
             0,
             "#0d0887"
            ],
            [
             0.1111111111111111,
             "#46039f"
            ],
            [
             0.2222222222222222,
             "#7201a8"
            ],
            [
             0.3333333333333333,
             "#9c179e"
            ],
            [
             0.4444444444444444,
             "#bd3786"
            ],
            [
             0.5555555555555556,
             "#d8576b"
            ],
            [
             0.6666666666666666,
             "#ed7953"
            ],
            [
             0.7777777777777778,
             "#fb9f3a"
            ],
            [
             0.8888888888888888,
             "#fdca26"
            ],
            [
             1,
             "#f0f921"
            ]
           ]
          },
          "colorway": [
           "#636efa",
           "#EF553B",
           "#00cc96",
           "#ab63fa",
           "#FFA15A",
           "#19d3f3",
           "#FF6692",
           "#B6E880",
           "#FF97FF",
           "#FECB52"
          ],
          "font": {
           "color": "#2a3f5f"
          },
          "geo": {
           "bgcolor": "white",
           "lakecolor": "white",
           "landcolor": "#E5ECF6",
           "showlakes": true,
           "showland": true,
           "subunitcolor": "white"
          },
          "hoverlabel": {
           "align": "left"
          },
          "hovermode": "closest",
          "mapbox": {
           "style": "light"
          },
          "paper_bgcolor": "white",
          "plot_bgcolor": "#E5ECF6",
          "polar": {
           "angularaxis": {
            "gridcolor": "white",
            "linecolor": "white",
            "ticks": ""
           },
           "bgcolor": "#E5ECF6",
           "radialaxis": {
            "gridcolor": "white",
            "linecolor": "white",
            "ticks": ""
           }
          },
          "scene": {
           "xaxis": {
            "backgroundcolor": "#E5ECF6",
            "gridcolor": "white",
            "gridwidth": 2,
            "linecolor": "white",
            "showbackground": true,
            "ticks": "",
            "zerolinecolor": "white"
           },
           "yaxis": {
            "backgroundcolor": "#E5ECF6",
            "gridcolor": "white",
            "gridwidth": 2,
            "linecolor": "white",
            "showbackground": true,
            "ticks": "",
            "zerolinecolor": "white"
           },
           "zaxis": {
            "backgroundcolor": "#E5ECF6",
            "gridcolor": "white",
            "gridwidth": 2,
            "linecolor": "white",
            "showbackground": true,
            "ticks": "",
            "zerolinecolor": "white"
           }
          },
          "shapedefaults": {
           "line": {
            "color": "#2a3f5f"
           }
          },
          "ternary": {
           "aaxis": {
            "gridcolor": "white",
            "linecolor": "white",
            "ticks": ""
           },
           "baxis": {
            "gridcolor": "white",
            "linecolor": "white",
            "ticks": ""
           },
           "bgcolor": "#E5ECF6",
           "caxis": {
            "gridcolor": "white",
            "linecolor": "white",
            "ticks": ""
           }
          },
          "title": {
           "x": 0.05
          },
          "xaxis": {
           "automargin": true,
           "gridcolor": "white",
           "linecolor": "white",
           "ticks": "",
           "title": {
            "standoff": 15
           },
           "zerolinecolor": "white",
           "zerolinewidth": 2
          },
          "yaxis": {
           "automargin": true,
           "gridcolor": "white",
           "linecolor": "white",
           "ticks": "",
           "title": {
            "standoff": 15
           },
           "zerolinecolor": "white",
           "zerolinewidth": 2
          }
         }
        },
        "xaxis": {
         "anchor": "y",
         "domain": [
          0,
          1
         ],
         "title": {
          "text": "Crude_Rands"
         }
        },
        "yaxis": {
         "anchor": "x",
         "domain": [
          0,
          1
         ],
         "title": {
          "text": "BFP"
         }
        }
       }
      }
     },
     "metadata": {},
     "output_type": "display_data"
    }
   ],
   "source": [
    "import plotly.express as px\n",
    "\n",
    "#Show a graph of the result\n",
    "fig = px.scatter(dataset, x='Crude_Rands', y='BFP', trendline='ols', trendline_color_override='red')\n",
    "fig.show()\n"
   ]
  },
  {
   "cell_type": "code",
   "execution_count": 7,
   "metadata": {},
   "outputs": [
    {
     "name": "stdout",
     "output_type": "stream",
     "text": [
      "R-squared: BFP 0.9078394437852623\n",
      "R-squared: Petrol Price 0.3967854491249848\n"
     ]
    }
   ],
   "source": [
    "import statsmodels.formula.api as smf\n",
    "# First, we define our formula using a special syntax\n",
    "# This says BFP is explained by Oil_Rand\n",
    "formula = \"BFP ~ Crude_Rands\"\n",
    "\n",
    "# Perform linear regression. This method takes care of\n",
    "# the entire fitting procedure for us.\n",
    "model = smf.ols(formula = formula, data = dataset).fit()\n",
    "\n",
    "\n",
    "# Lets do the same to Petrol Price\n",
    "petrol_formula = 'Petrol ~ Crude_Rands'\n",
    "petrol_model = smf.ols(formula = petrol_formula, data = dataset).fit()\n",
    "\n",
    "print(\"R-squared: BFP\", model.rsquared)\n",
    "print(\"R-squared: Petrol Price\", petrol_model.rsquared)"
   ]
  },
  {
   "cell_type": "markdown",
   "metadata": {},
   "source": [
    "2. Petrol"
   ]
  },
  {
   "cell_type": "code",
   "execution_count": 8,
   "metadata": {},
   "outputs": [
    {
     "data": {
      "application/vnd.plotly.v1+json": {
       "config": {
        "plotlyServerURL": "https://plot.ly"
       },
       "data": [
        {
         "hovertemplate": "Crude_Rands=%{x}<br>Petrol=%{y}<extra></extra>",
         "legendgroup": "",
         "marker": {
          "color": "#636efa",
          "symbol": "circle"
         },
         "mode": "markers",
         "name": "",
         "orientation": "v",
         "showlegend": false,
         "type": "scatter",
         "x": [
          559.1530260000001,
          574.26374,
          562.6919340000001,
          589.726417,
          632.397675,
          584.26725,
          572.318388,
          596.0560760000001,
          566.3245420000001,
          555.9730830000001,
          573.931102,
          594.066005,
          626.40377,
          662.029851,
          740.483158,
          795.286792,
          836.0396489999999,
          795.81334,
          780.522907,
          796.3501919999999,
          781.2195300000001,
          859.539177,
          874.3711360000001,
          899.5292979999999,
          886.5891119999999,
          892.6463219999999,
          970.54881,
          955.612606,
          943.8456480000001,
          893.528837,
          801.6476580000001,
          843.4320280000002,
          939.386058,
          938.4151999999999,
          943.053495,
          962.2998080000001,
          947.6085289999999,
          989.156152,
          1035.671076,
          996.9106079999999,
          935.765168,
          954.2325940000001,
          1033.408308,
          1073.4551399999998,
          1121.007296,
          1122.6030210000001,
          1085.220224,
          1101.0686219999998,
          1146.952413,
          1171.3176749999998,
          1198.157898,
          1159.552065,
          1143.493656,
          1141.236698,
          1191.4653660000001,
          1136.878376,
          1084.574617,
          1043.570713,
          971.7290160000001,
          884.977775,
          630.890002,
          558.0451400000001,
          671.35077,
          675.693453,
          710.8285589999999,
          768.805944,
          763.076024,
          704.054016,
          598.8035040000001,
          658.947636,
          654.537772,
          624.778154,
          568.786218,
          503.379908,
          506.79855200000003,
          595.267095,
          604.657056,
          707.9354880000001,
          732.607202,
          653.874896,
          634.0455039999999,
          652.66562,
          696.274956,
          730.1279999999999,
          741.2820150000001,
          741.674793,
          730.811601,
          665.370496,
          718.8937050000001,
          663.730522,
          598.457888,
          634.2244999999999,
          682.6972319999999,
          735.2438830000001,
          774.49006,
          882.7165679999999,
          847.7976239999999,
          842.732274,
          756.9778020000001,
          778.5912189999999,
          849.1211359999999,
          960.76032,
          985.2384650000001,
          1000.5134509999999,
          1011.00693,
          1157.309675,
          1175.7985800000001,
          927.132417,
          809.268824,
          823.745256,
          883.8573140000001,
          949.980213,
          1006.0681150000001,
          1027.481383,
          933.9518489999999,
          901.1004360000001,
          894.745913,
          933.340416,
          891.5777959999999,
          932.929174,
          970.1975840000001,
          924.1302000000001,
          834.32473,
          556.66534,
          350.88012899999995,
          521.7037650000001,
          682.8574769999999,
          730.472028,
          774.552348,
          650.6743660000001,
          665.4283340999999,
          651.666806,
          734.9988000000001,
          801.1197,
          885.78,
          973.843,
          926.9836799999999,
          931.26,
          1016.16,
          1084.1000000000001,
          1070.825,
          1099.28,
          1227.6480000000001,
          1323.475,
          1209.92,
          1349.37,
          1469.2381
         ],
         "xaxis": "x",
         "y": [
          785.9999999999999,
          803.9999999999999,
          810.3,
          858.3,
          871.8,
          844.8,
          826.8,
          816.8,
          806.8,
          811.8,
          831.8,
          844.8,
          872.8000000000001,
          898.8000000000001,
          941.8,
          996.4,
          1025.4,
          1023.4,
          992.4,
          1009.4,
          1018.4,
          1054.4,
          1077.4,
          1056.8,
          1061.3999999999999,
          1095.3999999999999,
          1123.4,
          1193.7,
          1221.7,
          1166.7,
          1081.7,
          1103.7,
          1193.7,
          1216.7,
          1206.6999999999998,
          1197.6999999999998,
          1185.6999999999998,
          1226.7,
          1307.7000000000003,
          1319.6000000000001,
          1246.6000000000001,
          1238.6000000000004,
          1322.6000000000001,
          1354.6000000000001,
          1346.6000000000001,
          1326.6000000000001,
          1298.6000000000001,
          1315.6,
          1356.6000000000001,
          1395.6000000000001,
          1431.6,
          1441.7,
          1426.6999999999998,
          1404.7,
          1435.7,
          1435.7000000000003,
          1368.7,
          1363.7,
          1318.7,
          1248.4999999999998,
          1123.6,
          1030.6,
          1126.6,
          1288.7,
          1288.7,
          1335.7,
          1376.7,
          1325.6999999999998,
          1246.7,
          1250.7,
          1228.7,
          1229.7,
          1226.7,
          1232.7,
          1163.7,
          1252.4,
          1264.4,
          1316.4,
          1324.4,
          1225.4,
          1207.4,
          1250.4,
          1295.4,
          1275.3999999999999,
          1333.3999999999999,
          1362.3999999999999,
          1354.3999999999999,
          1329.7,
          1378.7,
          1353.7,
          1285.7,
          1304.7,
          1371.7,
          1400.7,
          1404.7,
          1458.7,
          1441.7,
          1411.7,
          1375.7,
          1447.8000000000002,
          1496.8000000000002,
          1578.8000000000002,
          1602.6599999999999,
          1602.8000000000002,
          1607.8,
          1707.8,
          1707.8,
          1523.8,
          1400.8,
          1407.8,
          1481.8,
          1613.2,
          1667.2,
          1676.2,
          1581.2,
          1592.2,
          1603.2,
          1621.2,
          1608.2,
          1629.8700000000003,
          1616.2,
          1603.2,
          1584.2,
          1396.2,
          1222.3000000000002,
          1340.3,
          1512.3,
          1517.3,
          1518.3000000000002,
          1486.307,
          1459.3000000000002,
          1446.6000000000001,
          1486.3,
          1567.3,
          1625.3,
          1731.5,
          1722.5,
          1712.5,
          1738.5,
          1829.5,
          1827.8,
          1826.8,
          1947.8,
          2028.8000000000002,
          1960.5,
          2013.5000000000002,
          2159.5
         ],
         "yaxis": "y"
        },
        {
         "hovertemplate": "<b>OLS trendline</b><br>Petrol = 0.84705 * Crude_Rands + 621.668<br>R<sup>2</sup>=0.396785<br><br>Crude_Rands=%{x}<br>Petrol=%{y} <b>(trend)</b><extra></extra>",
         "legendgroup": "",
         "line": {
          "color": "red"
         },
         "marker": {
          "color": "#636efa",
          "symbol": "circle"
         },
         "mode": "lines",
         "name": "",
         "showlegend": false,
         "type": "scatter",
         "x": [
          350.88012899999995,
          503.379908,
          506.79855200000003,
          521.7037650000001,
          555.9730830000001,
          556.66534,
          558.0451400000001,
          559.1530260000001,
          562.6919340000001,
          566.3245420000001,
          568.786218,
          572.318388,
          573.931102,
          574.26374,
          584.26725,
          589.726417,
          594.066005,
          595.267095,
          596.0560760000001,
          598.457888,
          598.8035040000001,
          604.657056,
          624.778154,
          626.40377,
          630.890002,
          632.397675,
          634.0455039999999,
          634.2244999999999,
          650.6743660000001,
          651.666806,
          652.66562,
          653.874896,
          654.537772,
          658.947636,
          662.029851,
          663.730522,
          665.370496,
          665.4283340999999,
          671.35077,
          675.693453,
          682.6972319999999,
          682.8574769999999,
          696.274956,
          704.054016,
          707.9354880000001,
          710.8285589999999,
          718.8937050000001,
          730.1279999999999,
          730.472028,
          730.811601,
          732.607202,
          734.9988000000001,
          735.2438830000001,
          740.483158,
          741.2820150000001,
          741.674793,
          756.9778020000001,
          763.076024,
          768.805944,
          774.49006,
          774.552348,
          778.5912189999999,
          780.522907,
          781.2195300000001,
          795.286792,
          795.81334,
          796.3501919999999,
          801.1197,
          801.6476580000001,
          809.268824,
          823.745256,
          834.32473,
          836.0396489999999,
          842.732274,
          843.4320280000002,
          847.7976239999999,
          849.1211359999999,
          859.539177,
          874.3711360000001,
          882.7165679999999,
          883.8573140000001,
          884.977775,
          885.78,
          886.5891119999999,
          891.5777959999999,
          892.6463219999999,
          893.528837,
          894.745913,
          899.5292979999999,
          901.1004360000001,
          924.1302000000001,
          926.9836799999999,
          927.132417,
          931.26,
          932.929174,
          933.340416,
          933.9518489999999,
          935.765168,
          938.4151999999999,
          939.386058,
          943.053495,
          943.8456480000001,
          947.6085289999999,
          949.980213,
          954.2325940000001,
          955.612606,
          960.76032,
          962.2998080000001,
          970.1975840000001,
          970.54881,
          971.7290160000001,
          973.843,
          985.2384650000001,
          989.156152,
          996.9106079999999,
          1000.5134509999999,
          1006.0681150000001,
          1011.00693,
          1016.16,
          1027.481383,
          1033.408308,
          1035.671076,
          1043.570713,
          1070.825,
          1073.4551399999998,
          1084.1000000000001,
          1084.574617,
          1085.220224,
          1099.28,
          1101.0686219999998,
          1121.007296,
          1122.6030210000001,
          1136.878376,
          1141.236698,
          1143.493656,
          1146.952413,
          1157.309675,
          1159.552065,
          1171.3176749999998,
          1175.7985800000001,
          1191.4653660000001,
          1198.157898,
          1209.92,
          1227.6480000000001,
          1323.475,
          1349.37,
          1469.2381
         ],
         "xaxis": "x",
         "y": [
          918.8813877276527,
          1048.056340948204,
          1050.9521036940487,
          1063.5775658727011,
          1092.6053951494255,
          1093.1917715112666,
          1094.3605312407722,
          1095.2989661890858,
          1098.2965985682897,
          1101.3735995419672,
          1103.4587624466567,
          1106.4506874022793,
          1107.816736959034,
          1108.0984980105654,
          1116.5719721674777,
          1121.1961601267808,
          1124.872008580938,
          1125.8893919868751,
          1126.5576984226957,
          1128.5921535201326,
          1128.8849075878763,
          1133.8431594013039,
          1150.886737496562,
          1152.2637156937212,
          1156.063778962905,
          1157.3408535299895,
          1158.7366472510444,
          1158.8882658309417,
          1172.8221264894178,
          1173.6627728917588,
          1174.5088183914447,
          1175.5331357495095,
          1176.0946249323301,
          1179.8300006793925,
          1182.4407912067722,
          1183.8813447492698,
          1185.2704848917806,
          1185.3194766602332,
          1190.3360765881205,
          1194.0145466623408,
          1199.9470983724127,
          1200.0828339158643,
          1211.4481108593984,
          1218.037364418906,
          1221.3251656689451,
          1223.775741752001,
          1230.6073244867337,
          1240.123335202335,
          1240.4147441545183,
          1240.7023794985012,
          1242.2233435070966,
          1244.249146834801,
          1244.4567444147303,
          1248.894672833201,
          1249.57134473582,
          1249.904047380432,
          1262.866462701104,
          1268.031962262769,
          1272.885491578097,
          1277.7002226105935,
          1277.7529836672913,
          1281.1741097561942,
          1282.810346271899,
          1283.4004208544816,
          1295.3160965538623,
          1295.7621090904995,
          1296.216849631378,
          1300.2568618650027,
          1300.7040687422823,
          1307.1595781731257,
          1319.4218413623762,
          1328.3831858837216,
          1329.8358081960596,
          1335.5047968789722,
          1336.0975235754217,
          1339.7954021086082,
          1340.9164830820228,
          1349.7410857643965,
          1362.3044981349426,
          1369.3734971543136,
          1370.3397661689496,
          1371.2888527722844,
          1371.968377539644,
          1372.65373594105,
          1376.8794012276344,
          1377.7844962839686,
          1378.532030703946,
          1379.5629550527992,
          1383.6147218006768,
          1384.9455544024281,
          1404.452918327069,
          1406.8699588495722,
          1406.9959465404604,
          1410.4922161379327,
          1411.9060901433957,
          1412.2544327210746,
          1412.772347105544,
          1414.3083191478308,
          1416.5530290213642,
          1417.3753943884237,
          1420.4818972700725,
          1421.152890548814,
          1424.3402392803125,
          1426.3491744523035,
          1429.9511542082937,
          1431.1200935124207,
          1435.480465176584,
          1436.784488642635,
          1443.4743006019455,
          1443.7718066207565,
          1444.771500232382,
          1446.5621505933177,
          1456.2146803737148,
          1459.5331575431653,
          1466.101570281985,
          1469.1533588094032,
          1473.8584375122118,
          1478.0418612573042,
          1482.406769721809,
          1491.996548336616,
          1497.0169507571118,
          1498.9336286202906,
          1505.6250169398393,
          1528.7107634987537,
          1530.9386238516759,
          1539.9553535909324,
          1540.3573779687688,
          1540.9042394433932,
          1552.8135741257172,
          1554.328626571657,
          1571.2176823992713,
          1572.5693414218583,
          1584.6612823179285,
          1588.3529994086798,
          1590.2647559107713,
          1593.1944963773212,
          1601.9676162015999,
          1603.8670328778185,
          1613.8330940178887,
          1617.6286450511843,
          1630.899197716486,
          1636.5681076237393,
          1646.5311973120552,
          1661.5477015044576,
          1742.7179715431162,
          1764.652333911249,
          1866.1866201356006
         ],
         "yaxis": "y"
        }
       ],
       "layout": {
        "legend": {
         "tracegroupgap": 0
        },
        "margin": {
         "t": 60
        },
        "template": {
         "data": {
          "bar": [
           {
            "error_x": {
             "color": "#2a3f5f"
            },
            "error_y": {
             "color": "#2a3f5f"
            },
            "marker": {
             "line": {
              "color": "#E5ECF6",
              "width": 0.5
             },
             "pattern": {
              "fillmode": "overlay",
              "size": 10,
              "solidity": 0.2
             }
            },
            "type": "bar"
           }
          ],
          "barpolar": [
           {
            "marker": {
             "line": {
              "color": "#E5ECF6",
              "width": 0.5
             },
             "pattern": {
              "fillmode": "overlay",
              "size": 10,
              "solidity": 0.2
             }
            },
            "type": "barpolar"
           }
          ],
          "carpet": [
           {
            "aaxis": {
             "endlinecolor": "#2a3f5f",
             "gridcolor": "white",
             "linecolor": "white",
             "minorgridcolor": "white",
             "startlinecolor": "#2a3f5f"
            },
            "baxis": {
             "endlinecolor": "#2a3f5f",
             "gridcolor": "white",
             "linecolor": "white",
             "minorgridcolor": "white",
             "startlinecolor": "#2a3f5f"
            },
            "type": "carpet"
           }
          ],
          "choropleth": [
           {
            "colorbar": {
             "outlinewidth": 0,
             "ticks": ""
            },
            "type": "choropleth"
           }
          ],
          "contour": [
           {
            "colorbar": {
             "outlinewidth": 0,
             "ticks": ""
            },
            "colorscale": [
             [
              0,
              "#0d0887"
             ],
             [
              0.1111111111111111,
              "#46039f"
             ],
             [
              0.2222222222222222,
              "#7201a8"
             ],
             [
              0.3333333333333333,
              "#9c179e"
             ],
             [
              0.4444444444444444,
              "#bd3786"
             ],
             [
              0.5555555555555556,
              "#d8576b"
             ],
             [
              0.6666666666666666,
              "#ed7953"
             ],
             [
              0.7777777777777778,
              "#fb9f3a"
             ],
             [
              0.8888888888888888,
              "#fdca26"
             ],
             [
              1,
              "#f0f921"
             ]
            ],
            "type": "contour"
           }
          ],
          "contourcarpet": [
           {
            "colorbar": {
             "outlinewidth": 0,
             "ticks": ""
            },
            "type": "contourcarpet"
           }
          ],
          "heatmap": [
           {
            "colorbar": {
             "outlinewidth": 0,
             "ticks": ""
            },
            "colorscale": [
             [
              0,
              "#0d0887"
             ],
             [
              0.1111111111111111,
              "#46039f"
             ],
             [
              0.2222222222222222,
              "#7201a8"
             ],
             [
              0.3333333333333333,
              "#9c179e"
             ],
             [
              0.4444444444444444,
              "#bd3786"
             ],
             [
              0.5555555555555556,
              "#d8576b"
             ],
             [
              0.6666666666666666,
              "#ed7953"
             ],
             [
              0.7777777777777778,
              "#fb9f3a"
             ],
             [
              0.8888888888888888,
              "#fdca26"
             ],
             [
              1,
              "#f0f921"
             ]
            ],
            "type": "heatmap"
           }
          ],
          "heatmapgl": [
           {
            "colorbar": {
             "outlinewidth": 0,
             "ticks": ""
            },
            "colorscale": [
             [
              0,
              "#0d0887"
             ],
             [
              0.1111111111111111,
              "#46039f"
             ],
             [
              0.2222222222222222,
              "#7201a8"
             ],
             [
              0.3333333333333333,
              "#9c179e"
             ],
             [
              0.4444444444444444,
              "#bd3786"
             ],
             [
              0.5555555555555556,
              "#d8576b"
             ],
             [
              0.6666666666666666,
              "#ed7953"
             ],
             [
              0.7777777777777778,
              "#fb9f3a"
             ],
             [
              0.8888888888888888,
              "#fdca26"
             ],
             [
              1,
              "#f0f921"
             ]
            ],
            "type": "heatmapgl"
           }
          ],
          "histogram": [
           {
            "marker": {
             "pattern": {
              "fillmode": "overlay",
              "size": 10,
              "solidity": 0.2
             }
            },
            "type": "histogram"
           }
          ],
          "histogram2d": [
           {
            "colorbar": {
             "outlinewidth": 0,
             "ticks": ""
            },
            "colorscale": [
             [
              0,
              "#0d0887"
             ],
             [
              0.1111111111111111,
              "#46039f"
             ],
             [
              0.2222222222222222,
              "#7201a8"
             ],
             [
              0.3333333333333333,
              "#9c179e"
             ],
             [
              0.4444444444444444,
              "#bd3786"
             ],
             [
              0.5555555555555556,
              "#d8576b"
             ],
             [
              0.6666666666666666,
              "#ed7953"
             ],
             [
              0.7777777777777778,
              "#fb9f3a"
             ],
             [
              0.8888888888888888,
              "#fdca26"
             ],
             [
              1,
              "#f0f921"
             ]
            ],
            "type": "histogram2d"
           }
          ],
          "histogram2dcontour": [
           {
            "colorbar": {
             "outlinewidth": 0,
             "ticks": ""
            },
            "colorscale": [
             [
              0,
              "#0d0887"
             ],
             [
              0.1111111111111111,
              "#46039f"
             ],
             [
              0.2222222222222222,
              "#7201a8"
             ],
             [
              0.3333333333333333,
              "#9c179e"
             ],
             [
              0.4444444444444444,
              "#bd3786"
             ],
             [
              0.5555555555555556,
              "#d8576b"
             ],
             [
              0.6666666666666666,
              "#ed7953"
             ],
             [
              0.7777777777777778,
              "#fb9f3a"
             ],
             [
              0.8888888888888888,
              "#fdca26"
             ],
             [
              1,
              "#f0f921"
             ]
            ],
            "type": "histogram2dcontour"
           }
          ],
          "mesh3d": [
           {
            "colorbar": {
             "outlinewidth": 0,
             "ticks": ""
            },
            "type": "mesh3d"
           }
          ],
          "parcoords": [
           {
            "line": {
             "colorbar": {
              "outlinewidth": 0,
              "ticks": ""
             }
            },
            "type": "parcoords"
           }
          ],
          "pie": [
           {
            "automargin": true,
            "type": "pie"
           }
          ],
          "scatter": [
           {
            "marker": {
             "colorbar": {
              "outlinewidth": 0,
              "ticks": ""
             }
            },
            "type": "scatter"
           }
          ],
          "scatter3d": [
           {
            "line": {
             "colorbar": {
              "outlinewidth": 0,
              "ticks": ""
             }
            },
            "marker": {
             "colorbar": {
              "outlinewidth": 0,
              "ticks": ""
             }
            },
            "type": "scatter3d"
           }
          ],
          "scattercarpet": [
           {
            "marker": {
             "colorbar": {
              "outlinewidth": 0,
              "ticks": ""
             }
            },
            "type": "scattercarpet"
           }
          ],
          "scattergeo": [
           {
            "marker": {
             "colorbar": {
              "outlinewidth": 0,
              "ticks": ""
             }
            },
            "type": "scattergeo"
           }
          ],
          "scattergl": [
           {
            "marker": {
             "colorbar": {
              "outlinewidth": 0,
              "ticks": ""
             }
            },
            "type": "scattergl"
           }
          ],
          "scattermapbox": [
           {
            "marker": {
             "colorbar": {
              "outlinewidth": 0,
              "ticks": ""
             }
            },
            "type": "scattermapbox"
           }
          ],
          "scatterpolar": [
           {
            "marker": {
             "colorbar": {
              "outlinewidth": 0,
              "ticks": ""
             }
            },
            "type": "scatterpolar"
           }
          ],
          "scatterpolargl": [
           {
            "marker": {
             "colorbar": {
              "outlinewidth": 0,
              "ticks": ""
             }
            },
            "type": "scatterpolargl"
           }
          ],
          "scatterternary": [
           {
            "marker": {
             "colorbar": {
              "outlinewidth": 0,
              "ticks": ""
             }
            },
            "type": "scatterternary"
           }
          ],
          "surface": [
           {
            "colorbar": {
             "outlinewidth": 0,
             "ticks": ""
            },
            "colorscale": [
             [
              0,
              "#0d0887"
             ],
             [
              0.1111111111111111,
              "#46039f"
             ],
             [
              0.2222222222222222,
              "#7201a8"
             ],
             [
              0.3333333333333333,
              "#9c179e"
             ],
             [
              0.4444444444444444,
              "#bd3786"
             ],
             [
              0.5555555555555556,
              "#d8576b"
             ],
             [
              0.6666666666666666,
              "#ed7953"
             ],
             [
              0.7777777777777778,
              "#fb9f3a"
             ],
             [
              0.8888888888888888,
              "#fdca26"
             ],
             [
              1,
              "#f0f921"
             ]
            ],
            "type": "surface"
           }
          ],
          "table": [
           {
            "cells": {
             "fill": {
              "color": "#EBF0F8"
             },
             "line": {
              "color": "white"
             }
            },
            "header": {
             "fill": {
              "color": "#C8D4E3"
             },
             "line": {
              "color": "white"
             }
            },
            "type": "table"
           }
          ]
         },
         "layout": {
          "annotationdefaults": {
           "arrowcolor": "#2a3f5f",
           "arrowhead": 0,
           "arrowwidth": 1
          },
          "autotypenumbers": "strict",
          "coloraxis": {
           "colorbar": {
            "outlinewidth": 0,
            "ticks": ""
           }
          },
          "colorscale": {
           "diverging": [
            [
             0,
             "#8e0152"
            ],
            [
             0.1,
             "#c51b7d"
            ],
            [
             0.2,
             "#de77ae"
            ],
            [
             0.3,
             "#f1b6da"
            ],
            [
             0.4,
             "#fde0ef"
            ],
            [
             0.5,
             "#f7f7f7"
            ],
            [
             0.6,
             "#e6f5d0"
            ],
            [
             0.7,
             "#b8e186"
            ],
            [
             0.8,
             "#7fbc41"
            ],
            [
             0.9,
             "#4d9221"
            ],
            [
             1,
             "#276419"
            ]
           ],
           "sequential": [
            [
             0,
             "#0d0887"
            ],
            [
             0.1111111111111111,
             "#46039f"
            ],
            [
             0.2222222222222222,
             "#7201a8"
            ],
            [
             0.3333333333333333,
             "#9c179e"
            ],
            [
             0.4444444444444444,
             "#bd3786"
            ],
            [
             0.5555555555555556,
             "#d8576b"
            ],
            [
             0.6666666666666666,
             "#ed7953"
            ],
            [
             0.7777777777777778,
             "#fb9f3a"
            ],
            [
             0.8888888888888888,
             "#fdca26"
            ],
            [
             1,
             "#f0f921"
            ]
           ],
           "sequentialminus": [
            [
             0,
             "#0d0887"
            ],
            [
             0.1111111111111111,
             "#46039f"
            ],
            [
             0.2222222222222222,
             "#7201a8"
            ],
            [
             0.3333333333333333,
             "#9c179e"
            ],
            [
             0.4444444444444444,
             "#bd3786"
            ],
            [
             0.5555555555555556,
             "#d8576b"
            ],
            [
             0.6666666666666666,
             "#ed7953"
            ],
            [
             0.7777777777777778,
             "#fb9f3a"
            ],
            [
             0.8888888888888888,
             "#fdca26"
            ],
            [
             1,
             "#f0f921"
            ]
           ]
          },
          "colorway": [
           "#636efa",
           "#EF553B",
           "#00cc96",
           "#ab63fa",
           "#FFA15A",
           "#19d3f3",
           "#FF6692",
           "#B6E880",
           "#FF97FF",
           "#FECB52"
          ],
          "font": {
           "color": "#2a3f5f"
          },
          "geo": {
           "bgcolor": "white",
           "lakecolor": "white",
           "landcolor": "#E5ECF6",
           "showlakes": true,
           "showland": true,
           "subunitcolor": "white"
          },
          "hoverlabel": {
           "align": "left"
          },
          "hovermode": "closest",
          "mapbox": {
           "style": "light"
          },
          "paper_bgcolor": "white",
          "plot_bgcolor": "#E5ECF6",
          "polar": {
           "angularaxis": {
            "gridcolor": "white",
            "linecolor": "white",
            "ticks": ""
           },
           "bgcolor": "#E5ECF6",
           "radialaxis": {
            "gridcolor": "white",
            "linecolor": "white",
            "ticks": ""
           }
          },
          "scene": {
           "xaxis": {
            "backgroundcolor": "#E5ECF6",
            "gridcolor": "white",
            "gridwidth": 2,
            "linecolor": "white",
            "showbackground": true,
            "ticks": "",
            "zerolinecolor": "white"
           },
           "yaxis": {
            "backgroundcolor": "#E5ECF6",
            "gridcolor": "white",
            "gridwidth": 2,
            "linecolor": "white",
            "showbackground": true,
            "ticks": "",
            "zerolinecolor": "white"
           },
           "zaxis": {
            "backgroundcolor": "#E5ECF6",
            "gridcolor": "white",
            "gridwidth": 2,
            "linecolor": "white",
            "showbackground": true,
            "ticks": "",
            "zerolinecolor": "white"
           }
          },
          "shapedefaults": {
           "line": {
            "color": "#2a3f5f"
           }
          },
          "ternary": {
           "aaxis": {
            "gridcolor": "white",
            "linecolor": "white",
            "ticks": ""
           },
           "baxis": {
            "gridcolor": "white",
            "linecolor": "white",
            "ticks": ""
           },
           "bgcolor": "#E5ECF6",
           "caxis": {
            "gridcolor": "white",
            "linecolor": "white",
            "ticks": ""
           }
          },
          "title": {
           "x": 0.05
          },
          "xaxis": {
           "automargin": true,
           "gridcolor": "white",
           "linecolor": "white",
           "ticks": "",
           "title": {
            "standoff": 15
           },
           "zerolinecolor": "white",
           "zerolinewidth": 2
          },
          "yaxis": {
           "automargin": true,
           "gridcolor": "white",
           "linecolor": "white",
           "ticks": "",
           "title": {
            "standoff": 15
           },
           "zerolinecolor": "white",
           "zerolinewidth": 2
          }
         }
        },
        "xaxis": {
         "anchor": "y",
         "domain": [
          0,
          1
         ],
         "title": {
          "text": "Crude_Rands"
         }
        },
        "yaxis": {
         "anchor": "x",
         "domain": [
          0,
          1
         ],
         "title": {
          "text": "Petrol"
         }
        }
       }
      }
     },
     "metadata": {},
     "output_type": "display_data"
    }
   ],
   "source": [
    "fig = px.scatter(dataset, x='Crude_Rands', y='Petrol', trendline='ols', trendline_color_override='red')\n",
    "fig.show()"
   ]
  },
  {
   "cell_type": "code",
   "execution_count": 9,
   "metadata": {},
   "outputs": [
    {
     "name": "stdout",
     "output_type": "stream",
     "text": [
      "                            OLS Regression Results                            \n",
      "==============================================================================\n",
      "Dep. Variable:                      y   R-squared:                       0.397\n",
      "Model:                            OLS   Adj. R-squared:                  0.393\n",
      "Method:                 Least Squares   F-statistic:                     95.38\n",
      "Date:                Mon, 14 Mar 2022   Prob (F-statistic):           1.26e-17\n",
      "Time:                        10:26:02   Log-Likelihood:                -997.19\n",
      "No. Observations:                 147   AIC:                             1998.\n",
      "Df Residuals:                     145   BIC:                             2004.\n",
      "Df Model:                           1                                         \n",
      "Covariance Type:            nonrobust                                         \n",
      "==============================================================================\n",
      "                 coef    std err          t      P>|t|      [0.025      0.975]\n",
      "------------------------------------------------------------------------------\n",
      "const        621.6683     75.241      8.262      0.000     472.958     770.379\n",
      "x1             0.8471      0.087      9.766      0.000       0.676       1.018\n",
      "==============================================================================\n",
      "Omnibus:                     7919.160   Durbin-Watson:                   1.639\n",
      "Prob(Omnibus):                  0.000   Jarque-Bera (JB):               14.886\n",
      "Skew:                          -0.143   Prob(JB):                     0.000586\n",
      "Kurtosis:                       1.468   Cond. No.                     3.68e+03\n",
      "==============================================================================\n",
      "\n",
      "Notes:\n",
      "[1] Standard Errors assume that the covariance matrix of the errors is correctly specified.\n",
      "[2] The condition number is large, 3.68e+03. This might indicate that there are\n",
      "strong multicollinearity or other numerical problems.\n"
     ]
    }
   ],
   "source": [
    "results = px.get_trendline_results(fig)\n",
    "results = results.iloc[0]['px_fit_results'].summary()\n",
    "print(results)"
   ]
  },
  {
   "cell_type": "markdown",
   "metadata": {},
   "source": [
    "Using Seaborn Graphing"
   ]
  },
  {
   "cell_type": "code",
   "execution_count": 11,
   "metadata": {},
   "outputs": [
    {
     "data": {
      "text/plain": [
       "<AxesSubplot:xlabel='Crude_Rands', ylabel='Petrol'>"
      ]
     },
     "execution_count": 11,
     "metadata": {},
     "output_type": "execute_result"
    },
    {
     "data": {
      "image/png": "[encoded data removed]",
      "text/plain": [
       "<Figure size 1080x360 with 2 Axes>"
      ]
     },
     "metadata": {
      "needs_background": "light"
     },
     "output_type": "display_data"
    }
   ],
   "source": [
    "# Show a graph of the result\n",
    "fig, axes = plt.subplots(1, 2, figsize=(15,5))\n",
    "\n",
    "\n",
    "sns.regplot(data = dataset, x=\"Crude_Rands\", y=\"BFP\", color='red', ax=axes[0])\n",
    "\n",
    "sns.regplot(data = dataset, x=\"Crude_Rands\", y=\"Petrol\", color='blue', ax=axes[1])\n"
   ]
  },
  {
   "cell_type": "code",
   "execution_count": 12,
   "metadata": {},
   "outputs": [
    {
     "data": {
      "text/plain": [
       "<seaborn.axisgrid.JointGrid at 0x1b40918d900>"
      ]
     },
     "execution_count": 12,
     "metadata": {},
     "output_type": "execute_result"
    },
    {
     "data": {
      "image/png": "[encoded data removed]",
      "text/plain": [
       "<Figure size 432x432 with 3 Axes>"
      ]
     },
     "metadata": {
      "needs_background": "light"
     },
     "output_type": "display_data"
    }
   ],
   "source": [
    "sns.jointplot(data = dataset, x=\"Crude_Rands\", y=\"BFP\", kind=\"reg\")\n"
   ]
  },
  {
   "cell_type": "code",
   "execution_count": 13,
   "metadata": {},
   "outputs": [
    {
     "data": {
      "text/plain": [
       "<seaborn.axisgrid.JointGrid at 0x1b4092afc70>"
      ]
     },
     "execution_count": 13,
     "metadata": {},
     "output_type": "execute_result"
    },
    {
     "data": {
      "image/png": "[encoded data removed]",
      "text/plain": [
       "<Figure size 432x432 with 3 Axes>"
      ]
     },
     "metadata": {
      "needs_background": "light"
     },
     "output_type": "display_data"
    },
    {
     "data": {
      "image/png": "[encoded data removed]",
      "text/plain": [
       "<Figure size 432x432 with 3 Axes>"
      ]
     },
     "metadata": {
      "needs_background": "light"
     },
     "output_type": "display_data"
    }
   ],
   "source": [
    "# Show a graph of the result\n",
    "sns.jointplot(data = dataset, x=\"Crude_Rands\", y=\"BFP\", kind=\"reg\", ax=axes[0])\n",
    "\n",
    "sns.jointplot(data = dataset, x=\"Crude_Rands\", y=\"Petrol\", kind=\"reg\", ax=axes[1])\n"
   ]
  },
  {
   "cell_type": "markdown",
   "metadata": {},
   "source": [
    "### Interpreting our model"
   ]
  },
  {
   "cell_type": "code",
   "execution_count": 14,
   "metadata": {},
   "outputs": [
    {
     "name": "stdout",
     "output_type": "stream",
     "text": [
      "Intercept: 102.27204838363235 Slope: 0.6378674961030573\n",
      "Intercept: 621.6683389822115 Slope: 0.8470501011057291\n"
     ]
    }
   ],
   "source": [
    "print(\"Intercept for BFP Model:\", model.params[0], \"Slope:\", model.params[1])\n",
    "print(\"Intercept for Petrol Model:\", petrol_model.params[0], \"Slope:\", petrol_model.params[1])"
   ]
  },
  {
   "cell_type": "markdown",
   "metadata": {},
   "source": [
    "#### Estimating BFP"
   ]
  },
  {
   "cell_type": "code",
   "execution_count": 15,
   "metadata": {},
   "outputs": [
    {
     "name": "stdout",
     "output_type": "stream",
     "text": [
      "Estimate BFP from Oil Price\n",
      "1267.8090519629827\n"
     ]
    }
   ],
   "source": [
    "def estimate_bfp(Crude_Rands):\n",
    "    # Model param[0] is the intercepts and param[1] is the slope\n",
    "    return Crude_Rands * model.params[1] + model.params[0]\n",
    "\n",
    "print(\"Estimate BFP from Oil Price\")\n",
    "print(estimate_bfp(Crude_Rands=1827.24))"
   ]
  },
  {
   "cell_type": "markdown",
   "metadata": {},
   "source": [
    "Estimated BFP Increase/Decrease"
   ]
  },
  {
   "cell_type": "code",
   "execution_count": 16,
   "metadata": {},
   "outputs": [
    {
     "data": {
      "text/plain": [
       "167.53905196298274"
      ]
     },
     "execution_count": 16,
     "metadata": {},
     "output_type": "execute_result"
    }
   ],
   "source": [
    "estimate_bfp(Crude_Rands=1827.24) - dataset['BFP'].iloc[-1]"
   ]
  },
  {
   "cell_type": "markdown",
   "metadata": {},
   "source": [
    "#### Estimating Petrol Price"
   ]
  },
  {
   "cell_type": "code",
   "execution_count": 17,
   "metadata": {},
   "outputs": [
    {
     "name": "stdout",
     "output_type": "stream",
     "text": [
      "Estimate Petrol Price from Oil Price\n",
      "2169.9658072903403\n"
     ]
    }
   ],
   "source": [
    "def estimate_petrol(Crude_Rands):\n",
    "    # Model param[0] is the intercepts and param[1] is the slope\n",
    "    return Crude_Rands * petrol_model.params[1] + petrol_model.params[0]\n",
    "\n",
    "print(\"Estimate Petrol Price from Oil Price\")\n",
    "print(estimate_petrol(Crude_Rands=1827.87))"
   ]
  },
  {
   "cell_type": "markdown",
   "metadata": {},
   "source": [
    "Estimated Petrol Price Increase/Decrease"
   ]
  },
  {
   "cell_type": "code",
   "execution_count": 18,
   "metadata": {},
   "outputs": [
    {
     "data": {
      "text/plain": [
       "10.465807290340308"
      ]
     },
     "execution_count": 18,
     "metadata": {},
     "output_type": "execute_result"
    }
   ],
   "source": [
    "estimate_petrol(Crude_Rands=1827.87) - dataset['Petrol'].iloc[-1]"
   ]
  },
  {
   "cell_type": "markdown",
   "metadata": {},
   "source": [
    "# Using Sklearn"
   ]
  },
  {
   "cell_type": "markdown",
   "metadata": {},
   "source": [
    "Creating train and test dataset"
   ]
  },
  {
   "cell_type": "code",
   "execution_count": 23,
   "metadata": {},
   "outputs": [],
   "source": [
    "cdf = dataset[['Crude_Rands', 'BFP']]"
   ]
  },
  {
   "cell_type": "code",
   "execution_count": 24,
   "metadata": {},
   "outputs": [],
   "source": [
    "msk = np.random.rand(len(dataset)) < 0.8\n",
    "train = cdf[msk]\n",
    "test = cdf[~msk]"
   ]
  },
  {
   "cell_type": "markdown",
   "metadata": {},
   "source": [
    "Simple Linear Regression Model"
   ]
  },
  {
   "cell_type": "code",
   "execution_count": 25,
   "metadata": {},
   "outputs": [
    {
     "name": "stdout",
     "output_type": "stream",
     "text": [
      "Coefficients:  [[0.63006018]]\n",
      "Intercept:  [109.56077999]\n"
     ]
    }
   ],
   "source": [
    "from sklearn import linear_model\n",
    "regr = linear_model.LinearRegression()\n",
    "train_x = np.asanyarray(train[['Crude_Rands']])\n",
    "train_y = np.asanyarray(train[['BFP']])\n",
    "regr.fit (train_x, train_y)\n",
    "# The coefficients\n",
    "print ('Coefficients: ', regr.coef_)\n",
    "print ('Intercept: ',regr.intercept_)"
   ]
  },
  {
   "cell_type": "code",
   "execution_count": 30,
   "metadata": {},
   "outputs": [
    {
     "name": "stdout",
     "output_type": "stream",
     "text": [
      "MSE: 1294.59\n",
      "RMSE: 30.15\n",
      "R-Squared: 0.92\n"
     ]
    }
   ],
   "source": [
    "from sklearn.metrics import r2_score\n",
    "\n",
    "test_x = np.asanyarray(test[['Crude_Rands']])\n",
    "test_y = np.asanyarray(test[['BFP']])\n",
    "test_y_ = regr.predict(test_x)\n",
    "\n",
    "print(\"MSE: %.2f\" % np.mean((test_y_ - test_y) ** 2))\n",
    "print(\"Mean absolute error: %.2f\" % np.mean(np.absolute(test_y_ - test_y)))\n",
    "print(\"R-Squared: %.2f\" % r2_score(test_y , test_y_) )"
   ]
  },
  {
   "cell_type": "code",
   "execution_count": null,
   "metadata": {},
   "outputs": [],
   "source": []
  }
 ],
 "metadata": {
  "interpreter": {
   "hash": "8ed06d07b9ff369db6ed7b53447be18709da67cd911d838d72fee7fecb26667a"
  },
  "kernelspec": {
   "display_name": "Python 3.10.2 64-bit",
   "language": "python",
   "name": "python3"
  },
  "language_info": {
   "codemirror_mode": {
    "name": "ipython",
    "version": 3
   },
   "file_extension": ".py",
   "mimetype": "text/x-python",
   "name": "python",
   "nbconvert_exporter": "python",
   "pygments_lexer": "ipython3",
   "version": "3.10.2"
  },
  "orig_nbformat": 4
 },
 "nbformat": 4,
 "nbformat_minor": 2
}
