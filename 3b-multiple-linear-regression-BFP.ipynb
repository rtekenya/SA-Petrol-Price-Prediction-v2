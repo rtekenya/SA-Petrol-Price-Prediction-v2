{
 "cells": [
  {
   "cell_type": "markdown",
   "metadata": {},
   "source": [
    "<center>\n",
    "    <img src=\"https://image.shutterstock.com/image-vector/regression-concept-keywords-people-icons-260nw-1820291330.jpg\" width=\"600\" alt=\"cognitiveclass.ai logo\"  />\n",
    "</center>\n",
    "\n",
    "# Multiple Linear Regression"
   ]
  },
  {
   "cell_type": "code",
   "execution_count": 31,
   "metadata": {},
   "outputs": [
    {
     "data": {
      "text/html": [
       "<div>\n",
       "<style scoped>\n",
       "    .dataframe tbody tr th:only-of-type {\n",
       "        vertical-align: middle;\n",
       "    }\n",
       "\n",
       "    .dataframe tbody tr th {\n",
       "        vertical-align: top;\n",
       "    }\n",
       "\n",
       "    .dataframe thead th {\n",
       "        text-align: right;\n",
       "    }\n",
       "</style>\n",
       "<table border=\"1\" class=\"dataframe\">\n",
       "  <thead>\n",
       "    <tr style=\"text-align: right;\">\n",
       "      <th></th>\n",
       "      <th>Date</th>\n",
       "      <th>BFP</th>\n",
       "      <th>Ex_Rate</th>\n",
       "      <th>Avg_Brent_Crude</th>\n",
       "      <th>Petrol</th>\n",
       "      <th>Crude_Rands</th>\n",
       "      <th>Fuel tax</th>\n",
       "      <th>Road accident fund</th>\n",
       "      <th>Other_cost</th>\n",
       "    </tr>\n",
       "  </thead>\n",
       "  <tbody>\n",
       "    <tr>\n",
       "      <th>0</th>\n",
       "      <td>2010-01-01</td>\n",
       "      <td>406.263</td>\n",
       "      <td>7.5246</td>\n",
       "      <td>74.31</td>\n",
       "      <td>786.0</td>\n",
       "      <td>559.153026</td>\n",
       "      <td>150.0</td>\n",
       "      <td>64</td>\n",
       "      <td>161.737</td>\n",
       "    </tr>\n",
       "    <tr>\n",
       "      <th>1</th>\n",
       "      <td>2010-02-01</td>\n",
       "      <td>424.263</td>\n",
       "      <td>7.4735</td>\n",
       "      <td>76.84</td>\n",
       "      <td>804.0</td>\n",
       "      <td>574.263740</td>\n",
       "      <td>150.0</td>\n",
       "      <td>64</td>\n",
       "      <td>161.737</td>\n",
       "    </tr>\n",
       "    <tr>\n",
       "      <th>2</th>\n",
       "      <td>2010-03-01</td>\n",
       "      <td>430.563</td>\n",
       "      <td>7.6902</td>\n",
       "      <td>73.17</td>\n",
       "      <td>810.3</td>\n",
       "      <td>562.691934</td>\n",
       "      <td>150.0</td>\n",
       "      <td>64</td>\n",
       "      <td>161.737</td>\n",
       "    </tr>\n",
       "    <tr>\n",
       "      <th>3</th>\n",
       "      <td>2010-04-01</td>\n",
       "      <td>453.063</td>\n",
       "      <td>7.4753</td>\n",
       "      <td>78.89</td>\n",
       "      <td>858.3</td>\n",
       "      <td>589.726417</td>\n",
       "      <td>167.5</td>\n",
       "      <td>72</td>\n",
       "      <td>161.737</td>\n",
       "    </tr>\n",
       "    <tr>\n",
       "      <th>4</th>\n",
       "      <td>2010-05-01</td>\n",
       "      <td>465.063</td>\n",
       "      <td>7.3749</td>\n",
       "      <td>85.75</td>\n",
       "      <td>871.8</td>\n",
       "      <td>632.397675</td>\n",
       "      <td>167.5</td>\n",
       "      <td>72</td>\n",
       "      <td>163.237</td>\n",
       "    </tr>\n",
       "  </tbody>\n",
       "</table>\n",
       "</div>"
      ],
      "text/plain": [
       "        Date      BFP  Ex_Rate  Avg_Brent_Crude  Petrol  Crude_Rands  \\\n",
       "0 2010-01-01  406.263   7.5246            74.31   786.0   559.153026   \n",
       "1 2010-02-01  424.263   7.4735            76.84   804.0   574.263740   \n",
       "2 2010-03-01  430.563   7.6902            73.17   810.3   562.691934   \n",
       "3 2010-04-01  453.063   7.4753            78.89   858.3   589.726417   \n",
       "4 2010-05-01  465.063   7.3749            85.75   871.8   632.397675   \n",
       "\n",
       "   Fuel tax  Road accident fund  Other_cost  \n",
       "0     150.0                  64     161.737  \n",
       "1     150.0                  64     161.737  \n",
       "2     150.0                  64     161.737  \n",
       "3     167.5                  72     161.737  \n",
       "4     167.5                  72     163.237  "
      ]
     },
     "execution_count": 31,
     "metadata": {},
     "output_type": "execute_result"
    }
   ],
   "source": [
    "import pandas as pd \n",
    "import graphing\n",
    "df = pd.read_excel('Data Collection\\Petrol.xlsx', sheet_name='Combinedv2')\n",
    "\n",
    "df1 = pd.read_excel('Data Collection\\BFP.xlsx', sheet_name='Combined')\n",
    "df1['Crude_Rands'] = (df1.Avg_Brent_Crude * df1.Ex_Rate)\n",
    "\n",
    "#New dataset with new columns\n",
    "to_drop = df[['BFP ', 'Fuel tax', 'Road accident fund']]\n",
    "data = df.drop(to_drop, axis=1)\n",
    "#Create a new column of Other cost\n",
    "data['Other_cost']=data.iloc[:,2:13].sum(axis=1)\n",
    "data_other = data['Other_cost']\n",
    "\n",
    "# merge all into one dataset\n",
    "all_df = [df1, to_drop, data_other]\n",
    "dataset = pd.concat(all_df, axis=1)\n",
    "\n",
    "#Drop duplicate BFP Column\n",
    "dataset = dataset.drop(['BFP '], axis=1)\n",
    "dataset.head()"
   ]
  },
  {
   "cell_type": "markdown",
   "metadata": {},
   "source": [
    "#### Data Visualization"
   ]
  },
  {
   "cell_type": "code",
   "execution_count": 32,
   "metadata": {},
   "outputs": [
    {
     "data": {
      "application/vnd.plotly.v1+json": {
       "config": {
        "plotlyServerURL": "https://plot.ly"
       },
       "data": [
        {
         "hovertemplate": "Avg_Brent_Crude=%{x}<br>Petrol=%{y}<extra></extra>",
         "legendgroup": "",
         "marker": {
          "color": "#636efa",
          "symbol": "circle"
         },
         "mode": "markers",
         "name": "",
         "orientation": "v",
         "showlegend": false,
         "type": "scatter",
         "x": [
          74.31,
          76.84,
          73.17,
          78.89,
          85.75,
          76.3,
          74.61,
          78.68,
          77.39,
          77.37,
          82.73,
          85.15,
          90.77,
          95.97,
          102.37,
          114.41,
          123.49,
          116.15,
          114.19,
          116.88,
          110.67,
          113.61,
          109.28,
          110.51,
          107.96,
          110.42,
          126.39,
          125.42,
          120.18,
          110.27,
          95.22,
          102.04,
          113.51,
          112.96,
          109.05,
          109.04,
          109.13,
          112.88,
          116.28,
          108.44,
          102.16,
          102.62,
          102.84,
          108.05,
          111.07,
          112.23,
          109.12,
          107.82,
          110.73,
          108.35,
          108.87,
          107.67,
          108.31,
          109.69,
          111.62,
          106.64,
          101.57,
          97.73,
          87.54,
          79.75,
          54.98,
          48.2,
          57.93,
          56.11,
          59.01,
          64.36,
          61.94,
          56.72,
          46.56,
          47.79,
          48.58,
          44.33,
          38.22,
          30.83,
          32.11,
          38.49,
          41.28,
          46.56,
          48.34,
          45.28,
          45.94,
          46.6,
          49.86,
          52.48,
          53.45,
          54.61,
          54.99,
          51.52,
          53.21,
          50.06,
          46.48,
          48.23,
          51.66,
          55.99,
          56.86,
          62.62,
          64.08,
          69.06,
          64.06,
          65.71,
          70.88,
          76.8,
          74.15,
          74.27,
          72.51,
          78.25,
          81.15,
          65.79,
          57.08,
          59.06,
          64.03,
          66.03,
          71.15,
          71.29,
          63.87,
          64.04,
          58.97,
          62.88,
          59.72,
          63.02,
          67.01,
          64.5,
          55.7,
          33.88,
          18.99,
          28.71,
          39.87,
          43.42,
          44.82,
          38.915,
          40.413,
          41.692,
          49.2,
          53.1,
          60,
          65.14,
          64.16,
          66,
          73,
          74,
          72.5,
          75.5,
          83.4,
          83.5,
          76,
          87,
          96.47
         ],
         "xaxis": "x",
         "y": [
          785.9999999999999,
          803.9999999999999,
          810.3,
          858.3,
          871.8,
          844.8,
          826.8,
          816.8,
          806.8,
          811.8,
          831.8,
          844.8,
          872.8000000000001,
          898.8000000000001,
          941.8,
          996.4,
          1025.4,
          1023.4,
          992.4,
          1009.4,
          1018.4,
          1054.4,
          1077.4,
          1056.8,
          1061.3999999999999,
          1095.3999999999999,
          1123.4,
          1193.7,
          1221.7,
          1166.7,
          1081.7,
          1103.7,
          1193.7,
          1216.7,
          1206.6999999999998,
          1197.6999999999998,
          1185.6999999999998,
          1226.7,
          1307.7000000000003,
          1319.6000000000001,
          1246.6000000000001,
          1238.6000000000004,
          1322.6000000000001,
          1354.6000000000001,
          1346.6000000000001,
          1326.6000000000001,
          1298.6000000000001,
          1315.6,
          1356.6000000000001,
          1395.6000000000001,
          1431.6,
          1441.7,
          1426.6999999999998,
          1404.7,
          1435.7,
          1435.7000000000003,
          1368.7,
          1363.7,
          1318.7,
          1248.4999999999998,
          1123.6,
          1030.6,
          1126.6,
          1288.7,
          1288.7,
          1335.7,
          1376.7,
          1325.6999999999998,
          1246.7,
          1250.7,
          1228.7,
          1229.7,
          1226.7,
          1232.7,
          1163.7,
          1252.4,
          1264.4,
          1316.4,
          1324.4,
          1225.4,
          1207.4,
          1250.4,
          1295.4,
          1275.3999999999999,
          1333.3999999999999,
          1362.3999999999999,
          1354.3999999999999,
          1329.7,
          1378.7,
          1353.7,
          1285.7,
          1304.7,
          1371.7,
          1400.7,
          1404.7,
          1458.7,
          1441.7,
          1411.7,
          1375.7,
          1447.8000000000002,
          1496.8000000000002,
          1578.8000000000002,
          1602.6599999999999,
          1602.8000000000002,
          1607.8,
          1707.8,
          1707.8,
          1523.8,
          1400.8,
          1407.8,
          1481.8,
          1613.2,
          1667.2,
          1676.2,
          1581.2,
          1592.2,
          1603.2,
          1621.2,
          1608.2,
          1629.8700000000003,
          1616.2,
          1603.2,
          1584.2,
          1396.2,
          1222.3000000000002,
          1340.3,
          1512.3,
          1517.3,
          1518.3000000000002,
          1486.307,
          1459.3000000000002,
          1446.6000000000001,
          1486.3,
          1567.3,
          1625.3,
          1731.5,
          1722.5,
          1712.5,
          1738.5,
          1829.5,
          1827.8,
          1826.8,
          1947.8,
          2028.8000000000002,
          1960.5,
          2013.5000000000002,
          2159.5
         ],
         "yaxis": "y"
        }
       ],
       "layout": {
        "legend": {
         "tracegroupgap": 0
        },
        "template": {
         "data": {
          "bar": [
           {
            "error_x": {
             "color": "#2a3f5f"
            },
            "error_y": {
             "color": "#2a3f5f"
            },
            "marker": {
             "line": {
              "color": "white",
              "width": 0.5
             },
             "pattern": {
              "fillmode": "overlay",
              "size": 10,
              "solidity": 0.2
             }
            },
            "type": "bar"
           }
          ],
          "barpolar": [
           {
            "marker": {
             "line": {
              "color": "white",
              "width": 0.5
             },
             "pattern": {
              "fillmode": "overlay",
              "size": 10,
              "solidity": 0.2
             }
            },
            "type": "barpolar"
           }
          ],
          "box": [
           {
            "boxpoints": "outliers",
            "notched": false,
            "type": "box"
           }
          ],
          "carpet": [
           {
            "aaxis": {
             "endlinecolor": "#2a3f5f",
             "gridcolor": "#C8D4E3",
             "linecolor": "#C8D4E3",
             "minorgridcolor": "#C8D4E3",
             "startlinecolor": "#2a3f5f"
            },
            "baxis": {
             "endlinecolor": "#2a3f5f",
             "gridcolor": "#C8D4E3",
             "linecolor": "#C8D4E3",
             "minorgridcolor": "#C8D4E3",
             "startlinecolor": "#2a3f5f"
            },
            "type": "carpet"
           }
          ],
          "choropleth": [
           {
            "colorbar": {
             "outlinewidth": 0,
             "ticks": ""
            },
            "type": "choropleth"
           }
          ],
          "contour": [
           {
            "colorbar": {
             "outlinewidth": 0,
             "ticks": ""
            },
            "colorscale": [
             [
              0,
              "#0d0887"
             ],
             [
              0.1111111111111111,
              "#46039f"
             ],
             [
              0.2222222222222222,
              "#7201a8"
             ],
             [
              0.3333333333333333,
              "#9c179e"
             ],
             [
              0.4444444444444444,
              "#bd3786"
             ],
             [
              0.5555555555555556,
              "#d8576b"
             ],
             [
              0.6666666666666666,
              "#ed7953"
             ],
             [
              0.7777777777777778,
              "#fb9f3a"
             ],
             [
              0.8888888888888888,
              "#fdca26"
             ],
             [
              1,
              "#f0f921"
             ]
            ],
            "type": "contour"
           }
          ],
          "contourcarpet": [
           {
            "colorbar": {
             "outlinewidth": 0,
             "ticks": ""
            },
            "type": "contourcarpet"
           }
          ],
          "heatmap": [
           {
            "colorbar": {
             "outlinewidth": 0,
             "ticks": ""
            },
            "colorscale": [
             [
              0,
              "#0d0887"
             ],
             [
              0.1111111111111111,
              "#46039f"
             ],
             [
              0.2222222222222222,
              "#7201a8"
             ],
             [
              0.3333333333333333,
              "#9c179e"
             ],
             [
              0.4444444444444444,
              "#bd3786"
             ],
             [
              0.5555555555555556,
              "#d8576b"
             ],
             [
              0.6666666666666666,
              "#ed7953"
             ],
             [
              0.7777777777777778,
              "#fb9f3a"
             ],
             [
              0.8888888888888888,
              "#fdca26"
             ],
             [
              1,
              "#f0f921"
             ]
            ],
            "type": "heatmap"
           }
          ],
          "heatmapgl": [
           {
            "colorbar": {
             "outlinewidth": 0,
             "ticks": ""
            },
            "colorscale": [
             [
              0,
              "#0d0887"
             ],
             [
              0.1111111111111111,
              "#46039f"
             ],
             [
              0.2222222222222222,
              "#7201a8"
             ],
             [
              0.3333333333333333,
              "#9c179e"
             ],
             [
              0.4444444444444444,
              "#bd3786"
             ],
             [
              0.5555555555555556,
              "#d8576b"
             ],
             [
              0.6666666666666666,
              "#ed7953"
             ],
             [
              0.7777777777777778,
              "#fb9f3a"
             ],
             [
              0.8888888888888888,
              "#fdca26"
             ],
             [
              1,
              "#f0f921"
             ]
            ],
            "type": "heatmapgl"
           }
          ],
          "histogram": [
           {
            "marker": {
             "line": {
              "width": 1
             },
             "pattern": {
              "fillmode": "overlay",
              "size": 10,
              "solidity": 0.2
             }
            },
            "type": "histogram"
           }
          ],
          "histogram2d": [
           {
            "colorbar": {
             "outlinewidth": 0,
             "ticks": ""
            },
            "colorscale": [
             [
              0,
              "#0d0887"
             ],
             [
              0.1111111111111111,
              "#46039f"
             ],
             [
              0.2222222222222222,
              "#7201a8"
             ],
             [
              0.3333333333333333,
              "#9c179e"
             ],
             [
              0.4444444444444444,
              "#bd3786"
             ],
             [
              0.5555555555555556,
              "#d8576b"
             ],
             [
              0.6666666666666666,
              "#ed7953"
             ],
             [
              0.7777777777777778,
              "#fb9f3a"
             ],
             [
              0.8888888888888888,
              "#fdca26"
             ],
             [
              1,
              "#f0f921"
             ]
            ],
            "type": "histogram2d"
           }
          ],
          "histogram2dcontour": [
           {
            "colorbar": {
             "outlinewidth": 0,
             "ticks": ""
            },
            "colorscale": [
             [
              0,
              "#0d0887"
             ],
             [
              0.1111111111111111,
              "#46039f"
             ],
             [
              0.2222222222222222,
              "#7201a8"
             ],
             [
              0.3333333333333333,
              "#9c179e"
             ],
             [
              0.4444444444444444,
              "#bd3786"
             ],
             [
              0.5555555555555556,
              "#d8576b"
             ],
             [
              0.6666666666666666,
              "#ed7953"
             ],
             [
              0.7777777777777778,
              "#fb9f3a"
             ],
             [
              0.8888888888888888,
              "#fdca26"
             ],
             [
              1,
              "#f0f921"
             ]
            ],
            "type": "histogram2dcontour"
           }
          ],
          "mesh3d": [
           {
            "colorbar": {
             "outlinewidth": 0,
             "ticks": ""
            },
            "type": "mesh3d"
           }
          ],
          "parcoords": [
           {
            "line": {
             "colorbar": {
              "outlinewidth": 0,
              "ticks": ""
             }
            },
            "type": "parcoords"
           }
          ],
          "pie": [
           {
            "automargin": true,
            "type": "pie"
           }
          ],
          "scatter": [
           {
            "marker": {
             "colorbar": {
              "outlinewidth": 0,
              "ticks": ""
             },
             "opacity": 0.8
            },
            "type": "scatter"
           }
          ],
          "scatter3d": [
           {
            "line": {
             "colorbar": {
              "outlinewidth": 0,
              "ticks": ""
             }
            },
            "marker": {
             "colorbar": {
              "outlinewidth": 0,
              "ticks": ""
             },
             "opacity": 0.8
            },
            "type": "scatter3d"
           }
          ],
          "scattercarpet": [
           {
            "marker": {
             "colorbar": {
              "outlinewidth": 0,
              "ticks": ""
             }
            },
            "type": "scattercarpet"
           }
          ],
          "scattergeo": [
           {
            "marker": {
             "colorbar": {
              "outlinewidth": 0,
              "ticks": ""
             }
            },
            "type": "scattergeo"
           }
          ],
          "scattergl": [
           {
            "marker": {
             "colorbar": {
              "outlinewidth": 0,
              "ticks": ""
             }
            },
            "type": "scattergl"
           }
          ],
          "scattermapbox": [
           {
            "marker": {
             "colorbar": {
              "outlinewidth": 0,
              "ticks": ""
             }
            },
            "type": "scattermapbox"
           }
          ],
          "scatterpolar": [
           {
            "marker": {
             "colorbar": {
              "outlinewidth": 0,
              "ticks": ""
             }
            },
            "type": "scatterpolar"
           }
          ],
          "scatterpolargl": [
           {
            "marker": {
             "colorbar": {
              "outlinewidth": 0,
              "ticks": ""
             }
            },
            "type": "scatterpolargl"
           }
          ],
          "scatterternary": [
           {
            "marker": {
             "colorbar": {
              "outlinewidth": 0,
              "ticks": ""
             }
            },
            "type": "scatterternary"
           }
          ],
          "surface": [
           {
            "colorbar": {
             "outlinewidth": 0,
             "ticks": ""
            },
            "colorscale": [
             [
              0,
              "#0d0887"
             ],
             [
              0.1111111111111111,
              "#46039f"
             ],
             [
              0.2222222222222222,
              "#7201a8"
             ],
             [
              0.3333333333333333,
              "#9c179e"
             ],
             [
              0.4444444444444444,
              "#bd3786"
             ],
             [
              0.5555555555555556,
              "#d8576b"
             ],
             [
              0.6666666666666666,
              "#ed7953"
             ],
             [
              0.7777777777777778,
              "#fb9f3a"
             ],
             [
              0.8888888888888888,
              "#fdca26"
             ],
             [
              1,
              "#f0f921"
             ]
            ],
            "type": "surface"
           }
          ],
          "table": [
           {
            "cells": {
             "fill": {
              "color": "#EBF0F8"
             },
             "line": {
              "color": "white"
             }
            },
            "header": {
             "fill": {
              "color": "#C8D4E3"
             },
             "line": {
              "color": "white"
             }
            },
            "type": "table"
           }
          ]
         },
         "layout": {
          "annotationdefaults": {
           "arrowcolor": "#2a3f5f",
           "arrowhead": 0,
           "arrowwidth": 1
          },
          "autotypenumbers": "strict",
          "coloraxis": {
           "colorbar": {
            "outlinewidth": 0,
            "ticks": ""
           }
          },
          "colorscale": {
           "diverging": [
            [
             0,
             "#8e0152"
            ],
            [
             0.1,
             "#c51b7d"
            ],
            [
             0.2,
             "#de77ae"
            ],
            [
             0.3,
             "#f1b6da"
            ],
            [
             0.4,
             "#fde0ef"
            ],
            [
             0.5,
             "#f7f7f7"
            ],
            [
             0.6,
             "#e6f5d0"
            ],
            [
             0.7,
             "#b8e186"
            ],
            [
             0.8,
             "#7fbc41"
            ],
            [
             0.9,
             "#4d9221"
            ],
            [
             1,
             "#276419"
            ]
           ],
           "sequential": [
            [
             0,
             "#0d0887"
            ],
            [
             0.1111111111111111,
             "#46039f"
            ],
            [
             0.2222222222222222,
             "#7201a8"
            ],
            [
             0.3333333333333333,
             "#9c179e"
            ],
            [
             0.4444444444444444,
             "#bd3786"
            ],
            [
             0.5555555555555556,
             "#d8576b"
            ],
            [
             0.6666666666666666,
             "#ed7953"
            ],
            [
             0.7777777777777778,
             "#fb9f3a"
            ],
            [
             0.8888888888888888,
             "#fdca26"
            ],
            [
             1,
             "#f0f921"
            ]
           ],
           "sequentialminus": [
            [
             0,
             "#0d0887"
            ],
            [
             0.1111111111111111,
             "#46039f"
            ],
            [
             0.2222222222222222,
             "#7201a8"
            ],
            [
             0.3333333333333333,
             "#9c179e"
            ],
            [
             0.4444444444444444,
             "#bd3786"
            ],
            [
             0.5555555555555556,
             "#d8576b"
            ],
            [
             0.6666666666666666,
             "#ed7953"
            ],
            [
             0.7777777777777778,
             "#fb9f3a"
            ],
            [
             0.8888888888888888,
             "#fdca26"
            ],
            [
             1,
             "#f0f921"
            ]
           ]
          },
          "colorway": [
           "#636efa",
           "#EF553B",
           "#00cc96",
           "#ab63fa",
           "#FFA15A",
           "#19d3f3",
           "#FF6692",
           "#B6E880",
           "#FF97FF",
           "#FECB52"
          ],
          "font": {
           "color": "#2a3f5f"
          },
          "geo": {
           "bgcolor": "white",
           "lakecolor": "white",
           "landcolor": "white",
           "showlakes": true,
           "showland": true,
           "subunitcolor": "#C8D4E3"
          },
          "height": 400,
          "hoverlabel": {
           "align": "left"
          },
          "hovermode": "closest",
          "mapbox": {
           "style": "light"
          },
          "margin": {
           "b": 2,
           "l": 2,
           "r": 2,
           "t": 30
          },
          "paper_bgcolor": "white",
          "plot_bgcolor": "white",
          "polar": {
           "angularaxis": {
            "gridcolor": "#EBF0F8",
            "linecolor": "#EBF0F8",
            "ticks": ""
           },
           "bgcolor": "white",
           "radialaxis": {
            "gridcolor": "#EBF0F8",
            "linecolor": "#EBF0F8",
            "ticks": ""
           }
          },
          "scene": {
           "camera": {
            "eye": {
             "x": 1.5,
             "y": 1.5,
             "z": 0.1
            }
           },
           "xaxis": {
            "backgroundcolor": "white",
            "gridcolor": "#DFE8F3",
            "gridwidth": 2,
            "linecolor": "#EBF0F8",
            "showbackground": true,
            "ticks": "",
            "zerolinecolor": "#EBF0F8"
           },
           "yaxis": {
            "backgroundcolor": "white",
            "gridcolor": "#DFE8F3",
            "gridwidth": 2,
            "linecolor": "#EBF0F8",
            "showbackground": true,
            "ticks": "",
            "zerolinecolor": "#EBF0F8"
           },
           "zaxis": {
            "backgroundcolor": "white",
            "gridcolor": "#DFE8F3",
            "gridwidth": 2,
            "linecolor": "#EBF0F8",
            "showbackground": true,
            "ticks": "",
            "zerolinecolor": "#EBF0F8"
           }
          },
          "shapedefaults": {
           "line": {
            "color": "#2a3f5f"
           }
          },
          "ternary": {
           "aaxis": {
            "gridcolor": "#DFE8F3",
            "linecolor": "#A2B1C6",
            "ticks": ""
           },
           "baxis": {
            "gridcolor": "#DFE8F3",
            "linecolor": "#A2B1C6",
            "ticks": ""
           },
           "bgcolor": "white",
           "caxis": {
            "gridcolor": "#DFE8F3",
            "linecolor": "#A2B1C6",
            "ticks": ""
           }
          },
          "title": {
           "x": 0.5
          },
          "xaxis": {
           "automargin": true,
           "gridcolor": "#EBF0F8",
           "linecolor": "#EBF0F8",
           "linewidth": 2,
           "showline": true,
           "ticks": "",
           "title": {
            "standoff": 15
           },
           "zerolinecolor": "#EBF0F8",
           "zerolinewidth": 2
          },
          "yaxis": {
           "automargin": true,
           "gridcolor": "#EBF0F8",
           "linecolor": "#EBF0F8",
           "linewidth": 2,
           "showline": true,
           "ticks": "",
           "title": {
            "standoff": 15
           },
           "zerolinecolor": "#EBF0F8",
           "zerolinewidth": 2
          }
         }
        },
        "title": {
         "text": "Crude Oil vs BFP"
        },
        "xaxis": {
         "anchor": "y",
         "domain": [
          0,
          1
         ],
         "title": {
          "text": "Avg_Brent_Crude"
         }
        },
        "yaxis": {
         "anchor": "x",
         "domain": [
          0,
          1
         ],
         "title": {
          "text": "Petrol"
         }
        }
       }
      }
     },
     "metadata": {},
     "output_type": "display_data"
    },
    {
     "data": {
      "application/vnd.plotly.v1+json": {
       "config": {
        "plotlyServerURL": "https://plot.ly"
       },
       "data": [
        {
         "hovertemplate": "Ex_Rate=%{x}<br>Petrol=%{y}<extra></extra>",
         "legendgroup": "",
         "marker": {
          "color": "#636efa",
          "symbol": "circle"
         },
         "mode": "markers",
         "name": "",
         "orientation": "v",
         "showlegend": false,
         "type": "scatter",
         "x": [
          7.5246,
          7.4735,
          7.6902,
          7.4753,
          7.3749,
          7.6575,
          7.6708,
          7.5757,
          7.3178,
          7.1859,
          6.9374,
          6.9767,
          6.901,
          6.8983,
          7.2334,
          6.9512,
          6.7701,
          6.8516,
          6.8353,
          6.8134,
          7.059,
          7.5657,
          8.0012,
          8.1398,
          8.2122,
          8.0841,
          7.679,
          7.6193,
          7.8536,
          8.1031,
          8.4189,
          8.2657,
          8.2758,
          8.3075,
          8.6479,
          8.8252,
          8.6833,
          8.7629,
          8.9067,
          9.1932,
          9.1598,
          9.2987,
          10.0487,
          9.9348,
          10.0928,
          10.0027,
          9.9452,
          10.2121,
          10.3581,
          10.8105,
          11.0054,
          10.7695,
          10.5576,
          10.4042,
          10.6743,
          10.6609,
          10.6781,
          10.6781,
          11.1004,
          11.0969,
          11.4749,
          11.5777,
          11.589,
          12.0423,
          12.0459,
          11.9454,
          12.3196,
          12.4128,
          12.8609,
          13.7884,
          13.4734,
          14.0938,
          14.8819,
          16.3276,
          15.7832,
          15.4655,
          14.6477,
          15.2048,
          15.1553,
          14.4407,
          13.8016,
          14.0057,
          13.9646,
          13.9125,
          13.8687,
          13.5813,
          13.2899,
          12.9148,
          13.5105,
          13.2587,
          12.8756,
          13.15,
          13.2152,
          13.1317,
          13.621,
          14.0964,
          13.2303,
          12.2029,
          11.8167,
          11.8489,
          11.9797,
          12.5099,
          13.2871,
          13.4713,
          13.943,
          14.7899,
          14.4892,
          14.0923,
          14.1778,
          13.9476,
          13.8038,
          14.3871,
          14.1401,
          14.4127,
          14.6227,
          14.0709,
          15.1729,
          14.8432,
          14.9293,
          14.8037,
          14.4784,
          14.3276,
          14.9789,
          16.4305,
          18.4771,
          18.1715,
          17.1271,
          16.8234,
          17.2814,
          16.7204,
          16.4657,
          15.6305,
          14.939,
          15.087,
          14.763,
          14.95,
          14.448,
          14.11,
          13.92,
          14.65,
          14.77,
          14.56,
          14.72,
          15.85,
          15.92,
          15.51,
          15.23
         ],
         "xaxis": "x",
         "y": [
          785.9999999999999,
          803.9999999999999,
          810.3,
          858.3,
          871.8,
          844.8,
          826.8,
          816.8,
          806.8,
          811.8,
          831.8,
          844.8,
          872.8000000000001,
          898.8000000000001,
          941.8,
          996.4,
          1025.4,
          1023.4,
          992.4,
          1009.4,
          1018.4,
          1054.4,
          1077.4,
          1056.8,
          1061.3999999999999,
          1095.3999999999999,
          1123.4,
          1193.7,
          1221.7,
          1166.7,
          1081.7,
          1103.7,
          1193.7,
          1216.7,
          1206.6999999999998,
          1197.6999999999998,
          1185.6999999999998,
          1226.7,
          1307.7000000000003,
          1319.6000000000001,
          1246.6000000000001,
          1238.6000000000004,
          1322.6000000000001,
          1354.6000000000001,
          1346.6000000000001,
          1326.6000000000001,
          1298.6000000000001,
          1315.6,
          1356.6000000000001,
          1395.6000000000001,
          1431.6,
          1441.7,
          1426.6999999999998,
          1404.7,
          1435.7,
          1435.7000000000003,
          1368.7,
          1363.7,
          1318.7,
          1248.4999999999998,
          1123.6,
          1030.6,
          1126.6,
          1288.7,
          1288.7,
          1335.7,
          1376.7,
          1325.6999999999998,
          1246.7,
          1250.7,
          1228.7,
          1229.7,
          1226.7,
          1232.7,
          1163.7,
          1252.4,
          1264.4,
          1316.4,
          1324.4,
          1225.4,
          1207.4,
          1250.4,
          1295.4,
          1275.3999999999999,
          1333.3999999999999,
          1362.3999999999999,
          1354.3999999999999,
          1329.7,
          1378.7,
          1353.7,
          1285.7,
          1304.7,
          1371.7,
          1400.7,
          1404.7,
          1458.7,
          1441.7,
          1411.7,
          1375.7,
          1447.8000000000002,
          1496.8000000000002,
          1578.8000000000002,
          1602.6599999999999,
          1602.8000000000002,
          1607.8,
          1707.8,
          1707.8,
          1523.8,
          1400.8,
          1407.8,
          1481.8,
          1613.2,
          1667.2,
          1676.2,
          1581.2,
          1592.2,
          1603.2,
          1621.2,
          1608.2,
          1629.8700000000003,
          1616.2,
          1603.2,
          1584.2,
          1396.2,
          1222.3000000000002,
          1340.3,
          1512.3,
          1517.3,
          1518.3000000000002,
          1486.307,
          1459.3000000000002,
          1446.6000000000001,
          1486.3,
          1567.3,
          1625.3,
          1731.5,
          1722.5,
          1712.5,
          1738.5,
          1829.5,
          1827.8,
          1826.8,
          1947.8,
          2028.8000000000002,
          1960.5,
          2013.5000000000002,
          2159.5
         ],
         "yaxis": "y"
        }
       ],
       "layout": {
        "legend": {
         "tracegroupgap": 0
        },
        "template": {
         "data": {
          "bar": [
           {
            "error_x": {
             "color": "#2a3f5f"
            },
            "error_y": {
             "color": "#2a3f5f"
            },
            "marker": {
             "line": {
              "color": "white",
              "width": 0.5
             },
             "pattern": {
              "fillmode": "overlay",
              "size": 10,
              "solidity": 0.2
             }
            },
            "type": "bar"
           }
          ],
          "barpolar": [
           {
            "marker": {
             "line": {
              "color": "white",
              "width": 0.5
             },
             "pattern": {
              "fillmode": "overlay",
              "size": 10,
              "solidity": 0.2
             }
            },
            "type": "barpolar"
           }
          ],
          "box": [
           {
            "boxpoints": "outliers",
            "notched": false,
            "type": "box"
           }
          ],
          "carpet": [
           {
            "aaxis": {
             "endlinecolor": "#2a3f5f",
             "gridcolor": "#C8D4E3",
             "linecolor": "#C8D4E3",
             "minorgridcolor": "#C8D4E3",
             "startlinecolor": "#2a3f5f"
            },
            "baxis": {
             "endlinecolor": "#2a3f5f",
             "gridcolor": "#C8D4E3",
             "linecolor": "#C8D4E3",
             "minorgridcolor": "#C8D4E3",
             "startlinecolor": "#2a3f5f"
            },
            "type": "carpet"
           }
          ],
          "choropleth": [
           {
            "colorbar": {
             "outlinewidth": 0,
             "ticks": ""
            },
            "type": "choropleth"
           }
          ],
          "contour": [
           {
            "colorbar": {
             "outlinewidth": 0,
             "ticks": ""
            },
            "colorscale": [
             [
              0,
              "#0d0887"
             ],
             [
              0.1111111111111111,
              "#46039f"
             ],
             [
              0.2222222222222222,
              "#7201a8"
             ],
             [
              0.3333333333333333,
              "#9c179e"
             ],
             [
              0.4444444444444444,
              "#bd3786"
             ],
             [
              0.5555555555555556,
              "#d8576b"
             ],
             [
              0.6666666666666666,
              "#ed7953"
             ],
             [
              0.7777777777777778,
              "#fb9f3a"
             ],
             [
              0.8888888888888888,
              "#fdca26"
             ],
             [
              1,
              "#f0f921"
             ]
            ],
            "type": "contour"
           }
          ],
          "contourcarpet": [
           {
            "colorbar": {
             "outlinewidth": 0,
             "ticks": ""
            },
            "type": "contourcarpet"
           }
          ],
          "heatmap": [
           {
            "colorbar": {
             "outlinewidth": 0,
             "ticks": ""
            },
            "colorscale": [
             [
              0,
              "#0d0887"
             ],
             [
              0.1111111111111111,
              "#46039f"
             ],
             [
              0.2222222222222222,
              "#7201a8"
             ],
             [
              0.3333333333333333,
              "#9c179e"
             ],
             [
              0.4444444444444444,
              "#bd3786"
             ],
             [
              0.5555555555555556,
              "#d8576b"
             ],
             [
              0.6666666666666666,
              "#ed7953"
             ],
             [
              0.7777777777777778,
              "#fb9f3a"
             ],
             [
              0.8888888888888888,
              "#fdca26"
             ],
             [
              1,
              "#f0f921"
             ]
            ],
            "type": "heatmap"
           }
          ],
          "heatmapgl": [
           {
            "colorbar": {
             "outlinewidth": 0,
             "ticks": ""
            },
            "colorscale": [
             [
              0,
              "#0d0887"
             ],
             [
              0.1111111111111111,
              "#46039f"
             ],
             [
              0.2222222222222222,
              "#7201a8"
             ],
             [
              0.3333333333333333,
              "#9c179e"
             ],
             [
              0.4444444444444444,
              "#bd3786"
             ],
             [
              0.5555555555555556,
              "#d8576b"
             ],
             [
              0.6666666666666666,
              "#ed7953"
             ],
             [
              0.7777777777777778,
              "#fb9f3a"
             ],
             [
              0.8888888888888888,
              "#fdca26"
             ],
             [
              1,
              "#f0f921"
             ]
            ],
            "type": "heatmapgl"
           }
          ],
          "histogram": [
           {
            "marker": {
             "line": {
              "width": 1
             },
             "pattern": {
              "fillmode": "overlay",
              "size": 10,
              "solidity": 0.2
             }
            },
            "type": "histogram"
           }
          ],
          "histogram2d": [
           {
            "colorbar": {
             "outlinewidth": 0,
             "ticks": ""
            },
            "colorscale": [
             [
              0,
              "#0d0887"
             ],
             [
              0.1111111111111111,
              "#46039f"
             ],
             [
              0.2222222222222222,
              "#7201a8"
             ],
             [
              0.3333333333333333,
              "#9c179e"
             ],
             [
              0.4444444444444444,
              "#bd3786"
             ],
             [
              0.5555555555555556,
              "#d8576b"
             ],
             [
              0.6666666666666666,
              "#ed7953"
             ],
             [
              0.7777777777777778,
              "#fb9f3a"
             ],
             [
              0.8888888888888888,
              "#fdca26"
             ],
             [
              1,
              "#f0f921"
             ]
            ],
            "type": "histogram2d"
           }
          ],
          "histogram2dcontour": [
           {
            "colorbar": {
             "outlinewidth": 0,
             "ticks": ""
            },
            "colorscale": [
             [
              0,
              "#0d0887"
             ],
             [
              0.1111111111111111,
              "#46039f"
             ],
             [
              0.2222222222222222,
              "#7201a8"
             ],
             [
              0.3333333333333333,
              "#9c179e"
             ],
             [
              0.4444444444444444,
              "#bd3786"
             ],
             [
              0.5555555555555556,
              "#d8576b"
             ],
             [
              0.6666666666666666,
              "#ed7953"
             ],
             [
              0.7777777777777778,
              "#fb9f3a"
             ],
             [
              0.8888888888888888,
              "#fdca26"
             ],
             [
              1,
              "#f0f921"
             ]
            ],
            "type": "histogram2dcontour"
           }
          ],
          "mesh3d": [
           {
            "colorbar": {
             "outlinewidth": 0,
             "ticks": ""
            },
            "type": "mesh3d"
           }
          ],
          "parcoords": [
           {
            "line": {
             "colorbar": {
              "outlinewidth": 0,
              "ticks": ""
             }
            },
            "type": "parcoords"
           }
          ],
          "pie": [
           {
            "automargin": true,
            "type": "pie"
           }
          ],
          "scatter": [
           {
            "marker": {
             "colorbar": {
              "outlinewidth": 0,
              "ticks": ""
             },
             "opacity": 0.8
            },
            "type": "scatter"
           }
          ],
          "scatter3d": [
           {
            "line": {
             "colorbar": {
              "outlinewidth": 0,
              "ticks": ""
             }
            },
            "marker": {
             "colorbar": {
              "outlinewidth": 0,
              "ticks": ""
             },
             "opacity": 0.8
            },
            "type": "scatter3d"
           }
          ],
          "scattercarpet": [
           {
            "marker": {
             "colorbar": {
              "outlinewidth": 0,
              "ticks": ""
             }
            },
            "type": "scattercarpet"
           }
          ],
          "scattergeo": [
           {
            "marker": {
             "colorbar": {
              "outlinewidth": 0,
              "ticks": ""
             }
            },
            "type": "scattergeo"
           }
          ],
          "scattergl": [
           {
            "marker": {
             "colorbar": {
              "outlinewidth": 0,
              "ticks": ""
             }
            },
            "type": "scattergl"
           }
          ],
          "scattermapbox": [
           {
            "marker": {
             "colorbar": {
              "outlinewidth": 0,
              "ticks": ""
             }
            },
            "type": "scattermapbox"
           }
          ],
          "scatterpolar": [
           {
            "marker": {
             "colorbar": {
              "outlinewidth": 0,
              "ticks": ""
             }
            },
            "type": "scatterpolar"
           }
          ],
          "scatterpolargl": [
           {
            "marker": {
             "colorbar": {
              "outlinewidth": 0,
              "ticks": ""
             }
            },
            "type": "scatterpolargl"
           }
          ],
          "scatterternary": [
           {
            "marker": {
             "colorbar": {
              "outlinewidth": 0,
              "ticks": ""
             }
            },
            "type": "scatterternary"
           }
          ],
          "surface": [
           {
            "colorbar": {
             "outlinewidth": 0,
             "ticks": ""
            },
            "colorscale": [
             [
              0,
              "#0d0887"
             ],
             [
              0.1111111111111111,
              "#46039f"
             ],
             [
              0.2222222222222222,
              "#7201a8"
             ],
             [
              0.3333333333333333,
              "#9c179e"
             ],
             [
              0.4444444444444444,
              "#bd3786"
             ],
             [
              0.5555555555555556,
              "#d8576b"
             ],
             [
              0.6666666666666666,
              "#ed7953"
             ],
             [
              0.7777777777777778,
              "#fb9f3a"
             ],
             [
              0.8888888888888888,
              "#fdca26"
             ],
             [
              1,
              "#f0f921"
             ]
            ],
            "type": "surface"
           }
          ],
          "table": [
           {
            "cells": {
             "fill": {
              "color": "#EBF0F8"
             },
             "line": {
              "color": "white"
             }
            },
            "header": {
             "fill": {
              "color": "#C8D4E3"
             },
             "line": {
              "color": "white"
             }
            },
            "type": "table"
           }
          ]
         },
         "layout": {
          "annotationdefaults": {
           "arrowcolor": "#2a3f5f",
           "arrowhead": 0,
           "arrowwidth": 1
          },
          "autotypenumbers": "strict",
          "coloraxis": {
           "colorbar": {
            "outlinewidth": 0,
            "ticks": ""
           }
          },
          "colorscale": {
           "diverging": [
            [
             0,
             "#8e0152"
            ],
            [
             0.1,
             "#c51b7d"
            ],
            [
             0.2,
             "#de77ae"
            ],
            [
             0.3,
             "#f1b6da"
            ],
            [
             0.4,
             "#fde0ef"
            ],
            [
             0.5,
             "#f7f7f7"
            ],
            [
             0.6,
             "#e6f5d0"
            ],
            [
             0.7,
             "#b8e186"
            ],
            [
             0.8,
             "#7fbc41"
            ],
            [
             0.9,
             "#4d9221"
            ],
            [
             1,
             "#276419"
            ]
           ],
           "sequential": [
            [
             0,
             "#0d0887"
            ],
            [
             0.1111111111111111,
             "#46039f"
            ],
            [
             0.2222222222222222,
             "#7201a8"
            ],
            [
             0.3333333333333333,
             "#9c179e"
            ],
            [
             0.4444444444444444,
             "#bd3786"
            ],
            [
             0.5555555555555556,
             "#d8576b"
            ],
            [
             0.6666666666666666,
             "#ed7953"
            ],
            [
             0.7777777777777778,
             "#fb9f3a"
            ],
            [
             0.8888888888888888,
             "#fdca26"
            ],
            [
             1,
             "#f0f921"
            ]
           ],
           "sequentialminus": [
            [
             0,
             "#0d0887"
            ],
            [
             0.1111111111111111,
             "#46039f"
            ],
            [
             0.2222222222222222,
             "#7201a8"
            ],
            [
             0.3333333333333333,
             "#9c179e"
            ],
            [
             0.4444444444444444,
             "#bd3786"
            ],
            [
             0.5555555555555556,
             "#d8576b"
            ],
            [
             0.6666666666666666,
             "#ed7953"
            ],
            [
             0.7777777777777778,
             "#fb9f3a"
            ],
            [
             0.8888888888888888,
             "#fdca26"
            ],
            [
             1,
             "#f0f921"
            ]
           ]
          },
          "colorway": [
           "#636efa",
           "#EF553B",
           "#00cc96",
           "#ab63fa",
           "#FFA15A",
           "#19d3f3",
           "#FF6692",
           "#B6E880",
           "#FF97FF",
           "#FECB52"
          ],
          "font": {
           "color": "#2a3f5f"
          },
          "geo": {
           "bgcolor": "white",
           "lakecolor": "white",
           "landcolor": "white",
           "showlakes": true,
           "showland": true,
           "subunitcolor": "#C8D4E3"
          },
          "height": 400,
          "hoverlabel": {
           "align": "left"
          },
          "hovermode": "closest",
          "mapbox": {
           "style": "light"
          },
          "margin": {
           "b": 2,
           "l": 2,
           "r": 2,
           "t": 30
          },
          "paper_bgcolor": "white",
          "plot_bgcolor": "white",
          "polar": {
           "angularaxis": {
            "gridcolor": "#EBF0F8",
            "linecolor": "#EBF0F8",
            "ticks": ""
           },
           "bgcolor": "white",
           "radialaxis": {
            "gridcolor": "#EBF0F8",
            "linecolor": "#EBF0F8",
            "ticks": ""
           }
          },
          "scene": {
           "camera": {
            "eye": {
             "x": 1.5,
             "y": 1.5,
             "z": 0.1
            }
           },
           "xaxis": {
            "backgroundcolor": "white",
            "gridcolor": "#DFE8F3",
            "gridwidth": 2,
            "linecolor": "#EBF0F8",
            "showbackground": true,
            "ticks": "",
            "zerolinecolor": "#EBF0F8"
           },
           "yaxis": {
            "backgroundcolor": "white",
            "gridcolor": "#DFE8F3",
            "gridwidth": 2,
            "linecolor": "#EBF0F8",
            "showbackground": true,
            "ticks": "",
            "zerolinecolor": "#EBF0F8"
           },
           "zaxis": {
            "backgroundcolor": "white",
            "gridcolor": "#DFE8F3",
            "gridwidth": 2,
            "linecolor": "#EBF0F8",
            "showbackground": true,
            "ticks": "",
            "zerolinecolor": "#EBF0F8"
           }
          },
          "shapedefaults": {
           "line": {
            "color": "#2a3f5f"
           }
          },
          "ternary": {
           "aaxis": {
            "gridcolor": "#DFE8F3",
            "linecolor": "#A2B1C6",
            "ticks": ""
           },
           "baxis": {
            "gridcolor": "#DFE8F3",
            "linecolor": "#A2B1C6",
            "ticks": ""
           },
           "bgcolor": "white",
           "caxis": {
            "gridcolor": "#DFE8F3",
            "linecolor": "#A2B1C6",
            "ticks": ""
           }
          },
          "title": {
           "x": 0.5
          },
          "xaxis": {
           "automargin": true,
           "gridcolor": "#EBF0F8",
           "linecolor": "#EBF0F8",
           "linewidth": 2,
           "showline": true,
           "ticks": "",
           "title": {
            "standoff": 15
           },
           "zerolinecolor": "#EBF0F8",
           "zerolinewidth": 2
          },
          "yaxis": {
           "automargin": true,
           "gridcolor": "#EBF0F8",
           "linecolor": "#EBF0F8",
           "linewidth": 2,
           "showline": true,
           "ticks": "",
           "title": {
            "standoff": 15
           },
           "zerolinecolor": "#EBF0F8",
           "zerolinewidth": 2
          }
         }
        },
        "title": {
         "text": "Exchange Rate vs BFP"
        },
        "xaxis": {
         "anchor": "y",
         "domain": [
          0,
          1
         ],
         "title": {
          "text": "Ex_Rate"
         }
        },
        "yaxis": {
         "anchor": "x",
         "domain": [
          0,
          1
         ],
         "title": {
          "text": "Petrol"
         }
        }
       }
      }
     },
     "metadata": {},
     "output_type": "display_data"
    }
   ],
   "source": [
    "import plotly.express as px\n",
    "\n",
    "fig = px.scatter(dataset, x =\"Avg_Brent_Crude\",y= \"Petrol\", title='Crude Oil vs BFP')\n",
    "fig1 = px.scatter(dataset, x =\"Ex_Rate\", y= \"Petrol\", title='Exchange Rate vs BFP')\n",
    "\n",
    "fig.show()\n",
    "fig1.show()"
   ]
  },
  {
   "cell_type": "code",
   "execution_count": 33,
   "metadata": {},
   "outputs": [
    {
     "data": {
      "application/vnd.plotly.v1+json": {
       "config": {
        "plotlyServerURL": "https://plot.ly"
       },
       "data": [
        {
         "hovertemplate": "Avg_Brent_Crude=%{x}<br>BFP=%{y}<extra></extra>",
         "legendgroup": "",
         "marker": {
          "color": "#636efa",
          "symbol": "circle"
         },
         "mode": "markers",
         "name": "",
         "orientation": "v",
         "showlegend": false,
         "type": "scatter",
         "x": [
          74.31,
          76.84,
          73.17,
          78.89,
          85.75,
          76.3,
          74.61,
          78.68,
          77.39,
          77.37,
          82.73,
          85.15,
          90.77,
          95.97,
          102.37,
          114.41,
          123.49,
          116.15,
          114.19,
          116.88,
          110.67,
          113.61,
          109.28,
          110.51,
          107.96,
          110.42,
          126.39,
          125.42,
          120.18,
          110.27,
          95.22,
          102.04,
          113.51,
          112.96,
          109.05,
          109.04,
          109.13,
          112.88,
          116.28,
          108.44,
          102.16,
          102.62,
          102.84,
          108.05,
          111.07,
          112.23,
          109.12,
          107.82,
          110.73,
          108.35,
          108.87,
          107.67,
          108.31,
          109.69,
          111.62,
          106.64,
          101.57,
          97.73,
          87.54,
          79.75,
          54.98,
          48.2,
          57.93,
          56.11,
          59.01,
          64.36,
          61.94,
          56.72,
          46.56,
          47.79,
          48.58,
          44.33,
          38.22,
          30.83,
          32.11,
          38.49,
          41.28,
          46.56,
          48.34,
          45.28,
          45.94,
          46.6,
          49.86,
          52.48,
          53.45,
          54.61,
          54.99,
          51.52,
          53.21,
          50.06,
          46.48,
          48.23,
          51.66,
          55.99,
          56.86,
          62.62,
          64.08,
          69.06,
          64.06,
          65.71,
          70.88,
          76.8,
          74.15,
          74.27,
          72.51,
          78.25,
          81.15,
          65.79,
          57.08,
          59.06,
          64.03,
          66.03,
          71.15,
          71.29,
          63.87,
          64.04,
          58.97,
          62.88,
          59.72,
          63.02,
          67.01,
          64.5,
          55.7,
          33.88,
          18.99,
          28.71,
          39.87,
          43.42,
          44.82,
          38.915,
          40.413,
          41.692,
          49.2,
          53.1,
          60,
          65.14,
          64.16,
          66,
          73,
          74,
          72.5,
          75.5,
          83.4,
          83.5,
          76,
          87,
          96.47
         ],
         "xaxis": "x",
         "y": [
          406.263,
          424.263,
          430.563,
          453.063,
          465.063,
          438.063,
          420.063,
          410.063,
          400.063,
          396.563,
          416.563,
          429.563,
          453.949,
          479.949,
          522.949,
          552.149,
          581.149,
          579.149,
          548.149,
          565.149,
          574.149,
          606.149,
          629.149,
          603.55,
          598.55,
          632.55,
          656.17,
          694.57,
          718.17,
          660.99,
          582.57,
          608.95,
          698.45,
          708.29,
          696.09,
          673.19,
          664.77,
          707.97,
          784.59,
          760.43,
          693.99,
          696.97,
          778.77,
          799.81,
          796.99,
          772.09,
          746.29,
          756.37,
          792.19,
          828.99,
          862.79,
          848.59,
          842.37,
          826.95,
          857.95,
          853.57,
          786.75,
          781.75,
          736.75,
          656.25,
          533.25,
          440.25,
          536.25,
          615.65,
          615.65,
          662.65,
          703.65,
          652.47,
          578.87,
          582.87,
          560.87,
          553.97,
          550.97,
          556.97,
          487.97,
          540.97,
          552.97,
          604.97,
          612.97,
          513.97,
          495.97,
          538.97,
          583.97,
          543.87,
          591.87,
          620.87,
          612.87,
          548.67,
          597.67,
          572.67,
          504.67,
          523.67,
          586.07,
          615.07,
          619.07,
          686.17,
          652.17,
          622.17,
          586.17,
          596.07,
          645.07,
          727.07,
          750.07,
          751.07,
          751.17,
          851.17,
          829.25,
          637.55,
          536.47,
          543.47,
          617.47,
          723.17,
          777.17,
          764.01,
          677.79,
          693.17,
          704.17,
          722.17,
          709.17,
          719.57,
          699.97,
          686.97,
          667.97,
          448.67,
          274.77,
          392.77,
          564.774,
          569.77,
          565.47,
          533.47,
          506.47,
          479.17,
          519.17,
          600.17,
          665.17,
          736.17,
          727.17,
          717.17,
          743.17,
          827.59,
          817.11,
          818.31,
          937.11,
          973.97,
          903.47,
          969.63,
          1100.27
         ],
         "yaxis": "y"
        },
        {
         "hovertemplate": "<b>OLS trendline</b><br>BFP = 2.23956 * Avg_Brent_Crude + 469.985<br>R<sup>2</sup>=0.183302<br><br>Avg_Brent_Crude=%{x}<br>BFP=%{y} <b>(trend)</b><extra></extra>",
         "legendgroup": "",
         "line": {
          "color": "red"
         },
         "marker": {
          "color": "#636efa",
          "symbol": "circle"
         },
         "mode": "lines",
         "name": "",
         "showlegend": false,
         "type": "scatter",
         "x": [
          18.99,
          28.71,
          30.83,
          32.11,
          33.88,
          38.22,
          38.49,
          38.915,
          39.87,
          40.413,
          41.28,
          41.692,
          43.42,
          44.33,
          44.82,
          45.28,
          45.94,
          46.48,
          46.56,
          46.56,
          46.6,
          47.79,
          48.2,
          48.23,
          48.34,
          48.58,
          49.2,
          49.86,
          50.06,
          51.52,
          51.66,
          52.48,
          53.1,
          53.21,
          53.45,
          54.61,
          54.98,
          54.99,
          55.7,
          55.99,
          56.11,
          56.72,
          56.86,
          57.08,
          57.93,
          58.97,
          59.01,
          59.06,
          59.72,
          60,
          61.94,
          62.62,
          62.88,
          63.02,
          63.87,
          64.03,
          64.04,
          64.06,
          64.08,
          64.16,
          64.36,
          64.5,
          65.14,
          65.71,
          65.79,
          66,
          66.03,
          67.01,
          69.06,
          70.88,
          71.15,
          71.29,
          72.5,
          72.51,
          73,
          73.17,
          74,
          74.15,
          74.27,
          74.31,
          74.61,
          75.5,
          76,
          76.3,
          76.8,
          76.84,
          77.37,
          77.39,
          78.25,
          78.68,
          78.89,
          79.75,
          81.15,
          82.73,
          83.4,
          83.5,
          85.15,
          85.75,
          87,
          87.54,
          90.77,
          95.22,
          95.97,
          96.47,
          97.73,
          101.57,
          102.04,
          102.16,
          102.37,
          102.62,
          102.84,
          106.64,
          107.67,
          107.82,
          107.96,
          108.05,
          108.31,
          108.35,
          108.44,
          108.87,
          109.04,
          109.05,
          109.12,
          109.13,
          109.28,
          109.69,
          110.27,
          110.42,
          110.51,
          110.67,
          110.73,
          111.07,
          111.62,
          112.23,
          112.88,
          112.96,
          113.51,
          113.61,
          114.19,
          114.41,
          116.15,
          116.28,
          116.88,
          120.18,
          123.49,
          125.42,
          126.39
         ],
         "xaxis": "x",
         "y": [
          512.5140760411658,
          534.2825805873292,
          539.030443718797,
          541.8970780623246,
          545.861095865484,
          555.5807779365075,
          556.1854586183454,
          557.1372708027197,
          559.2760487699611,
          560.4921288078795,
          562.4338256640034,
          563.3565235933263,
          567.2264799570887,
          569.2644778106904,
          570.361861270322,
          571.3920579875273,
          572.8701663209088,
          574.0795276845845,
          574.258692331055,
          574.258692331055,
          574.3482746542902,
          577.0133487705386,
          577.9315675836999,
          577.9987543261263,
          578.2451057150232,
          578.7825996544346,
          580.1711256645808,
          581.6492339979623,
          582.0971456141385,
          585.3669004122248,
          585.6804385435481,
          587.5168761698706,
          588.9054021800167,
          589.1517535689137,
          589.6892475083251,
          592.287134882147,
          593.115771372073,
          593.1381669528819,
          594.7282531903073,
          595.3777250337629,
          595.6464720034686,
          597.012602432806,
          597.3261405641293,
          597.8188433419232,
          599.7224677106719,
          602.0516081147882,
          602.1411904380235,
          602.2531683420675,
          603.731276675449,
          604.3583529380957,
          608.7030956150048,
          610.2259951100039,
          610.808280211033,
          611.1218183423563,
          613.0254427111051,
          613.383772004046,
          613.4061675848549,
          613.4509587464725,
          613.4957499080901,
          613.6749145545606,
          614.1228261707367,
          614.4363643020602,
          615.869681473824,
          617.1462295799262,
          617.3253942263966,
          617.7957014233816,
          617.862888165808,
          620.0576550850715,
          624.6487491508775,
          628.724744858081,
          629.3294255399188,
          629.6429636712421,
          632.3528289491081,
          632.375224529917,
          633.4726079895486,
          633.8533328632984,
          635.7121660704297,
          636.0480997825618,
          636.3168467522676,
          636.4064290755027,
          637.078296499767,
          639.0715031917512,
          640.1912822321916,
          640.8631496564559,
          641.9829286968965,
          642.0725110201317,
          643.2594768029986,
          643.3042679646162,
          645.2302879141739,
          646.1932978889528,
          646.6636050859378,
          648.5896250354954,
          651.7250063487288,
          655.2635081165208,
          656.764012030711,
          656.9879678387991,
          660.6832386722529,
          662.0269735207814,
          664.8264211218826,
          666.0357824855585,
          673.269555086804,
          683.2355885467244,
          684.9152571073852,
          686.0350361478257,
          688.8568793297358,
          697.4567823603188,
          698.509374658333,
          698.7781216280385,
          699.2484288250237,
          699.8083183452438,
          700.3010211230377,
          708.8113418303855,
          711.1180866536929,
          711.454020365825,
          711.7675584971483,
          711.9691187244276,
          712.5514038254568,
          712.6409861486919,
          712.8425463759713,
          713.8055563507501,
          714.1862812244999,
          714.2086768053086,
          714.3654458709703,
          714.3878414517792,
          714.7237751639113,
          715.6419939770725,
          716.9409376639835,
          717.2768713761157,
          717.4784316033949,
          717.8367608963359,
          717.9711343811888,
          718.7325841286882,
          719.9643410731728,
          721.3304715025102,
          722.7861842550828,
          722.9653489015534,
          724.197105846038,
          724.421061654126,
          725.720005341037,
          726.2127081188308,
          730.1095391795639,
          730.4006817300783,
          731.7444165786069,
          739.1349582455142,
          746.5478954932303,
          750.8702425893307,
          753.0426139277852
         ],
         "yaxis": "y"
        }
       ],
       "layout": {
        "legend": {
         "tracegroupgap": 0
        },
        "template": {
         "data": {
          "bar": [
           {
            "error_x": {
             "color": "#2a3f5f"
            },
            "error_y": {
             "color": "#2a3f5f"
            },
            "marker": {
             "line": {
              "color": "white",
              "width": 0.5
             },
             "pattern": {
              "fillmode": "overlay",
              "size": 10,
              "solidity": 0.2
             }
            },
            "type": "bar"
           }
          ],
          "barpolar": [
           {
            "marker": {
             "line": {
              "color": "white",
              "width": 0.5
             },
             "pattern": {
              "fillmode": "overlay",
              "size": 10,
              "solidity": 0.2
             }
            },
            "type": "barpolar"
           }
          ],
          "box": [
           {
            "boxpoints": "outliers",
            "notched": false,
            "type": "box"
           }
          ],
          "carpet": [
           {
            "aaxis": {
             "endlinecolor": "#2a3f5f",
             "gridcolor": "#C8D4E3",
             "linecolor": "#C8D4E3",
             "minorgridcolor": "#C8D4E3",
             "startlinecolor": "#2a3f5f"
            },
            "baxis": {
             "endlinecolor": "#2a3f5f",
             "gridcolor": "#C8D4E3",
             "linecolor": "#C8D4E3",
             "minorgridcolor": "#C8D4E3",
             "startlinecolor": "#2a3f5f"
            },
            "type": "carpet"
           }
          ],
          "choropleth": [
           {
            "colorbar": {
             "outlinewidth": 0,
             "ticks": ""
            },
            "type": "choropleth"
           }
          ],
          "contour": [
           {
            "colorbar": {
             "outlinewidth": 0,
             "ticks": ""
            },
            "colorscale": [
             [
              0,
              "#0d0887"
             ],
             [
              0.1111111111111111,
              "#46039f"
             ],
             [
              0.2222222222222222,
              "#7201a8"
             ],
             [
              0.3333333333333333,
              "#9c179e"
             ],
             [
              0.4444444444444444,
              "#bd3786"
             ],
             [
              0.5555555555555556,
              "#d8576b"
             ],
             [
              0.6666666666666666,
              "#ed7953"
             ],
             [
              0.7777777777777778,
              "#fb9f3a"
             ],
             [
              0.8888888888888888,
              "#fdca26"
             ],
             [
              1,
              "#f0f921"
             ]
            ],
            "type": "contour"
           }
          ],
          "contourcarpet": [
           {
            "colorbar": {
             "outlinewidth": 0,
             "ticks": ""
            },
            "type": "contourcarpet"
           }
          ],
          "heatmap": [
           {
            "colorbar": {
             "outlinewidth": 0,
             "ticks": ""
            },
            "colorscale": [
             [
              0,
              "#0d0887"
             ],
             [
              0.1111111111111111,
              "#46039f"
             ],
             [
              0.2222222222222222,
              "#7201a8"
             ],
             [
              0.3333333333333333,
              "#9c179e"
             ],
             [
              0.4444444444444444,
              "#bd3786"
             ],
             [
              0.5555555555555556,
              "#d8576b"
             ],
             [
              0.6666666666666666,
              "#ed7953"
             ],
             [
              0.7777777777777778,
              "#fb9f3a"
             ],
             [
              0.8888888888888888,
              "#fdca26"
             ],
             [
              1,
              "#f0f921"
             ]
            ],
            "type": "heatmap"
           }
          ],
          "heatmapgl": [
           {
            "colorbar": {
             "outlinewidth": 0,
             "ticks": ""
            },
            "colorscale": [
             [
              0,
              "#0d0887"
             ],
             [
              0.1111111111111111,
              "#46039f"
             ],
             [
              0.2222222222222222,
              "#7201a8"
             ],
             [
              0.3333333333333333,
              "#9c179e"
             ],
             [
              0.4444444444444444,
              "#bd3786"
             ],
             [
              0.5555555555555556,
              "#d8576b"
             ],
             [
              0.6666666666666666,
              "#ed7953"
             ],
             [
              0.7777777777777778,
              "#fb9f3a"
             ],
             [
              0.8888888888888888,
              "#fdca26"
             ],
             [
              1,
              "#f0f921"
             ]
            ],
            "type": "heatmapgl"
           }
          ],
          "histogram": [
           {
            "marker": {
             "line": {
              "width": 1
             },
             "pattern": {
              "fillmode": "overlay",
              "size": 10,
              "solidity": 0.2
             }
            },
            "type": "histogram"
           }
          ],
          "histogram2d": [
           {
            "colorbar": {
             "outlinewidth": 0,
             "ticks": ""
            },
            "colorscale": [
             [
              0,
              "#0d0887"
             ],
             [
              0.1111111111111111,
              "#46039f"
             ],
             [
              0.2222222222222222,
              "#7201a8"
             ],
             [
              0.3333333333333333,
              "#9c179e"
             ],
             [
              0.4444444444444444,
              "#bd3786"
             ],
             [
              0.5555555555555556,
              "#d8576b"
             ],
             [
              0.6666666666666666,
              "#ed7953"
             ],
             [
              0.7777777777777778,
              "#fb9f3a"
             ],
             [
              0.8888888888888888,
              "#fdca26"
             ],
             [
              1,
              "#f0f921"
             ]
            ],
            "type": "histogram2d"
           }
          ],
          "histogram2dcontour": [
           {
            "colorbar": {
             "outlinewidth": 0,
             "ticks": ""
            },
            "colorscale": [
             [
              0,
              "#0d0887"
             ],
             [
              0.1111111111111111,
              "#46039f"
             ],
             [
              0.2222222222222222,
              "#7201a8"
             ],
             [
              0.3333333333333333,
              "#9c179e"
             ],
             [
              0.4444444444444444,
              "#bd3786"
             ],
             [
              0.5555555555555556,
              "#d8576b"
             ],
             [
              0.6666666666666666,
              "#ed7953"
             ],
             [
              0.7777777777777778,
              "#fb9f3a"
             ],
             [
              0.8888888888888888,
              "#fdca26"
             ],
             [
              1,
              "#f0f921"
             ]
            ],
            "type": "histogram2dcontour"
           }
          ],
          "mesh3d": [
           {
            "colorbar": {
             "outlinewidth": 0,
             "ticks": ""
            },
            "type": "mesh3d"
           }
          ],
          "parcoords": [
           {
            "line": {
             "colorbar": {
              "outlinewidth": 0,
              "ticks": ""
             }
            },
            "type": "parcoords"
           }
          ],
          "pie": [
           {
            "automargin": true,
            "type": "pie"
           }
          ],
          "scatter": [
           {
            "marker": {
             "colorbar": {
              "outlinewidth": 0,
              "ticks": ""
             },
             "opacity": 0.8
            },
            "type": "scatter"
           }
          ],
          "scatter3d": [
           {
            "line": {
             "colorbar": {
              "outlinewidth": 0,
              "ticks": ""
             }
            },
            "marker": {
             "colorbar": {
              "outlinewidth": 0,
              "ticks": ""
             },
             "opacity": 0.8
            },
            "type": "scatter3d"
           }
          ],
          "scattercarpet": [
           {
            "marker": {
             "colorbar": {
              "outlinewidth": 0,
              "ticks": ""
             }
            },
            "type": "scattercarpet"
           }
          ],
          "scattergeo": [
           {
            "marker": {
             "colorbar": {
              "outlinewidth": 0,
              "ticks": ""
             }
            },
            "type": "scattergeo"
           }
          ],
          "scattergl": [
           {
            "marker": {
             "colorbar": {
              "outlinewidth": 0,
              "ticks": ""
             }
            },
            "type": "scattergl"
           }
          ],
          "scattermapbox": [
           {
            "marker": {
             "colorbar": {
              "outlinewidth": 0,
              "ticks": ""
             }
            },
            "type": "scattermapbox"
           }
          ],
          "scatterpolar": [
           {
            "marker": {
             "colorbar": {
              "outlinewidth": 0,
              "ticks": ""
             }
            },
            "type": "scatterpolar"
           }
          ],
          "scatterpolargl": [
           {
            "marker": {
             "colorbar": {
              "outlinewidth": 0,
              "ticks": ""
             }
            },
            "type": "scatterpolargl"
           }
          ],
          "scatterternary": [
           {
            "marker": {
             "colorbar": {
              "outlinewidth": 0,
              "ticks": ""
             }
            },
            "type": "scatterternary"
           }
          ],
          "surface": [
           {
            "colorbar": {
             "outlinewidth": 0,
             "ticks": ""
            },
            "colorscale": [
             [
              0,
              "#0d0887"
             ],
             [
              0.1111111111111111,
              "#46039f"
             ],
             [
              0.2222222222222222,
              "#7201a8"
             ],
             [
              0.3333333333333333,
              "#9c179e"
             ],
             [
              0.4444444444444444,
              "#bd3786"
             ],
             [
              0.5555555555555556,
              "#d8576b"
             ],
             [
              0.6666666666666666,
              "#ed7953"
             ],
             [
              0.7777777777777778,
              "#fb9f3a"
             ],
             [
              0.8888888888888888,
              "#fdca26"
             ],
             [
              1,
              "#f0f921"
             ]
            ],
            "type": "surface"
           }
          ],
          "table": [
           {
            "cells": {
             "fill": {
              "color": "#EBF0F8"
             },
             "line": {
              "color": "white"
             }
            },
            "header": {
             "fill": {
              "color": "#C8D4E3"
             },
             "line": {
              "color": "white"
             }
            },
            "type": "table"
           }
          ]
         },
         "layout": {
          "annotationdefaults": {
           "arrowcolor": "#2a3f5f",
           "arrowhead": 0,
           "arrowwidth": 1
          },
          "autotypenumbers": "strict",
          "coloraxis": {
           "colorbar": {
            "outlinewidth": 0,
            "ticks": ""
           }
          },
          "colorscale": {
           "diverging": [
            [
             0,
             "#8e0152"
            ],
            [
             0.1,
             "#c51b7d"
            ],
            [
             0.2,
             "#de77ae"
            ],
            [
             0.3,
             "#f1b6da"
            ],
            [
             0.4,
             "#fde0ef"
            ],
            [
             0.5,
             "#f7f7f7"
            ],
            [
             0.6,
             "#e6f5d0"
            ],
            [
             0.7,
             "#b8e186"
            ],
            [
             0.8,
             "#7fbc41"
            ],
            [
             0.9,
             "#4d9221"
            ],
            [
             1,
             "#276419"
            ]
           ],
           "sequential": [
            [
             0,
             "#0d0887"
            ],
            [
             0.1111111111111111,
             "#46039f"
            ],
            [
             0.2222222222222222,
             "#7201a8"
            ],
            [
             0.3333333333333333,
             "#9c179e"
            ],
            [
             0.4444444444444444,
             "#bd3786"
            ],
            [
             0.5555555555555556,
             "#d8576b"
            ],
            [
             0.6666666666666666,
             "#ed7953"
            ],
            [
             0.7777777777777778,
             "#fb9f3a"
            ],
            [
             0.8888888888888888,
             "#fdca26"
            ],
            [
             1,
             "#f0f921"
            ]
           ],
           "sequentialminus": [
            [
             0,
             "#0d0887"
            ],
            [
             0.1111111111111111,
             "#46039f"
            ],
            [
             0.2222222222222222,
             "#7201a8"
            ],
            [
             0.3333333333333333,
             "#9c179e"
            ],
            [
             0.4444444444444444,
             "#bd3786"
            ],
            [
             0.5555555555555556,
             "#d8576b"
            ],
            [
             0.6666666666666666,
             "#ed7953"
            ],
            [
             0.7777777777777778,
             "#fb9f3a"
            ],
            [
             0.8888888888888888,
             "#fdca26"
            ],
            [
             1,
             "#f0f921"
            ]
           ]
          },
          "colorway": [
           "#636efa",
           "#EF553B",
           "#00cc96",
           "#ab63fa",
           "#FFA15A",
           "#19d3f3",
           "#FF6692",
           "#B6E880",
           "#FF97FF",
           "#FECB52"
          ],
          "font": {
           "color": "#2a3f5f"
          },
          "geo": {
           "bgcolor": "white",
           "lakecolor": "white",
           "landcolor": "white",
           "showlakes": true,
           "showland": true,
           "subunitcolor": "#C8D4E3"
          },
          "height": 400,
          "hoverlabel": {
           "align": "left"
          },
          "hovermode": "closest",
          "mapbox": {
           "style": "light"
          },
          "margin": {
           "b": 2,
           "l": 2,
           "r": 2,
           "t": 30
          },
          "paper_bgcolor": "white",
          "plot_bgcolor": "white",
          "polar": {
           "angularaxis": {
            "gridcolor": "#EBF0F8",
            "linecolor": "#EBF0F8",
            "ticks": ""
           },
           "bgcolor": "white",
           "radialaxis": {
            "gridcolor": "#EBF0F8",
            "linecolor": "#EBF0F8",
            "ticks": ""
           }
          },
          "scene": {
           "camera": {
            "eye": {
             "x": 1.5,
             "y": 1.5,
             "z": 0.1
            }
           },
           "xaxis": {
            "backgroundcolor": "white",
            "gridcolor": "#DFE8F3",
            "gridwidth": 2,
            "linecolor": "#EBF0F8",
            "showbackground": true,
            "ticks": "",
            "zerolinecolor": "#EBF0F8"
           },
           "yaxis": {
            "backgroundcolor": "white",
            "gridcolor": "#DFE8F3",
            "gridwidth": 2,
            "linecolor": "#EBF0F8",
            "showbackground": true,
            "ticks": "",
            "zerolinecolor": "#EBF0F8"
           },
           "zaxis": {
            "backgroundcolor": "white",
            "gridcolor": "#DFE8F3",
            "gridwidth": 2,
            "linecolor": "#EBF0F8",
            "showbackground": true,
            "ticks": "",
            "zerolinecolor": "#EBF0F8"
           }
          },
          "shapedefaults": {
           "line": {
            "color": "#2a3f5f"
           }
          },
          "ternary": {
           "aaxis": {
            "gridcolor": "#DFE8F3",
            "linecolor": "#A2B1C6",
            "ticks": ""
           },
           "baxis": {
            "gridcolor": "#DFE8F3",
            "linecolor": "#A2B1C6",
            "ticks": ""
           },
           "bgcolor": "white",
           "caxis": {
            "gridcolor": "#DFE8F3",
            "linecolor": "#A2B1C6",
            "ticks": ""
           }
          },
          "title": {
           "x": 0.5
          },
          "xaxis": {
           "automargin": true,
           "gridcolor": "#EBF0F8",
           "linecolor": "#EBF0F8",
           "linewidth": 2,
           "showline": true,
           "ticks": "",
           "title": {
            "standoff": 15
           },
           "zerolinecolor": "#EBF0F8",
           "zerolinewidth": 2
          },
          "yaxis": {
           "automargin": true,
           "gridcolor": "#EBF0F8",
           "linecolor": "#EBF0F8",
           "linewidth": 2,
           "showline": true,
           "ticks": "",
           "title": {
            "standoff": 15
           },
           "zerolinecolor": "#EBF0F8",
           "zerolinewidth": 2
          }
         }
        },
        "title": {
         "text": "Crude Oil vs BFP"
        },
        "xaxis": {
         "anchor": "y",
         "domain": [
          0,
          1
         ],
         "title": {
          "text": "Avg_Brent_Crude"
         }
        },
        "yaxis": {
         "anchor": "x",
         "domain": [
          0,
          1
         ],
         "title": {
          "text": "BFP"
         }
        }
       }
      }
     },
     "metadata": {},
     "output_type": "display_data"
    },
    {
     "data": {
      "application/vnd.plotly.v1+json": {
       "config": {
        "plotlyServerURL": "https://plot.ly"
       },
       "data": [
        {
         "hovertemplate": "Ex_Rate=%{x}<br>BFP=%{y}<extra></extra>",
         "legendgroup": "",
         "marker": {
          "color": "#636efa",
          "symbol": "circle"
         },
         "mode": "markers",
         "name": "",
         "orientation": "v",
         "showlegend": false,
         "type": "scatter",
         "x": [
          7.5246,
          7.4735,
          7.6902,
          7.4753,
          7.3749,
          7.6575,
          7.6708,
          7.5757,
          7.3178,
          7.1859,
          6.9374,
          6.9767,
          6.901,
          6.8983,
          7.2334,
          6.9512,
          6.7701,
          6.8516,
          6.8353,
          6.8134,
          7.059,
          7.5657,
          8.0012,
          8.1398,
          8.2122,
          8.0841,
          7.679,
          7.6193,
          7.8536,
          8.1031,
          8.4189,
          8.2657,
          8.2758,
          8.3075,
          8.6479,
          8.8252,
          8.6833,
          8.7629,
          8.9067,
          9.1932,
          9.1598,
          9.2987,
          10.0487,
          9.9348,
          10.0928,
          10.0027,
          9.9452,
          10.2121,
          10.3581,
          10.8105,
          11.0054,
          10.7695,
          10.5576,
          10.4042,
          10.6743,
          10.6609,
          10.6781,
          10.6781,
          11.1004,
          11.0969,
          11.4749,
          11.5777,
          11.589,
          12.0423,
          12.0459,
          11.9454,
          12.3196,
          12.4128,
          12.8609,
          13.7884,
          13.4734,
          14.0938,
          14.8819,
          16.3276,
          15.7832,
          15.4655,
          14.6477,
          15.2048,
          15.1553,
          14.4407,
          13.8016,
          14.0057,
          13.9646,
          13.9125,
          13.8687,
          13.5813,
          13.2899,
          12.9148,
          13.5105,
          13.2587,
          12.8756,
          13.15,
          13.2152,
          13.1317,
          13.621,
          14.0964,
          13.2303,
          12.2029,
          11.8167,
          11.8489,
          11.9797,
          12.5099,
          13.2871,
          13.4713,
          13.943,
          14.7899,
          14.4892,
          14.0923,
          14.1778,
          13.9476,
          13.8038,
          14.3871,
          14.1401,
          14.4127,
          14.6227,
          14.0709,
          15.1729,
          14.8432,
          14.9293,
          14.8037,
          14.4784,
          14.3276,
          14.9789,
          16.4305,
          18.4771,
          18.1715,
          17.1271,
          16.8234,
          17.2814,
          16.7204,
          16.4657,
          15.6305,
          14.939,
          15.087,
          14.763,
          14.95,
          14.448,
          14.11,
          13.92,
          14.65,
          14.77,
          14.56,
          14.72,
          15.85,
          15.92,
          15.51,
          15.23
         ],
         "xaxis": "x",
         "y": [
          406.263,
          424.263,
          430.563,
          453.063,
          465.063,
          438.063,
          420.063,
          410.063,
          400.063,
          396.563,
          416.563,
          429.563,
          453.949,
          479.949,
          522.949,
          552.149,
          581.149,
          579.149,
          548.149,
          565.149,
          574.149,
          606.149,
          629.149,
          603.55,
          598.55,
          632.55,
          656.17,
          694.57,
          718.17,
          660.99,
          582.57,
          608.95,
          698.45,
          708.29,
          696.09,
          673.19,
          664.77,
          707.97,
          784.59,
          760.43,
          693.99,
          696.97,
          778.77,
          799.81,
          796.99,
          772.09,
          746.29,
          756.37,
          792.19,
          828.99,
          862.79,
          848.59,
          842.37,
          826.95,
          857.95,
          853.57,
          786.75,
          781.75,
          736.75,
          656.25,
          533.25,
          440.25,
          536.25,
          615.65,
          615.65,
          662.65,
          703.65,
          652.47,
          578.87,
          582.87,
          560.87,
          553.97,
          550.97,
          556.97,
          487.97,
          540.97,
          552.97,
          604.97,
          612.97,
          513.97,
          495.97,
          538.97,
          583.97,
          543.87,
          591.87,
          620.87,
          612.87,
          548.67,
          597.67,
          572.67,
          504.67,
          523.67,
          586.07,
          615.07,
          619.07,
          686.17,
          652.17,
          622.17,
          586.17,
          596.07,
          645.07,
          727.07,
          750.07,
          751.07,
          751.17,
          851.17,
          829.25,
          637.55,
          536.47,
          543.47,
          617.47,
          723.17,
          777.17,
          764.01,
          677.79,
          693.17,
          704.17,
          722.17,
          709.17,
          719.57,
          699.97,
          686.97,
          667.97,
          448.67,
          274.77,
          392.77,
          564.774,
          569.77,
          565.47,
          533.47,
          506.47,
          479.17,
          519.17,
          600.17,
          665.17,
          736.17,
          727.17,
          717.17,
          743.17,
          827.59,
          817.11,
          818.31,
          937.11,
          973.97,
          903.47,
          969.63,
          1100.27
         ],
         "yaxis": "y"
        },
        {
         "hovertemplate": "<b>OLS trendline</b><br>BFP = 6.88039 * Ex_Rate + 557.853<br>R<sup>2</sup>=0.024549<br><br>Ex_Rate=%{x}<br>BFP=%{y} <b>(trend)</b><extra></extra>",
         "legendgroup": "",
         "line": {
          "color": "red"
         },
         "marker": {
          "color": "#636efa",
          "symbol": "circle"
         },
         "mode": "lines",
         "name": "",
         "showlegend": false,
         "type": "scatter",
         "x": [
          6.7701,
          6.8134,
          6.8353,
          6.8516,
          6.8983,
          6.901,
          6.9374,
          6.9512,
          6.9767,
          7.059,
          7.1859,
          7.2334,
          7.3178,
          7.3749,
          7.4735,
          7.4753,
          7.5246,
          7.5657,
          7.5757,
          7.6193,
          7.6575,
          7.6708,
          7.679,
          7.6902,
          7.8536,
          8.0012,
          8.0841,
          8.1031,
          8.1398,
          8.2122,
          8.2657,
          8.2758,
          8.3075,
          8.4189,
          8.6479,
          8.6833,
          8.7629,
          8.8252,
          8.9067,
          9.1598,
          9.1932,
          9.2987,
          9.9348,
          9.9452,
          10.0027,
          10.0487,
          10.0928,
          10.2121,
          10.3581,
          10.4042,
          10.5576,
          10.6609,
          10.6743,
          10.6781,
          10.6781,
          10.7695,
          10.8105,
          11.0054,
          11.0969,
          11.1004,
          11.4749,
          11.5777,
          11.589,
          11.8167,
          11.8489,
          11.9454,
          11.9797,
          12.0423,
          12.0459,
          12.2029,
          12.3196,
          12.4128,
          12.5099,
          12.8609,
          12.8756,
          12.9148,
          13.1317,
          13.15,
          13.2152,
          13.2303,
          13.2587,
          13.2871,
          13.2899,
          13.4713,
          13.4734,
          13.5105,
          13.5813,
          13.621,
          13.7884,
          13.8016,
          13.8038,
          13.8687,
          13.9125,
          13.92,
          13.943,
          13.9476,
          13.9646,
          14.0057,
          14.0709,
          14.0923,
          14.0938,
          14.0964,
          14.11,
          14.1401,
          14.1778,
          14.3276,
          14.3871,
          14.4127,
          14.4407,
          14.448,
          14.4784,
          14.4892,
          14.56,
          14.6227,
          14.6477,
          14.65,
          14.72,
          14.763,
          14.77,
          14.7899,
          14.8037,
          14.8432,
          14.8819,
          14.9293,
          14.939,
          14.95,
          14.9789,
          15.087,
          15.1553,
          15.1729,
          15.2048,
          15.23,
          15.4655,
          15.51,
          15.6305,
          15.7832,
          15.85,
          15.92,
          16.3276,
          16.4305,
          16.4657,
          16.7204,
          16.8234,
          17.1271,
          17.2814,
          18.1715,
          18.4771
         ],
         "xaxis": "x",
         "y": [
          604.4340127670253,
          604.7319335356391,
          604.8826140167625,
          604.9947643291969,
          605.3160784145149,
          605.3346554601328,
          605.5851015566119,
          605.6800509008815,
          605.8555007761622,
          606.4217566481466,
          607.2948777921905,
          607.6216961873213,
          608.202400872564,
          608.5952709854474,
          609.2736771698662,
          609.2860618669448,
          609.6252649591542,
          609.908048875783,
          609.9768527484422,
          610.2768376332358,
          610.5396684267936,
          610.6311775774302,
          610.6875967530107,
          610.7646570903888,
          611.8889123696385,
          612.9044575300868,
          613.4748416344307,
          613.605568992483,
          613.8580792051418,
          614.3562192431938,
          614.72431996192,
          614.7938118733057,
          615.011920149635,
          615.7783952910573,
          617.3540039749507,
          617.5975696841639,
          618.1452485105303,
          618.5738966371965,
          619.1346481993681,
          620.87607421637,
          621.1058791510513,
          621.8317600076048,
          626.20837434745,
          626.2799303750155,
          626.6755526428053,
          626.9920504570372,
          627.2954755354638,
          628.1163057362868,
          629.1208422771097,
          629.4380281300681,
          630.4934795366587,
          631.2042235412272,
          631.2964207305904,
          631.3225662022008,
          631.3225662022008,
          631.9514335983049,
          632.2335294762072,
          633.574516954333,
          634.2040723891638,
          634.2281537445945,
          636.8048587756778,
          637.5121625866133,
          637.589910962718,
          639.1565751431657,
          639.3781236131281,
          640.0420809842883,
          640.278078267509,
          640.708790510355,
          640.7335599045123,
          641.8137807052601,
          642.6167218991918,
          643.2579739923746,
          643.9260595958945,
          646.3410755262288,
          646.4422172190376,
          646.7119283998613,
          648.2042843978371,
          648.3301954848033,
          648.7787967345406,
          648.8826905822558,
          649.0780935806076,
          649.2734965789596,
          649.2927616633041,
          650.5408639133401,
          650.5553127265985,
          650.8105750941638,
          651.2977065125901,
          651.5708578870468,
          652.7226347153601,
          652.8134558272701,
          652.8285926792552,
          653.2751298128127,
          653.5764907750595,
          653.6280936795538,
          653.7863425866698,
          653.817992368093,
          653.9349589516135,
          654.2177428682423,
          654.6663441179796,
          654.8135844054701,
          654.8239049863689,
          654.8417939932604,
          654.9353672600766,
          655.1424669167806,
          655.4018575167054,
          656.4325395291387,
          656.8419225714604,
          657.0180604854676,
          657.2107113289131,
          657.2609381559542,
          657.470101928838,
          657.5444101113097,
          658.0315415297362,
          658.4629418113087,
          658.6349514929565,
          658.650776383668,
          659.1324034922817,
          659.4282601447159,
          659.4764228555772,
          659.6133425621688,
          659.7082919064384,
          659.9800672034418,
          660.2463381906325,
          660.5724685470366,
          660.6392083035159,
          660.7148925634409,
          660.9137357554257,
          661.6575056188706,
          662.1274360691323,
          662.2485308850123,
          662.4680152387948,
          662.6414009978957,
          664.2617321990175,
          664.5679094323505,
          665.3969960978926,
          666.447631233397,
          666.9072411027598,
          667.3888682113735,
          670.1933140609583,
          670.9013059106204,
          671.1434955423805,
          672.8959301790077,
          673.6046100673964,
          675.6941836800532,
          676.7558274351832,
          682.8800601405694,
          684.9827064890314
         ],
         "yaxis": "y"
        }
       ],
       "layout": {
        "legend": {
         "tracegroupgap": 0
        },
        "template": {
         "data": {
          "bar": [
           {
            "error_x": {
             "color": "#2a3f5f"
            },
            "error_y": {
             "color": "#2a3f5f"
            },
            "marker": {
             "line": {
              "color": "white",
              "width": 0.5
             },
             "pattern": {
              "fillmode": "overlay",
              "size": 10,
              "solidity": 0.2
             }
            },
            "type": "bar"
           }
          ],
          "barpolar": [
           {
            "marker": {
             "line": {
              "color": "white",
              "width": 0.5
             },
             "pattern": {
              "fillmode": "overlay",
              "size": 10,
              "solidity": 0.2
             }
            },
            "type": "barpolar"
           }
          ],
          "box": [
           {
            "boxpoints": "outliers",
            "notched": false,
            "type": "box"
           }
          ],
          "carpet": [
           {
            "aaxis": {
             "endlinecolor": "#2a3f5f",
             "gridcolor": "#C8D4E3",
             "linecolor": "#C8D4E3",
             "minorgridcolor": "#C8D4E3",
             "startlinecolor": "#2a3f5f"
            },
            "baxis": {
             "endlinecolor": "#2a3f5f",
             "gridcolor": "#C8D4E3",
             "linecolor": "#C8D4E3",
             "minorgridcolor": "#C8D4E3",
             "startlinecolor": "#2a3f5f"
            },
            "type": "carpet"
           }
          ],
          "choropleth": [
           {
            "colorbar": {
             "outlinewidth": 0,
             "ticks": ""
            },
            "type": "choropleth"
           }
          ],
          "contour": [
           {
            "colorbar": {
             "outlinewidth": 0,
             "ticks": ""
            },
            "colorscale": [
             [
              0,
              "#0d0887"
             ],
             [
              0.1111111111111111,
              "#46039f"
             ],
             [
              0.2222222222222222,
              "#7201a8"
             ],
             [
              0.3333333333333333,
              "#9c179e"
             ],
             [
              0.4444444444444444,
              "#bd3786"
             ],
             [
              0.5555555555555556,
              "#d8576b"
             ],
             [
              0.6666666666666666,
              "#ed7953"
             ],
             [
              0.7777777777777778,
              "#fb9f3a"
             ],
             [
              0.8888888888888888,
              "#fdca26"
             ],
             [
              1,
              "#f0f921"
             ]
            ],
            "type": "contour"
           }
          ],
          "contourcarpet": [
           {
            "colorbar": {
             "outlinewidth": 0,
             "ticks": ""
            },
            "type": "contourcarpet"
           }
          ],
          "heatmap": [
           {
            "colorbar": {
             "outlinewidth": 0,
             "ticks": ""
            },
            "colorscale": [
             [
              0,
              "#0d0887"
             ],
             [
              0.1111111111111111,
              "#46039f"
             ],
             [
              0.2222222222222222,
              "#7201a8"
             ],
             [
              0.3333333333333333,
              "#9c179e"
             ],
             [
              0.4444444444444444,
              "#bd3786"
             ],
             [
              0.5555555555555556,
              "#d8576b"
             ],
             [
              0.6666666666666666,
              "#ed7953"
             ],
             [
              0.7777777777777778,
              "#fb9f3a"
             ],
             [
              0.8888888888888888,
              "#fdca26"
             ],
             [
              1,
              "#f0f921"
             ]
            ],
            "type": "heatmap"
           }
          ],
          "heatmapgl": [
           {
            "colorbar": {
             "outlinewidth": 0,
             "ticks": ""
            },
            "colorscale": [
             [
              0,
              "#0d0887"
             ],
             [
              0.1111111111111111,
              "#46039f"
             ],
             [
              0.2222222222222222,
              "#7201a8"
             ],
             [
              0.3333333333333333,
              "#9c179e"
             ],
             [
              0.4444444444444444,
              "#bd3786"
             ],
             [
              0.5555555555555556,
              "#d8576b"
             ],
             [
              0.6666666666666666,
              "#ed7953"
             ],
             [
              0.7777777777777778,
              "#fb9f3a"
             ],
             [
              0.8888888888888888,
              "#fdca26"
             ],
             [
              1,
              "#f0f921"
             ]
            ],
            "type": "heatmapgl"
           }
          ],
          "histogram": [
           {
            "marker": {
             "line": {
              "width": 1
             },
             "pattern": {
              "fillmode": "overlay",
              "size": 10,
              "solidity": 0.2
             }
            },
            "type": "histogram"
           }
          ],
          "histogram2d": [
           {
            "colorbar": {
             "outlinewidth": 0,
             "ticks": ""
            },
            "colorscale": [
             [
              0,
              "#0d0887"
             ],
             [
              0.1111111111111111,
              "#46039f"
             ],
             [
              0.2222222222222222,
              "#7201a8"
             ],
             [
              0.3333333333333333,
              "#9c179e"
             ],
             [
              0.4444444444444444,
              "#bd3786"
             ],
             [
              0.5555555555555556,
              "#d8576b"
             ],
             [
              0.6666666666666666,
              "#ed7953"
             ],
             [
              0.7777777777777778,
              "#fb9f3a"
             ],
             [
              0.8888888888888888,
              "#fdca26"
             ],
             [
              1,
              "#f0f921"
             ]
            ],
            "type": "histogram2d"
           }
          ],
          "histogram2dcontour": [
           {
            "colorbar": {
             "outlinewidth": 0,
             "ticks": ""
            },
            "colorscale": [
             [
              0,
              "#0d0887"
             ],
             [
              0.1111111111111111,
              "#46039f"
             ],
             [
              0.2222222222222222,
              "#7201a8"
             ],
             [
              0.3333333333333333,
              "#9c179e"
             ],
             [
              0.4444444444444444,
              "#bd3786"
             ],
             [
              0.5555555555555556,
              "#d8576b"
             ],
             [
              0.6666666666666666,
              "#ed7953"
             ],
             [
              0.7777777777777778,
              "#fb9f3a"
             ],
             [
              0.8888888888888888,
              "#fdca26"
             ],
             [
              1,
              "#f0f921"
             ]
            ],
            "type": "histogram2dcontour"
           }
          ],
          "mesh3d": [
           {
            "colorbar": {
             "outlinewidth": 0,
             "ticks": ""
            },
            "type": "mesh3d"
           }
          ],
          "parcoords": [
           {
            "line": {
             "colorbar": {
              "outlinewidth": 0,
              "ticks": ""
             }
            },
            "type": "parcoords"
           }
          ],
          "pie": [
           {
            "automargin": true,
            "type": "pie"
           }
          ],
          "scatter": [
           {
            "marker": {
             "colorbar": {
              "outlinewidth": 0,
              "ticks": ""
             },
             "opacity": 0.8
            },
            "type": "scatter"
           }
          ],
          "scatter3d": [
           {
            "line": {
             "colorbar": {
              "outlinewidth": 0,
              "ticks": ""
             }
            },
            "marker": {
             "colorbar": {
              "outlinewidth": 0,
              "ticks": ""
             },
             "opacity": 0.8
            },
            "type": "scatter3d"
           }
          ],
          "scattercarpet": [
           {
            "marker": {
             "colorbar": {
              "outlinewidth": 0,
              "ticks": ""
             }
            },
            "type": "scattercarpet"
           }
          ],
          "scattergeo": [
           {
            "marker": {
             "colorbar": {
              "outlinewidth": 0,
              "ticks": ""
             }
            },
            "type": "scattergeo"
           }
          ],
          "scattergl": [
           {
            "marker": {
             "colorbar": {
              "outlinewidth": 0,
              "ticks": ""
             }
            },
            "type": "scattergl"
           }
          ],
          "scattermapbox": [
           {
            "marker": {
             "colorbar": {
              "outlinewidth": 0,
              "ticks": ""
             }
            },
            "type": "scattermapbox"
           }
          ],
          "scatterpolar": [
           {
            "marker": {
             "colorbar": {
              "outlinewidth": 0,
              "ticks": ""
             }
            },
            "type": "scatterpolar"
           }
          ],
          "scatterpolargl": [
           {
            "marker": {
             "colorbar": {
              "outlinewidth": 0,
              "ticks": ""
             }
            },
            "type": "scatterpolargl"
           }
          ],
          "scatterternary": [
           {
            "marker": {
             "colorbar": {
              "outlinewidth": 0,
              "ticks": ""
             }
            },
            "type": "scatterternary"
           }
          ],
          "surface": [
           {
            "colorbar": {
             "outlinewidth": 0,
             "ticks": ""
            },
            "colorscale": [
             [
              0,
              "#0d0887"
             ],
             [
              0.1111111111111111,
              "#46039f"
             ],
             [
              0.2222222222222222,
              "#7201a8"
             ],
             [
              0.3333333333333333,
              "#9c179e"
             ],
             [
              0.4444444444444444,
              "#bd3786"
             ],
             [
              0.5555555555555556,
              "#d8576b"
             ],
             [
              0.6666666666666666,
              "#ed7953"
             ],
             [
              0.7777777777777778,
              "#fb9f3a"
             ],
             [
              0.8888888888888888,
              "#fdca26"
             ],
             [
              1,
              "#f0f921"
             ]
            ],
            "type": "surface"
           }
          ],
          "table": [
           {
            "cells": {
             "fill": {
              "color": "#EBF0F8"
             },
             "line": {
              "color": "white"
             }
            },
            "header": {
             "fill": {
              "color": "#C8D4E3"
             },
             "line": {
              "color": "white"
             }
            },
            "type": "table"
           }
          ]
         },
         "layout": {
          "annotationdefaults": {
           "arrowcolor": "#2a3f5f",
           "arrowhead": 0,
           "arrowwidth": 1
          },
          "autotypenumbers": "strict",
          "coloraxis": {
           "colorbar": {
            "outlinewidth": 0,
            "ticks": ""
           }
          },
          "colorscale": {
           "diverging": [
            [
             0,
             "#8e0152"
            ],
            [
             0.1,
             "#c51b7d"
            ],
            [
             0.2,
             "#de77ae"
            ],
            [
             0.3,
             "#f1b6da"
            ],
            [
             0.4,
             "#fde0ef"
            ],
            [
             0.5,
             "#f7f7f7"
            ],
            [
             0.6,
             "#e6f5d0"
            ],
            [
             0.7,
             "#b8e186"
            ],
            [
             0.8,
             "#7fbc41"
            ],
            [
             0.9,
             "#4d9221"
            ],
            [
             1,
             "#276419"
            ]
           ],
           "sequential": [
            [
             0,
             "#0d0887"
            ],
            [
             0.1111111111111111,
             "#46039f"
            ],
            [
             0.2222222222222222,
             "#7201a8"
            ],
            [
             0.3333333333333333,
             "#9c179e"
            ],
            [
             0.4444444444444444,
             "#bd3786"
            ],
            [
             0.5555555555555556,
             "#d8576b"
            ],
            [
             0.6666666666666666,
             "#ed7953"
            ],
            [
             0.7777777777777778,
             "#fb9f3a"
            ],
            [
             0.8888888888888888,
             "#fdca26"
            ],
            [
             1,
             "#f0f921"
            ]
           ],
           "sequentialminus": [
            [
             0,
             "#0d0887"
            ],
            [
             0.1111111111111111,
             "#46039f"
            ],
            [
             0.2222222222222222,
             "#7201a8"
            ],
            [
             0.3333333333333333,
             "#9c179e"
            ],
            [
             0.4444444444444444,
             "#bd3786"
            ],
            [
             0.5555555555555556,
             "#d8576b"
            ],
            [
             0.6666666666666666,
             "#ed7953"
            ],
            [
             0.7777777777777778,
             "#fb9f3a"
            ],
            [
             0.8888888888888888,
             "#fdca26"
            ],
            [
             1,
             "#f0f921"
            ]
           ]
          },
          "colorway": [
           "#636efa",
           "#EF553B",
           "#00cc96",
           "#ab63fa",
           "#FFA15A",
           "#19d3f3",
           "#FF6692",
           "#B6E880",
           "#FF97FF",
           "#FECB52"
          ],
          "font": {
           "color": "#2a3f5f"
          },
          "geo": {
           "bgcolor": "white",
           "lakecolor": "white",
           "landcolor": "white",
           "showlakes": true,
           "showland": true,
           "subunitcolor": "#C8D4E3"
          },
          "height": 400,
          "hoverlabel": {
           "align": "left"
          },
          "hovermode": "closest",
          "mapbox": {
           "style": "light"
          },
          "margin": {
           "b": 2,
           "l": 2,
           "r": 2,
           "t": 30
          },
          "paper_bgcolor": "white",
          "plot_bgcolor": "white",
          "polar": {
           "angularaxis": {
            "gridcolor": "#EBF0F8",
            "linecolor": "#EBF0F8",
            "ticks": ""
           },
           "bgcolor": "white",
           "radialaxis": {
            "gridcolor": "#EBF0F8",
            "linecolor": "#EBF0F8",
            "ticks": ""
           }
          },
          "scene": {
           "camera": {
            "eye": {
             "x": 1.5,
             "y": 1.5,
             "z": 0.1
            }
           },
           "xaxis": {
            "backgroundcolor": "white",
            "gridcolor": "#DFE8F3",
            "gridwidth": 2,
            "linecolor": "#EBF0F8",
            "showbackground": true,
            "ticks": "",
            "zerolinecolor": "#EBF0F8"
           },
           "yaxis": {
            "backgroundcolor": "white",
            "gridcolor": "#DFE8F3",
            "gridwidth": 2,
            "linecolor": "#EBF0F8",
            "showbackground": true,
            "ticks": "",
            "zerolinecolor": "#EBF0F8"
           },
           "zaxis": {
            "backgroundcolor": "white",
            "gridcolor": "#DFE8F3",
            "gridwidth": 2,
            "linecolor": "#EBF0F8",
            "showbackground": true,
            "ticks": "",
            "zerolinecolor": "#EBF0F8"
           }
          },
          "shapedefaults": {
           "line": {
            "color": "#2a3f5f"
           }
          },
          "ternary": {
           "aaxis": {
            "gridcolor": "#DFE8F3",
            "linecolor": "#A2B1C6",
            "ticks": ""
           },
           "baxis": {
            "gridcolor": "#DFE8F3",
            "linecolor": "#A2B1C6",
            "ticks": ""
           },
           "bgcolor": "white",
           "caxis": {
            "gridcolor": "#DFE8F3",
            "linecolor": "#A2B1C6",
            "ticks": ""
           }
          },
          "title": {
           "x": 0.5
          },
          "xaxis": {
           "automargin": true,
           "gridcolor": "#EBF0F8",
           "linecolor": "#EBF0F8",
           "linewidth": 2,
           "showline": true,
           "ticks": "",
           "title": {
            "standoff": 15
           },
           "zerolinecolor": "#EBF0F8",
           "zerolinewidth": 2
          },
          "yaxis": {
           "automargin": true,
           "gridcolor": "#EBF0F8",
           "linecolor": "#EBF0F8",
           "linewidth": 2,
           "showline": true,
           "ticks": "",
           "title": {
            "standoff": 15
           },
           "zerolinecolor": "#EBF0F8",
           "zerolinewidth": 2
          }
         }
        },
        "title": {
         "text": "Exchange Rate vs BFP"
        },
        "xaxis": {
         "anchor": "y",
         "domain": [
          0,
          1
         ],
         "title": {
          "text": "Ex_Rate"
         }
        },
        "yaxis": {
         "anchor": "x",
         "domain": [
          0,
          1
         ],
         "title": {
          "text": "BFP"
         }
        }
       }
      }
     },
     "metadata": {},
     "output_type": "display_data"
    }
   ],
   "source": [
    "import plotly.express as px\n",
    "fig = px.scatter(dataset, x='Avg_Brent_Crude', y='BFP', trendline='ols', trendline_color_override='red', title='Crude Oil vs BFP')\n",
    "\n",
    "fig1 = px.scatter(dataset, x='Ex_Rate', y='BFP', trendline='ols', trendline_color_override='red', title='Exchange Rate vs BFP')\n",
    "\n",
    "fig.show()\n",
    "fig1.show()\n"
   ]
  },
  {
   "cell_type": "markdown",
   "metadata": {},
   "source": [
    "### Simple Linear Regression: Microsoft"
   ]
  },
  {
   "cell_type": "code",
   "execution_count": 34,
   "metadata": {},
   "outputs": [
    {
     "name": "stdout",
     "output_type": "stream",
     "text": [
      "Avg_Brent_Crude\n",
      "R-squared: 0.18330218189942582\n"
     ]
    },
    {
     "data": {
      "application/vnd.plotly.v1+json": {
       "config": {
        "plotlyServerURL": "https://plot.ly"
       },
       "data": [
        {
         "hovertemplate": "Avg Brent Crude=%{x}<br>BFP=%{y}<extra></extra>",
         "legendgroup": "",
         "marker": {
          "color": "#636efa",
          "size": 15,
          "symbol": "circle"
         },
         "mode": "markers",
         "name": "",
         "orientation": "v",
         "showlegend": false,
         "type": "scatter",
         "x": [
          74.31,
          76.84,
          73.17,
          78.89,
          85.75,
          76.3,
          74.61,
          78.68,
          77.39,
          77.37,
          82.73,
          85.15,
          90.77,
          95.97,
          102.37,
          114.41,
          123.49,
          116.15,
          114.19,
          116.88,
          110.67,
          113.61,
          109.28,
          110.51,
          107.96,
          110.42,
          126.39,
          125.42,
          120.18,
          110.27,
          95.22,
          102.04,
          113.51,
          112.96,
          109.05,
          109.04,
          109.13,
          112.88,
          116.28,
          108.44,
          102.16,
          102.62,
          102.84,
          108.05,
          111.07,
          112.23,
          109.12,
          107.82,
          110.73,
          108.35,
          108.87,
          107.67,
          108.31,
          109.69,
          111.62,
          106.64,
          101.57,
          97.73,
          87.54,
          79.75,
          54.98,
          48.2,
          57.93,
          56.11,
          59.01,
          64.36,
          61.94,
          56.72,
          46.56,
          47.79,
          48.58,
          44.33,
          38.22,
          30.83,
          32.11,
          38.49,
          41.28,
          46.56,
          48.34,
          45.28,
          45.94,
          46.6,
          49.86,
          52.48,
          53.45,
          54.61,
          54.99,
          51.52,
          53.21,
          50.06,
          46.48,
          48.23,
          51.66,
          55.99,
          56.86,
          62.62,
          64.08,
          69.06,
          64.06,
          65.71,
          70.88,
          76.8,
          74.15,
          74.27,
          72.51,
          78.25,
          81.15,
          65.79,
          57.08,
          59.06,
          64.03,
          66.03,
          71.15,
          71.29,
          63.87,
          64.04,
          58.97,
          62.88,
          59.72,
          63.02,
          67.01,
          64.5,
          55.7,
          33.88,
          18.99,
          28.71,
          39.87,
          43.42,
          44.82,
          38.915,
          40.413,
          41.692,
          49.2,
          53.1,
          60,
          65.14,
          64.16,
          66,
          73,
          74,
          72.5,
          75.5,
          83.4,
          83.5,
          76,
          87,
          96.47
         ],
         "xaxis": "x",
         "y": [
          406.263,
          424.263,
          430.563,
          453.063,
          465.063,
          438.063,
          420.063,
          410.063,
          400.063,
          396.563,
          416.563,
          429.563,
          453.949,
          479.949,
          522.949,
          552.149,
          581.149,
          579.149,
          548.149,
          565.149,
          574.149,
          606.149,
          629.149,
          603.55,
          598.55,
          632.55,
          656.17,
          694.57,
          718.17,
          660.99,
          582.57,
          608.95,
          698.45,
          708.29,
          696.09,
          673.19,
          664.77,
          707.97,
          784.59,
          760.43,
          693.99,
          696.97,
          778.77,
          799.81,
          796.99,
          772.09,
          746.29,
          756.37,
          792.19,
          828.99,
          862.79,
          848.59,
          842.37,
          826.95,
          857.95,
          853.57,
          786.75,
          781.75,
          736.75,
          656.25,
          533.25,
          440.25,
          536.25,
          615.65,
          615.65,
          662.65,
          703.65,
          652.47,
          578.87,
          582.87,
          560.87,
          553.97,
          550.97,
          556.97,
          487.97,
          540.97,
          552.97,
          604.97,
          612.97,
          513.97,
          495.97,
          538.97,
          583.97,
          543.87,
          591.87,
          620.87,
          612.87,
          548.67,
          597.67,
          572.67,
          504.67,
          523.67,
          586.07,
          615.07,
          619.07,
          686.17,
          652.17,
          622.17,
          586.17,
          596.07,
          645.07,
          727.07,
          750.07,
          751.07,
          751.17,
          851.17,
          829.25,
          637.55,
          536.47,
          543.47,
          617.47,
          723.17,
          777.17,
          764.01,
          677.79,
          693.17,
          704.17,
          722.17,
          709.17,
          719.57,
          699.97,
          686.97,
          667.97,
          448.67,
          274.77,
          392.77,
          564.774,
          569.77,
          565.47,
          533.47,
          506.47,
          479.17,
          519.17,
          600.17,
          665.17,
          736.17,
          727.17,
          717.17,
          743.17,
          827.59,
          817.11,
          818.31,
          937.11,
          973.97,
          903.47,
          969.63,
          1100.27
         ],
         "yaxis": "y"
        }
       ],
       "layout": {
        "legend": {
         "tracegroupgap": 0
        },
        "shapes": [
         {
          "line": {
           "color": "rgb(228,26,28)"
          },
          "path": "M18.99 512.514076041166 L 19.52969849246231 513.7227621611994 L 20.069396984924623 514.9314482812326 L 20.609095477386933 516.1401344012659 L 21.148793969849244 517.3488205212991 L 21.688492462311558 518.5575066413325 L 22.22819095477387 519.7661927613657 L 22.76788944723618 520.9748788813989 L 23.307587939698493 522.1835650014322 L 23.847286432160804 523.3922511214655 L 24.386984924623114 524.6009372414987 L 24.926683417085428 525.809623361532 L 25.46638190954774 527.0183094815652 L 26.00608040201005 528.2269956015984 L 26.545778894472363 529.4356817216318 L 27.08547738693467 530.644367841665 L 27.625175879396984 531.8530539616983 L 28.164874371859298 533.0617400817316 L 28.704572864321605 534.2704262017648 L 29.24427135678392 535.4791123217981 L 29.78396984924623 536.6877984418313 L 30.32366834170854 537.8964845618646 L 30.863366834170854 539.1051706818979 L 31.403065326633165 540.3138568019311 L 31.942763819095475 541.5225429219644 L 32.48246231155779 542.7312290419976 L 33.0221608040201 543.939915162031 L 33.56185929648241 545.1486012820642 L 34.101557788944724 546.3572874020974 L 34.64125628140704 547.5659735221307 L 35.180954773869345 548.774659642164 L 35.72065326633166 549.9833457621972 L 36.26035175879397 551.1920318822305 L 36.80005025125628 552.4007180022637 L 37.339748743718594 553.6094041222971 L 37.87944723618091 554.8180902423303 L 38.419145728643215 556.0267763623635 L 38.95884422110553 557.2354624823968 L 39.49854271356784 558.4441486024301 L 40.03824120603015 559.6528347224634 L 40.57793969849246 560.8615208424966 L 41.11763819095478 562.0702069625298 L 41.657336683417086 563.2788930825632 L 42.19703517587939 564.4875792025964 L 42.736733668341714 565.6962653226296 L 43.27643216080402 566.9049514426629 L 43.81613065326633 568.1136375626961 L 44.35582914572865 569.3223236827295 L 44.895527638190956 570.5310098027627 L 45.43522613065326 571.7396959227959 L 45.974924623115584 572.9483820428293 L 46.51462311557789 574.1570681628625 L 47.0543216080402 575.3657542828958 L 47.59402010050252 576.574440402929 L 48.133718592964826 577.7831265229622 L 48.67341708542713 578.9918126429956 L 49.213115577889454 580.2004987630288 L 49.75281407035176 581.409184883062 L 50.29251256281407 582.6178710030953 L 50.83221105527638 583.8265571231286 L 51.371909547738696 585.0352432431619 L 51.911608040201 586.2439293631951 L 52.451306532663324 587.4526154832284 L 52.99100502512563 588.6613016032617 L 53.53070351758794 589.8699877232949 L 54.07040201005026 591.0786738433281 L 54.610100502512566 592.2873599633615 L 55.14979899497487 593.4960460833947 L 55.689497487437194 594.704732203428 L 56.2291959798995 595.9134183234612 L 56.76889447236181 597.1221044434944 L 57.30859296482413 598.3307905635278 L 57.848291457286436 599.539476683561 L 58.38798994974874 600.7481628035943 L 58.927688442211064 601.9568489236276 L 59.46738693467337 603.1655350436608 L 60.00708542713568 604.3742211636941 L 60.546783919598 605.5829072837273 L 61.086482412060306 606.7915934037605 L 61.62618090452261 608.0002795237938 L 62.16587939698492 609.2089656438271 L 62.70557788944724 610.4176517638604 L 63.24527638190955 611.6263378838936 L 63.784974874371855 612.835024003927 L 64.32467336683418 614.0437101239602 L 64.86437185929648 615.2523962439934 L 65.40407035175879 616.4610823640267 L 65.94376884422111 617.66976848406 L 66.48346733668342 618.8784546040932 L 67.02316582914573 620.0871407241265 L 67.56286432160805 621.2958268441597 L 68.10256281407035 622.504512964193 L 68.64226130653266 623.7131990842263 L 69.18195979899498 624.9218852042595 L 69.72165829145729 626.1305713242928 L 70.2613567839196 627.339257444326 L 70.80105527638192 628.5479435643593 L 71.34075376884422 629.7566296843926 L 71.88045226130653 630.9653158044258 L 72.42015075376885 632.1740019244592 L 72.95984924623116 633.3826880444924 L 73.49954773869347 634.5913741645256 L 74.03924623115579 635.8000602845589 L 74.5789447236181 637.0087464045921 L 75.1186432160804 638.2174325246255 L 75.65834170854272 639.4261186446587 L 76.19804020100503 640.6348047646919 L 76.73773869346734 641.8434908847252 L 77.27743718592966 643.0521770047585 L 77.81713567839196 644.2608631247917 L 78.35683417085427 645.469549244825 L 78.89653266331659 646.6782353648582 L 79.4362311557789 647.8869214848916 L 79.9759296482412 649.0956076049248 L 80.51562814070353 650.304293724958 L 81.05532663316583 651.5129798449914 L 81.59502512562814 652.7216659650246 L 82.13472361809046 653.9303520850578 L 82.67442211055277 655.1390382050911 L 83.21412060301508 656.3477243251243 L 83.75381909547738 657.5564104451576 L 84.2935175879397 658.7650965651909 L 84.83321608040201 659.9737826852241 L 85.37291457286432 661.1824688052574 L 85.91261306532664 662.3911549252907 L 86.45231155778895 663.599841045324 L 86.99201005025125 664.8085271653572 L 87.53170854271357 666.0172132853904 L 88.07140703517588 667.2258994054237 L 88.61110552763819 668.434585525457 L 89.15080402010051 669.6432716454902 L 89.69050251256282 670.8519577655235 L 90.23020100502512 672.0606438855568 L 90.76989949748744 673.2693300055901 L 91.30959798994975 674.4780161256233 L 91.84929648241206 675.6867022456565 L 92.38899497487438 676.8953883656898 L 92.92869346733669 678.1040744857231 L 93.46839195979899 679.3127606057564 L 94.00809045226131 680.5214467257896 L 94.54778894472362 681.7301328458229 L 95.08748743718593 682.9388189658562 L 95.62718592964825 684.1475050858894 L 96.16688442211056 685.3561912059226 L 96.70658291457286 686.5648773259559 L 97.24628140703518 687.7735634459892 L 97.78597989949749 688.9822495660225 L 98.3256783919598 690.1909356860557 L 98.86537688442212 691.399621806089 L 99.40507537688443 692.6083079261223 L 99.94477386934673 693.8169940461555 L 100.48447236180905 695.0256801661887 L 101.02417085427136 696.234366286222 L 101.56386934673367 697.4430524062552 L 102.10356783919599 698.6517385262886 L 102.6432663316583 699.8604246463218 L 103.1829648241206 701.069110766355 L 103.72266331658292 702.2777968863884 L 104.26236180904523 703.4864830064216 L 104.80206030150754 704.6951691264549 L 105.34175879396984 705.9038552464881 L 105.88145728643217 707.1125413665214 L 106.42115577889447 708.3212274865547 L 106.96085427135678 709.5299136065879 L 107.5005527638191 710.7385997266213 L 108.04025125628141 711.9472858466545 L 108.57994974874372 713.1559719666877 L 109.11964824120604 714.364658086721 L 109.65934673366834 715.5733442067542 L 110.19904522613065 716.7820303267874 L 110.73874371859297 717.9907164468208 L 111.27844221105528 719.199402566854 L 111.81814070351759 720.4080886868873 L 112.3578391959799 721.6167748069206 L 112.89753768844221 722.8254609269538 L 113.43723618090452 724.0341470469871 L 113.97693467336684 725.2428331670203 L 114.51663316582915 726.4515192870535 L 115.05633165829146 727.6602054070868 L 115.59603015075378 728.8688915271201 L 116.13572864321608 730.0775776471534 L 116.67542713567839 731.2862637671867 L 117.21512562814071 732.49494988722 L 117.75482412060302 733.7036360072532 L 118.29452261306533 734.9123221272864 L 118.83422110552765 736.1210082473197 L 119.37391959798995 737.3296943673529 L 119.91361809045226 738.5383804873862 L 120.45331658291458 739.7470666074196 L 120.99301507537689 740.9557527274528 L 121.5327135678392 742.164438847486 L 122.07241206030152 743.3731249675193 L 122.61211055276382 744.5818110875525 L 123.15180904522613 745.7904972075858 L 123.69150753768845 746.9991833276191 L 124.23120603015076 748.2078694476523 L 124.77090452261307 749.4165555676856 L 125.31060301507539 750.6252416877189 L 125.8503015075377 751.8339278077522 L 126.39 753.0426139277854",
          "type": "path"
         }
        ],
        "template": {
         "data": {
          "bar": [
           {
            "error_x": {
             "color": "#2a3f5f"
            },
            "error_y": {
             "color": "#2a3f5f"
            },
            "marker": {
             "line": {
              "color": "white",
              "width": 0.5
             },
             "pattern": {
              "fillmode": "overlay",
              "size": 10,
              "solidity": 0.2
             }
            },
            "type": "bar"
           }
          ],
          "barpolar": [
           {
            "marker": {
             "line": {
              "color": "white",
              "width": 0.5
             },
             "pattern": {
              "fillmode": "overlay",
              "size": 10,
              "solidity": 0.2
             }
            },
            "type": "barpolar"
           }
          ],
          "box": [
           {
            "boxpoints": "outliers",
            "notched": false,
            "type": "box"
           }
          ],
          "carpet": [
           {
            "aaxis": {
             "endlinecolor": "#2a3f5f",
             "gridcolor": "#C8D4E3",
             "linecolor": "#C8D4E3",
             "minorgridcolor": "#C8D4E3",
             "startlinecolor": "#2a3f5f"
            },
            "baxis": {
             "endlinecolor": "#2a3f5f",
             "gridcolor": "#C8D4E3",
             "linecolor": "#C8D4E3",
             "minorgridcolor": "#C8D4E3",
             "startlinecolor": "#2a3f5f"
            },
            "type": "carpet"
           }
          ],
          "choropleth": [
           {
            "colorbar": {
             "outlinewidth": 0,
             "ticks": ""
            },
            "type": "choropleth"
           }
          ],
          "contour": [
           {
            "colorbar": {
             "outlinewidth": 0,
             "ticks": ""
            },
            "colorscale": [
             [
              0,
              "#0d0887"
             ],
             [
              0.1111111111111111,
              "#46039f"
             ],
             [
              0.2222222222222222,
              "#7201a8"
             ],
             [
              0.3333333333333333,
              "#9c179e"
             ],
             [
              0.4444444444444444,
              "#bd3786"
             ],
             [
              0.5555555555555556,
              "#d8576b"
             ],
             [
              0.6666666666666666,
              "#ed7953"
             ],
             [
              0.7777777777777778,
              "#fb9f3a"
             ],
             [
              0.8888888888888888,
              "#fdca26"
             ],
             [
              1,
              "#f0f921"
             ]
            ],
            "type": "contour"
           }
          ],
          "contourcarpet": [
           {
            "colorbar": {
             "outlinewidth": 0,
             "ticks": ""
            },
            "type": "contourcarpet"
           }
          ],
          "heatmap": [
           {
            "colorbar": {
             "outlinewidth": 0,
             "ticks": ""
            },
            "colorscale": [
             [
              0,
              "#0d0887"
             ],
             [
              0.1111111111111111,
              "#46039f"
             ],
             [
              0.2222222222222222,
              "#7201a8"
             ],
             [
              0.3333333333333333,
              "#9c179e"
             ],
             [
              0.4444444444444444,
              "#bd3786"
             ],
             [
              0.5555555555555556,
              "#d8576b"
             ],
             [
              0.6666666666666666,
              "#ed7953"
             ],
             [
              0.7777777777777778,
              "#fb9f3a"
             ],
             [
              0.8888888888888888,
              "#fdca26"
             ],
             [
              1,
              "#f0f921"
             ]
            ],
            "type": "heatmap"
           }
          ],
          "heatmapgl": [
           {
            "colorbar": {
             "outlinewidth": 0,
             "ticks": ""
            },
            "colorscale": [
             [
              0,
              "#0d0887"
             ],
             [
              0.1111111111111111,
              "#46039f"
             ],
             [
              0.2222222222222222,
              "#7201a8"
             ],
             [
              0.3333333333333333,
              "#9c179e"
             ],
             [
              0.4444444444444444,
              "#bd3786"
             ],
             [
              0.5555555555555556,
              "#d8576b"
             ],
             [
              0.6666666666666666,
              "#ed7953"
             ],
             [
              0.7777777777777778,
              "#fb9f3a"
             ],
             [
              0.8888888888888888,
              "#fdca26"
             ],
             [
              1,
              "#f0f921"
             ]
            ],
            "type": "heatmapgl"
           }
          ],
          "histogram": [
           {
            "marker": {
             "line": {
              "width": 1
             },
             "pattern": {
              "fillmode": "overlay",
              "size": 10,
              "solidity": 0.2
             }
            },
            "type": "histogram"
           }
          ],
          "histogram2d": [
           {
            "colorbar": {
             "outlinewidth": 0,
             "ticks": ""
            },
            "colorscale": [
             [
              0,
              "#0d0887"
             ],
             [
              0.1111111111111111,
              "#46039f"
             ],
             [
              0.2222222222222222,
              "#7201a8"
             ],
             [
              0.3333333333333333,
              "#9c179e"
             ],
             [
              0.4444444444444444,
              "#bd3786"
             ],
             [
              0.5555555555555556,
              "#d8576b"
             ],
             [
              0.6666666666666666,
              "#ed7953"
             ],
             [
              0.7777777777777778,
              "#fb9f3a"
             ],
             [
              0.8888888888888888,
              "#fdca26"
             ],
             [
              1,
              "#f0f921"
             ]
            ],
            "type": "histogram2d"
           }
          ],
          "histogram2dcontour": [
           {
            "colorbar": {
             "outlinewidth": 0,
             "ticks": ""
            },
            "colorscale": [
             [
              0,
              "#0d0887"
             ],
             [
              0.1111111111111111,
              "#46039f"
             ],
             [
              0.2222222222222222,
              "#7201a8"
             ],
             [
              0.3333333333333333,
              "#9c179e"
             ],
             [
              0.4444444444444444,
              "#bd3786"
             ],
             [
              0.5555555555555556,
              "#d8576b"
             ],
             [
              0.6666666666666666,
              "#ed7953"
             ],
             [
              0.7777777777777778,
              "#fb9f3a"
             ],
             [
              0.8888888888888888,
              "#fdca26"
             ],
             [
              1,
              "#f0f921"
             ]
            ],
            "type": "histogram2dcontour"
           }
          ],
          "mesh3d": [
           {
            "colorbar": {
             "outlinewidth": 0,
             "ticks": ""
            },
            "type": "mesh3d"
           }
          ],
          "parcoords": [
           {
            "line": {
             "colorbar": {
              "outlinewidth": 0,
              "ticks": ""
             }
            },
            "type": "parcoords"
           }
          ],
          "pie": [
           {
            "automargin": true,
            "type": "pie"
           }
          ],
          "scatter": [
           {
            "marker": {
             "colorbar": {
              "outlinewidth": 0,
              "ticks": ""
             },
             "opacity": 0.8
            },
            "type": "scatter"
           }
          ],
          "scatter3d": [
           {
            "line": {
             "colorbar": {
              "outlinewidth": 0,
              "ticks": ""
             }
            },
            "marker": {
             "colorbar": {
              "outlinewidth": 0,
              "ticks": ""
             },
             "opacity": 0.8
            },
            "type": "scatter3d"
           }
          ],
          "scattercarpet": [
           {
            "marker": {
             "colorbar": {
              "outlinewidth": 0,
              "ticks": ""
             }
            },
            "type": "scattercarpet"
           }
          ],
          "scattergeo": [
           {
            "marker": {
             "colorbar": {
              "outlinewidth": 0,
              "ticks": ""
             }
            },
            "type": "scattergeo"
           }
          ],
          "scattergl": [
           {
            "marker": {
             "colorbar": {
              "outlinewidth": 0,
              "ticks": ""
             }
            },
            "type": "scattergl"
           }
          ],
          "scattermapbox": [
           {
            "marker": {
             "colorbar": {
              "outlinewidth": 0,
              "ticks": ""
             }
            },
            "type": "scattermapbox"
           }
          ],
          "scatterpolar": [
           {
            "marker": {
             "colorbar": {
              "outlinewidth": 0,
              "ticks": ""
             }
            },
            "type": "scatterpolar"
           }
          ],
          "scatterpolargl": [
           {
            "marker": {
             "colorbar": {
              "outlinewidth": 0,
              "ticks": ""
             }
            },
            "type": "scatterpolargl"
           }
          ],
          "scatterternary": [
           {
            "marker": {
             "colorbar": {
              "outlinewidth": 0,
              "ticks": ""
             }
            },
            "type": "scatterternary"
           }
          ],
          "surface": [
           {
            "colorbar": {
             "outlinewidth": 0,
             "ticks": ""
            },
            "colorscale": [
             [
              0,
              "#0d0887"
             ],
             [
              0.1111111111111111,
              "#46039f"
             ],
             [
              0.2222222222222222,
              "#7201a8"
             ],
             [
              0.3333333333333333,
              "#9c179e"
             ],
             [
              0.4444444444444444,
              "#bd3786"
             ],
             [
              0.5555555555555556,
              "#d8576b"
             ],
             [
              0.6666666666666666,
              "#ed7953"
             ],
             [
              0.7777777777777778,
              "#fb9f3a"
             ],
             [
              0.8888888888888888,
              "#fdca26"
             ],
             [
              1,
              "#f0f921"
             ]
            ],
            "type": "surface"
           }
          ],
          "table": [
           {
            "cells": {
             "fill": {
              "color": "#EBF0F8"
             },
             "line": {
              "color": "white"
             }
            },
            "header": {
             "fill": {
              "color": "#C8D4E3"
             },
             "line": {
              "color": "white"
             }
            },
            "type": "table"
           }
          ]
         },
         "layout": {
          "annotationdefaults": {
           "arrowcolor": "#2a3f5f",
           "arrowhead": 0,
           "arrowwidth": 1
          },
          "autotypenumbers": "strict",
          "coloraxis": {
           "colorbar": {
            "outlinewidth": 0,
            "ticks": ""
           }
          },
          "colorscale": {
           "diverging": [
            [
             0,
             "#8e0152"
            ],
            [
             0.1,
             "#c51b7d"
            ],
            [
             0.2,
             "#de77ae"
            ],
            [
             0.3,
             "#f1b6da"
            ],
            [
             0.4,
             "#fde0ef"
            ],
            [
             0.5,
             "#f7f7f7"
            ],
            [
             0.6,
             "#e6f5d0"
            ],
            [
             0.7,
             "#b8e186"
            ],
            [
             0.8,
             "#7fbc41"
            ],
            [
             0.9,
             "#4d9221"
            ],
            [
             1,
             "#276419"
            ]
           ],
           "sequential": [
            [
             0,
             "#0d0887"
            ],
            [
             0.1111111111111111,
             "#46039f"
            ],
            [
             0.2222222222222222,
             "#7201a8"
            ],
            [
             0.3333333333333333,
             "#9c179e"
            ],
            [
             0.4444444444444444,
             "#bd3786"
            ],
            [
             0.5555555555555556,
             "#d8576b"
            ],
            [
             0.6666666666666666,
             "#ed7953"
            ],
            [
             0.7777777777777778,
             "#fb9f3a"
            ],
            [
             0.8888888888888888,
             "#fdca26"
            ],
            [
             1,
             "#f0f921"
            ]
           ],
           "sequentialminus": [
            [
             0,
             "#0d0887"
            ],
            [
             0.1111111111111111,
             "#46039f"
            ],
            [
             0.2222222222222222,
             "#7201a8"
            ],
            [
             0.3333333333333333,
             "#9c179e"
            ],
            [
             0.4444444444444444,
             "#bd3786"
            ],
            [
             0.5555555555555556,
             "#d8576b"
            ],
            [
             0.6666666666666666,
             "#ed7953"
            ],
            [
             0.7777777777777778,
             "#fb9f3a"
            ],
            [
             0.8888888888888888,
             "#fdca26"
            ],
            [
             1,
             "#f0f921"
            ]
           ]
          },
          "colorway": [
           "#636efa",
           "#EF553B",
           "#00cc96",
           "#ab63fa",
           "#FFA15A",
           "#19d3f3",
           "#FF6692",
           "#B6E880",
           "#FF97FF",
           "#FECB52"
          ],
          "font": {
           "color": "#2a3f5f"
          },
          "geo": {
           "bgcolor": "white",
           "lakecolor": "white",
           "landcolor": "white",
           "showlakes": true,
           "showland": true,
           "subunitcolor": "#C8D4E3"
          },
          "height": 400,
          "hoverlabel": {
           "align": "left"
          },
          "hovermode": "closest",
          "mapbox": {
           "style": "light"
          },
          "margin": {
           "b": 2,
           "l": 2,
           "r": 2,
           "t": 30
          },
          "paper_bgcolor": "white",
          "plot_bgcolor": "white",
          "polar": {
           "angularaxis": {
            "gridcolor": "#EBF0F8",
            "linecolor": "#EBF0F8",
            "ticks": ""
           },
           "bgcolor": "white",
           "radialaxis": {
            "gridcolor": "#EBF0F8",
            "linecolor": "#EBF0F8",
            "ticks": ""
           }
          },
          "scene": {
           "camera": {
            "eye": {
             "x": 1.5,
             "y": 1.5,
             "z": 0.1
            }
           },
           "xaxis": {
            "backgroundcolor": "white",
            "gridcolor": "#DFE8F3",
            "gridwidth": 2,
            "linecolor": "#EBF0F8",
            "showbackground": true,
            "ticks": "",
            "zerolinecolor": "#EBF0F8"
           },
           "yaxis": {
            "backgroundcolor": "white",
            "gridcolor": "#DFE8F3",
            "gridwidth": 2,
            "linecolor": "#EBF0F8",
            "showbackground": true,
            "ticks": "",
            "zerolinecolor": "#EBF0F8"
           },
           "zaxis": {
            "backgroundcolor": "white",
            "gridcolor": "#DFE8F3",
            "gridwidth": 2,
            "linecolor": "#EBF0F8",
            "showbackground": true,
            "ticks": "",
            "zerolinecolor": "#EBF0F8"
           }
          },
          "shapedefaults": {
           "line": {
            "color": "#2a3f5f"
           }
          },
          "ternary": {
           "aaxis": {
            "gridcolor": "#DFE8F3",
            "linecolor": "#A2B1C6",
            "ticks": ""
           },
           "baxis": {
            "gridcolor": "#DFE8F3",
            "linecolor": "#A2B1C6",
            "ticks": ""
           },
           "bgcolor": "white",
           "caxis": {
            "gridcolor": "#DFE8F3",
            "linecolor": "#A2B1C6",
            "ticks": ""
           }
          },
          "title": {
           "x": 0.5
          },
          "xaxis": {
           "automargin": true,
           "gridcolor": "#EBF0F8",
           "linecolor": "#EBF0F8",
           "linewidth": 2,
           "showline": true,
           "ticks": "",
           "title": {
            "standoff": 15
           },
           "zerolinecolor": "#EBF0F8",
           "zerolinewidth": 2
          },
          "yaxis": {
           "automargin": true,
           "gridcolor": "#EBF0F8",
           "linecolor": "#EBF0F8",
           "linewidth": 2,
           "showline": true,
           "ticks": "",
           "title": {
            "standoff": 15
           },
           "zerolinecolor": "#EBF0F8",
           "zerolinewidth": 2
          }
         }
        },
        "title": {
         "text": "Avg_Brent_Crude"
        },
        "xaxis": {
         "anchor": "y",
         "domain": [
          0,
          1
         ],
         "title": {
          "text": "Avg Brent Crude"
         }
        },
        "yaxis": {
         "anchor": "x",
         "domain": [
          0,
          1
         ],
         "title": {
          "text": "BFP"
         }
        }
       }
      }
     },
     "metadata": {},
     "output_type": "display_data"
    },
    {
     "name": "stdout",
     "output_type": "stream",
     "text": [
      "Ex_Rate\n",
      "R-squared: 0.024549079692743447\n"
     ]
    },
    {
     "data": {
      "application/vnd.plotly.v1+json": {
       "config": {
        "plotlyServerURL": "https://plot.ly"
       },
       "data": [
        {
         "hovertemplate": "Ex Rate=%{x}<br>BFP=%{y}<extra></extra>",
         "legendgroup": "",
         "marker": {
          "color": "#636efa",
          "size": 15,
          "symbol": "circle"
         },
         "mode": "markers",
         "name": "",
         "orientation": "v",
         "showlegend": false,
         "type": "scatter",
         "x": [
          7.5246,
          7.4735,
          7.6902,
          7.4753,
          7.3749,
          7.6575,
          7.6708,
          7.5757,
          7.3178,
          7.1859,
          6.9374,
          6.9767,
          6.901,
          6.8983,
          7.2334,
          6.9512,
          6.7701,
          6.8516,
          6.8353,
          6.8134,
          7.059,
          7.5657,
          8.0012,
          8.1398,
          8.2122,
          8.0841,
          7.679,
          7.6193,
          7.8536,
          8.1031,
          8.4189,
          8.2657,
          8.2758,
          8.3075,
          8.6479,
          8.8252,
          8.6833,
          8.7629,
          8.9067,
          9.1932,
          9.1598,
          9.2987,
          10.0487,
          9.9348,
          10.0928,
          10.0027,
          9.9452,
          10.2121,
          10.3581,
          10.8105,
          11.0054,
          10.7695,
          10.5576,
          10.4042,
          10.6743,
          10.6609,
          10.6781,
          10.6781,
          11.1004,
          11.0969,
          11.4749,
          11.5777,
          11.589,
          12.0423,
          12.0459,
          11.9454,
          12.3196,
          12.4128,
          12.8609,
          13.7884,
          13.4734,
          14.0938,
          14.8819,
          16.3276,
          15.7832,
          15.4655,
          14.6477,
          15.2048,
          15.1553,
          14.4407,
          13.8016,
          14.0057,
          13.9646,
          13.9125,
          13.8687,
          13.5813,
          13.2899,
          12.9148,
          13.5105,
          13.2587,
          12.8756,
          13.15,
          13.2152,
          13.1317,
          13.621,
          14.0964,
          13.2303,
          12.2029,
          11.8167,
          11.8489,
          11.9797,
          12.5099,
          13.2871,
          13.4713,
          13.943,
          14.7899,
          14.4892,
          14.0923,
          14.1778,
          13.9476,
          13.8038,
          14.3871,
          14.1401,
          14.4127,
          14.6227,
          14.0709,
          15.1729,
          14.8432,
          14.9293,
          14.8037,
          14.4784,
          14.3276,
          14.9789,
          16.4305,
          18.4771,
          18.1715,
          17.1271,
          16.8234,
          17.2814,
          16.7204,
          16.4657,
          15.6305,
          14.939,
          15.087,
          14.763,
          14.95,
          14.448,
          14.11,
          13.92,
          14.65,
          14.77,
          14.56,
          14.72,
          15.85,
          15.92,
          15.51,
          15.23
         ],
         "xaxis": "x",
         "y": [
          406.263,
          424.263,
          430.563,
          453.063,
          465.063,
          438.063,
          420.063,
          410.063,
          400.063,
          396.563,
          416.563,
          429.563,
          453.949,
          479.949,
          522.949,
          552.149,
          581.149,
          579.149,
          548.149,
          565.149,
          574.149,
          606.149,
          629.149,
          603.55,
          598.55,
          632.55,
          656.17,
          694.57,
          718.17,
          660.99,
          582.57,
          608.95,
          698.45,
          708.29,
          696.09,
          673.19,
          664.77,
          707.97,
          784.59,
          760.43,
          693.99,
          696.97,
          778.77,
          799.81,
          796.99,
          772.09,
          746.29,
          756.37,
          792.19,
          828.99,
          862.79,
          848.59,
          842.37,
          826.95,
          857.95,
          853.57,
          786.75,
          781.75,
          736.75,
          656.25,
          533.25,
          440.25,
          536.25,
          615.65,
          615.65,
          662.65,
          703.65,
          652.47,
          578.87,
          582.87,
          560.87,
          553.97,
          550.97,
          556.97,
          487.97,
          540.97,
          552.97,
          604.97,
          612.97,
          513.97,
          495.97,
          538.97,
          583.97,
          543.87,
          591.87,
          620.87,
          612.87,
          548.67,
          597.67,
          572.67,
          504.67,
          523.67,
          586.07,
          615.07,
          619.07,
          686.17,
          652.17,
          622.17,
          586.17,
          596.07,
          645.07,
          727.07,
          750.07,
          751.07,
          751.17,
          851.17,
          829.25,
          637.55,
          536.47,
          543.47,
          617.47,
          723.17,
          777.17,
          764.01,
          677.79,
          693.17,
          704.17,
          722.17,
          709.17,
          719.57,
          699.97,
          686.97,
          667.97,
          448.67,
          274.77,
          392.77,
          564.774,
          569.77,
          565.47,
          533.47,
          506.47,
          479.17,
          519.17,
          600.17,
          665.17,
          736.17,
          727.17,
          717.17,
          743.17,
          827.59,
          817.11,
          818.31,
          937.11,
          973.97,
          903.47,
          969.63,
          1100.27
         ],
         "yaxis": "y"
        }
       ],
       "layout": {
        "legend": {
         "tracegroupgap": 0
        },
        "shapes": [
         {
          "line": {
           "color": "rgb(228,26,28)"
          },
          "path": "M6.7701 604.4340127670248 L 6.828929145728644 604.8387800721605 L 6.887758291457287 605.2435473772962 L 6.94658743718593 605.648314682432 L 7.005416582914573 606.0530819875677 L 7.0642457286432165 606.4578492927034 L 7.123074874371859 606.8626165978391 L 7.181904020100503 607.2673839029748 L 7.240733165829146 607.6721512081104 L 7.299562311557789 608.0769185132463 L 7.358391457286432 608.481685818382 L 7.417220603015076 608.8864531235176 L 7.476049748743719 609.2912204286533 L 7.534878894472362 609.695987733789 L 7.5937080402010055 610.1007550389247 L 7.652537185929648 610.5055223440605 L 7.711366331658292 610.9102896491962 L 7.770195477386935 611.3150569543319 L 7.829024623115578 611.7198242594676 L 7.887853768844222 612.1245915646033 L 7.946682914572865 612.5293588697391 L 8.005512060301507 612.9341261748748 L 8.064341206030152 613.3388934800105 L 8.123170351758795 613.7436607851462 L 8.181999497487437 614.1484280902819 L 8.24082864321608 614.5531953954176 L 8.299657788944725 614.9579627005533 L 8.358486934673367 615.3627300056891 L 8.41731608040201 615.7674973108248 L 8.476145226130654 616.1722646159604 L 8.534974371859297 616.5770319210961 L 8.59380351758794 616.9817992262318 L 8.652632663316583 617.3865665313675 L 8.711461809045227 617.7913338365033 L 8.77029095477387 618.196101141639 L 8.829120100502513 618.6008684467747 L 8.887949246231155 619.0056357519104 L 8.9467783919598 619.4104030570461 L 9.005607537688443 619.8151703621818 L 9.064436683417085 620.2199376673176 L 9.12326582914573 620.6247049724533 L 9.182094974874373 621.029472277589 L 9.240924120603015 621.4342395827247 L 9.29975326633166 621.8390068878604 L 9.358582412060303 622.2437741929962 L 9.417411557788945 622.6485414981319 L 9.476240703517588 623.0533088032676 L 9.53506984924623 623.4580761084032 L 9.593898994974875 623.8628434135389 L 9.652728140703518 624.2676107186746 L 9.71155728643216 624.6723780238103 L 9.770386432160805 625.0771453289461 L 9.829215577889448 625.4819126340818 L 9.88804472361809 625.8866799392175 L 9.946873869346735 626.2914472443532 L 10.005703015075378 626.6962145494889 L 10.06453216080402 627.1009818546247 L 10.123361306532663 627.5057491597604 L 10.182190452261306 627.9105164648961 L 10.24101959798995 628.3152837700318 L 10.299848743718593 628.7200510751675 L 10.358677889447236 629.1248183803032 L 10.41750703517588 629.5295856854389 L 10.476336180904523 629.9343529905747 L 10.535165326633166 630.3391202957104 L 10.59399447236181 630.743887600846 L 10.652823618090453 631.1486549059817 L 10.711652763819096 631.5534222111174 L 10.77048190954774 631.9581895162532 L 10.829311055276381 632.3629568213889 L 10.888140201005026 632.7677241265246 L 10.946969346733669 633.1724914316603 L 11.005798492462311 633.577258736796 L 11.064627638190956 633.9820260419317 L 11.123456783919599 634.3867933470674 L 11.182285929648241 634.7915606522032 L 11.241115075376886 635.1963279573389 L 11.299944221105529 635.6010952624746 L 11.358773366834171 636.0058625676103 L 11.417602512562816 636.410629872746 L 11.476431658291457 636.8153971778817 L 11.535260804020101 637.2201644830175 L 11.594089949748744 637.6249317881532 L 11.652919095477387 638.0296990932889 L 11.711748241206031 638.4344663984245 L 11.770577386934674 638.8392337035602 L 11.829406532663317 639.2440010086959 L 11.888235678391961 639.6487683138317 L 11.947064824120604 640.0535356189674 L 12.005893969849247 640.4583029241031 L 12.064723115577891 640.8630702292388 L 12.123552261306532 641.2678375343745 L 12.182381407035177 641.6726048395103 L 12.241210552763821 642.077372144646 L 12.300039698492462 642.4821394497817 L 12.358868844221107 642.8869067549174 L 12.41769798994975 643.2916740600531 L 12.476527135678392 643.6964413651888 L 12.535356281407037 644.1012086703245 L 12.59418542713568 644.5059759754603 L 12.653014572864322 644.910743280596 L 12.711843718592966 645.3155105857317 L 12.77067286432161 645.7202778908674 L 12.829502010050252 646.125045196003 L 12.888331155778896 646.5298125011388 L 12.947160301507537 646.9345798062745 L 13.005989447236182 647.3393471114102 L 13.064818592964825 647.7441144165459 L 13.123647738693467 648.1488817216816 L 13.182476884422112 648.5536490268173 L 13.241306030150755 648.958416331953 L 13.300135175879397 649.3631836370888 L 13.358964321608042 649.7679509422245 L 13.417793467336685 650.1727182473602 L 13.476622613065327 650.5774855524959 L 13.535451758793972 650.9822528576316 L 13.594280904522613 651.3870201627674 L 13.653110050251257 651.7917874679031 L 13.7119391959799 652.1965547730388 L 13.770768341708543 652.6013220781745 L 13.829597487437187 653.0060893833102 L 13.88842663316583 653.4108566884458 L 13.947255778894473 653.8156239935815 L 14.006084924623117 654.2203912987173 L 14.06491407035176 654.625158603853 L 14.123743216080403 655.0299259089887 L 14.182572361809047 655.4346932141244 L 14.241401507537688 655.8394605192601 L 14.300230653266333 656.2442278243959 L 14.359059798994977 656.6489951295316 L 14.417888944723618 657.0537624346673 L 14.476718090452263 657.458529739803 L 14.535547236180905 657.8632970449387 L 14.594376381909548 658.2680643500744 L 14.653205527638193 658.6728316552102 L 14.712034673366835 659.0775989603459 L 14.770863819095478 659.4823662654816 L 14.829692964824122 659.8871335706173 L 14.888522110552763 660.291900875753 L 14.947351256281408 660.6966681808887 L 15.006180402010052 661.1014354860245 L 15.065009547738693 661.5062027911601 L 15.123838693467338 661.9109700962958 L 15.182667839195982 662.3157374014315 L 15.241496984924623 662.7205047065672 L 15.300326130653268 663.1252720117029 L 15.359155276381909 663.5300393168386 L 15.417984422110553 663.9348066219744 L 15.476813567839198 664.3395739271101 L 15.535642713567839 664.7443412322458 L 15.594471859296483 665.1491085373815 L 15.653301005025128 665.5538758425173 L 15.712130150753769 665.958643147653 L 15.770959296482413 666.3634104527887 L 15.829788442211058 666.7681777579244 L 15.888617587939699 667.1729450630601 L 15.947446733668343 667.5777123681958 L 16.006275879396988 667.9824796733315 L 16.06510502512563 668.3872469784671 L 16.123934170854273 668.792014283603 L 16.182763316582914 669.1967815887386 L 16.24159246231156 669.6015488938743 L 16.300421608040203 670.00631619901 L 16.359250753768844 670.4110835041457 L 16.41807989949749 670.8158508092815 L 16.476909045226133 671.2206181144172 L 16.535738190954774 671.6253854195529 L 16.59456733668342 672.0301527246886 L 16.653396482412063 672.4349200298243 L 16.712225628140704 672.83968733496 L 16.77105477386935 673.2444546400958 L 16.82988391959799 673.6492219452315 L 16.888713065326634 674.0539892503672 L 16.94754221105528 674.4587565555029 L 17.00637135678392 674.8635238606386 L 17.065200502512564 675.2682911657743 L 17.12402964824121 675.6730584709101 L 17.18285879396985 676.0778257760458 L 17.241687939698494 676.4825930811814 L 17.30051708542714 676.8873603863171 L 17.35934623115578 677.2921276914528 L 17.418175376884424 677.6968949965885 L 17.477004522613065 678.1016623017242 L 17.53583366834171 678.50642960686 L 17.594662814070354 678.9111969119957 L 17.653491959798995 679.3159642171314 L 17.71232110552764 679.7207315222671 L 17.771150251256284 680.1254988274029 L 17.829979396984925 680.5302661325386 L 17.88880854271357 680.9350334376743 L 17.947637688442214 681.33980074281 L 18.006466834170855 681.7445680479457 L 18.0652959798995 682.1493353530814 L 18.124125125628144 682.5541026582171 L 18.182954271356785 682.9588699633528 L 18.24178341708543 683.3636372684886 L 18.30061256281407 683.7684045736243 L 18.359441708542715 684.17317187876 L 18.41827085427136 684.5779391838956 L 18.4771 684.9827064890313",
          "type": "path"
         }
        ],
        "template": {
         "data": {
          "bar": [
           {
            "error_x": {
             "color": "#2a3f5f"
            },
            "error_y": {
             "color": "#2a3f5f"
            },
            "marker": {
             "line": {
              "color": "white",
              "width": 0.5
             },
             "pattern": {
              "fillmode": "overlay",
              "size": 10,
              "solidity": 0.2
             }
            },
            "type": "bar"
           }
          ],
          "barpolar": [
           {
            "marker": {
             "line": {
              "color": "white",
              "width": 0.5
             },
             "pattern": {
              "fillmode": "overlay",
              "size": 10,
              "solidity": 0.2
             }
            },
            "type": "barpolar"
           }
          ],
          "box": [
           {
            "boxpoints": "outliers",
            "notched": false,
            "type": "box"
           }
          ],
          "carpet": [
           {
            "aaxis": {
             "endlinecolor": "#2a3f5f",
             "gridcolor": "#C8D4E3",
             "linecolor": "#C8D4E3",
             "minorgridcolor": "#C8D4E3",
             "startlinecolor": "#2a3f5f"
            },
            "baxis": {
             "endlinecolor": "#2a3f5f",
             "gridcolor": "#C8D4E3",
             "linecolor": "#C8D4E3",
             "minorgridcolor": "#C8D4E3",
             "startlinecolor": "#2a3f5f"
            },
            "type": "carpet"
           }
          ],
          "choropleth": [
           {
            "colorbar": {
             "outlinewidth": 0,
             "ticks": ""
            },
            "type": "choropleth"
           }
          ],
          "contour": [
           {
            "colorbar": {
             "outlinewidth": 0,
             "ticks": ""
            },
            "colorscale": [
             [
              0,
              "#0d0887"
             ],
             [
              0.1111111111111111,
              "#46039f"
             ],
             [
              0.2222222222222222,
              "#7201a8"
             ],
             [
              0.3333333333333333,
              "#9c179e"
             ],
             [
              0.4444444444444444,
              "#bd3786"
             ],
             [
              0.5555555555555556,
              "#d8576b"
             ],
             [
              0.6666666666666666,
              "#ed7953"
             ],
             [
              0.7777777777777778,
              "#fb9f3a"
             ],
             [
              0.8888888888888888,
              "#fdca26"
             ],
             [
              1,
              "#f0f921"
             ]
            ],
            "type": "contour"
           }
          ],
          "contourcarpet": [
           {
            "colorbar": {
             "outlinewidth": 0,
             "ticks": ""
            },
            "type": "contourcarpet"
           }
          ],
          "heatmap": [
           {
            "colorbar": {
             "outlinewidth": 0,
             "ticks": ""
            },
            "colorscale": [
             [
              0,
              "#0d0887"
             ],
             [
              0.1111111111111111,
              "#46039f"
             ],
             [
              0.2222222222222222,
              "#7201a8"
             ],
             [
              0.3333333333333333,
              "#9c179e"
             ],
             [
              0.4444444444444444,
              "#bd3786"
             ],
             [
              0.5555555555555556,
              "#d8576b"
             ],
             [
              0.6666666666666666,
              "#ed7953"
             ],
             [
              0.7777777777777778,
              "#fb9f3a"
             ],
             [
              0.8888888888888888,
              "#fdca26"
             ],
             [
              1,
              "#f0f921"
             ]
            ],
            "type": "heatmap"
           }
          ],
          "heatmapgl": [
           {
            "colorbar": {
             "outlinewidth": 0,
             "ticks": ""
            },
            "colorscale": [
             [
              0,
              "#0d0887"
             ],
             [
              0.1111111111111111,
              "#46039f"
             ],
             [
              0.2222222222222222,
              "#7201a8"
             ],
             [
              0.3333333333333333,
              "#9c179e"
             ],
             [
              0.4444444444444444,
              "#bd3786"
             ],
             [
              0.5555555555555556,
              "#d8576b"
             ],
             [
              0.6666666666666666,
              "#ed7953"
             ],
             [
              0.7777777777777778,
              "#fb9f3a"
             ],
             [
              0.8888888888888888,
              "#fdca26"
             ],
             [
              1,
              "#f0f921"
             ]
            ],
            "type": "heatmapgl"
           }
          ],
          "histogram": [
           {
            "marker": {
             "line": {
              "width": 1
             },
             "pattern": {
              "fillmode": "overlay",
              "size": 10,
              "solidity": 0.2
             }
            },
            "type": "histogram"
           }
          ],
          "histogram2d": [
           {
            "colorbar": {
             "outlinewidth": 0,
             "ticks": ""
            },
            "colorscale": [
             [
              0,
              "#0d0887"
             ],
             [
              0.1111111111111111,
              "#46039f"
             ],
             [
              0.2222222222222222,
              "#7201a8"
             ],
             [
              0.3333333333333333,
              "#9c179e"
             ],
             [
              0.4444444444444444,
              "#bd3786"
             ],
             [
              0.5555555555555556,
              "#d8576b"
             ],
             [
              0.6666666666666666,
              "#ed7953"
             ],
             [
              0.7777777777777778,
              "#fb9f3a"
             ],
             [
              0.8888888888888888,
              "#fdca26"
             ],
             [
              1,
              "#f0f921"
             ]
            ],
            "type": "histogram2d"
           }
          ],
          "histogram2dcontour": [
           {
            "colorbar": {
             "outlinewidth": 0,
             "ticks": ""
            },
            "colorscale": [
             [
              0,
              "#0d0887"
             ],
             [
              0.1111111111111111,
              "#46039f"
             ],
             [
              0.2222222222222222,
              "#7201a8"
             ],
             [
              0.3333333333333333,
              "#9c179e"
             ],
             [
              0.4444444444444444,
              "#bd3786"
             ],
             [
              0.5555555555555556,
              "#d8576b"
             ],
             [
              0.6666666666666666,
              "#ed7953"
             ],
             [
              0.7777777777777778,
              "#fb9f3a"
             ],
             [
              0.8888888888888888,
              "#fdca26"
             ],
             [
              1,
              "#f0f921"
             ]
            ],
            "type": "histogram2dcontour"
           }
          ],
          "mesh3d": [
           {
            "colorbar": {
             "outlinewidth": 0,
             "ticks": ""
            },
            "type": "mesh3d"
           }
          ],
          "parcoords": [
           {
            "line": {
             "colorbar": {
              "outlinewidth": 0,
              "ticks": ""
             }
            },
            "type": "parcoords"
           }
          ],
          "pie": [
           {
            "automargin": true,
            "type": "pie"
           }
          ],
          "scatter": [
           {
            "marker": {
             "colorbar": {
              "outlinewidth": 0,
              "ticks": ""
             },
             "opacity": 0.8
            },
            "type": "scatter"
           }
          ],
          "scatter3d": [
           {
            "line": {
             "colorbar": {
              "outlinewidth": 0,
              "ticks": ""
             }
            },
            "marker": {
             "colorbar": {
              "outlinewidth": 0,
              "ticks": ""
             },
             "opacity": 0.8
            },
            "type": "scatter3d"
           }
          ],
          "scattercarpet": [
           {
            "marker": {
             "colorbar": {
              "outlinewidth": 0,
              "ticks": ""
             }
            },
            "type": "scattercarpet"
           }
          ],
          "scattergeo": [
           {
            "marker": {
             "colorbar": {
              "outlinewidth": 0,
              "ticks": ""
             }
            },
            "type": "scattergeo"
           }
          ],
          "scattergl": [
           {
            "marker": {
             "colorbar": {
              "outlinewidth": 0,
              "ticks": ""
             }
            },
            "type": "scattergl"
           }
          ],
          "scattermapbox": [
           {
            "marker": {
             "colorbar": {
              "outlinewidth": 0,
              "ticks": ""
             }
            },
            "type": "scattermapbox"
           }
          ],
          "scatterpolar": [
           {
            "marker": {
             "colorbar": {
              "outlinewidth": 0,
              "ticks": ""
             }
            },
            "type": "scatterpolar"
           }
          ],
          "scatterpolargl": [
           {
            "marker": {
             "colorbar": {
              "outlinewidth": 0,
              "ticks": ""
             }
            },
            "type": "scatterpolargl"
           }
          ],
          "scatterternary": [
           {
            "marker": {
             "colorbar": {
              "outlinewidth": 0,
              "ticks": ""
             }
            },
            "type": "scatterternary"
           }
          ],
          "surface": [
           {
            "colorbar": {
             "outlinewidth": 0,
             "ticks": ""
            },
            "colorscale": [
             [
              0,
              "#0d0887"
             ],
             [
              0.1111111111111111,
              "#46039f"
             ],
             [
              0.2222222222222222,
              "#7201a8"
             ],
             [
              0.3333333333333333,
              "#9c179e"
             ],
             [
              0.4444444444444444,
              "#bd3786"
             ],
             [
              0.5555555555555556,
              "#d8576b"
             ],
             [
              0.6666666666666666,
              "#ed7953"
             ],
             [
              0.7777777777777778,
              "#fb9f3a"
             ],
             [
              0.8888888888888888,
              "#fdca26"
             ],
             [
              1,
              "#f0f921"
             ]
            ],
            "type": "surface"
           }
          ],
          "table": [
           {
            "cells": {
             "fill": {
              "color": "#EBF0F8"
             },
             "line": {
              "color": "white"
             }
            },
            "header": {
             "fill": {
              "color": "#C8D4E3"
             },
             "line": {
              "color": "white"
             }
            },
            "type": "table"
           }
          ]
         },
         "layout": {
          "annotationdefaults": {
           "arrowcolor": "#2a3f5f",
           "arrowhead": 0,
           "arrowwidth": 1
          },
          "autotypenumbers": "strict",
          "coloraxis": {
           "colorbar": {
            "outlinewidth": 0,
            "ticks": ""
           }
          },
          "colorscale": {
           "diverging": [
            [
             0,
             "#8e0152"
            ],
            [
             0.1,
             "#c51b7d"
            ],
            [
             0.2,
             "#de77ae"
            ],
            [
             0.3,
             "#f1b6da"
            ],
            [
             0.4,
             "#fde0ef"
            ],
            [
             0.5,
             "#f7f7f7"
            ],
            [
             0.6,
             "#e6f5d0"
            ],
            [
             0.7,
             "#b8e186"
            ],
            [
             0.8,
             "#7fbc41"
            ],
            [
             0.9,
             "#4d9221"
            ],
            [
             1,
             "#276419"
            ]
           ],
           "sequential": [
            [
             0,
             "#0d0887"
            ],
            [
             0.1111111111111111,
             "#46039f"
            ],
            [
             0.2222222222222222,
             "#7201a8"
            ],
            [
             0.3333333333333333,
             "#9c179e"
            ],
            [
             0.4444444444444444,
             "#bd3786"
            ],
            [
             0.5555555555555556,
             "#d8576b"
            ],
            [
             0.6666666666666666,
             "#ed7953"
            ],
            [
             0.7777777777777778,
             "#fb9f3a"
            ],
            [
             0.8888888888888888,
             "#fdca26"
            ],
            [
             1,
             "#f0f921"
            ]
           ],
           "sequentialminus": [
            [
             0,
             "#0d0887"
            ],
            [
             0.1111111111111111,
             "#46039f"
            ],
            [
             0.2222222222222222,
             "#7201a8"
            ],
            [
             0.3333333333333333,
             "#9c179e"
            ],
            [
             0.4444444444444444,
             "#bd3786"
            ],
            [
             0.5555555555555556,
             "#d8576b"
            ],
            [
             0.6666666666666666,
             "#ed7953"
            ],
            [
             0.7777777777777778,
             "#fb9f3a"
            ],
            [
             0.8888888888888888,
             "#fdca26"
            ],
            [
             1,
             "#f0f921"
            ]
           ]
          },
          "colorway": [
           "#636efa",
           "#EF553B",
           "#00cc96",
           "#ab63fa",
           "#FFA15A",
           "#19d3f3",
           "#FF6692",
           "#B6E880",
           "#FF97FF",
           "#FECB52"
          ],
          "font": {
           "color": "#2a3f5f"
          },
          "geo": {
           "bgcolor": "white",
           "lakecolor": "white",
           "landcolor": "white",
           "showlakes": true,
           "showland": true,
           "subunitcolor": "#C8D4E3"
          },
          "height": 400,
          "hoverlabel": {
           "align": "left"
          },
          "hovermode": "closest",
          "mapbox": {
           "style": "light"
          },
          "margin": {
           "b": 2,
           "l": 2,
           "r": 2,
           "t": 30
          },
          "paper_bgcolor": "white",
          "plot_bgcolor": "white",
          "polar": {
           "angularaxis": {
            "gridcolor": "#EBF0F8",
            "linecolor": "#EBF0F8",
            "ticks": ""
           },
           "bgcolor": "white",
           "radialaxis": {
            "gridcolor": "#EBF0F8",
            "linecolor": "#EBF0F8",
            "ticks": ""
           }
          },
          "scene": {
           "camera": {
            "eye": {
             "x": 1.5,
             "y": 1.5,
             "z": 0.1
            }
           },
           "xaxis": {
            "backgroundcolor": "white",
            "gridcolor": "#DFE8F3",
            "gridwidth": 2,
            "linecolor": "#EBF0F8",
            "showbackground": true,
            "ticks": "",
            "zerolinecolor": "#EBF0F8"
           },
           "yaxis": {
            "backgroundcolor": "white",
            "gridcolor": "#DFE8F3",
            "gridwidth": 2,
            "linecolor": "#EBF0F8",
            "showbackground": true,
            "ticks": "",
            "zerolinecolor": "#EBF0F8"
           },
           "zaxis": {
            "backgroundcolor": "white",
            "gridcolor": "#DFE8F3",
            "gridwidth": 2,
            "linecolor": "#EBF0F8",
            "showbackground": true,
            "ticks": "",
            "zerolinecolor": "#EBF0F8"
           }
          },
          "shapedefaults": {
           "line": {
            "color": "#2a3f5f"
           }
          },
          "ternary": {
           "aaxis": {
            "gridcolor": "#DFE8F3",
            "linecolor": "#A2B1C6",
            "ticks": ""
           },
           "baxis": {
            "gridcolor": "#DFE8F3",
            "linecolor": "#A2B1C6",
            "ticks": ""
           },
           "bgcolor": "white",
           "caxis": {
            "gridcolor": "#DFE8F3",
            "linecolor": "#A2B1C6",
            "ticks": ""
           }
          },
          "title": {
           "x": 0.5
          },
          "xaxis": {
           "automargin": true,
           "gridcolor": "#EBF0F8",
           "linecolor": "#EBF0F8",
           "linewidth": 2,
           "showline": true,
           "ticks": "",
           "title": {
            "standoff": 15
           },
           "zerolinecolor": "#EBF0F8",
           "zerolinewidth": 2
          },
          "yaxis": {
           "automargin": true,
           "gridcolor": "#EBF0F8",
           "linecolor": "#EBF0F8",
           "linewidth": 2,
           "showline": true,
           "ticks": "",
           "title": {
            "standoff": 15
           },
           "zerolinecolor": "#EBF0F8",
           "zerolinewidth": 2
          }
         }
        },
        "title": {
         "text": "Ex_Rate"
        },
        "xaxis": {
         "anchor": "y",
         "domain": [
          0,
          1
         ],
         "title": {
          "text": "Ex Rate"
         }
        },
        "yaxis": {
         "anchor": "x",
         "domain": [
          0,
          1
         ],
         "title": {
          "text": "BFP"
         }
        }
       }
      }
     },
     "metadata": {},
     "output_type": "display_data"
    }
   ],
   "source": [
    "import statsmodels.formula.api as smf\n",
    "import graphing # custom graphing code from Microsft\n",
    "\n",
    "for feature in [\"Avg_Brent_Crude\", \"Ex_Rate\"]:\n",
    "    # Perform linear regression. This method takes care of\n",
    "    # the entire fitting procedure for us.\n",
    "    formula = \"BFP ~ \" + feature\n",
    "    simple_model = smf.ols(formula = formula, data = dataset).fit()\n",
    "\n",
    "    print(feature)\n",
    "    print(\"R-squared:\", simple_model.rsquared)\n",
    "    \n",
    "    # Show a graph of the result\n",
    "    graphing.scatter_2D(dataset, label_x=feature, \n",
    "                                 label_y=\"BFP\",\n",
    "                                 title = feature,\n",
    "                                 trendline=lambda x: simple_model.params[1] * x + simple_model.params[0],\n",
    "                                 show=True)"
   ]
  },
  {
   "cell_type": "markdown",
   "metadata": {},
   "source": [
    "### R-Squared"
   ]
  },
  {
   "cell_type": "code",
   "execution_count": 44,
   "metadata": {},
   "outputs": [
    {
     "name": "stdout",
     "output_type": "stream",
     "text": [
      "naive R-squared: 0.0\n",
      "trained R-squared: 0.18330218189942582\n"
     ]
    },
    {
     "data": {
      "application/vnd.plotly.v1+json": {
       "config": {
        "plotlyServerURL": "https://plot.ly"
       },
       "data": [
        {
         "hovertemplate": "Avg Brent Crude=%{x}<br>BFP=%{y}<extra></extra>",
         "legendgroup": "",
         "marker": {
          "color": "#636efa",
          "size": 15,
          "symbol": "circle"
         },
         "mode": "markers",
         "name": "",
         "orientation": "v",
         "showlegend": false,
         "type": "scatter",
         "x": [
          74.31,
          76.84,
          73.17,
          78.89,
          85.75,
          76.3,
          74.61,
          78.68,
          77.39,
          77.37,
          82.73,
          85.15,
          90.77,
          95.97,
          102.37,
          114.41,
          123.49,
          116.15,
          114.19,
          116.88,
          110.67,
          113.61,
          109.28,
          110.51,
          107.96,
          110.42,
          126.39,
          125.42,
          120.18,
          110.27,
          95.22,
          102.04,
          113.51,
          112.96,
          109.05,
          109.04,
          109.13,
          112.88,
          116.28,
          108.44,
          102.16,
          102.62,
          102.84,
          108.05,
          111.07,
          112.23,
          109.12,
          107.82,
          110.73,
          108.35,
          108.87,
          107.67,
          108.31,
          109.69,
          111.62,
          106.64,
          101.57,
          97.73,
          87.54,
          79.75,
          54.98,
          48.2,
          57.93,
          56.11,
          59.01,
          64.36,
          61.94,
          56.72,
          46.56,
          47.79,
          48.58,
          44.33,
          38.22,
          30.83,
          32.11,
          38.49,
          41.28,
          46.56,
          48.34,
          45.28,
          45.94,
          46.6,
          49.86,
          52.48,
          53.45,
          54.61,
          54.99,
          51.52,
          53.21,
          50.06,
          46.48,
          48.23,
          51.66,
          55.99,
          56.86,
          62.62,
          64.08,
          69.06,
          64.06,
          65.71,
          70.88,
          76.8,
          74.15,
          74.27,
          72.51,
          78.25,
          81.15,
          65.79,
          57.08,
          59.06,
          64.03,
          66.03,
          71.15,
          71.29,
          63.87,
          64.04,
          58.97,
          62.88,
          59.72,
          63.02,
          67.01,
          64.5,
          55.7,
          33.88,
          18.99,
          28.71,
          39.87,
          43.42,
          44.82,
          38.915,
          40.413,
          41.692,
          49.2,
          53.1,
          60,
          65.14,
          64.16,
          66,
          73,
          74,
          72.5,
          75.5,
          83.4,
          83.5,
          76,
          87,
          96.47
         ],
         "xaxis": "x",
         "y": [
          406.263,
          424.263,
          430.563,
          453.063,
          465.063,
          438.063,
          420.063,
          410.063,
          400.063,
          396.563,
          416.563,
          429.563,
          453.949,
          479.949,
          522.949,
          552.149,
          581.149,
          579.149,
          548.149,
          565.149,
          574.149,
          606.149,
          629.149,
          603.55,
          598.55,
          632.55,
          656.17,
          694.57,
          718.17,
          660.99,
          582.57,
          608.95,
          698.45,
          708.29,
          696.09,
          673.19,
          664.77,
          707.97,
          784.59,
          760.43,
          693.99,
          696.97,
          778.77,
          799.81,
          796.99,
          772.09,
          746.29,
          756.37,
          792.19,
          828.99,
          862.79,
          848.59,
          842.37,
          826.95,
          857.95,
          853.57,
          786.75,
          781.75,
          736.75,
          656.25,
          533.25,
          440.25,
          536.25,
          615.65,
          615.65,
          662.65,
          703.65,
          652.47,
          578.87,
          582.87,
          560.87,
          553.97,
          550.97,
          556.97,
          487.97,
          540.97,
          552.97,
          604.97,
          612.97,
          513.97,
          495.97,
          538.97,
          583.97,
          543.87,
          591.87,
          620.87,
          612.87,
          548.67,
          597.67,
          572.67,
          504.67,
          523.67,
          586.07,
          615.07,
          619.07,
          686.17,
          652.17,
          622.17,
          586.17,
          596.07,
          645.07,
          727.07,
          750.07,
          751.07,
          751.17,
          851.17,
          829.25,
          637.55,
          536.47,
          543.47,
          617.47,
          723.17,
          777.17,
          764.01,
          677.79,
          693.17,
          704.17,
          722.17,
          709.17,
          719.57,
          699.97,
          686.97,
          667.97,
          448.67,
          274.77,
          392.77,
          564.774,
          569.77,
          565.47,
          533.47,
          506.47,
          479.17,
          519.17,
          600.17,
          665.17,
          736.17,
          727.17,
          717.17,
          743.17,
          827.59,
          817.11,
          818.31,
          937.11,
          973.97,
          903.47,
          969.63,
          1100.27
         ],
         "yaxis": "y"
        }
       ],
       "layout": {
        "legend": {
         "tracegroupgap": 0
        },
        "shapes": [
         {
          "line": {
           "color": "rgb(228,26,28)"
          },
          "path": "M18.99 640.008156462585 L 19.52969849246231 640.008156462585 L 20.069396984924623 640.008156462585 L 20.609095477386933 640.008156462585 L 21.148793969849244 640.008156462585 L 21.688492462311558 640.008156462585 L 22.22819095477387 640.008156462585 L 22.76788944723618 640.008156462585 L 23.307587939698493 640.008156462585 L 23.847286432160804 640.008156462585 L 24.386984924623114 640.008156462585 L 24.926683417085428 640.008156462585 L 25.46638190954774 640.008156462585 L 26.00608040201005 640.008156462585 L 26.545778894472363 640.008156462585 L 27.08547738693467 640.008156462585 L 27.625175879396984 640.008156462585 L 28.164874371859298 640.008156462585 L 28.704572864321605 640.008156462585 L 29.24427135678392 640.008156462585 L 29.78396984924623 640.008156462585 L 30.32366834170854 640.008156462585 L 30.863366834170854 640.008156462585 L 31.403065326633165 640.008156462585 L 31.942763819095475 640.008156462585 L 32.48246231155779 640.008156462585 L 33.0221608040201 640.008156462585 L 33.56185929648241 640.008156462585 L 34.101557788944724 640.008156462585 L 34.64125628140704 640.008156462585 L 35.180954773869345 640.008156462585 L 35.72065326633166 640.008156462585 L 36.26035175879397 640.008156462585 L 36.80005025125628 640.008156462585 L 37.339748743718594 640.008156462585 L 37.87944723618091 640.008156462585 L 38.419145728643215 640.008156462585 L 38.95884422110553 640.008156462585 L 39.49854271356784 640.008156462585 L 40.03824120603015 640.008156462585 L 40.57793969849246 640.008156462585 L 41.11763819095478 640.008156462585 L 41.657336683417086 640.008156462585 L 42.19703517587939 640.008156462585 L 42.736733668341714 640.008156462585 L 43.27643216080402 640.008156462585 L 43.81613065326633 640.008156462585 L 44.35582914572865 640.008156462585 L 44.895527638190956 640.008156462585 L 45.43522613065326 640.008156462585 L 45.974924623115584 640.008156462585 L 46.51462311557789 640.008156462585 L 47.0543216080402 640.008156462585 L 47.59402010050252 640.008156462585 L 48.133718592964826 640.008156462585 L 48.67341708542713 640.008156462585 L 49.213115577889454 640.008156462585 L 49.75281407035176 640.008156462585 L 50.29251256281407 640.008156462585 L 50.83221105527638 640.008156462585 L 51.371909547738696 640.008156462585 L 51.911608040201 640.008156462585 L 52.451306532663324 640.008156462585 L 52.99100502512563 640.008156462585 L 53.53070351758794 640.008156462585 L 54.07040201005026 640.008156462585 L 54.610100502512566 640.008156462585 L 55.14979899497487 640.008156462585 L 55.689497487437194 640.008156462585 L 56.2291959798995 640.008156462585 L 56.76889447236181 640.008156462585 L 57.30859296482413 640.008156462585 L 57.848291457286436 640.008156462585 L 58.38798994974874 640.008156462585 L 58.927688442211064 640.008156462585 L 59.46738693467337 640.008156462585 L 60.00708542713568 640.008156462585 L 60.546783919598 640.008156462585 L 61.086482412060306 640.008156462585 L 61.62618090452261 640.008156462585 L 62.16587939698492 640.008156462585 L 62.70557788944724 640.008156462585 L 63.24527638190955 640.008156462585 L 63.784974874371855 640.008156462585 L 64.32467336683418 640.008156462585 L 64.86437185929648 640.008156462585 L 65.40407035175879 640.008156462585 L 65.94376884422111 640.008156462585 L 66.48346733668342 640.008156462585 L 67.02316582914573 640.008156462585 L 67.56286432160805 640.008156462585 L 68.10256281407035 640.008156462585 L 68.64226130653266 640.008156462585 L 69.18195979899498 640.008156462585 L 69.72165829145729 640.008156462585 L 70.2613567839196 640.008156462585 L 70.80105527638192 640.008156462585 L 71.34075376884422 640.008156462585 L 71.88045226130653 640.008156462585 L 72.42015075376885 640.008156462585 L 72.95984924623116 640.008156462585 L 73.49954773869347 640.008156462585 L 74.03924623115579 640.008156462585 L 74.5789447236181 640.008156462585 L 75.1186432160804 640.008156462585 L 75.65834170854272 640.008156462585 L 76.19804020100503 640.008156462585 L 76.73773869346734 640.008156462585 L 77.27743718592966 640.008156462585 L 77.81713567839196 640.008156462585 L 78.35683417085427 640.008156462585 L 78.89653266331659 640.008156462585 L 79.4362311557789 640.008156462585 L 79.9759296482412 640.008156462585 L 80.51562814070353 640.008156462585 L 81.05532663316583 640.008156462585 L 81.59502512562814 640.008156462585 L 82.13472361809046 640.008156462585 L 82.67442211055277 640.008156462585 L 83.21412060301508 640.008156462585 L 83.75381909547738 640.008156462585 L 84.2935175879397 640.008156462585 L 84.83321608040201 640.008156462585 L 85.37291457286432 640.008156462585 L 85.91261306532664 640.008156462585 L 86.45231155778895 640.008156462585 L 86.99201005025125 640.008156462585 L 87.53170854271357 640.008156462585 L 88.07140703517588 640.008156462585 L 88.61110552763819 640.008156462585 L 89.15080402010051 640.008156462585 L 89.69050251256282 640.008156462585 L 90.23020100502512 640.008156462585 L 90.76989949748744 640.008156462585 L 91.30959798994975 640.008156462585 L 91.84929648241206 640.008156462585 L 92.38899497487438 640.008156462585 L 92.92869346733669 640.008156462585 L 93.46839195979899 640.008156462585 L 94.00809045226131 640.008156462585 L 94.54778894472362 640.008156462585 L 95.08748743718593 640.008156462585 L 95.62718592964825 640.008156462585 L 96.16688442211056 640.008156462585 L 96.70658291457286 640.008156462585 L 97.24628140703518 640.008156462585 L 97.78597989949749 640.008156462585 L 98.3256783919598 640.008156462585 L 98.86537688442212 640.008156462585 L 99.40507537688443 640.008156462585 L 99.94477386934673 640.008156462585 L 100.48447236180905 640.008156462585 L 101.02417085427136 640.008156462585 L 101.56386934673367 640.008156462585 L 102.10356783919599 640.008156462585 L 102.6432663316583 640.008156462585 L 103.1829648241206 640.008156462585 L 103.72266331658292 640.008156462585 L 104.26236180904523 640.008156462585 L 104.80206030150754 640.008156462585 L 105.34175879396984 640.008156462585 L 105.88145728643217 640.008156462585 L 106.42115577889447 640.008156462585 L 106.96085427135678 640.008156462585 L 107.5005527638191 640.008156462585 L 108.04025125628141 640.008156462585 L 108.57994974874372 640.008156462585 L 109.11964824120604 640.008156462585 L 109.65934673366834 640.008156462585 L 110.19904522613065 640.008156462585 L 110.73874371859297 640.008156462585 L 111.27844221105528 640.008156462585 L 111.81814070351759 640.008156462585 L 112.3578391959799 640.008156462585 L 112.89753768844221 640.008156462585 L 113.43723618090452 640.008156462585 L 113.97693467336684 640.008156462585 L 114.51663316582915 640.008156462585 L 115.05633165829146 640.008156462585 L 115.59603015075378 640.008156462585 L 116.13572864321608 640.008156462585 L 116.67542713567839 640.008156462585 L 117.21512562814071 640.008156462585 L 117.75482412060302 640.008156462585 L 118.29452261306533 640.008156462585 L 118.83422110552765 640.008156462585 L 119.37391959798995 640.008156462585 L 119.91361809045226 640.008156462585 L 120.45331658291458 640.008156462585 L 120.99301507537689 640.008156462585 L 121.5327135678392 640.008156462585 L 122.07241206030152 640.008156462585 L 122.61211055276382 640.008156462585 L 123.15180904522613 640.008156462585 L 123.69150753768845 640.008156462585 L 124.23120603015076 640.008156462585 L 124.77090452261307 640.008156462585 L 125.31060301507539 640.008156462585 L 125.8503015075377 640.008156462585 L 126.39 640.008156462585",
          "type": "path"
         }
        ],
        "template": {
         "data": {
          "bar": [
           {
            "error_x": {
             "color": "#2a3f5f"
            },
            "error_y": {
             "color": "#2a3f5f"
            },
            "marker": {
             "line": {
              "color": "white",
              "width": 0.5
             },
             "pattern": {
              "fillmode": "overlay",
              "size": 10,
              "solidity": 0.2
             }
            },
            "type": "bar"
           }
          ],
          "barpolar": [
           {
            "marker": {
             "line": {
              "color": "white",
              "width": 0.5
             },
             "pattern": {
              "fillmode": "overlay",
              "size": 10,
              "solidity": 0.2
             }
            },
            "type": "barpolar"
           }
          ],
          "box": [
           {
            "boxpoints": "outliers",
            "notched": false,
            "type": "box"
           }
          ],
          "carpet": [
           {
            "aaxis": {
             "endlinecolor": "#2a3f5f",
             "gridcolor": "#C8D4E3",
             "linecolor": "#C8D4E3",
             "minorgridcolor": "#C8D4E3",
             "startlinecolor": "#2a3f5f"
            },
            "baxis": {
             "endlinecolor": "#2a3f5f",
             "gridcolor": "#C8D4E3",
             "linecolor": "#C8D4E3",
             "minorgridcolor": "#C8D4E3",
             "startlinecolor": "#2a3f5f"
            },
            "type": "carpet"
           }
          ],
          "choropleth": [
           {
            "colorbar": {
             "outlinewidth": 0,
             "ticks": ""
            },
            "type": "choropleth"
           }
          ],
          "contour": [
           {
            "colorbar": {
             "outlinewidth": 0,
             "ticks": ""
            },
            "colorscale": [
             [
              0,
              "#0d0887"
             ],
             [
              0.1111111111111111,
              "#46039f"
             ],
             [
              0.2222222222222222,
              "#7201a8"
             ],
             [
              0.3333333333333333,
              "#9c179e"
             ],
             [
              0.4444444444444444,
              "#bd3786"
             ],
             [
              0.5555555555555556,
              "#d8576b"
             ],
             [
              0.6666666666666666,
              "#ed7953"
             ],
             [
              0.7777777777777778,
              "#fb9f3a"
             ],
             [
              0.8888888888888888,
              "#fdca26"
             ],
             [
              1,
              "#f0f921"
             ]
            ],
            "type": "contour"
           }
          ],
          "contourcarpet": [
           {
            "colorbar": {
             "outlinewidth": 0,
             "ticks": ""
            },
            "type": "contourcarpet"
           }
          ],
          "heatmap": [
           {
            "colorbar": {
             "outlinewidth": 0,
             "ticks": ""
            },
            "colorscale": [
             [
              0,
              "#0d0887"
             ],
             [
              0.1111111111111111,
              "#46039f"
             ],
             [
              0.2222222222222222,
              "#7201a8"
             ],
             [
              0.3333333333333333,
              "#9c179e"
             ],
             [
              0.4444444444444444,
              "#bd3786"
             ],
             [
              0.5555555555555556,
              "#d8576b"
             ],
             [
              0.6666666666666666,
              "#ed7953"
             ],
             [
              0.7777777777777778,
              "#fb9f3a"
             ],
             [
              0.8888888888888888,
              "#fdca26"
             ],
             [
              1,
              "#f0f921"
             ]
            ],
            "type": "heatmap"
           }
          ],
          "heatmapgl": [
           {
            "colorbar": {
             "outlinewidth": 0,
             "ticks": ""
            },
            "colorscale": [
             [
              0,
              "#0d0887"
             ],
             [
              0.1111111111111111,
              "#46039f"
             ],
             [
              0.2222222222222222,
              "#7201a8"
             ],
             [
              0.3333333333333333,
              "#9c179e"
             ],
             [
              0.4444444444444444,
              "#bd3786"
             ],
             [
              0.5555555555555556,
              "#d8576b"
             ],
             [
              0.6666666666666666,
              "#ed7953"
             ],
             [
              0.7777777777777778,
              "#fb9f3a"
             ],
             [
              0.8888888888888888,
              "#fdca26"
             ],
             [
              1,
              "#f0f921"
             ]
            ],
            "type": "heatmapgl"
           }
          ],
          "histogram": [
           {
            "marker": {
             "line": {
              "width": 1
             },
             "pattern": {
              "fillmode": "overlay",
              "size": 10,
              "solidity": 0.2
             }
            },
            "type": "histogram"
           }
          ],
          "histogram2d": [
           {
            "colorbar": {
             "outlinewidth": 0,
             "ticks": ""
            },
            "colorscale": [
             [
              0,
              "#0d0887"
             ],
             [
              0.1111111111111111,
              "#46039f"
             ],
             [
              0.2222222222222222,
              "#7201a8"
             ],
             [
              0.3333333333333333,
              "#9c179e"
             ],
             [
              0.4444444444444444,
              "#bd3786"
             ],
             [
              0.5555555555555556,
              "#d8576b"
             ],
             [
              0.6666666666666666,
              "#ed7953"
             ],
             [
              0.7777777777777778,
              "#fb9f3a"
             ],
             [
              0.8888888888888888,
              "#fdca26"
             ],
             [
              1,
              "#f0f921"
             ]
            ],
            "type": "histogram2d"
           }
          ],
          "histogram2dcontour": [
           {
            "colorbar": {
             "outlinewidth": 0,
             "ticks": ""
            },
            "colorscale": [
             [
              0,
              "#0d0887"
             ],
             [
              0.1111111111111111,
              "#46039f"
             ],
             [
              0.2222222222222222,
              "#7201a8"
             ],
             [
              0.3333333333333333,
              "#9c179e"
             ],
             [
              0.4444444444444444,
              "#bd3786"
             ],
             [
              0.5555555555555556,
              "#d8576b"
             ],
             [
              0.6666666666666666,
              "#ed7953"
             ],
             [
              0.7777777777777778,
              "#fb9f3a"
             ],
             [
              0.8888888888888888,
              "#fdca26"
             ],
             [
              1,
              "#f0f921"
             ]
            ],
            "type": "histogram2dcontour"
           }
          ],
          "mesh3d": [
           {
            "colorbar": {
             "outlinewidth": 0,
             "ticks": ""
            },
            "type": "mesh3d"
           }
          ],
          "parcoords": [
           {
            "line": {
             "colorbar": {
              "outlinewidth": 0,
              "ticks": ""
             }
            },
            "type": "parcoords"
           }
          ],
          "pie": [
           {
            "automargin": true,
            "type": "pie"
           }
          ],
          "scatter": [
           {
            "marker": {
             "colorbar": {
              "outlinewidth": 0,
              "ticks": ""
             },
             "opacity": 0.8
            },
            "type": "scatter"
           }
          ],
          "scatter3d": [
           {
            "line": {
             "colorbar": {
              "outlinewidth": 0,
              "ticks": ""
             }
            },
            "marker": {
             "colorbar": {
              "outlinewidth": 0,
              "ticks": ""
             },
             "opacity": 0.8
            },
            "type": "scatter3d"
           }
          ],
          "scattercarpet": [
           {
            "marker": {
             "colorbar": {
              "outlinewidth": 0,
              "ticks": ""
             }
            },
            "type": "scattercarpet"
           }
          ],
          "scattergeo": [
           {
            "marker": {
             "colorbar": {
              "outlinewidth": 0,
              "ticks": ""
             }
            },
            "type": "scattergeo"
           }
          ],
          "scattergl": [
           {
            "marker": {
             "colorbar": {
              "outlinewidth": 0,
              "ticks": ""
             }
            },
            "type": "scattergl"
           }
          ],
          "scattermapbox": [
           {
            "marker": {
             "colorbar": {
              "outlinewidth": 0,
              "ticks": ""
             }
            },
            "type": "scattermapbox"
           }
          ],
          "scatterpolar": [
           {
            "marker": {
             "colorbar": {
              "outlinewidth": 0,
              "ticks": ""
             }
            },
            "type": "scatterpolar"
           }
          ],
          "scatterpolargl": [
           {
            "marker": {
             "colorbar": {
              "outlinewidth": 0,
              "ticks": ""
             }
            },
            "type": "scatterpolargl"
           }
          ],
          "scatterternary": [
           {
            "marker": {
             "colorbar": {
              "outlinewidth": 0,
              "ticks": ""
             }
            },
            "type": "scatterternary"
           }
          ],
          "surface": [
           {
            "colorbar": {
             "outlinewidth": 0,
             "ticks": ""
            },
            "colorscale": [
             [
              0,
              "#0d0887"
             ],
             [
              0.1111111111111111,
              "#46039f"
             ],
             [
              0.2222222222222222,
              "#7201a8"
             ],
             [
              0.3333333333333333,
              "#9c179e"
             ],
             [
              0.4444444444444444,
              "#bd3786"
             ],
             [
              0.5555555555555556,
              "#d8576b"
             ],
             [
              0.6666666666666666,
              "#ed7953"
             ],
             [
              0.7777777777777778,
              "#fb9f3a"
             ],
             [
              0.8888888888888888,
              "#fdca26"
             ],
             [
              1,
              "#f0f921"
             ]
            ],
            "type": "surface"
           }
          ],
          "table": [
           {
            "cells": {
             "fill": {
              "color": "#EBF0F8"
             },
             "line": {
              "color": "white"
             }
            },
            "header": {
             "fill": {
              "color": "#C8D4E3"
             },
             "line": {
              "color": "white"
             }
            },
            "type": "table"
           }
          ]
         },
         "layout": {
          "annotationdefaults": {
           "arrowcolor": "#2a3f5f",
           "arrowhead": 0,
           "arrowwidth": 1
          },
          "autotypenumbers": "strict",
          "coloraxis": {
           "colorbar": {
            "outlinewidth": 0,
            "ticks": ""
           }
          },
          "colorscale": {
           "diverging": [
            [
             0,
             "#8e0152"
            ],
            [
             0.1,
             "#c51b7d"
            ],
            [
             0.2,
             "#de77ae"
            ],
            [
             0.3,
             "#f1b6da"
            ],
            [
             0.4,
             "#fde0ef"
            ],
            [
             0.5,
             "#f7f7f7"
            ],
            [
             0.6,
             "#e6f5d0"
            ],
            [
             0.7,
             "#b8e186"
            ],
            [
             0.8,
             "#7fbc41"
            ],
            [
             0.9,
             "#4d9221"
            ],
            [
             1,
             "#276419"
            ]
           ],
           "sequential": [
            [
             0,
             "#0d0887"
            ],
            [
             0.1111111111111111,
             "#46039f"
            ],
            [
             0.2222222222222222,
             "#7201a8"
            ],
            [
             0.3333333333333333,
             "#9c179e"
            ],
            [
             0.4444444444444444,
             "#bd3786"
            ],
            [
             0.5555555555555556,
             "#d8576b"
            ],
            [
             0.6666666666666666,
             "#ed7953"
            ],
            [
             0.7777777777777778,
             "#fb9f3a"
            ],
            [
             0.8888888888888888,
             "#fdca26"
            ],
            [
             1,
             "#f0f921"
            ]
           ],
           "sequentialminus": [
            [
             0,
             "#0d0887"
            ],
            [
             0.1111111111111111,
             "#46039f"
            ],
            [
             0.2222222222222222,
             "#7201a8"
            ],
            [
             0.3333333333333333,
             "#9c179e"
            ],
            [
             0.4444444444444444,
             "#bd3786"
            ],
            [
             0.5555555555555556,
             "#d8576b"
            ],
            [
             0.6666666666666666,
             "#ed7953"
            ],
            [
             0.7777777777777778,
             "#fb9f3a"
            ],
            [
             0.8888888888888888,
             "#fdca26"
            ],
            [
             1,
             "#f0f921"
            ]
           ]
          },
          "colorway": [
           "#636efa",
           "#EF553B",
           "#00cc96",
           "#ab63fa",
           "#FFA15A",
           "#19d3f3",
           "#FF6692",
           "#B6E880",
           "#FF97FF",
           "#FECB52"
          ],
          "font": {
           "color": "#2a3f5f"
          },
          "geo": {
           "bgcolor": "white",
           "lakecolor": "white",
           "landcolor": "white",
           "showlakes": true,
           "showland": true,
           "subunitcolor": "#C8D4E3"
          },
          "height": 400,
          "hoverlabel": {
           "align": "left"
          },
          "hovermode": "closest",
          "mapbox": {
           "style": "light"
          },
          "margin": {
           "b": 2,
           "l": 2,
           "r": 2,
           "t": 30
          },
          "paper_bgcolor": "white",
          "plot_bgcolor": "white",
          "polar": {
           "angularaxis": {
            "gridcolor": "#EBF0F8",
            "linecolor": "#EBF0F8",
            "ticks": ""
           },
           "bgcolor": "white",
           "radialaxis": {
            "gridcolor": "#EBF0F8",
            "linecolor": "#EBF0F8",
            "ticks": ""
           }
          },
          "scene": {
           "camera": {
            "eye": {
             "x": 1.5,
             "y": 1.5,
             "z": 0.1
            }
           },
           "xaxis": {
            "backgroundcolor": "white",
            "gridcolor": "#DFE8F3",
            "gridwidth": 2,
            "linecolor": "#EBF0F8",
            "showbackground": true,
            "ticks": "",
            "zerolinecolor": "#EBF0F8"
           },
           "yaxis": {
            "backgroundcolor": "white",
            "gridcolor": "#DFE8F3",
            "gridwidth": 2,
            "linecolor": "#EBF0F8",
            "showbackground": true,
            "ticks": "",
            "zerolinecolor": "#EBF0F8"
           },
           "zaxis": {
            "backgroundcolor": "white",
            "gridcolor": "#DFE8F3",
            "gridwidth": 2,
            "linecolor": "#EBF0F8",
            "showbackground": true,
            "ticks": "",
            "zerolinecolor": "#EBF0F8"
           }
          },
          "shapedefaults": {
           "line": {
            "color": "#2a3f5f"
           }
          },
          "ternary": {
           "aaxis": {
            "gridcolor": "#DFE8F3",
            "linecolor": "#A2B1C6",
            "ticks": ""
           },
           "baxis": {
            "gridcolor": "#DFE8F3",
            "linecolor": "#A2B1C6",
            "ticks": ""
           },
           "bgcolor": "white",
           "caxis": {
            "gridcolor": "#DFE8F3",
            "linecolor": "#A2B1C6",
            "ticks": ""
           }
          },
          "title": {
           "x": 0.5
          },
          "xaxis": {
           "automargin": true,
           "gridcolor": "#EBF0F8",
           "linecolor": "#EBF0F8",
           "linewidth": 2,
           "showline": true,
           "ticks": "",
           "title": {
            "standoff": 15
           },
           "zerolinecolor": "#EBF0F8",
           "zerolinewidth": 2
          },
          "yaxis": {
           "automargin": true,
           "gridcolor": "#EBF0F8",
           "linecolor": "#EBF0F8",
           "linewidth": 2,
           "showline": true,
           "ticks": "",
           "title": {
            "standoff": 15
           },
           "zerolinecolor": "#EBF0F8",
           "zerolinewidth": 2
          }
         }
        },
        "title": {
         "text": "Naive model"
        },
        "xaxis": {
         "anchor": "y",
         "domain": [
          0,
          1
         ],
         "title": {
          "text": "Avg Brent Crude"
         }
        },
        "yaxis": {
         "anchor": "x",
         "domain": [
          0,
          1
         ],
         "title": {
          "text": "BFP"
         }
        }
       }
      }
     },
     "metadata": {},
     "output_type": "display_data"
    },
    {
     "data": {
      "application/vnd.plotly.v1+json": {
       "config": {
        "plotlyServerURL": "https://plot.ly"
       },
       "data": [
        {
         "hovertemplate": "Avg Brent Crude=%{x}<br>BFP=%{y}<extra></extra>",
         "legendgroup": "",
         "marker": {
          "color": "#636efa",
          "size": 15,
          "symbol": "circle"
         },
         "mode": "markers",
         "name": "",
         "orientation": "v",
         "showlegend": false,
         "type": "scatter",
         "x": [
          74.31,
          76.84,
          73.17,
          78.89,
          85.75,
          76.3,
          74.61,
          78.68,
          77.39,
          77.37,
          82.73,
          85.15,
          90.77,
          95.97,
          102.37,
          114.41,
          123.49,
          116.15,
          114.19,
          116.88,
          110.67,
          113.61,
          109.28,
          110.51,
          107.96,
          110.42,
          126.39,
          125.42,
          120.18,
          110.27,
          95.22,
          102.04,
          113.51,
          112.96,
          109.05,
          109.04,
          109.13,
          112.88,
          116.28,
          108.44,
          102.16,
          102.62,
          102.84,
          108.05,
          111.07,
          112.23,
          109.12,
          107.82,
          110.73,
          108.35,
          108.87,
          107.67,
          108.31,
          109.69,
          111.62,
          106.64,
          101.57,
          97.73,
          87.54,
          79.75,
          54.98,
          48.2,
          57.93,
          56.11,
          59.01,
          64.36,
          61.94,
          56.72,
          46.56,
          47.79,
          48.58,
          44.33,
          38.22,
          30.83,
          32.11,
          38.49,
          41.28,
          46.56,
          48.34,
          45.28,
          45.94,
          46.6,
          49.86,
          52.48,
          53.45,
          54.61,
          54.99,
          51.52,
          53.21,
          50.06,
          46.48,
          48.23,
          51.66,
          55.99,
          56.86,
          62.62,
          64.08,
          69.06,
          64.06,
          65.71,
          70.88,
          76.8,
          74.15,
          74.27,
          72.51,
          78.25,
          81.15,
          65.79,
          57.08,
          59.06,
          64.03,
          66.03,
          71.15,
          71.29,
          63.87,
          64.04,
          58.97,
          62.88,
          59.72,
          63.02,
          67.01,
          64.5,
          55.7,
          33.88,
          18.99,
          28.71,
          39.87,
          43.42,
          44.82,
          38.915,
          40.413,
          41.692,
          49.2,
          53.1,
          60,
          65.14,
          64.16,
          66,
          73,
          74,
          72.5,
          75.5,
          83.4,
          83.5,
          76,
          87,
          96.47
         ],
         "xaxis": "x",
         "y": [
          406.263,
          424.263,
          430.563,
          453.063,
          465.063,
          438.063,
          420.063,
          410.063,
          400.063,
          396.563,
          416.563,
          429.563,
          453.949,
          479.949,
          522.949,
          552.149,
          581.149,
          579.149,
          548.149,
          565.149,
          574.149,
          606.149,
          629.149,
          603.55,
          598.55,
          632.55,
          656.17,
          694.57,
          718.17,
          660.99,
          582.57,
          608.95,
          698.45,
          708.29,
          696.09,
          673.19,
          664.77,
          707.97,
          784.59,
          760.43,
          693.99,
          696.97,
          778.77,
          799.81,
          796.99,
          772.09,
          746.29,
          756.37,
          792.19,
          828.99,
          862.79,
          848.59,
          842.37,
          826.95,
          857.95,
          853.57,
          786.75,
          781.75,
          736.75,
          656.25,
          533.25,
          440.25,
          536.25,
          615.65,
          615.65,
          662.65,
          703.65,
          652.47,
          578.87,
          582.87,
          560.87,
          553.97,
          550.97,
          556.97,
          487.97,
          540.97,
          552.97,
          604.97,
          612.97,
          513.97,
          495.97,
          538.97,
          583.97,
          543.87,
          591.87,
          620.87,
          612.87,
          548.67,
          597.67,
          572.67,
          504.67,
          523.67,
          586.07,
          615.07,
          619.07,
          686.17,
          652.17,
          622.17,
          586.17,
          596.07,
          645.07,
          727.07,
          750.07,
          751.07,
          751.17,
          851.17,
          829.25,
          637.55,
          536.47,
          543.47,
          617.47,
          723.17,
          777.17,
          764.01,
          677.79,
          693.17,
          704.17,
          722.17,
          709.17,
          719.57,
          699.97,
          686.97,
          667.97,
          448.67,
          274.77,
          392.77,
          564.774,
          569.77,
          565.47,
          533.47,
          506.47,
          479.17,
          519.17,
          600.17,
          665.17,
          736.17,
          727.17,
          717.17,
          743.17,
          827.59,
          817.11,
          818.31,
          937.11,
          973.97,
          903.47,
          969.63,
          1100.27
         ],
         "yaxis": "y"
        }
       ],
       "layout": {
        "legend": {
         "tracegroupgap": 0
        },
        "shapes": [
         {
          "line": {
           "color": "rgb(228,26,28)"
          },
          "path": "M18.99 512.514076041166 L 19.52969849246231 513.7227621611994 L 20.069396984924623 514.9314482812326 L 20.609095477386933 516.1401344012659 L 21.148793969849244 517.3488205212991 L 21.688492462311558 518.5575066413325 L 22.22819095477387 519.7661927613657 L 22.76788944723618 520.9748788813989 L 23.307587939698493 522.1835650014322 L 23.847286432160804 523.3922511214655 L 24.386984924623114 524.6009372414987 L 24.926683417085428 525.809623361532 L 25.46638190954774 527.0183094815652 L 26.00608040201005 528.2269956015984 L 26.545778894472363 529.4356817216318 L 27.08547738693467 530.644367841665 L 27.625175879396984 531.8530539616983 L 28.164874371859298 533.0617400817316 L 28.704572864321605 534.2704262017648 L 29.24427135678392 535.4791123217981 L 29.78396984924623 536.6877984418313 L 30.32366834170854 537.8964845618646 L 30.863366834170854 539.1051706818979 L 31.403065326633165 540.3138568019311 L 31.942763819095475 541.5225429219644 L 32.48246231155779 542.7312290419976 L 33.0221608040201 543.939915162031 L 33.56185929648241 545.1486012820642 L 34.101557788944724 546.3572874020974 L 34.64125628140704 547.5659735221307 L 35.180954773869345 548.774659642164 L 35.72065326633166 549.9833457621972 L 36.26035175879397 551.1920318822305 L 36.80005025125628 552.4007180022637 L 37.339748743718594 553.6094041222971 L 37.87944723618091 554.8180902423303 L 38.419145728643215 556.0267763623635 L 38.95884422110553 557.2354624823968 L 39.49854271356784 558.4441486024301 L 40.03824120603015 559.6528347224634 L 40.57793969849246 560.8615208424966 L 41.11763819095478 562.0702069625298 L 41.657336683417086 563.2788930825632 L 42.19703517587939 564.4875792025964 L 42.736733668341714 565.6962653226296 L 43.27643216080402 566.9049514426629 L 43.81613065326633 568.1136375626961 L 44.35582914572865 569.3223236827295 L 44.895527638190956 570.5310098027627 L 45.43522613065326 571.7396959227959 L 45.974924623115584 572.9483820428293 L 46.51462311557789 574.1570681628625 L 47.0543216080402 575.3657542828958 L 47.59402010050252 576.574440402929 L 48.133718592964826 577.7831265229622 L 48.67341708542713 578.9918126429956 L 49.213115577889454 580.2004987630288 L 49.75281407035176 581.409184883062 L 50.29251256281407 582.6178710030953 L 50.83221105527638 583.8265571231286 L 51.371909547738696 585.0352432431619 L 51.911608040201 586.2439293631951 L 52.451306532663324 587.4526154832284 L 52.99100502512563 588.6613016032617 L 53.53070351758794 589.8699877232949 L 54.07040201005026 591.0786738433281 L 54.610100502512566 592.2873599633615 L 55.14979899497487 593.4960460833947 L 55.689497487437194 594.704732203428 L 56.2291959798995 595.9134183234612 L 56.76889447236181 597.1221044434944 L 57.30859296482413 598.3307905635278 L 57.848291457286436 599.539476683561 L 58.38798994974874 600.7481628035943 L 58.927688442211064 601.9568489236276 L 59.46738693467337 603.1655350436608 L 60.00708542713568 604.3742211636941 L 60.546783919598 605.5829072837273 L 61.086482412060306 606.7915934037605 L 61.62618090452261 608.0002795237938 L 62.16587939698492 609.2089656438271 L 62.70557788944724 610.4176517638604 L 63.24527638190955 611.6263378838936 L 63.784974874371855 612.835024003927 L 64.32467336683418 614.0437101239602 L 64.86437185929648 615.2523962439934 L 65.40407035175879 616.4610823640267 L 65.94376884422111 617.66976848406 L 66.48346733668342 618.8784546040932 L 67.02316582914573 620.0871407241265 L 67.56286432160805 621.2958268441597 L 68.10256281407035 622.504512964193 L 68.64226130653266 623.7131990842263 L 69.18195979899498 624.9218852042595 L 69.72165829145729 626.1305713242928 L 70.2613567839196 627.339257444326 L 70.80105527638192 628.5479435643593 L 71.34075376884422 629.7566296843926 L 71.88045226130653 630.9653158044258 L 72.42015075376885 632.1740019244592 L 72.95984924623116 633.3826880444924 L 73.49954773869347 634.5913741645256 L 74.03924623115579 635.8000602845589 L 74.5789447236181 637.0087464045921 L 75.1186432160804 638.2174325246255 L 75.65834170854272 639.4261186446587 L 76.19804020100503 640.6348047646919 L 76.73773869346734 641.8434908847252 L 77.27743718592966 643.0521770047585 L 77.81713567839196 644.2608631247917 L 78.35683417085427 645.469549244825 L 78.89653266331659 646.6782353648582 L 79.4362311557789 647.8869214848916 L 79.9759296482412 649.0956076049248 L 80.51562814070353 650.304293724958 L 81.05532663316583 651.5129798449914 L 81.59502512562814 652.7216659650246 L 82.13472361809046 653.9303520850578 L 82.67442211055277 655.1390382050911 L 83.21412060301508 656.3477243251243 L 83.75381909547738 657.5564104451576 L 84.2935175879397 658.7650965651909 L 84.83321608040201 659.9737826852241 L 85.37291457286432 661.1824688052574 L 85.91261306532664 662.3911549252907 L 86.45231155778895 663.599841045324 L 86.99201005025125 664.8085271653572 L 87.53170854271357 666.0172132853904 L 88.07140703517588 667.2258994054237 L 88.61110552763819 668.434585525457 L 89.15080402010051 669.6432716454902 L 89.69050251256282 670.8519577655235 L 90.23020100502512 672.0606438855568 L 90.76989949748744 673.2693300055901 L 91.30959798994975 674.4780161256233 L 91.84929648241206 675.6867022456565 L 92.38899497487438 676.8953883656898 L 92.92869346733669 678.1040744857231 L 93.46839195979899 679.3127606057564 L 94.00809045226131 680.5214467257896 L 94.54778894472362 681.7301328458229 L 95.08748743718593 682.9388189658562 L 95.62718592964825 684.1475050858894 L 96.16688442211056 685.3561912059226 L 96.70658291457286 686.5648773259559 L 97.24628140703518 687.7735634459892 L 97.78597989949749 688.9822495660225 L 98.3256783919598 690.1909356860557 L 98.86537688442212 691.399621806089 L 99.40507537688443 692.6083079261223 L 99.94477386934673 693.8169940461555 L 100.48447236180905 695.0256801661887 L 101.02417085427136 696.234366286222 L 101.56386934673367 697.4430524062552 L 102.10356783919599 698.6517385262886 L 102.6432663316583 699.8604246463218 L 103.1829648241206 701.069110766355 L 103.72266331658292 702.2777968863884 L 104.26236180904523 703.4864830064216 L 104.80206030150754 704.6951691264549 L 105.34175879396984 705.9038552464881 L 105.88145728643217 707.1125413665214 L 106.42115577889447 708.3212274865547 L 106.96085427135678 709.5299136065879 L 107.5005527638191 710.7385997266213 L 108.04025125628141 711.9472858466545 L 108.57994974874372 713.1559719666877 L 109.11964824120604 714.364658086721 L 109.65934673366834 715.5733442067542 L 110.19904522613065 716.7820303267874 L 110.73874371859297 717.9907164468208 L 111.27844221105528 719.199402566854 L 111.81814070351759 720.4080886868873 L 112.3578391959799 721.6167748069206 L 112.89753768844221 722.8254609269538 L 113.43723618090452 724.0341470469871 L 113.97693467336684 725.2428331670203 L 114.51663316582915 726.4515192870535 L 115.05633165829146 727.6602054070868 L 115.59603015075378 728.8688915271201 L 116.13572864321608 730.0775776471534 L 116.67542713567839 731.2862637671867 L 117.21512562814071 732.49494988722 L 117.75482412060302 733.7036360072532 L 118.29452261306533 734.9123221272864 L 118.83422110552765 736.1210082473197 L 119.37391959798995 737.3296943673529 L 119.91361809045226 738.5383804873862 L 120.45331658291458 739.7470666074196 L 120.99301507537689 740.9557527274528 L 121.5327135678392 742.164438847486 L 122.07241206030152 743.3731249675193 L 122.61211055276382 744.5818110875525 L 123.15180904522613 745.7904972075858 L 123.69150753768845 746.9991833276191 L 124.23120603015076 748.2078694476523 L 124.77090452261307 749.4165555676856 L 125.31060301507539 750.6252416877189 L 125.8503015075377 751.8339278077522 L 126.39 753.0426139277854",
          "type": "path"
         }
        ],
        "template": {
         "data": {
          "bar": [
           {
            "error_x": {
             "color": "#2a3f5f"
            },
            "error_y": {
             "color": "#2a3f5f"
            },
            "marker": {
             "line": {
              "color": "white",
              "width": 0.5
             },
             "pattern": {
              "fillmode": "overlay",
              "size": 10,
              "solidity": 0.2
             }
            },
            "type": "bar"
           }
          ],
          "barpolar": [
           {
            "marker": {
             "line": {
              "color": "white",
              "width": 0.5
             },
             "pattern": {
              "fillmode": "overlay",
              "size": 10,
              "solidity": 0.2
             }
            },
            "type": "barpolar"
           }
          ],
          "box": [
           {
            "boxpoints": "outliers",
            "notched": false,
            "type": "box"
           }
          ],
          "carpet": [
           {
            "aaxis": {
             "endlinecolor": "#2a3f5f",
             "gridcolor": "#C8D4E3",
             "linecolor": "#C8D4E3",
             "minorgridcolor": "#C8D4E3",
             "startlinecolor": "#2a3f5f"
            },
            "baxis": {
             "endlinecolor": "#2a3f5f",
             "gridcolor": "#C8D4E3",
             "linecolor": "#C8D4E3",
             "minorgridcolor": "#C8D4E3",
             "startlinecolor": "#2a3f5f"
            },
            "type": "carpet"
           }
          ],
          "choropleth": [
           {
            "colorbar": {
             "outlinewidth": 0,
             "ticks": ""
            },
            "type": "choropleth"
           }
          ],
          "contour": [
           {
            "colorbar": {
             "outlinewidth": 0,
             "ticks": ""
            },
            "colorscale": [
             [
              0,
              "#0d0887"
             ],
             [
              0.1111111111111111,
              "#46039f"
             ],
             [
              0.2222222222222222,
              "#7201a8"
             ],
             [
              0.3333333333333333,
              "#9c179e"
             ],
             [
              0.4444444444444444,
              "#bd3786"
             ],
             [
              0.5555555555555556,
              "#d8576b"
             ],
             [
              0.6666666666666666,
              "#ed7953"
             ],
             [
              0.7777777777777778,
              "#fb9f3a"
             ],
             [
              0.8888888888888888,
              "#fdca26"
             ],
             [
              1,
              "#f0f921"
             ]
            ],
            "type": "contour"
           }
          ],
          "contourcarpet": [
           {
            "colorbar": {
             "outlinewidth": 0,
             "ticks": ""
            },
            "type": "contourcarpet"
           }
          ],
          "heatmap": [
           {
            "colorbar": {
             "outlinewidth": 0,
             "ticks": ""
            },
            "colorscale": [
             [
              0,
              "#0d0887"
             ],
             [
              0.1111111111111111,
              "#46039f"
             ],
             [
              0.2222222222222222,
              "#7201a8"
             ],
             [
              0.3333333333333333,
              "#9c179e"
             ],
             [
              0.4444444444444444,
              "#bd3786"
             ],
             [
              0.5555555555555556,
              "#d8576b"
             ],
             [
              0.6666666666666666,
              "#ed7953"
             ],
             [
              0.7777777777777778,
              "#fb9f3a"
             ],
             [
              0.8888888888888888,
              "#fdca26"
             ],
             [
              1,
              "#f0f921"
             ]
            ],
            "type": "heatmap"
           }
          ],
          "heatmapgl": [
           {
            "colorbar": {
             "outlinewidth": 0,
             "ticks": ""
            },
            "colorscale": [
             [
              0,
              "#0d0887"
             ],
             [
              0.1111111111111111,
              "#46039f"
             ],
             [
              0.2222222222222222,
              "#7201a8"
             ],
             [
              0.3333333333333333,
              "#9c179e"
             ],
             [
              0.4444444444444444,
              "#bd3786"
             ],
             [
              0.5555555555555556,
              "#d8576b"
             ],
             [
              0.6666666666666666,
              "#ed7953"
             ],
             [
              0.7777777777777778,
              "#fb9f3a"
             ],
             [
              0.8888888888888888,
              "#fdca26"
             ],
             [
              1,
              "#f0f921"
             ]
            ],
            "type": "heatmapgl"
           }
          ],
          "histogram": [
           {
            "marker": {
             "line": {
              "width": 1
             },
             "pattern": {
              "fillmode": "overlay",
              "size": 10,
              "solidity": 0.2
             }
            },
            "type": "histogram"
           }
          ],
          "histogram2d": [
           {
            "colorbar": {
             "outlinewidth": 0,
             "ticks": ""
            },
            "colorscale": [
             [
              0,
              "#0d0887"
             ],
             [
              0.1111111111111111,
              "#46039f"
             ],
             [
              0.2222222222222222,
              "#7201a8"
             ],
             [
              0.3333333333333333,
              "#9c179e"
             ],
             [
              0.4444444444444444,
              "#bd3786"
             ],
             [
              0.5555555555555556,
              "#d8576b"
             ],
             [
              0.6666666666666666,
              "#ed7953"
             ],
             [
              0.7777777777777778,
              "#fb9f3a"
             ],
             [
              0.8888888888888888,
              "#fdca26"
             ],
             [
              1,
              "#f0f921"
             ]
            ],
            "type": "histogram2d"
           }
          ],
          "histogram2dcontour": [
           {
            "colorbar": {
             "outlinewidth": 0,
             "ticks": ""
            },
            "colorscale": [
             [
              0,
              "#0d0887"
             ],
             [
              0.1111111111111111,
              "#46039f"
             ],
             [
              0.2222222222222222,
              "#7201a8"
             ],
             [
              0.3333333333333333,
              "#9c179e"
             ],
             [
              0.4444444444444444,
              "#bd3786"
             ],
             [
              0.5555555555555556,
              "#d8576b"
             ],
             [
              0.6666666666666666,
              "#ed7953"
             ],
             [
              0.7777777777777778,
              "#fb9f3a"
             ],
             [
              0.8888888888888888,
              "#fdca26"
             ],
             [
              1,
              "#f0f921"
             ]
            ],
            "type": "histogram2dcontour"
           }
          ],
          "mesh3d": [
           {
            "colorbar": {
             "outlinewidth": 0,
             "ticks": ""
            },
            "type": "mesh3d"
           }
          ],
          "parcoords": [
           {
            "line": {
             "colorbar": {
              "outlinewidth": 0,
              "ticks": ""
             }
            },
            "type": "parcoords"
           }
          ],
          "pie": [
           {
            "automargin": true,
            "type": "pie"
           }
          ],
          "scatter": [
           {
            "marker": {
             "colorbar": {
              "outlinewidth": 0,
              "ticks": ""
             },
             "opacity": 0.8
            },
            "type": "scatter"
           }
          ],
          "scatter3d": [
           {
            "line": {
             "colorbar": {
              "outlinewidth": 0,
              "ticks": ""
             }
            },
            "marker": {
             "colorbar": {
              "outlinewidth": 0,
              "ticks": ""
             },
             "opacity": 0.8
            },
            "type": "scatter3d"
           }
          ],
          "scattercarpet": [
           {
            "marker": {
             "colorbar": {
              "outlinewidth": 0,
              "ticks": ""
             }
            },
            "type": "scattercarpet"
           }
          ],
          "scattergeo": [
           {
            "marker": {
             "colorbar": {
              "outlinewidth": 0,
              "ticks": ""
             }
            },
            "type": "scattergeo"
           }
          ],
          "scattergl": [
           {
            "marker": {
             "colorbar": {
              "outlinewidth": 0,
              "ticks": ""
             }
            },
            "type": "scattergl"
           }
          ],
          "scattermapbox": [
           {
            "marker": {
             "colorbar": {
              "outlinewidth": 0,
              "ticks": ""
             }
            },
            "type": "scattermapbox"
           }
          ],
          "scatterpolar": [
           {
            "marker": {
             "colorbar": {
              "outlinewidth": 0,
              "ticks": ""
             }
            },
            "type": "scatterpolar"
           }
          ],
          "scatterpolargl": [
           {
            "marker": {
             "colorbar": {
              "outlinewidth": 0,
              "ticks": ""
             }
            },
            "type": "scatterpolargl"
           }
          ],
          "scatterternary": [
           {
            "marker": {
             "colorbar": {
              "outlinewidth": 0,
              "ticks": ""
             }
            },
            "type": "scatterternary"
           }
          ],
          "surface": [
           {
            "colorbar": {
             "outlinewidth": 0,
             "ticks": ""
            },
            "colorscale": [
             [
              0,
              "#0d0887"
             ],
             [
              0.1111111111111111,
              "#46039f"
             ],
             [
              0.2222222222222222,
              "#7201a8"
             ],
             [
              0.3333333333333333,
              "#9c179e"
             ],
             [
              0.4444444444444444,
              "#bd3786"
             ],
             [
              0.5555555555555556,
              "#d8576b"
             ],
             [
              0.6666666666666666,
              "#ed7953"
             ],
             [
              0.7777777777777778,
              "#fb9f3a"
             ],
             [
              0.8888888888888888,
              "#fdca26"
             ],
             [
              1,
              "#f0f921"
             ]
            ],
            "type": "surface"
           }
          ],
          "table": [
           {
            "cells": {
             "fill": {
              "color": "#EBF0F8"
             },
             "line": {
              "color": "white"
             }
            },
            "header": {
             "fill": {
              "color": "#C8D4E3"
             },
             "line": {
              "color": "white"
             }
            },
            "type": "table"
           }
          ]
         },
         "layout": {
          "annotationdefaults": {
           "arrowcolor": "#2a3f5f",
           "arrowhead": 0,
           "arrowwidth": 1
          },
          "autotypenumbers": "strict",
          "coloraxis": {
           "colorbar": {
            "outlinewidth": 0,
            "ticks": ""
           }
          },
          "colorscale": {
           "diverging": [
            [
             0,
             "#8e0152"
            ],
            [
             0.1,
             "#c51b7d"
            ],
            [
             0.2,
             "#de77ae"
            ],
            [
             0.3,
             "#f1b6da"
            ],
            [
             0.4,
             "#fde0ef"
            ],
            [
             0.5,
             "#f7f7f7"
            ],
            [
             0.6,
             "#e6f5d0"
            ],
            [
             0.7,
             "#b8e186"
            ],
            [
             0.8,
             "#7fbc41"
            ],
            [
             0.9,
             "#4d9221"
            ],
            [
             1,
             "#276419"
            ]
           ],
           "sequential": [
            [
             0,
             "#0d0887"
            ],
            [
             0.1111111111111111,
             "#46039f"
            ],
            [
             0.2222222222222222,
             "#7201a8"
            ],
            [
             0.3333333333333333,
             "#9c179e"
            ],
            [
             0.4444444444444444,
             "#bd3786"
            ],
            [
             0.5555555555555556,
             "#d8576b"
            ],
            [
             0.6666666666666666,
             "#ed7953"
            ],
            [
             0.7777777777777778,
             "#fb9f3a"
            ],
            [
             0.8888888888888888,
             "#fdca26"
            ],
            [
             1,
             "#f0f921"
            ]
           ],
           "sequentialminus": [
            [
             0,
             "#0d0887"
            ],
            [
             0.1111111111111111,
             "#46039f"
            ],
            [
             0.2222222222222222,
             "#7201a8"
            ],
            [
             0.3333333333333333,
             "#9c179e"
            ],
            [
             0.4444444444444444,
             "#bd3786"
            ],
            [
             0.5555555555555556,
             "#d8576b"
            ],
            [
             0.6666666666666666,
             "#ed7953"
            ],
            [
             0.7777777777777778,
             "#fb9f3a"
            ],
            [
             0.8888888888888888,
             "#fdca26"
            ],
            [
             1,
             "#f0f921"
            ]
           ]
          },
          "colorway": [
           "#636efa",
           "#EF553B",
           "#00cc96",
           "#ab63fa",
           "#FFA15A",
           "#19d3f3",
           "#FF6692",
           "#B6E880",
           "#FF97FF",
           "#FECB52"
          ],
          "font": {
           "color": "#2a3f5f"
          },
          "geo": {
           "bgcolor": "white",
           "lakecolor": "white",
           "landcolor": "white",
           "showlakes": true,
           "showland": true,
           "subunitcolor": "#C8D4E3"
          },
          "height": 400,
          "hoverlabel": {
           "align": "left"
          },
          "hovermode": "closest",
          "mapbox": {
           "style": "light"
          },
          "margin": {
           "b": 2,
           "l": 2,
           "r": 2,
           "t": 30
          },
          "paper_bgcolor": "white",
          "plot_bgcolor": "white",
          "polar": {
           "angularaxis": {
            "gridcolor": "#EBF0F8",
            "linecolor": "#EBF0F8",
            "ticks": ""
           },
           "bgcolor": "white",
           "radialaxis": {
            "gridcolor": "#EBF0F8",
            "linecolor": "#EBF0F8",
            "ticks": ""
           }
          },
          "scene": {
           "camera": {
            "eye": {
             "x": 1.5,
             "y": 1.5,
             "z": 0.1
            }
           },
           "xaxis": {
            "backgroundcolor": "white",
            "gridcolor": "#DFE8F3",
            "gridwidth": 2,
            "linecolor": "#EBF0F8",
            "showbackground": true,
            "ticks": "",
            "zerolinecolor": "#EBF0F8"
           },
           "yaxis": {
            "backgroundcolor": "white",
            "gridcolor": "#DFE8F3",
            "gridwidth": 2,
            "linecolor": "#EBF0F8",
            "showbackground": true,
            "ticks": "",
            "zerolinecolor": "#EBF0F8"
           },
           "zaxis": {
            "backgroundcolor": "white",
            "gridcolor": "#DFE8F3",
            "gridwidth": 2,
            "linecolor": "#EBF0F8",
            "showbackground": true,
            "ticks": "",
            "zerolinecolor": "#EBF0F8"
           }
          },
          "shapedefaults": {
           "line": {
            "color": "#2a3f5f"
           }
          },
          "ternary": {
           "aaxis": {
            "gridcolor": "#DFE8F3",
            "linecolor": "#A2B1C6",
            "ticks": ""
           },
           "baxis": {
            "gridcolor": "#DFE8F3",
            "linecolor": "#A2B1C6",
            "ticks": ""
           },
           "bgcolor": "white",
           "caxis": {
            "gridcolor": "#DFE8F3",
            "linecolor": "#A2B1C6",
            "ticks": ""
           }
          },
          "title": {
           "x": 0.5
          },
          "xaxis": {
           "automargin": true,
           "gridcolor": "#EBF0F8",
           "linecolor": "#EBF0F8",
           "linewidth": 2,
           "showline": true,
           "ticks": "",
           "title": {
            "standoff": 15
           },
           "zerolinecolor": "#EBF0F8",
           "zerolinewidth": 2
          },
          "yaxis": {
           "automargin": true,
           "gridcolor": "#EBF0F8",
           "linecolor": "#EBF0F8",
           "linewidth": 2,
           "showline": true,
           "ticks": "",
           "title": {
            "standoff": 15
           },
           "zerolinecolor": "#EBF0F8",
           "zerolinewidth": 2
          }
         }
        },
        "title": {
         "text": "Trained model"
        },
        "xaxis": {
         "anchor": "y",
         "domain": [
          0,
          1
         ],
         "title": {
          "text": "Avg Brent Crude"
         }
        },
        "yaxis": {
         "anchor": "x",
         "domain": [
          0,
          1
         ],
         "title": {
          "text": "BFP"
         }
        }
       }
      }
     },
     "metadata": {},
     "output_type": "display_data"
    }
   ],
   "source": [
    "formula = \"BFP ~ Avg_Brent_Crude\"\n",
    "BFP_trained_model = smf.ols(formula = formula, data = dataset).fit()\n",
    "BFP_naive_model = smf.ols(formula = formula, data = dataset).fit()\n",
    "BFP_naive_model.params[0] = dataset['BFP'].mean()\n",
    "BFP_naive_model.params[1] = 0\n",
    "\n",
    "print(\"naive R-squared:\", BFP_naive_model.rsquared)\n",
    "print(\"trained R-squared:\", BFP_trained_model.rsquared)\n",
    "\n",
    "# Show a graph of the result\n",
    "graphing.scatter_2D(dataset, label_x=\"Avg_Brent_Crude\", \n",
    "                                label_y=\"BFP\",\n",
    "                                title = \"Naive model\",\n",
    "                                trendline=lambda x: dataset['BFP'].mean().repeat(len(x)), \n",
    "                                show=True)\n",
    "# Show a graph of the result\n",
    "graphing.scatter_2D(dataset, label_x=\"Avg_Brent_Crude\", \n",
    "                                label_y=\"BFP\",\n",
    "                                title = \"Trained model\",\n",
    "                                trendline=lambda x: BFP_trained_model.params[1] * x + BFP_trained_model.params[0])\n",
    "\n"
   ]
  },
  {
   "cell_type": "code",
   "execution_count": 45,
   "metadata": {},
   "outputs": [
    {
     "name": "stdout",
     "output_type": "stream",
     "text": [
      "R-squared: 0.7873695057943867\n"
     ]
    }
   ],
   "source": [
    "model = smf.ols(formula = \"BFP ~ Avg_Brent_Crude + Ex_Rate\", data = dataset).fit()\n",
    "\n",
    "print(\"R-squared:\", model.rsquared)"
   ]
  },
  {
   "cell_type": "code",
   "execution_count": 37,
   "metadata": {},
   "outputs": [
    {
     "data": {
      "application/vnd.plotly.v1+json": {
       "config": {
        "plotlyServerURL": "https://plot.ly"
       },
       "data": [
        {
         "colorbar": {
          "title": {
           "text": "BFP"
          }
         },
         "type": "surface",
         "x": [
          18.99,
          126.39
         ],
         "y": [
          0,
          25
         ],
         "z": [
          [
           -420.4120336629363,
           358.9606812938458
          ],
          [
           934.8685071923932,
           1714.2412221491754
          ]
         ]
        },
        {
         "mode": "markers",
         "type": "scatter3d",
         "x": [
          74.31,
          76.84,
          73.17,
          78.89,
          85.75,
          76.3,
          74.61,
          78.68,
          77.39,
          77.37,
          82.73,
          85.15,
          90.77,
          95.97,
          102.37,
          114.41,
          123.49,
          116.15,
          114.19,
          116.88,
          110.67,
          113.61,
          109.28,
          110.51,
          107.96,
          110.42,
          126.39,
          125.42,
          120.18,
          110.27,
          95.22,
          102.04,
          113.51,
          112.96,
          109.05,
          109.04,
          109.13,
          112.88,
          116.28,
          108.44,
          102.16,
          102.62,
          102.84,
          108.05,
          111.07,
          112.23,
          109.12,
          107.82,
          110.73,
          108.35,
          108.87,
          107.67,
          108.31,
          109.69,
          111.62,
          106.64,
          101.57,
          97.73,
          87.54,
          79.75,
          54.98,
          48.2,
          57.93,
          56.11,
          59.01,
          64.36,
          61.94,
          56.72,
          46.56,
          47.79,
          48.58,
          44.33,
          38.22,
          30.83,
          32.11,
          38.49,
          41.28,
          46.56,
          48.34,
          45.28,
          45.94,
          46.6,
          49.86,
          52.48,
          53.45,
          54.61,
          54.99,
          51.52,
          53.21,
          50.06,
          46.48,
          48.23,
          51.66,
          55.99,
          56.86,
          62.62,
          64.08,
          69.06,
          64.06,
          65.71,
          70.88,
          76.8,
          74.15,
          74.27,
          72.51,
          78.25,
          81.15,
          65.79,
          57.08,
          59.06,
          64.03,
          66.03,
          71.15,
          71.29,
          63.87,
          64.04,
          58.97,
          62.88,
          59.72,
          63.02,
          67.01,
          64.5,
          55.7,
          33.88,
          18.99,
          28.71,
          39.87,
          43.42,
          44.82,
          38.915,
          40.413,
          41.692,
          49.2,
          53.1,
          60,
          65.14,
          64.16,
          66,
          73,
          74,
          72.5,
          75.5,
          83.4,
          83.5,
          76,
          87,
          96.47
         ],
         "y": [
          7.5246,
          7.4735,
          7.6902,
          7.4753,
          7.3749,
          7.6575,
          7.6708,
          7.5757,
          7.3178,
          7.1859,
          6.9374,
          6.9767,
          6.901,
          6.8983,
          7.2334,
          6.9512,
          6.7701,
          6.8516,
          6.8353,
          6.8134,
          7.059,
          7.5657,
          8.0012,
          8.1398,
          8.2122,
          8.0841,
          7.679,
          7.6193,
          7.8536,
          8.1031,
          8.4189,
          8.2657,
          8.2758,
          8.3075,
          8.6479,
          8.8252,
          8.6833,
          8.7629,
          8.9067,
          9.1932,
          9.1598,
          9.2987,
          10.0487,
          9.9348,
          10.0928,
          10.0027,
          9.9452,
          10.2121,
          10.3581,
          10.8105,
          11.0054,
          10.7695,
          10.5576,
          10.4042,
          10.6743,
          10.6609,
          10.6781,
          10.6781,
          11.1004,
          11.0969,
          11.4749,
          11.5777,
          11.589,
          12.0423,
          12.0459,
          11.9454,
          12.3196,
          12.4128,
          12.8609,
          13.7884,
          13.4734,
          14.0938,
          14.8819,
          16.3276,
          15.7832,
          15.4655,
          14.6477,
          15.2048,
          15.1553,
          14.4407,
          13.8016,
          14.0057,
          13.9646,
          13.9125,
          13.8687,
          13.5813,
          13.2899,
          12.9148,
          13.5105,
          13.2587,
          12.8756,
          13.15,
          13.2152,
          13.1317,
          13.621,
          14.0964,
          13.2303,
          12.2029,
          11.8167,
          11.8489,
          11.9797,
          12.5099,
          13.2871,
          13.4713,
          13.943,
          14.7899,
          14.4892,
          14.0923,
          14.1778,
          13.9476,
          13.8038,
          14.3871,
          14.1401,
          14.4127,
          14.6227,
          14.0709,
          15.1729,
          14.8432,
          14.9293,
          14.8037,
          14.4784,
          14.3276,
          14.9789,
          16.4305,
          18.4771,
          18.1715,
          17.1271,
          16.8234,
          17.2814,
          16.7204,
          16.4657,
          15.6305,
          14.939,
          15.087,
          14.763,
          14.95,
          14.448,
          14.11,
          13.92,
          14.65,
          14.77,
          14.56,
          14.72,
          15.85,
          15.92,
          15.51,
          15.23
         ],
         "z": [
          406.263,
          424.263,
          430.563,
          453.063,
          465.063,
          438.063,
          420.063,
          410.063,
          400.063,
          396.563,
          416.563,
          429.563,
          453.949,
          479.949,
          522.949,
          552.149,
          581.149,
          579.149,
          548.149,
          565.149,
          574.149,
          606.149,
          629.149,
          603.55,
          598.55,
          632.55,
          656.17,
          694.57,
          718.17,
          660.99,
          582.57,
          608.95,
          698.45,
          708.29,
          696.09,
          673.19,
          664.77,
          707.97,
          784.59,
          760.43,
          693.99,
          696.97,
          778.77,
          799.81,
          796.99,
          772.09,
          746.29,
          756.37,
          792.19,
          828.99,
          862.79,
          848.59,
          842.37,
          826.95,
          857.95,
          853.57,
          786.75,
          781.75,
          736.75,
          656.25,
          533.25,
          440.25,
          536.25,
          615.65,
          615.65,
          662.65,
          703.65,
          652.47,
          578.87,
          582.87,
          560.87,
          553.97,
          550.97,
          556.97,
          487.97,
          540.97,
          552.97,
          604.97,
          612.97,
          513.97,
          495.97,
          538.97,
          583.97,
          543.87,
          591.87,
          620.87,
          612.87,
          548.67,
          597.67,
          572.67,
          504.67,
          523.67,
          586.07,
          615.07,
          619.07,
          686.17,
          652.17,
          622.17,
          586.17,
          596.07,
          645.07,
          727.07,
          750.07,
          751.07,
          751.17,
          851.17,
          829.25,
          637.55,
          536.47,
          543.47,
          617.47,
          723.17,
          777.17,
          764.01,
          677.79,
          693.17,
          704.17,
          722.17,
          709.17,
          719.57,
          699.97,
          686.97,
          667.97,
          448.67,
          274.77,
          392.77,
          564.774,
          569.77,
          565.47,
          533.47,
          506.47,
          479.17,
          519.17,
          600.17,
          665.17,
          736.17,
          727.17,
          717.17,
          743.17,
          827.59,
          817.11,
          818.31,
          937.11,
          973.97,
          903.47,
          969.63,
          1100.27
         ]
        }
       ],
       "layout": {
        "scene": {
         "xaxis": {
          "title": {
           "text": "Brent Crude Oil"
          }
         },
         "yaxis": {
          "title": {
           "text": "Exchange Rate"
          }
         },
         "zaxis": {
          "title": {
           "text": "BFP"
          }
         }
        },
        "template": {
         "data": {
          "bar": [
           {
            "error_x": {
             "color": "#2a3f5f"
            },
            "error_y": {
             "color": "#2a3f5f"
            },
            "marker": {
             "line": {
              "color": "white",
              "width": 0.5
             },
             "pattern": {
              "fillmode": "overlay",
              "size": 10,
              "solidity": 0.2
             }
            },
            "type": "bar"
           }
          ],
          "barpolar": [
           {
            "marker": {
             "line": {
              "color": "white",
              "width": 0.5
             },
             "pattern": {
              "fillmode": "overlay",
              "size": 10,
              "solidity": 0.2
             }
            },
            "type": "barpolar"
           }
          ],
          "box": [
           {
            "boxpoints": "outliers",
            "notched": false,
            "type": "box"
           }
          ],
          "carpet": [
           {
            "aaxis": {
             "endlinecolor": "#2a3f5f",
             "gridcolor": "#C8D4E3",
             "linecolor": "#C8D4E3",
             "minorgridcolor": "#C8D4E3",
             "startlinecolor": "#2a3f5f"
            },
            "baxis": {
             "endlinecolor": "#2a3f5f",
             "gridcolor": "#C8D4E3",
             "linecolor": "#C8D4E3",
             "minorgridcolor": "#C8D4E3",
             "startlinecolor": "#2a3f5f"
            },
            "type": "carpet"
           }
          ],
          "choropleth": [
           {
            "colorbar": {
             "outlinewidth": 0,
             "ticks": ""
            },
            "type": "choropleth"
           }
          ],
          "contour": [
           {
            "colorbar": {
             "outlinewidth": 0,
             "ticks": ""
            },
            "colorscale": [
             [
              0,
              "#0d0887"
             ],
             [
              0.1111111111111111,
              "#46039f"
             ],
             [
              0.2222222222222222,
              "#7201a8"
             ],
             [
              0.3333333333333333,
              "#9c179e"
             ],
             [
              0.4444444444444444,
              "#bd3786"
             ],
             [
              0.5555555555555556,
              "#d8576b"
             ],
             [
              0.6666666666666666,
              "#ed7953"
             ],
             [
              0.7777777777777778,
              "#fb9f3a"
             ],
             [
              0.8888888888888888,
              "#fdca26"
             ],
             [
              1,
              "#f0f921"
             ]
            ],
            "type": "contour"
           }
          ],
          "contourcarpet": [
           {
            "colorbar": {
             "outlinewidth": 0,
             "ticks": ""
            },
            "type": "contourcarpet"
           }
          ],
          "heatmap": [
           {
            "colorbar": {
             "outlinewidth": 0,
             "ticks": ""
            },
            "colorscale": [
             [
              0,
              "#0d0887"
             ],
             [
              0.1111111111111111,
              "#46039f"
             ],
             [
              0.2222222222222222,
              "#7201a8"
             ],
             [
              0.3333333333333333,
              "#9c179e"
             ],
             [
              0.4444444444444444,
              "#bd3786"
             ],
             [
              0.5555555555555556,
              "#d8576b"
             ],
             [
              0.6666666666666666,
              "#ed7953"
             ],
             [
              0.7777777777777778,
              "#fb9f3a"
             ],
             [
              0.8888888888888888,
              "#fdca26"
             ],
             [
              1,
              "#f0f921"
             ]
            ],
            "type": "heatmap"
           }
          ],
          "heatmapgl": [
           {
            "colorbar": {
             "outlinewidth": 0,
             "ticks": ""
            },
            "colorscale": [
             [
              0,
              "#0d0887"
             ],
             [
              0.1111111111111111,
              "#46039f"
             ],
             [
              0.2222222222222222,
              "#7201a8"
             ],
             [
              0.3333333333333333,
              "#9c179e"
             ],
             [
              0.4444444444444444,
              "#bd3786"
             ],
             [
              0.5555555555555556,
              "#d8576b"
             ],
             [
              0.6666666666666666,
              "#ed7953"
             ],
             [
              0.7777777777777778,
              "#fb9f3a"
             ],
             [
              0.8888888888888888,
              "#fdca26"
             ],
             [
              1,
              "#f0f921"
             ]
            ],
            "type": "heatmapgl"
           }
          ],
          "histogram": [
           {
            "marker": {
             "line": {
              "width": 1
             },
             "pattern": {
              "fillmode": "overlay",
              "size": 10,
              "solidity": 0.2
             }
            },
            "type": "histogram"
           }
          ],
          "histogram2d": [
           {
            "colorbar": {
             "outlinewidth": 0,
             "ticks": ""
            },
            "colorscale": [
             [
              0,
              "#0d0887"
             ],
             [
              0.1111111111111111,
              "#46039f"
             ],
             [
              0.2222222222222222,
              "#7201a8"
             ],
             [
              0.3333333333333333,
              "#9c179e"
             ],
             [
              0.4444444444444444,
              "#bd3786"
             ],
             [
              0.5555555555555556,
              "#d8576b"
             ],
             [
              0.6666666666666666,
              "#ed7953"
             ],
             [
              0.7777777777777778,
              "#fb9f3a"
             ],
             [
              0.8888888888888888,
              "#fdca26"
             ],
             [
              1,
              "#f0f921"
             ]
            ],
            "type": "histogram2d"
           }
          ],
          "histogram2dcontour": [
           {
            "colorbar": {
             "outlinewidth": 0,
             "ticks": ""
            },
            "colorscale": [
             [
              0,
              "#0d0887"
             ],
             [
              0.1111111111111111,
              "#46039f"
             ],
             [
              0.2222222222222222,
              "#7201a8"
             ],
             [
              0.3333333333333333,
              "#9c179e"
             ],
             [
              0.4444444444444444,
              "#bd3786"
             ],
             [
              0.5555555555555556,
              "#d8576b"
             ],
             [
              0.6666666666666666,
              "#ed7953"
             ],
             [
              0.7777777777777778,
              "#fb9f3a"
             ],
             [
              0.8888888888888888,
              "#fdca26"
             ],
             [
              1,
              "#f0f921"
             ]
            ],
            "type": "histogram2dcontour"
           }
          ],
          "mesh3d": [
           {
            "colorbar": {
             "outlinewidth": 0,
             "ticks": ""
            },
            "type": "mesh3d"
           }
          ],
          "parcoords": [
           {
            "line": {
             "colorbar": {
              "outlinewidth": 0,
              "ticks": ""
             }
            },
            "type": "parcoords"
           }
          ],
          "pie": [
           {
            "automargin": true,
            "type": "pie"
           }
          ],
          "scatter": [
           {
            "marker": {
             "colorbar": {
              "outlinewidth": 0,
              "ticks": ""
             },
             "opacity": 0.8
            },
            "type": "scatter"
           }
          ],
          "scatter3d": [
           {
            "line": {
             "colorbar": {
              "outlinewidth": 0,
              "ticks": ""
             }
            },
            "marker": {
             "colorbar": {
              "outlinewidth": 0,
              "ticks": ""
             },
             "opacity": 0.8
            },
            "type": "scatter3d"
           }
          ],
          "scattercarpet": [
           {
            "marker": {
             "colorbar": {
              "outlinewidth": 0,
              "ticks": ""
             }
            },
            "type": "scattercarpet"
           }
          ],
          "scattergeo": [
           {
            "marker": {
             "colorbar": {
              "outlinewidth": 0,
              "ticks": ""
             }
            },
            "type": "scattergeo"
           }
          ],
          "scattergl": [
           {
            "marker": {
             "colorbar": {
              "outlinewidth": 0,
              "ticks": ""
             }
            },
            "type": "scattergl"
           }
          ],
          "scattermapbox": [
           {
            "marker": {
             "colorbar": {
              "outlinewidth": 0,
              "ticks": ""
             }
            },
            "type": "scattermapbox"
           }
          ],
          "scatterpolar": [
           {
            "marker": {
             "colorbar": {
              "outlinewidth": 0,
              "ticks": ""
             }
            },
            "type": "scatterpolar"
           }
          ],
          "scatterpolargl": [
           {
            "marker": {
             "colorbar": {
              "outlinewidth": 0,
              "ticks": ""
             }
            },
            "type": "scatterpolargl"
           }
          ],
          "scatterternary": [
           {
            "marker": {
             "colorbar": {
              "outlinewidth": 0,
              "ticks": ""
             }
            },
            "type": "scatterternary"
           }
          ],
          "surface": [
           {
            "colorbar": {
             "outlinewidth": 0,
             "ticks": ""
            },
            "colorscale": [
             [
              0,
              "#0d0887"
             ],
             [
              0.1111111111111111,
              "#46039f"
             ],
             [
              0.2222222222222222,
              "#7201a8"
             ],
             [
              0.3333333333333333,
              "#9c179e"
             ],
             [
              0.4444444444444444,
              "#bd3786"
             ],
             [
              0.5555555555555556,
              "#d8576b"
             ],
             [
              0.6666666666666666,
              "#ed7953"
             ],
             [
              0.7777777777777778,
              "#fb9f3a"
             ],
             [
              0.8888888888888888,
              "#fdca26"
             ],
             [
              1,
              "#f0f921"
             ]
            ],
            "type": "surface"
           }
          ],
          "table": [
           {
            "cells": {
             "fill": {
              "color": "#EBF0F8"
             },
             "line": {
              "color": "white"
             }
            },
            "header": {
             "fill": {
              "color": "#C8D4E3"
             },
             "line": {
              "color": "white"
             }
            },
            "type": "table"
           }
          ]
         },
         "layout": {
          "annotationdefaults": {
           "arrowcolor": "#2a3f5f",
           "arrowhead": 0,
           "arrowwidth": 1
          },
          "autotypenumbers": "strict",
          "coloraxis": {
           "colorbar": {
            "outlinewidth": 0,
            "ticks": ""
           }
          },
          "colorscale": {
           "diverging": [
            [
             0,
             "#8e0152"
            ],
            [
             0.1,
             "#c51b7d"
            ],
            [
             0.2,
             "#de77ae"
            ],
            [
             0.3,
             "#f1b6da"
            ],
            [
             0.4,
             "#fde0ef"
            ],
            [
             0.5,
             "#f7f7f7"
            ],
            [
             0.6,
             "#e6f5d0"
            ],
            [
             0.7,
             "#b8e186"
            ],
            [
             0.8,
             "#7fbc41"
            ],
            [
             0.9,
             "#4d9221"
            ],
            [
             1,
             "#276419"
            ]
           ],
           "sequential": [
            [
             0,
             "#0d0887"
            ],
            [
             0.1111111111111111,
             "#46039f"
            ],
            [
             0.2222222222222222,
             "#7201a8"
            ],
            [
             0.3333333333333333,
             "#9c179e"
            ],
            [
             0.4444444444444444,
             "#bd3786"
            ],
            [
             0.5555555555555556,
             "#d8576b"
            ],
            [
             0.6666666666666666,
             "#ed7953"
            ],
            [
             0.7777777777777778,
             "#fb9f3a"
            ],
            [
             0.8888888888888888,
             "#fdca26"
            ],
            [
             1,
             "#f0f921"
            ]
           ],
           "sequentialminus": [
            [
             0,
             "#0d0887"
            ],
            [
             0.1111111111111111,
             "#46039f"
            ],
            [
             0.2222222222222222,
             "#7201a8"
            ],
            [
             0.3333333333333333,
             "#9c179e"
            ],
            [
             0.4444444444444444,
             "#bd3786"
            ],
            [
             0.5555555555555556,
             "#d8576b"
            ],
            [
             0.6666666666666666,
             "#ed7953"
            ],
            [
             0.7777777777777778,
             "#fb9f3a"
            ],
            [
             0.8888888888888888,
             "#fdca26"
            ],
            [
             1,
             "#f0f921"
            ]
           ]
          },
          "colorway": [
           "#636efa",
           "#EF553B",
           "#00cc96",
           "#ab63fa",
           "#FFA15A",
           "#19d3f3",
           "#FF6692",
           "#B6E880",
           "#FF97FF",
           "#FECB52"
          ],
          "font": {
           "color": "#2a3f5f"
          },
          "geo": {
           "bgcolor": "white",
           "lakecolor": "white",
           "landcolor": "white",
           "showlakes": true,
           "showland": true,
           "subunitcolor": "#C8D4E3"
          },
          "height": 400,
          "hoverlabel": {
           "align": "left"
          },
          "hovermode": "closest",
          "mapbox": {
           "style": "light"
          },
          "margin": {
           "b": 2,
           "l": 2,
           "r": 2,
           "t": 30
          },
          "paper_bgcolor": "white",
          "plot_bgcolor": "white",
          "polar": {
           "angularaxis": {
            "gridcolor": "#EBF0F8",
            "linecolor": "#EBF0F8",
            "ticks": ""
           },
           "bgcolor": "white",
           "radialaxis": {
            "gridcolor": "#EBF0F8",
            "linecolor": "#EBF0F8",
            "ticks": ""
           }
          },
          "scene": {
           "camera": {
            "eye": {
             "x": 1.5,
             "y": 1.5,
             "z": 0.1
            }
           },
           "xaxis": {
            "backgroundcolor": "white",
            "gridcolor": "#DFE8F3",
            "gridwidth": 2,
            "linecolor": "#EBF0F8",
            "showbackground": true,
            "ticks": "",
            "zerolinecolor": "#EBF0F8"
           },
           "yaxis": {
            "backgroundcolor": "white",
            "gridcolor": "#DFE8F3",
            "gridwidth": 2,
            "linecolor": "#EBF0F8",
            "showbackground": true,
            "ticks": "",
            "zerolinecolor": "#EBF0F8"
           },
           "zaxis": {
            "backgroundcolor": "white",
            "gridcolor": "#DFE8F3",
            "gridwidth": 2,
            "linecolor": "#EBF0F8",
            "showbackground": true,
            "ticks": "",
            "zerolinecolor": "#EBF0F8"
           }
          },
          "shapedefaults": {
           "line": {
            "color": "#2a3f5f"
           }
          },
          "ternary": {
           "aaxis": {
            "gridcolor": "#DFE8F3",
            "linecolor": "#A2B1C6",
            "ticks": ""
           },
           "baxis": {
            "gridcolor": "#DFE8F3",
            "linecolor": "#A2B1C6",
            "ticks": ""
           },
           "bgcolor": "white",
           "caxis": {
            "gridcolor": "#DFE8F3",
            "linecolor": "#A2B1C6",
            "ticks": ""
           }
          },
          "title": {
           "x": 0.5
          },
          "xaxis": {
           "automargin": true,
           "gridcolor": "#EBF0F8",
           "linecolor": "#EBF0F8",
           "linewidth": 2,
           "showline": true,
           "ticks": "",
           "title": {
            "standoff": 15
           },
           "zerolinecolor": "#EBF0F8",
           "zerolinewidth": 2
          },
          "yaxis": {
           "automargin": true,
           "gridcolor": "#EBF0F8",
           "linecolor": "#EBF0F8",
           "linewidth": 2,
           "showline": true,
           "ticks": "",
           "title": {
            "standoff": 15
           },
           "zerolinecolor": "#EBF0F8",
           "zerolinewidth": 2
          }
         }
        },
        "title": {}
       }
      }
     },
     "metadata": {},
     "output_type": "display_data"
    }
   ],
   "source": [
    "import numpy as np\n",
    "# Show a graph of the result\n",
    "# this needs to be 3D, because we now have three variables in play: two features and one label\n",
    "\n",
    "def predict( Avg_Brent_Crude , Ex_Rate):\n",
    "    '''\n",
    "    This converts given Avg_Brent_Crude and Ex_Change values into a prediction from the model\n",
    "    '''\n",
    "    # to make a prediction with statsmodels, we need to provide a dataframe\n",
    "    # so create a dataframe with just the Avg_Brent_Crude and Ex_Rate variables\n",
    "    df = pd.DataFrame(dict(Avg_Brent_Crude=[Avg_Brent_Crude], Ex_Rate=[Ex_Rate]))\n",
    "    return model.predict(df)\n",
    "\n",
    "# Create the surface graph\n",
    "fig = graphing.surface(\n",
    "    x_values=np.array([min(dataset.Avg_Brent_Crude), max(dataset.Avg_Brent_Crude)]),\n",
    "    y_values=np.array([0, 25]),\n",
    "    calc_z=predict,\n",
    "    axis_title_x=\"Brent Crude Oil\",\n",
    "    axis_title_y=\"Exchange Rate\",\n",
    "    axis_title_z=\"BFP\"\n",
    ")\n",
    "\n",
    "# Add our datapoints to it and display\n",
    "fig.add_scatter3d(x=dataset.Avg_Brent_Crude, y=dataset.Ex_Rate, z=dataset.BFP, mode='markers')\n",
    "fig.show()"
   ]
  },
  {
   "cell_type": "code",
   "execution_count": 38,
   "metadata": {},
   "outputs": [
    {
     "data": {
      "text/html": [
       "<table class=\"simpletable\">\n",
       "<caption>OLS Regression Results</caption>\n",
       "<tr>\n",
       "  <th>Dep. Variable:</th>           <td>BFP</td>       <th>  R-squared:         </th> <td>   0.787</td>\n",
       "</tr>\n",
       "<tr>\n",
       "  <th>Model:</th>                   <td>OLS</td>       <th>  Adj. R-squared:    </th> <td>   0.784</td>\n",
       "</tr>\n",
       "<tr>\n",
       "  <th>Method:</th>             <td>Least Squares</td>  <th>  F-statistic:       </th> <td>   266.6</td>\n",
       "</tr>\n",
       "<tr>\n",
       "  <th>Date:</th>             <td>Mon, 14 Mar 2022</td> <th>  Prob (F-statistic):</th> <td>3.88e-49</td>\n",
       "</tr>\n",
       "<tr>\n",
       "  <th>Time:</th>                 <td>11:02:33</td>     <th>  Log-Likelihood:    </th> <td> -818.02</td>\n",
       "</tr>\n",
       "<tr>\n",
       "  <th>No. Observations:</th>      <td>   147</td>      <th>  AIC:               </th> <td>   1642.</td>\n",
       "</tr>\n",
       "<tr>\n",
       "  <th>Df Residuals:</th>          <td>   144</td>      <th>  BIC:               </th> <td>   1651.</td>\n",
       "</tr>\n",
       "<tr>\n",
       "  <th>Df Model:</th>              <td>     2</td>      <th>                     </th>     <td> </td>   \n",
       "</tr>\n",
       "<tr>\n",
       "  <th>Covariance Type:</th>      <td>nonrobust</td>    <th>                     </th>     <td> </td>   \n",
       "</tr>\n",
       "</table>\n",
       "<table class=\"simpletable\">\n",
       "<tr>\n",
       "         <td></td>            <th>coef</th>     <th>std err</th>      <th>t</th>      <th>P>|t|</th>  <th>[0.025</th>    <th>0.975]</th>  \n",
       "</tr>\n",
       "<tr>\n",
       "  <th>Intercept</th>       <td> -558.2173</td> <td>   53.337</td> <td>  -10.466</td> <td> 0.000</td> <td> -663.642</td> <td> -452.793</td>\n",
       "</tr>\n",
       "<tr>\n",
       "  <th>Avg_Brent_Crude</th> <td>    7.2567</td> <td>    0.319</td> <td>   22.729</td> <td> 0.000</td> <td>    6.626</td> <td>    7.888</td>\n",
       "</tr>\n",
       "<tr>\n",
       "  <th>Ex_Rate</th>         <td>   54.2112</td> <td>    2.680</td> <td>   20.226</td> <td> 0.000</td> <td>   48.913</td> <td>   59.509</td>\n",
       "</tr>\n",
       "</table>\n",
       "<table class=\"simpletable\">\n",
       "<tr>\n",
       "  <th>Omnibus:</th>       <td>48.850</td> <th>  Durbin-Watson:     </th> <td>   0.318</td>\n",
       "</tr>\n",
       "<tr>\n",
       "  <th>Prob(Omnibus):</th> <td> 0.000</td> <th>  Jarque-Bera (JB):  </th> <td> 139.339</td>\n",
       "</tr>\n",
       "<tr>\n",
       "  <th>Skew:</th>          <td>-1.296</td> <th>  Prob(JB):          </th> <td>5.53e-31</td>\n",
       "</tr>\n",
       "<tr>\n",
       "  <th>Kurtosis:</th>      <td> 7.003</td> <th>  Cond. No.          </th> <td>    822.</td>\n",
       "</tr>\n",
       "</table><br/><br/>Notes:<br/>[1] Standard Errors assume that the covariance matrix of the errors is correctly specified."
      ],
      "text/plain": [
       "<class 'statsmodels.iolib.summary.Summary'>\n",
       "\"\"\"\n",
       "                            OLS Regression Results                            \n",
       "==============================================================================\n",
       "Dep. Variable:                    BFP   R-squared:                       0.787\n",
       "Model:                            OLS   Adj. R-squared:                  0.784\n",
       "Method:                 Least Squares   F-statistic:                     266.6\n",
       "Date:                Mon, 14 Mar 2022   Prob (F-statistic):           3.88e-49\n",
       "Time:                        11:02:33   Log-Likelihood:                -818.02\n",
       "No. Observations:                 147   AIC:                             1642.\n",
       "Df Residuals:                     144   BIC:                             1651.\n",
       "Df Model:                           2                                         \n",
       "Covariance Type:            nonrobust                                         \n",
       "===================================================================================\n",
       "                      coef    std err          t      P>|t|      [0.025      0.975]\n",
       "-----------------------------------------------------------------------------------\n",
       "Intercept        -558.2173     53.337    -10.466      0.000    -663.642    -452.793\n",
       "Avg_Brent_Crude     7.2567      0.319     22.729      0.000       6.626       7.888\n",
       "Ex_Rate            54.2112      2.680     20.226      0.000      48.913      59.509\n",
       "==============================================================================\n",
       "Omnibus:                       48.850   Durbin-Watson:                   0.318\n",
       "Prob(Omnibus):                  0.000   Jarque-Bera (JB):              139.339\n",
       "Skew:                          -1.296   Prob(JB):                     5.53e-31\n",
       "Kurtosis:                       7.003   Cond. No.                         822.\n",
       "==============================================================================\n",
       "\n",
       "Notes:\n",
       "[1] Standard Errors assume that the covariance matrix of the errors is correctly specified.\n",
       "\"\"\""
      ]
     },
     "execution_count": 38,
     "metadata": {},
     "output_type": "execute_result"
    }
   ],
   "source": [
    "# Print summary information\n",
    "model.summary()"
   ]
  },
  {
   "cell_type": "code",
   "execution_count": 39,
   "metadata": {},
   "outputs": [
    {
     "data": {
      "text/html": [
       "<table class=\"simpletable\">\n",
       "<caption>OLS Regression Results</caption>\n",
       "<tr>\n",
       "  <th>Dep. Variable:</th>           <td>BFP</td>       <th>  R-squared:         </th> <td>   0.025</td>\n",
       "</tr>\n",
       "<tr>\n",
       "  <th>Model:</th>                   <td>OLS</td>       <th>  Adj. R-squared:    </th> <td>   0.018</td>\n",
       "</tr>\n",
       "<tr>\n",
       "  <th>Method:</th>             <td>Least Squares</td>  <th>  F-statistic:       </th> <td>   3.649</td>\n",
       "</tr>\n",
       "<tr>\n",
       "  <th>Date:</th>             <td>Mon, 14 Mar 2022</td> <th>  Prob (F-statistic):</th>  <td>0.0581</td> \n",
       "</tr>\n",
       "<tr>\n",
       "  <th>Time:</th>                 <td>11:02:33</td>     <th>  Log-Likelihood:    </th> <td> -929.99</td>\n",
       "</tr>\n",
       "<tr>\n",
       "  <th>No. Observations:</th>      <td>   147</td>      <th>  AIC:               </th> <td>   1864.</td>\n",
       "</tr>\n",
       "<tr>\n",
       "  <th>Df Residuals:</th>          <td>   145</td>      <th>  BIC:               </th> <td>   1870.</td>\n",
       "</tr>\n",
       "<tr>\n",
       "  <th>Df Model:</th>              <td>     1</td>      <th>                     </th>     <td> </td>   \n",
       "</tr>\n",
       "<tr>\n",
       "  <th>Covariance Type:</th>      <td>nonrobust</td>    <th>                     </th>     <td> </td>   \n",
       "</tr>\n",
       "</table>\n",
       "<table class=\"simpletable\">\n",
       "<tr>\n",
       "      <td></td>         <th>coef</th>     <th>std err</th>      <th>t</th>      <th>P>|t|</th>  <th>[0.025</th>    <th>0.975]</th>  \n",
       "</tr>\n",
       "<tr>\n",
       "  <th>Intercept</th> <td>  557.8531</td> <td>   44.450</td> <td>   12.550</td> <td> 0.000</td> <td>  469.999</td> <td>  645.707</td>\n",
       "</tr>\n",
       "<tr>\n",
       "  <th>Ex_Rate</th>   <td>    6.8804</td> <td>    3.602</td> <td>    1.910</td> <td> 0.058</td> <td>   -0.238</td> <td>   13.999</td>\n",
       "</tr>\n",
       "</table>\n",
       "<table class=\"simpletable\">\n",
       "<tr>\n",
       "  <th>Omnibus:</th>       <td> 1.340</td> <th>  Durbin-Watson:     </th> <td>   0.175</td>\n",
       "</tr>\n",
       "<tr>\n",
       "  <th>Prob(Omnibus):</th> <td> 0.512</td> <th>  Jarque-Bera (JB):  </th> <td>   1.040</td>\n",
       "</tr>\n",
       "<tr>\n",
       "  <th>Skew:</th>          <td> 0.199</td> <th>  Prob(JB):          </th> <td>   0.595</td>\n",
       "</tr>\n",
       "<tr>\n",
       "  <th>Kurtosis:</th>      <td> 3.110</td> <th>  Cond. No.          </th> <td>    49.1</td>\n",
       "</tr>\n",
       "</table><br/><br/>Notes:<br/>[1] Standard Errors assume that the covariance matrix of the errors is correctly specified."
      ],
      "text/plain": [
       "<class 'statsmodels.iolib.summary.Summary'>\n",
       "\"\"\"\n",
       "                            OLS Regression Results                            \n",
       "==============================================================================\n",
       "Dep. Variable:                    BFP   R-squared:                       0.025\n",
       "Model:                            OLS   Adj. R-squared:                  0.018\n",
       "Method:                 Least Squares   F-statistic:                     3.649\n",
       "Date:                Mon, 14 Mar 2022   Prob (F-statistic):             0.0581\n",
       "Time:                        11:02:33   Log-Likelihood:                -929.99\n",
       "No. Observations:                 147   AIC:                             1864.\n",
       "Df Residuals:                     145   BIC:                             1870.\n",
       "Df Model:                           1                                         \n",
       "Covariance Type:            nonrobust                                         \n",
       "==============================================================================\n",
       "                 coef    std err          t      P>|t|      [0.025      0.975]\n",
       "------------------------------------------------------------------------------\n",
       "Intercept    557.8531     44.450     12.550      0.000     469.999     645.707\n",
       "Ex_Rate        6.8804      3.602      1.910      0.058      -0.238      13.999\n",
       "==============================================================================\n",
       "Omnibus:                        1.340   Durbin-Watson:                   0.175\n",
       "Prob(Omnibus):                  0.512   Jarque-Bera (JB):                1.040\n",
       "Skew:                           0.199   Prob(JB):                        0.595\n",
       "Kurtosis:                       3.110   Cond. No.                         49.1\n",
       "==============================================================================\n",
       "\n",
       "Notes:\n",
       "[1] Standard Errors assume that the covariance matrix of the errors is correctly specified.\n",
       "\"\"\""
      ]
     },
     "execution_count": 39,
     "metadata": {},
     "output_type": "execute_result"
    }
   ],
   "source": [
    "BFP_trained_model.summary()"
   ]
  },
  {
   "cell_type": "markdown",
   "metadata": {},
   "source": [
    "# Using Sklearn"
   ]
  },
  {
   "cell_type": "markdown",
   "metadata": {},
   "source": [
    "Creat train and test dataset"
   ]
  },
  {
   "cell_type": "code",
   "execution_count": 40,
   "metadata": {},
   "outputs": [],
   "source": [
    "cdf = dataset[['Avg_Brent_Crude', 'Ex_Rate', 'BFP']]"
   ]
  },
  {
   "cell_type": "code",
   "execution_count": 41,
   "metadata": {},
   "outputs": [],
   "source": [
    "msk = np.random.rand(len(df)) < 0.8\n",
    "train = cdf[msk]\n",
    "test = cdf[~msk]"
   ]
  },
  {
   "cell_type": "markdown",
   "metadata": {},
   "source": [
    "Mulltiple Regression Model"
   ]
  },
  {
   "cell_type": "code",
   "execution_count": 42,
   "metadata": {},
   "outputs": [
    {
     "name": "stdout",
     "output_type": "stream",
     "text": [
      "Coefficients:  [[ 7.20872274 53.95743472]]\n"
     ]
    }
   ],
   "source": [
    "from sklearn import linear_model\n",
    "regr = linear_model.LinearRegression()\n",
    "x = np.asanyarray(train[['Avg_Brent_Crude', 'Ex_Rate']])\n",
    "y = np.asanyarray(train[['BFP']])\n",
    "regr.fit (x, y)\n",
    "# The coefficients\n",
    "print ('Coefficients: ', regr.coef_)"
   ]
  },
  {
   "cell_type": "markdown",
   "metadata": {},
   "source": [
    "Prediction"
   ]
  },
  {
   "cell_type": "code",
   "execution_count": 43,
   "metadata": {},
   "outputs": [
    {
     "name": "stdout",
     "output_type": "stream",
     "text": [
      "RSS: 3218.57\n",
      "R-Squared: 0.82\n"
     ]
    },
    {
     "name": "stderr",
     "output_type": "stream",
     "text": [
      "C:\\Users\\PC\\AppData\\Local\\Programs\\Python\\Python310\\lib\\site-packages\\sklearn\\base.py:443: UserWarning:\n",
      "\n",
      "X has feature names, but LinearRegression was fitted without feature names\n",
      "\n"
     ]
    }
   ],
   "source": [
    "y_hat= regr.predict(test[['Avg_Brent_Crude', 'Ex_Rate']])\n",
    "x = np.asanyarray(test[['Avg_Brent_Crude', 'Ex_Rate']])\n",
    "y = np.asanyarray(test[['BFP']])\n",
    "print(\"RSS: %.2f\"\n",
    "      % np.mean((y_hat - y) ** 2))\n",
    "\n",
    "# Explained variance score: 1 is perfect prediction\n",
    "print('R-Squared: %.2f' % regr.score(x, y))"
   ]
  },
  {
   "cell_type": "code",
   "execution_count": null,
   "metadata": {},
   "outputs": [],
   "source": []
  }
 ],
 "metadata": {
  "interpreter": {
   "hash": "8ed06d07b9ff369db6ed7b53447be18709da67cd911d838d72fee7fecb26667a"
  },
  "kernelspec": {
   "display_name": "Python 3.10.2 64-bit",
   "language": "python",
   "name": "python3"
  },
  "language_info": {
   "codemirror_mode": {
    "name": "ipython",
    "version": 3
   },
   "file_extension": ".py",
   "mimetype": "text/x-python",
   "name": "python",
   "nbconvert_exporter": "python",
   "pygments_lexer": "ipython3",
   "version": "3.10.2"
  },
  "orig_nbformat": 4
 },
 "nbformat": 4,
 "nbformat_minor": 2
}
