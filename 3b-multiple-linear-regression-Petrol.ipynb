{
 "cells": [
  {
   "cell_type": "markdown",
   "metadata": {},
   "source": [
    "<center>\n",
    "    <img src=\"https://image.shutterstock.com/image-vector/regression-concept-keywords-people-icons-260nw-1820291330.jpg\" width=\"600\" alt=\"cognitiveclass.ai logo\"  />\n",
    "</center>\n",
    "\n",
    "# Multiple Linear Regression"
   ]
  },
  {
   "cell_type": "code",
   "execution_count": 1,
   "metadata": {},
   "outputs": [
    {
     "data": {
      "text/html": [
       "<div>\n",
       "<style scoped>\n",
       "    .dataframe tbody tr th:only-of-type {\n",
       "        vertical-align: middle;\n",
       "    }\n",
       "\n",
       "    .dataframe tbody tr th {\n",
       "        vertical-align: top;\n",
       "    }\n",
       "\n",
       "    .dataframe thead th {\n",
       "        text-align: right;\n",
       "    }\n",
       "</style>\n",
       "<table border=\"1\" class=\"dataframe\">\n",
       "  <thead>\n",
       "    <tr style=\"text-align: right;\">\n",
       "      <th></th>\n",
       "      <th>Date</th>\n",
       "      <th>BFP</th>\n",
       "      <th>Ex_Rate</th>\n",
       "      <th>Avg_Brent_Crude</th>\n",
       "      <th>Petrol</th>\n",
       "      <th>Crude_Rands</th>\n",
       "      <th>Fuel tax</th>\n",
       "      <th>Road accident fund</th>\n",
       "      <th>Other_cost</th>\n",
       "    </tr>\n",
       "  </thead>\n",
       "  <tbody>\n",
       "    <tr>\n",
       "      <th>0</th>\n",
       "      <td>2010-01-01</td>\n",
       "      <td>406.263</td>\n",
       "      <td>7.5246</td>\n",
       "      <td>74.31</td>\n",
       "      <td>786.0</td>\n",
       "      <td>559.153026</td>\n",
       "      <td>150.0</td>\n",
       "      <td>64</td>\n",
       "      <td>161.737</td>\n",
       "    </tr>\n",
       "    <tr>\n",
       "      <th>1</th>\n",
       "      <td>2010-02-01</td>\n",
       "      <td>424.263</td>\n",
       "      <td>7.4735</td>\n",
       "      <td>76.84</td>\n",
       "      <td>804.0</td>\n",
       "      <td>574.263740</td>\n",
       "      <td>150.0</td>\n",
       "      <td>64</td>\n",
       "      <td>161.737</td>\n",
       "    </tr>\n",
       "    <tr>\n",
       "      <th>2</th>\n",
       "      <td>2010-03-01</td>\n",
       "      <td>430.563</td>\n",
       "      <td>7.6902</td>\n",
       "      <td>73.17</td>\n",
       "      <td>810.3</td>\n",
       "      <td>562.691934</td>\n",
       "      <td>150.0</td>\n",
       "      <td>64</td>\n",
       "      <td>161.737</td>\n",
       "    </tr>\n",
       "    <tr>\n",
       "      <th>3</th>\n",
       "      <td>2010-04-01</td>\n",
       "      <td>453.063</td>\n",
       "      <td>7.4753</td>\n",
       "      <td>78.89</td>\n",
       "      <td>858.3</td>\n",
       "      <td>589.726417</td>\n",
       "      <td>167.5</td>\n",
       "      <td>72</td>\n",
       "      <td>161.737</td>\n",
       "    </tr>\n",
       "    <tr>\n",
       "      <th>4</th>\n",
       "      <td>2010-05-01</td>\n",
       "      <td>465.063</td>\n",
       "      <td>7.3749</td>\n",
       "      <td>85.75</td>\n",
       "      <td>871.8</td>\n",
       "      <td>632.397675</td>\n",
       "      <td>167.5</td>\n",
       "      <td>72</td>\n",
       "      <td>163.237</td>\n",
       "    </tr>\n",
       "  </tbody>\n",
       "</table>\n",
       "</div>"
      ],
      "text/plain": [
       "        Date      BFP  Ex_Rate  Avg_Brent_Crude  Petrol  Crude_Rands  \\\n",
       "0 2010-01-01  406.263   7.5246            74.31   786.0   559.153026   \n",
       "1 2010-02-01  424.263   7.4735            76.84   804.0   574.263740   \n",
       "2 2010-03-01  430.563   7.6902            73.17   810.3   562.691934   \n",
       "3 2010-04-01  453.063   7.4753            78.89   858.3   589.726417   \n",
       "4 2010-05-01  465.063   7.3749            85.75   871.8   632.397675   \n",
       "\n",
       "   Fuel tax  Road accident fund  Other_cost  \n",
       "0     150.0                  64     161.737  \n",
       "1     150.0                  64     161.737  \n",
       "2     150.0                  64     161.737  \n",
       "3     167.5                  72     161.737  \n",
       "4     167.5                  72     163.237  "
      ]
     },
     "execution_count": 1,
     "metadata": {},
     "output_type": "execute_result"
    }
   ],
   "source": [
    "import pandas as pd \n",
    "import graphing\n",
    "df = pd.read_excel('Data Collection\\Petrol.xlsx', sheet_name='Combinedv2')\n",
    "\n",
    "df1 = pd.read_excel('Data Collection\\BFP.xlsx', sheet_name='Combined')\n",
    "df1['Crude_Rands'] = (df1.Avg_Brent_Crude * df1.Ex_Rate)\n",
    "\n",
    "#New dataset with new columns\n",
    "to_drop = df[['BFP ', 'Fuel tax', 'Road accident fund']]\n",
    "data = df.drop(to_drop, axis=1)\n",
    "#Create a new column of Other cost\n",
    "data['Other_cost']=data.iloc[:,2:13].sum(axis=1)\n",
    "data_other = data['Other_cost']\n",
    "\n",
    "# merge all into one dataset\n",
    "all_df = [df1, to_drop, data_other]\n",
    "dataset = pd.concat(all_df, axis=1)\n",
    "\n",
    "#Drop duplicate BFP Column\n",
    "dataset = dataset.drop(['BFP '], axis=1)\n",
    "dataset.head()"
   ]
  },
  {
   "cell_type": "markdown",
   "metadata": {},
   "source": [
    "#### Data Visualization"
   ]
  },
  {
   "cell_type": "code",
   "execution_count": 2,
   "metadata": {},
   "outputs": [
    {
     "data": {
      "application/vnd.plotly.v1+json": {
       "config": {
        "plotlyServerURL": "https://plot.ly"
       },
       "data": [
        {
         "hovertemplate": "Avg_Brent_Crude=%{x}<br>Petrol=%{y}<extra></extra>",
         "legendgroup": "",
         "marker": {
          "color": "#636efa",
          "symbol": "circle"
         },
         "mode": "markers",
         "name": "",
         "orientation": "v",
         "showlegend": false,
         "type": "scatter",
         "x": [
          74.31,
          76.84,
          73.17,
          78.89,
          85.75,
          76.3,
          74.61,
          78.68,
          77.39,
          77.37,
          82.73,
          85.15,
          90.77,
          95.97,
          102.37,
          114.41,
          123.49,
          116.15,
          114.19,
          116.88,
          110.67,
          113.61,
          109.28,
          110.51,
          107.96,
          110.42,
          126.39,
          125.42,
          120.18,
          110.27,
          95.22,
          102.04,
          113.51,
          112.96,
          109.05,
          109.04,
          109.13,
          112.88,
          116.28,
          108.44,
          102.16,
          102.62,
          102.84,
          108.05,
          111.07,
          112.23,
          109.12,
          107.82,
          110.73,
          108.35,
          108.87,
          107.67,
          108.31,
          109.69,
          111.62,
          106.64,
          101.57,
          97.73,
          87.54,
          79.75,
          54.98,
          48.2,
          57.93,
          56.11,
          59.01,
          64.36,
          61.94,
          56.72,
          46.56,
          47.79,
          48.58,
          44.33,
          38.22,
          30.83,
          32.11,
          38.49,
          41.28,
          46.56,
          48.34,
          45.28,
          45.94,
          46.6,
          49.86,
          52.48,
          53.45,
          54.61,
          54.99,
          51.52,
          53.21,
          50.06,
          46.48,
          48.23,
          51.66,
          55.99,
          56.86,
          62.62,
          64.08,
          69.06,
          64.06,
          65.71,
          70.88,
          76.8,
          74.15,
          74.27,
          72.51,
          78.25,
          81.15,
          65.79,
          57.08,
          59.06,
          64.03,
          66.03,
          71.15,
          71.29,
          63.87,
          64.04,
          58.97,
          62.88,
          59.72,
          63.02,
          67.01,
          64.5,
          55.7,
          33.88,
          18.99,
          28.71,
          39.87,
          43.42,
          44.82,
          38.915,
          40.413,
          41.692,
          49.2,
          53.1,
          60,
          65.14,
          64.16,
          66,
          73,
          74,
          72.5,
          75.5,
          83.4,
          83.5,
          76,
          87,
          96.47
         ],
         "xaxis": "x",
         "y": [
          785.9999999999999,
          803.9999999999999,
          810.3,
          858.3,
          871.8,
          844.8,
          826.8,
          816.8,
          806.8,
          811.8,
          831.8,
          844.8,
          872.8000000000001,
          898.8000000000001,
          941.8,
          996.4,
          1025.4,
          1023.4,
          992.4,
          1009.4,
          1018.4,
          1054.4,
          1077.4,
          1056.8,
          1061.3999999999999,
          1095.3999999999999,
          1123.4,
          1193.7,
          1221.7,
          1166.7,
          1081.7,
          1103.7,
          1193.7,
          1216.7,
          1206.6999999999998,
          1197.6999999999998,
          1185.6999999999998,
          1226.7,
          1307.7000000000003,
          1319.6000000000001,
          1246.6000000000001,
          1238.6000000000004,
          1322.6000000000001,
          1354.6000000000001,
          1346.6000000000001,
          1326.6000000000001,
          1298.6000000000001,
          1315.6,
          1356.6000000000001,
          1395.6000000000001,
          1431.6,
          1441.7,
          1426.6999999999998,
          1404.7,
          1435.7,
          1435.7000000000003,
          1368.7,
          1363.7,
          1318.7,
          1248.4999999999998,
          1123.6,
          1030.6,
          1126.6,
          1288.7,
          1288.7,
          1335.7,
          1376.7,
          1325.6999999999998,
          1246.7,
          1250.7,
          1228.7,
          1229.7,
          1226.7,
          1232.7,
          1163.7,
          1252.4,
          1264.4,
          1316.4,
          1324.4,
          1225.4,
          1207.4,
          1250.4,
          1295.4,
          1275.3999999999999,
          1333.3999999999999,
          1362.3999999999999,
          1354.3999999999999,
          1329.7,
          1378.7,
          1353.7,
          1285.7,
          1304.7,
          1371.7,
          1400.7,
          1404.7,
          1458.7,
          1441.7,
          1411.7,
          1375.7,
          1447.8000000000002,
          1496.8000000000002,
          1578.8000000000002,
          1602.6599999999999,
          1602.8000000000002,
          1607.8,
          1707.8,
          1707.8,
          1523.8,
          1400.8,
          1407.8,
          1481.8,
          1613.2,
          1667.2,
          1676.2,
          1581.2,
          1592.2,
          1603.2,
          1621.2,
          1608.2,
          1629.8700000000003,
          1616.2,
          1603.2,
          1584.2,
          1396.2,
          1222.3000000000002,
          1340.3,
          1512.3,
          1517.3,
          1518.3000000000002,
          1486.307,
          1459.3000000000002,
          1446.6000000000001,
          1486.3,
          1567.3,
          1625.3,
          1731.5,
          1722.5,
          1712.5,
          1738.5,
          1829.5,
          1827.8,
          1826.8,
          1947.8,
          2028.8000000000002,
          1960.5,
          2013.5000000000002,
          2159.5
         ],
         "yaxis": "y"
        }
       ],
       "layout": {
        "legend": {
         "tracegroupgap": 0
        },
        "template": {
         "data": {
          "bar": [
           {
            "error_x": {
             "color": "#2a3f5f"
            },
            "error_y": {
             "color": "#2a3f5f"
            },
            "marker": {
             "line": {
              "color": "white",
              "width": 0.5
             },
             "pattern": {
              "fillmode": "overlay",
              "size": 10,
              "solidity": 0.2
             }
            },
            "type": "bar"
           }
          ],
          "barpolar": [
           {
            "marker": {
             "line": {
              "color": "white",
              "width": 0.5
             },
             "pattern": {
              "fillmode": "overlay",
              "size": 10,
              "solidity": 0.2
             }
            },
            "type": "barpolar"
           }
          ],
          "box": [
           {
            "boxpoints": "outliers",
            "notched": false,
            "type": "box"
           }
          ],
          "carpet": [
           {
            "aaxis": {
             "endlinecolor": "#2a3f5f",
             "gridcolor": "#C8D4E3",
             "linecolor": "#C8D4E3",
             "minorgridcolor": "#C8D4E3",
             "startlinecolor": "#2a3f5f"
            },
            "baxis": {
             "endlinecolor": "#2a3f5f",
             "gridcolor": "#C8D4E3",
             "linecolor": "#C8D4E3",
             "minorgridcolor": "#C8D4E3",
             "startlinecolor": "#2a3f5f"
            },
            "type": "carpet"
           }
          ],
          "choropleth": [
           {
            "colorbar": {
             "outlinewidth": 0,
             "ticks": ""
            },
            "type": "choropleth"
           }
          ],
          "contour": [
           {
            "colorbar": {
             "outlinewidth": 0,
             "ticks": ""
            },
            "colorscale": [
             [
              0,
              "#0d0887"
             ],
             [
              0.1111111111111111,
              "#46039f"
             ],
             [
              0.2222222222222222,
              "#7201a8"
             ],
             [
              0.3333333333333333,
              "#9c179e"
             ],
             [
              0.4444444444444444,
              "#bd3786"
             ],
             [
              0.5555555555555556,
              "#d8576b"
             ],
             [
              0.6666666666666666,
              "#ed7953"
             ],
             [
              0.7777777777777778,
              "#fb9f3a"
             ],
             [
              0.8888888888888888,
              "#fdca26"
             ],
             [
              1,
              "#f0f921"
             ]
            ],
            "type": "contour"
           }
          ],
          "contourcarpet": [
           {
            "colorbar": {
             "outlinewidth": 0,
             "ticks": ""
            },
            "type": "contourcarpet"
           }
          ],
          "heatmap": [
           {
            "colorbar": {
             "outlinewidth": 0,
             "ticks": ""
            },
            "colorscale": [
             [
              0,
              "#0d0887"
             ],
             [
              0.1111111111111111,
              "#46039f"
             ],
             [
              0.2222222222222222,
              "#7201a8"
             ],
             [
              0.3333333333333333,
              "#9c179e"
             ],
             [
              0.4444444444444444,
              "#bd3786"
             ],
             [
              0.5555555555555556,
              "#d8576b"
             ],
             [
              0.6666666666666666,
              "#ed7953"
             ],
             [
              0.7777777777777778,
              "#fb9f3a"
             ],
             [
              0.8888888888888888,
              "#fdca26"
             ],
             [
              1,
              "#f0f921"
             ]
            ],
            "type": "heatmap"
           }
          ],
          "heatmapgl": [
           {
            "colorbar": {
             "outlinewidth": 0,
             "ticks": ""
            },
            "colorscale": [
             [
              0,
              "#0d0887"
             ],
             [
              0.1111111111111111,
              "#46039f"
             ],
             [
              0.2222222222222222,
              "#7201a8"
             ],
             [
              0.3333333333333333,
              "#9c179e"
             ],
             [
              0.4444444444444444,
              "#bd3786"
             ],
             [
              0.5555555555555556,
              "#d8576b"
             ],
             [
              0.6666666666666666,
              "#ed7953"
             ],
             [
              0.7777777777777778,
              "#fb9f3a"
             ],
             [
              0.8888888888888888,
              "#fdca26"
             ],
             [
              1,
              "#f0f921"
             ]
            ],
            "type": "heatmapgl"
           }
          ],
          "histogram": [
           {
            "marker": {
             "line": {
              "width": 1
             },
             "pattern": {
              "fillmode": "overlay",
              "size": 10,
              "solidity": 0.2
             }
            },
            "type": "histogram"
           }
          ],
          "histogram2d": [
           {
            "colorbar": {
             "outlinewidth": 0,
             "ticks": ""
            },
            "colorscale": [
             [
              0,
              "#0d0887"
             ],
             [
              0.1111111111111111,
              "#46039f"
             ],
             [
              0.2222222222222222,
              "#7201a8"
             ],
             [
              0.3333333333333333,
              "#9c179e"
             ],
             [
              0.4444444444444444,
              "#bd3786"
             ],
             [
              0.5555555555555556,
              "#d8576b"
             ],
             [
              0.6666666666666666,
              "#ed7953"
             ],
             [
              0.7777777777777778,
              "#fb9f3a"
             ],
             [
              0.8888888888888888,
              "#fdca26"
             ],
             [
              1,
              "#f0f921"
             ]
            ],
            "type": "histogram2d"
           }
          ],
          "histogram2dcontour": [
           {
            "colorbar": {
             "outlinewidth": 0,
             "ticks": ""
            },
            "colorscale": [
             [
              0,
              "#0d0887"
             ],
             [
              0.1111111111111111,
              "#46039f"
             ],
             [
              0.2222222222222222,
              "#7201a8"
             ],
             [
              0.3333333333333333,
              "#9c179e"
             ],
             [
              0.4444444444444444,
              "#bd3786"
             ],
             [
              0.5555555555555556,
              "#d8576b"
             ],
             [
              0.6666666666666666,
              "#ed7953"
             ],
             [
              0.7777777777777778,
              "#fb9f3a"
             ],
             [
              0.8888888888888888,
              "#fdca26"
             ],
             [
              1,
              "#f0f921"
             ]
            ],
            "type": "histogram2dcontour"
           }
          ],
          "mesh3d": [
           {
            "colorbar": {
             "outlinewidth": 0,
             "ticks": ""
            },
            "type": "mesh3d"
           }
          ],
          "parcoords": [
           {
            "line": {
             "colorbar": {
              "outlinewidth": 0,
              "ticks": ""
             }
            },
            "type": "parcoords"
           }
          ],
          "pie": [
           {
            "automargin": true,
            "type": "pie"
           }
          ],
          "scatter": [
           {
            "marker": {
             "colorbar": {
              "outlinewidth": 0,
              "ticks": ""
             },
             "opacity": 0.8
            },
            "type": "scatter"
           }
          ],
          "scatter3d": [
           {
            "line": {
             "colorbar": {
              "outlinewidth": 0,
              "ticks": ""
             }
            },
            "marker": {
             "colorbar": {
              "outlinewidth": 0,
              "ticks": ""
             },
             "opacity": 0.8
            },
            "type": "scatter3d"
           }
          ],
          "scattercarpet": [
           {
            "marker": {
             "colorbar": {
              "outlinewidth": 0,
              "ticks": ""
             }
            },
            "type": "scattercarpet"
           }
          ],
          "scattergeo": [
           {
            "marker": {
             "colorbar": {
              "outlinewidth": 0,
              "ticks": ""
             }
            },
            "type": "scattergeo"
           }
          ],
          "scattergl": [
           {
            "marker": {
             "colorbar": {
              "outlinewidth": 0,
              "ticks": ""
             }
            },
            "type": "scattergl"
           }
          ],
          "scattermapbox": [
           {
            "marker": {
             "colorbar": {
              "outlinewidth": 0,
              "ticks": ""
             }
            },
            "type": "scattermapbox"
           }
          ],
          "scatterpolar": [
           {
            "marker": {
             "colorbar": {
              "outlinewidth": 0,
              "ticks": ""
             }
            },
            "type": "scatterpolar"
           }
          ],
          "scatterpolargl": [
           {
            "marker": {
             "colorbar": {
              "outlinewidth": 0,
              "ticks": ""
             }
            },
            "type": "scatterpolargl"
           }
          ],
          "scatterternary": [
           {
            "marker": {
             "colorbar": {
              "outlinewidth": 0,
              "ticks": ""
             }
            },
            "type": "scatterternary"
           }
          ],
          "surface": [
           {
            "colorbar": {
             "outlinewidth": 0,
             "ticks": ""
            },
            "colorscale": [
             [
              0,
              "#0d0887"
             ],
             [
              0.1111111111111111,
              "#46039f"
             ],
             [
              0.2222222222222222,
              "#7201a8"
             ],
             [
              0.3333333333333333,
              "#9c179e"
             ],
             [
              0.4444444444444444,
              "#bd3786"
             ],
             [
              0.5555555555555556,
              "#d8576b"
             ],
             [
              0.6666666666666666,
              "#ed7953"
             ],
             [
              0.7777777777777778,
              "#fb9f3a"
             ],
             [
              0.8888888888888888,
              "#fdca26"
             ],
             [
              1,
              "#f0f921"
             ]
            ],
            "type": "surface"
           }
          ],
          "table": [
           {
            "cells": {
             "fill": {
              "color": "#EBF0F8"
             },
             "line": {
              "color": "white"
             }
            },
            "header": {
             "fill": {
              "color": "#C8D4E3"
             },
             "line": {
              "color": "white"
             }
            },
            "type": "table"
           }
          ]
         },
         "layout": {
          "annotationdefaults": {
           "arrowcolor": "#2a3f5f",
           "arrowhead": 0,
           "arrowwidth": 1
          },
          "autotypenumbers": "strict",
          "coloraxis": {
           "colorbar": {
            "outlinewidth": 0,
            "ticks": ""
           }
          },
          "colorscale": {
           "diverging": [
            [
             0,
             "#8e0152"
            ],
            [
             0.1,
             "#c51b7d"
            ],
            [
             0.2,
             "#de77ae"
            ],
            [
             0.3,
             "#f1b6da"
            ],
            [
             0.4,
             "#fde0ef"
            ],
            [
             0.5,
             "#f7f7f7"
            ],
            [
             0.6,
             "#e6f5d0"
            ],
            [
             0.7,
             "#b8e186"
            ],
            [
             0.8,
             "#7fbc41"
            ],
            [
             0.9,
             "#4d9221"
            ],
            [
             1,
             "#276419"
            ]
           ],
           "sequential": [
            [
             0,
             "#0d0887"
            ],
            [
             0.1111111111111111,
             "#46039f"
            ],
            [
             0.2222222222222222,
             "#7201a8"
            ],
            [
             0.3333333333333333,
             "#9c179e"
            ],
            [
             0.4444444444444444,
             "#bd3786"
            ],
            [
             0.5555555555555556,
             "#d8576b"
            ],
            [
             0.6666666666666666,
             "#ed7953"
            ],
            [
             0.7777777777777778,
             "#fb9f3a"
            ],
            [
             0.8888888888888888,
             "#fdca26"
            ],
            [
             1,
             "#f0f921"
            ]
           ],
           "sequentialminus": [
            [
             0,
             "#0d0887"
            ],
            [
             0.1111111111111111,
             "#46039f"
            ],
            [
             0.2222222222222222,
             "#7201a8"
            ],
            [
             0.3333333333333333,
             "#9c179e"
            ],
            [
             0.4444444444444444,
             "#bd3786"
            ],
            [
             0.5555555555555556,
             "#d8576b"
            ],
            [
             0.6666666666666666,
             "#ed7953"
            ],
            [
             0.7777777777777778,
             "#fb9f3a"
            ],
            [
             0.8888888888888888,
             "#fdca26"
            ],
            [
             1,
             "#f0f921"
            ]
           ]
          },
          "colorway": [
           "#636efa",
           "#EF553B",
           "#00cc96",
           "#ab63fa",
           "#FFA15A",
           "#19d3f3",
           "#FF6692",
           "#B6E880",
           "#FF97FF",
           "#FECB52"
          ],
          "font": {
           "color": "#2a3f5f"
          },
          "geo": {
           "bgcolor": "white",
           "lakecolor": "white",
           "landcolor": "white",
           "showlakes": true,
           "showland": true,
           "subunitcolor": "#C8D4E3"
          },
          "height": 400,
          "hoverlabel": {
           "align": "left"
          },
          "hovermode": "closest",
          "mapbox": {
           "style": "light"
          },
          "margin": {
           "b": 2,
           "l": 2,
           "r": 2,
           "t": 30
          },
          "paper_bgcolor": "white",
          "plot_bgcolor": "white",
          "polar": {
           "angularaxis": {
            "gridcolor": "#EBF0F8",
            "linecolor": "#EBF0F8",
            "ticks": ""
           },
           "bgcolor": "white",
           "radialaxis": {
            "gridcolor": "#EBF0F8",
            "linecolor": "#EBF0F8",
            "ticks": ""
           }
          },
          "scene": {
           "camera": {
            "eye": {
             "x": 1.5,
             "y": 1.5,
             "z": 0.1
            }
           },
           "xaxis": {
            "backgroundcolor": "white",
            "gridcolor": "#DFE8F3",
            "gridwidth": 2,
            "linecolor": "#EBF0F8",
            "showbackground": true,
            "ticks": "",
            "zerolinecolor": "#EBF0F8"
           },
           "yaxis": {
            "backgroundcolor": "white",
            "gridcolor": "#DFE8F3",
            "gridwidth": 2,
            "linecolor": "#EBF0F8",
            "showbackground": true,
            "ticks": "",
            "zerolinecolor": "#EBF0F8"
           },
           "zaxis": {
            "backgroundcolor": "white",
            "gridcolor": "#DFE8F3",
            "gridwidth": 2,
            "linecolor": "#EBF0F8",
            "showbackground": true,
            "ticks": "",
            "zerolinecolor": "#EBF0F8"
           }
          },
          "shapedefaults": {
           "line": {
            "color": "#2a3f5f"
           }
          },
          "ternary": {
           "aaxis": {
            "gridcolor": "#DFE8F3",
            "linecolor": "#A2B1C6",
            "ticks": ""
           },
           "baxis": {
            "gridcolor": "#DFE8F3",
            "linecolor": "#A2B1C6",
            "ticks": ""
           },
           "bgcolor": "white",
           "caxis": {
            "gridcolor": "#DFE8F3",
            "linecolor": "#A2B1C6",
            "ticks": ""
           }
          },
          "title": {
           "x": 0.5
          },
          "xaxis": {
           "automargin": true,
           "gridcolor": "#EBF0F8",
           "linecolor": "#EBF0F8",
           "linewidth": 2,
           "showline": true,
           "ticks": "",
           "title": {
            "standoff": 15
           },
           "zerolinecolor": "#EBF0F8",
           "zerolinewidth": 2
          },
          "yaxis": {
           "automargin": true,
           "gridcolor": "#EBF0F8",
           "linecolor": "#EBF0F8",
           "linewidth": 2,
           "showline": true,
           "ticks": "",
           "title": {
            "standoff": 15
           },
           "zerolinecolor": "#EBF0F8",
           "zerolinewidth": 2
          }
         }
        },
        "title": {
         "text": "Crude Oil vs Petrol"
        },
        "xaxis": {
         "anchor": "y",
         "domain": [
          0,
          1
         ],
         "title": {
          "text": "Avg_Brent_Crude"
         }
        },
        "yaxis": {
         "anchor": "x",
         "domain": [
          0,
          1
         ],
         "title": {
          "text": "Petrol"
         }
        }
       }
      }
     },
     "metadata": {},
     "output_type": "display_data"
    },
    {
     "data": {
      "application/vnd.plotly.v1+json": {
       "config": {
        "plotlyServerURL": "https://plot.ly"
       },
       "data": [
        {
         "hovertemplate": "Ex_Rate=%{x}<br>Petrol=%{y}<extra></extra>",
         "legendgroup": "",
         "marker": {
          "color": "#636efa",
          "symbol": "circle"
         },
         "mode": "markers",
         "name": "",
         "orientation": "v",
         "showlegend": false,
         "type": "scatter",
         "x": [
          7.5246,
          7.4735,
          7.6902,
          7.4753,
          7.3749,
          7.6575,
          7.6708,
          7.5757,
          7.3178,
          7.1859,
          6.9374,
          6.9767,
          6.901,
          6.8983,
          7.2334,
          6.9512,
          6.7701,
          6.8516,
          6.8353,
          6.8134,
          7.059,
          7.5657,
          8.0012,
          8.1398,
          8.2122,
          8.0841,
          7.679,
          7.6193,
          7.8536,
          8.1031,
          8.4189,
          8.2657,
          8.2758,
          8.3075,
          8.6479,
          8.8252,
          8.6833,
          8.7629,
          8.9067,
          9.1932,
          9.1598,
          9.2987,
          10.0487,
          9.9348,
          10.0928,
          10.0027,
          9.9452,
          10.2121,
          10.3581,
          10.8105,
          11.0054,
          10.7695,
          10.5576,
          10.4042,
          10.6743,
          10.6609,
          10.6781,
          10.6781,
          11.1004,
          11.0969,
          11.4749,
          11.5777,
          11.589,
          12.0423,
          12.0459,
          11.9454,
          12.3196,
          12.4128,
          12.8609,
          13.7884,
          13.4734,
          14.0938,
          14.8819,
          16.3276,
          15.7832,
          15.4655,
          14.6477,
          15.2048,
          15.1553,
          14.4407,
          13.8016,
          14.0057,
          13.9646,
          13.9125,
          13.8687,
          13.5813,
          13.2899,
          12.9148,
          13.5105,
          13.2587,
          12.8756,
          13.15,
          13.2152,
          13.1317,
          13.621,
          14.0964,
          13.2303,
          12.2029,
          11.8167,
          11.8489,
          11.9797,
          12.5099,
          13.2871,
          13.4713,
          13.943,
          14.7899,
          14.4892,
          14.0923,
          14.1778,
          13.9476,
          13.8038,
          14.3871,
          14.1401,
          14.4127,
          14.6227,
          14.0709,
          15.1729,
          14.8432,
          14.9293,
          14.8037,
          14.4784,
          14.3276,
          14.9789,
          16.4305,
          18.4771,
          18.1715,
          17.1271,
          16.8234,
          17.2814,
          16.7204,
          16.4657,
          15.6305,
          14.939,
          15.087,
          14.763,
          14.95,
          14.448,
          14.11,
          13.92,
          14.65,
          14.77,
          14.56,
          14.72,
          15.85,
          15.92,
          15.51,
          15.23
         ],
         "xaxis": "x",
         "y": [
          785.9999999999999,
          803.9999999999999,
          810.3,
          858.3,
          871.8,
          844.8,
          826.8,
          816.8,
          806.8,
          811.8,
          831.8,
          844.8,
          872.8000000000001,
          898.8000000000001,
          941.8,
          996.4,
          1025.4,
          1023.4,
          992.4,
          1009.4,
          1018.4,
          1054.4,
          1077.4,
          1056.8,
          1061.3999999999999,
          1095.3999999999999,
          1123.4,
          1193.7,
          1221.7,
          1166.7,
          1081.7,
          1103.7,
          1193.7,
          1216.7,
          1206.6999999999998,
          1197.6999999999998,
          1185.6999999999998,
          1226.7,
          1307.7000000000003,
          1319.6000000000001,
          1246.6000000000001,
          1238.6000000000004,
          1322.6000000000001,
          1354.6000000000001,
          1346.6000000000001,
          1326.6000000000001,
          1298.6000000000001,
          1315.6,
          1356.6000000000001,
          1395.6000000000001,
          1431.6,
          1441.7,
          1426.6999999999998,
          1404.7,
          1435.7,
          1435.7000000000003,
          1368.7,
          1363.7,
          1318.7,
          1248.4999999999998,
          1123.6,
          1030.6,
          1126.6,
          1288.7,
          1288.7,
          1335.7,
          1376.7,
          1325.6999999999998,
          1246.7,
          1250.7,
          1228.7,
          1229.7,
          1226.7,
          1232.7,
          1163.7,
          1252.4,
          1264.4,
          1316.4,
          1324.4,
          1225.4,
          1207.4,
          1250.4,
          1295.4,
          1275.3999999999999,
          1333.3999999999999,
          1362.3999999999999,
          1354.3999999999999,
          1329.7,
          1378.7,
          1353.7,
          1285.7,
          1304.7,
          1371.7,
          1400.7,
          1404.7,
          1458.7,
          1441.7,
          1411.7,
          1375.7,
          1447.8000000000002,
          1496.8000000000002,
          1578.8000000000002,
          1602.6599999999999,
          1602.8000000000002,
          1607.8,
          1707.8,
          1707.8,
          1523.8,
          1400.8,
          1407.8,
          1481.8,
          1613.2,
          1667.2,
          1676.2,
          1581.2,
          1592.2,
          1603.2,
          1621.2,
          1608.2,
          1629.8700000000003,
          1616.2,
          1603.2,
          1584.2,
          1396.2,
          1222.3000000000002,
          1340.3,
          1512.3,
          1517.3,
          1518.3000000000002,
          1486.307,
          1459.3000000000002,
          1446.6000000000001,
          1486.3,
          1567.3,
          1625.3,
          1731.5,
          1722.5,
          1712.5,
          1738.5,
          1829.5,
          1827.8,
          1826.8,
          1947.8,
          2028.8000000000002,
          1960.5,
          2013.5000000000002,
          2159.5
         ],
         "yaxis": "y"
        }
       ],
       "layout": {
        "legend": {
         "tracegroupgap": 0
        },
        "template": {
         "data": {
          "bar": [
           {
            "error_x": {
             "color": "#2a3f5f"
            },
            "error_y": {
             "color": "#2a3f5f"
            },
            "marker": {
             "line": {
              "color": "white",
              "width": 0.5
             },
             "pattern": {
              "fillmode": "overlay",
              "size": 10,
              "solidity": 0.2
             }
            },
            "type": "bar"
           }
          ],
          "barpolar": [
           {
            "marker": {
             "line": {
              "color": "white",
              "width": 0.5
             },
             "pattern": {
              "fillmode": "overlay",
              "size": 10,
              "solidity": 0.2
             }
            },
            "type": "barpolar"
           }
          ],
          "box": [
           {
            "boxpoints": "outliers",
            "notched": false,
            "type": "box"
           }
          ],
          "carpet": [
           {
            "aaxis": {
             "endlinecolor": "#2a3f5f",
             "gridcolor": "#C8D4E3",
             "linecolor": "#C8D4E3",
             "minorgridcolor": "#C8D4E3",
             "startlinecolor": "#2a3f5f"
            },
            "baxis": {
             "endlinecolor": "#2a3f5f",
             "gridcolor": "#C8D4E3",
             "linecolor": "#C8D4E3",
             "minorgridcolor": "#C8D4E3",
             "startlinecolor": "#2a3f5f"
            },
            "type": "carpet"
           }
          ],
          "choropleth": [
           {
            "colorbar": {
             "outlinewidth": 0,
             "ticks": ""
            },
            "type": "choropleth"
           }
          ],
          "contour": [
           {
            "colorbar": {
             "outlinewidth": 0,
             "ticks": ""
            },
            "colorscale": [
             [
              0,
              "#0d0887"
             ],
             [
              0.1111111111111111,
              "#46039f"
             ],
             [
              0.2222222222222222,
              "#7201a8"
             ],
             [
              0.3333333333333333,
              "#9c179e"
             ],
             [
              0.4444444444444444,
              "#bd3786"
             ],
             [
              0.5555555555555556,
              "#d8576b"
             ],
             [
              0.6666666666666666,
              "#ed7953"
             ],
             [
              0.7777777777777778,
              "#fb9f3a"
             ],
             [
              0.8888888888888888,
              "#fdca26"
             ],
             [
              1,
              "#f0f921"
             ]
            ],
            "type": "contour"
           }
          ],
          "contourcarpet": [
           {
            "colorbar": {
             "outlinewidth": 0,
             "ticks": ""
            },
            "type": "contourcarpet"
           }
          ],
          "heatmap": [
           {
            "colorbar": {
             "outlinewidth": 0,
             "ticks": ""
            },
            "colorscale": [
             [
              0,
              "#0d0887"
             ],
             [
              0.1111111111111111,
              "#46039f"
             ],
             [
              0.2222222222222222,
              "#7201a8"
             ],
             [
              0.3333333333333333,
              "#9c179e"
             ],
             [
              0.4444444444444444,
              "#bd3786"
             ],
             [
              0.5555555555555556,
              "#d8576b"
             ],
             [
              0.6666666666666666,
              "#ed7953"
             ],
             [
              0.7777777777777778,
              "#fb9f3a"
             ],
             [
              0.8888888888888888,
              "#fdca26"
             ],
             [
              1,
              "#f0f921"
             ]
            ],
            "type": "heatmap"
           }
          ],
          "heatmapgl": [
           {
            "colorbar": {
             "outlinewidth": 0,
             "ticks": ""
            },
            "colorscale": [
             [
              0,
              "#0d0887"
             ],
             [
              0.1111111111111111,
              "#46039f"
             ],
             [
              0.2222222222222222,
              "#7201a8"
             ],
             [
              0.3333333333333333,
              "#9c179e"
             ],
             [
              0.4444444444444444,
              "#bd3786"
             ],
             [
              0.5555555555555556,
              "#d8576b"
             ],
             [
              0.6666666666666666,
              "#ed7953"
             ],
             [
              0.7777777777777778,
              "#fb9f3a"
             ],
             [
              0.8888888888888888,
              "#fdca26"
             ],
             [
              1,
              "#f0f921"
             ]
            ],
            "type": "heatmapgl"
           }
          ],
          "histogram": [
           {
            "marker": {
             "line": {
              "width": 1
             },
             "pattern": {
              "fillmode": "overlay",
              "size": 10,
              "solidity": 0.2
             }
            },
            "type": "histogram"
           }
          ],
          "histogram2d": [
           {
            "colorbar": {
             "outlinewidth": 0,
             "ticks": ""
            },
            "colorscale": [
             [
              0,
              "#0d0887"
             ],
             [
              0.1111111111111111,
              "#46039f"
             ],
             [
              0.2222222222222222,
              "#7201a8"
             ],
             [
              0.3333333333333333,
              "#9c179e"
             ],
             [
              0.4444444444444444,
              "#bd3786"
             ],
             [
              0.5555555555555556,
              "#d8576b"
             ],
             [
              0.6666666666666666,
              "#ed7953"
             ],
             [
              0.7777777777777778,
              "#fb9f3a"
             ],
             [
              0.8888888888888888,
              "#fdca26"
             ],
             [
              1,
              "#f0f921"
             ]
            ],
            "type": "histogram2d"
           }
          ],
          "histogram2dcontour": [
           {
            "colorbar": {
             "outlinewidth": 0,
             "ticks": ""
            },
            "colorscale": [
             [
              0,
              "#0d0887"
             ],
             [
              0.1111111111111111,
              "#46039f"
             ],
             [
              0.2222222222222222,
              "#7201a8"
             ],
             [
              0.3333333333333333,
              "#9c179e"
             ],
             [
              0.4444444444444444,
              "#bd3786"
             ],
             [
              0.5555555555555556,
              "#d8576b"
             ],
             [
              0.6666666666666666,
              "#ed7953"
             ],
             [
              0.7777777777777778,
              "#fb9f3a"
             ],
             [
              0.8888888888888888,
              "#fdca26"
             ],
             [
              1,
              "#f0f921"
             ]
            ],
            "type": "histogram2dcontour"
           }
          ],
          "mesh3d": [
           {
            "colorbar": {
             "outlinewidth": 0,
             "ticks": ""
            },
            "type": "mesh3d"
           }
          ],
          "parcoords": [
           {
            "line": {
             "colorbar": {
              "outlinewidth": 0,
              "ticks": ""
             }
            },
            "type": "parcoords"
           }
          ],
          "pie": [
           {
            "automargin": true,
            "type": "pie"
           }
          ],
          "scatter": [
           {
            "marker": {
             "colorbar": {
              "outlinewidth": 0,
              "ticks": ""
             },
             "opacity": 0.8
            },
            "type": "scatter"
           }
          ],
          "scatter3d": [
           {
            "line": {
             "colorbar": {
              "outlinewidth": 0,
              "ticks": ""
             }
            },
            "marker": {
             "colorbar": {
              "outlinewidth": 0,
              "ticks": ""
             },
             "opacity": 0.8
            },
            "type": "scatter3d"
           }
          ],
          "scattercarpet": [
           {
            "marker": {
             "colorbar": {
              "outlinewidth": 0,
              "ticks": ""
             }
            },
            "type": "scattercarpet"
           }
          ],
          "scattergeo": [
           {
            "marker": {
             "colorbar": {
              "outlinewidth": 0,
              "ticks": ""
             }
            },
            "type": "scattergeo"
           }
          ],
          "scattergl": [
           {
            "marker": {
             "colorbar": {
              "outlinewidth": 0,
              "ticks": ""
             }
            },
            "type": "scattergl"
           }
          ],
          "scattermapbox": [
           {
            "marker": {
             "colorbar": {
              "outlinewidth": 0,
              "ticks": ""
             }
            },
            "type": "scattermapbox"
           }
          ],
          "scatterpolar": [
           {
            "marker": {
             "colorbar": {
              "outlinewidth": 0,
              "ticks": ""
             }
            },
            "type": "scatterpolar"
           }
          ],
          "scatterpolargl": [
           {
            "marker": {
             "colorbar": {
              "outlinewidth": 0,
              "ticks": ""
             }
            },
            "type": "scatterpolargl"
           }
          ],
          "scatterternary": [
           {
            "marker": {
             "colorbar": {
              "outlinewidth": 0,
              "ticks": ""
             }
            },
            "type": "scatterternary"
           }
          ],
          "surface": [
           {
            "colorbar": {
             "outlinewidth": 0,
             "ticks": ""
            },
            "colorscale": [
             [
              0,
              "#0d0887"
             ],
             [
              0.1111111111111111,
              "#46039f"
             ],
             [
              0.2222222222222222,
              "#7201a8"
             ],
             [
              0.3333333333333333,
              "#9c179e"
             ],
             [
              0.4444444444444444,
              "#bd3786"
             ],
             [
              0.5555555555555556,
              "#d8576b"
             ],
             [
              0.6666666666666666,
              "#ed7953"
             ],
             [
              0.7777777777777778,
              "#fb9f3a"
             ],
             [
              0.8888888888888888,
              "#fdca26"
             ],
             [
              1,
              "#f0f921"
             ]
            ],
            "type": "surface"
           }
          ],
          "table": [
           {
            "cells": {
             "fill": {
              "color": "#EBF0F8"
             },
             "line": {
              "color": "white"
             }
            },
            "header": {
             "fill": {
              "color": "#C8D4E3"
             },
             "line": {
              "color": "white"
             }
            },
            "type": "table"
           }
          ]
         },
         "layout": {
          "annotationdefaults": {
           "arrowcolor": "#2a3f5f",
           "arrowhead": 0,
           "arrowwidth": 1
          },
          "autotypenumbers": "strict",
          "coloraxis": {
           "colorbar": {
            "outlinewidth": 0,
            "ticks": ""
           }
          },
          "colorscale": {
           "diverging": [
            [
             0,
             "#8e0152"
            ],
            [
             0.1,
             "#c51b7d"
            ],
            [
             0.2,
             "#de77ae"
            ],
            [
             0.3,
             "#f1b6da"
            ],
            [
             0.4,
             "#fde0ef"
            ],
            [
             0.5,
             "#f7f7f7"
            ],
            [
             0.6,
             "#e6f5d0"
            ],
            [
             0.7,
             "#b8e186"
            ],
            [
             0.8,
             "#7fbc41"
            ],
            [
             0.9,
             "#4d9221"
            ],
            [
             1,
             "#276419"
            ]
           ],
           "sequential": [
            [
             0,
             "#0d0887"
            ],
            [
             0.1111111111111111,
             "#46039f"
            ],
            [
             0.2222222222222222,
             "#7201a8"
            ],
            [
             0.3333333333333333,
             "#9c179e"
            ],
            [
             0.4444444444444444,
             "#bd3786"
            ],
            [
             0.5555555555555556,
             "#d8576b"
            ],
            [
             0.6666666666666666,
             "#ed7953"
            ],
            [
             0.7777777777777778,
             "#fb9f3a"
            ],
            [
             0.8888888888888888,
             "#fdca26"
            ],
            [
             1,
             "#f0f921"
            ]
           ],
           "sequentialminus": [
            [
             0,
             "#0d0887"
            ],
            [
             0.1111111111111111,
             "#46039f"
            ],
            [
             0.2222222222222222,
             "#7201a8"
            ],
            [
             0.3333333333333333,
             "#9c179e"
            ],
            [
             0.4444444444444444,
             "#bd3786"
            ],
            [
             0.5555555555555556,
             "#d8576b"
            ],
            [
             0.6666666666666666,
             "#ed7953"
            ],
            [
             0.7777777777777778,
             "#fb9f3a"
            ],
            [
             0.8888888888888888,
             "#fdca26"
            ],
            [
             1,
             "#f0f921"
            ]
           ]
          },
          "colorway": [
           "#636efa",
           "#EF553B",
           "#00cc96",
           "#ab63fa",
           "#FFA15A",
           "#19d3f3",
           "#FF6692",
           "#B6E880",
           "#FF97FF",
           "#FECB52"
          ],
          "font": {
           "color": "#2a3f5f"
          },
          "geo": {
           "bgcolor": "white",
           "lakecolor": "white",
           "landcolor": "white",
           "showlakes": true,
           "showland": true,
           "subunitcolor": "#C8D4E3"
          },
          "height": 400,
          "hoverlabel": {
           "align": "left"
          },
          "hovermode": "closest",
          "mapbox": {
           "style": "light"
          },
          "margin": {
           "b": 2,
           "l": 2,
           "r": 2,
           "t": 30
          },
          "paper_bgcolor": "white",
          "plot_bgcolor": "white",
          "polar": {
           "angularaxis": {
            "gridcolor": "#EBF0F8",
            "linecolor": "#EBF0F8",
            "ticks": ""
           },
           "bgcolor": "white",
           "radialaxis": {
            "gridcolor": "#EBF0F8",
            "linecolor": "#EBF0F8",
            "ticks": ""
           }
          },
          "scene": {
           "camera": {
            "eye": {
             "x": 1.5,
             "y": 1.5,
             "z": 0.1
            }
           },
           "xaxis": {
            "backgroundcolor": "white",
            "gridcolor": "#DFE8F3",
            "gridwidth": 2,
            "linecolor": "#EBF0F8",
            "showbackground": true,
            "ticks": "",
            "zerolinecolor": "#EBF0F8"
           },
           "yaxis": {
            "backgroundcolor": "white",
            "gridcolor": "#DFE8F3",
            "gridwidth": 2,
            "linecolor": "#EBF0F8",
            "showbackground": true,
            "ticks": "",
            "zerolinecolor": "#EBF0F8"
           },
           "zaxis": {
            "backgroundcolor": "white",
            "gridcolor": "#DFE8F3",
            "gridwidth": 2,
            "linecolor": "#EBF0F8",
            "showbackground": true,
            "ticks": "",
            "zerolinecolor": "#EBF0F8"
           }
          },
          "shapedefaults": {
           "line": {
            "color": "#2a3f5f"
           }
          },
          "ternary": {
           "aaxis": {
            "gridcolor": "#DFE8F3",
            "linecolor": "#A2B1C6",
            "ticks": ""
           },
           "baxis": {
            "gridcolor": "#DFE8F3",
            "linecolor": "#A2B1C6",
            "ticks": ""
           },
           "bgcolor": "white",
           "caxis": {
            "gridcolor": "#DFE8F3",
            "linecolor": "#A2B1C6",
            "ticks": ""
           }
          },
          "title": {
           "x": 0.5
          },
          "xaxis": {
           "automargin": true,
           "gridcolor": "#EBF0F8",
           "linecolor": "#EBF0F8",
           "linewidth": 2,
           "showline": true,
           "ticks": "",
           "title": {
            "standoff": 15
           },
           "zerolinecolor": "#EBF0F8",
           "zerolinewidth": 2
          },
          "yaxis": {
           "automargin": true,
           "gridcolor": "#EBF0F8",
           "linecolor": "#EBF0F8",
           "linewidth": 2,
           "showline": true,
           "ticks": "",
           "title": {
            "standoff": 15
           },
           "zerolinecolor": "#EBF0F8",
           "zerolinewidth": 2
          }
         }
        },
        "title": {
         "text": "Exchange Rate vs Petrol"
        },
        "xaxis": {
         "anchor": "y",
         "domain": [
          0,
          1
         ],
         "title": {
          "text": "Ex_Rate"
         }
        },
        "yaxis": {
         "anchor": "x",
         "domain": [
          0,
          1
         ],
         "title": {
          "text": "Petrol"
         }
        }
       }
      }
     },
     "metadata": {},
     "output_type": "display_data"
    }
   ],
   "source": [
    "import plotly.express as px\n",
    "\n",
    "fig = px.scatter(dataset, x =\"Avg_Brent_Crude\",y= \"Petrol\", title='Crude Oil vs Petrol')\n",
    "fig1 = px.scatter(dataset, x =\"Ex_Rate\", y= \"Petrol\", title='Exchange Rate vs Petrol')\n",
    "\n",
    "fig.show()\n",
    "fig1.show()"
   ]
  },
  {
   "cell_type": "code",
   "execution_count": 3,
   "metadata": {},
   "outputs": [
    {
     "data": {
      "application/vnd.plotly.v1+json": {
       "config": {
        "plotlyServerURL": "https://plot.ly"
       },
       "data": [
        {
         "hovertemplate": "Avg_Brent_Crude=%{x}<br>Petrol=%{y}<extra></extra>",
         "legendgroup": "",
         "marker": {
          "color": "#636efa",
          "symbol": "circle"
         },
         "mode": "markers",
         "name": "",
         "orientation": "v",
         "showlegend": false,
         "type": "scatter",
         "x": [
          74.31,
          76.84,
          73.17,
          78.89,
          85.75,
          76.3,
          74.61,
          78.68,
          77.39,
          77.37,
          82.73,
          85.15,
          90.77,
          95.97,
          102.37,
          114.41,
          123.49,
          116.15,
          114.19,
          116.88,
          110.67,
          113.61,
          109.28,
          110.51,
          107.96,
          110.42,
          126.39,
          125.42,
          120.18,
          110.27,
          95.22,
          102.04,
          113.51,
          112.96,
          109.05,
          109.04,
          109.13,
          112.88,
          116.28,
          108.44,
          102.16,
          102.62,
          102.84,
          108.05,
          111.07,
          112.23,
          109.12,
          107.82,
          110.73,
          108.35,
          108.87,
          107.67,
          108.31,
          109.69,
          111.62,
          106.64,
          101.57,
          97.73,
          87.54,
          79.75,
          54.98,
          48.2,
          57.93,
          56.11,
          59.01,
          64.36,
          61.94,
          56.72,
          46.56,
          47.79,
          48.58,
          44.33,
          38.22,
          30.83,
          32.11,
          38.49,
          41.28,
          46.56,
          48.34,
          45.28,
          45.94,
          46.6,
          49.86,
          52.48,
          53.45,
          54.61,
          54.99,
          51.52,
          53.21,
          50.06,
          46.48,
          48.23,
          51.66,
          55.99,
          56.86,
          62.62,
          64.08,
          69.06,
          64.06,
          65.71,
          70.88,
          76.8,
          74.15,
          74.27,
          72.51,
          78.25,
          81.15,
          65.79,
          57.08,
          59.06,
          64.03,
          66.03,
          71.15,
          71.29,
          63.87,
          64.04,
          58.97,
          62.88,
          59.72,
          63.02,
          67.01,
          64.5,
          55.7,
          33.88,
          18.99,
          28.71,
          39.87,
          43.42,
          44.82,
          38.915,
          40.413,
          41.692,
          49.2,
          53.1,
          60,
          65.14,
          64.16,
          66,
          73,
          74,
          72.5,
          75.5,
          83.4,
          83.5,
          76,
          87,
          96.47
         ],
         "xaxis": "x",
         "y": [
          785.9999999999999,
          803.9999999999999,
          810.3,
          858.3,
          871.8,
          844.8,
          826.8,
          816.8,
          806.8,
          811.8,
          831.8,
          844.8,
          872.8000000000001,
          898.8000000000001,
          941.8,
          996.4,
          1025.4,
          1023.4,
          992.4,
          1009.4,
          1018.4,
          1054.4,
          1077.4,
          1056.8,
          1061.3999999999999,
          1095.3999999999999,
          1123.4,
          1193.7,
          1221.7,
          1166.7,
          1081.7,
          1103.7,
          1193.7,
          1216.7,
          1206.6999999999998,
          1197.6999999999998,
          1185.6999999999998,
          1226.7,
          1307.7000000000003,
          1319.6000000000001,
          1246.6000000000001,
          1238.6000000000004,
          1322.6000000000001,
          1354.6000000000001,
          1346.6000000000001,
          1326.6000000000001,
          1298.6000000000001,
          1315.6,
          1356.6000000000001,
          1395.6000000000001,
          1431.6,
          1441.7,
          1426.6999999999998,
          1404.7,
          1435.7,
          1435.7000000000003,
          1368.7,
          1363.7,
          1318.7,
          1248.4999999999998,
          1123.6,
          1030.6,
          1126.6,
          1288.7,
          1288.7,
          1335.7,
          1376.7,
          1325.6999999999998,
          1246.7,
          1250.7,
          1228.7,
          1229.7,
          1226.7,
          1232.7,
          1163.7,
          1252.4,
          1264.4,
          1316.4,
          1324.4,
          1225.4,
          1207.4,
          1250.4,
          1295.4,
          1275.3999999999999,
          1333.3999999999999,
          1362.3999999999999,
          1354.3999999999999,
          1329.7,
          1378.7,
          1353.7,
          1285.7,
          1304.7,
          1371.7,
          1400.7,
          1404.7,
          1458.7,
          1441.7,
          1411.7,
          1375.7,
          1447.8000000000002,
          1496.8000000000002,
          1578.8000000000002,
          1602.6599999999999,
          1602.8000000000002,
          1607.8,
          1707.8,
          1707.8,
          1523.8,
          1400.8,
          1407.8,
          1481.8,
          1613.2,
          1667.2,
          1676.2,
          1581.2,
          1592.2,
          1603.2,
          1621.2,
          1608.2,
          1629.8700000000003,
          1616.2,
          1603.2,
          1584.2,
          1396.2,
          1222.3000000000002,
          1340.3,
          1512.3,
          1517.3,
          1518.3000000000002,
          1486.307,
          1459.3000000000002,
          1446.6000000000001,
          1486.3,
          1567.3,
          1625.3,
          1731.5,
          1722.5,
          1712.5,
          1738.5,
          1829.5,
          1827.8,
          1826.8,
          1947.8,
          2028.8000000000002,
          1960.5,
          2013.5000000000002,
          2159.5
         ],
         "yaxis": "y"
        },
        {
         "hovertemplate": "<b>OLS trendline</b><br>Petrol = -2.28877 * Avg_Brent_Crude + 1509.51<br>R<sup>2</sup>=0.047450<br><br>Avg_Brent_Crude=%{x}<br>Petrol=%{y} <b>(trend)</b><extra></extra>",
         "legendgroup": "",
         "line": {
          "color": "red"
         },
         "marker": {
          "color": "#636efa",
          "symbol": "circle"
         },
         "mode": "lines",
         "name": "",
         "showlegend": false,
         "type": "scatter",
         "x": [
          18.99,
          28.71,
          30.83,
          32.11,
          33.88,
          38.22,
          38.49,
          38.915,
          39.87,
          40.413,
          41.28,
          41.692,
          43.42,
          44.33,
          44.82,
          45.28,
          45.94,
          46.48,
          46.56,
          46.56,
          46.6,
          47.79,
          48.2,
          48.23,
          48.34,
          48.58,
          49.2,
          49.86,
          50.06,
          51.52,
          51.66,
          52.48,
          53.1,
          53.21,
          53.45,
          54.61,
          54.98,
          54.99,
          55.7,
          55.99,
          56.11,
          56.72,
          56.86,
          57.08,
          57.93,
          58.97,
          59.01,
          59.06,
          59.72,
          60,
          61.94,
          62.62,
          62.88,
          63.02,
          63.87,
          64.03,
          64.04,
          64.06,
          64.08,
          64.16,
          64.36,
          64.5,
          65.14,
          65.71,
          65.79,
          66,
          66.03,
          67.01,
          69.06,
          70.88,
          71.15,
          71.29,
          72.5,
          72.51,
          73,
          73.17,
          74,
          74.15,
          74.27,
          74.31,
          74.61,
          75.5,
          76,
          76.3,
          76.8,
          76.84,
          77.37,
          77.39,
          78.25,
          78.68,
          78.89,
          79.75,
          81.15,
          82.73,
          83.4,
          83.5,
          85.15,
          85.75,
          87,
          87.54,
          90.77,
          95.22,
          95.97,
          96.47,
          97.73,
          101.57,
          102.04,
          102.16,
          102.37,
          102.62,
          102.84,
          106.64,
          107.67,
          107.82,
          107.96,
          108.05,
          108.31,
          108.35,
          108.44,
          108.87,
          109.04,
          109.05,
          109.12,
          109.13,
          109.28,
          109.69,
          110.27,
          110.42,
          110.51,
          110.67,
          110.73,
          111.07,
          111.62,
          112.23,
          112.88,
          112.96,
          113.51,
          113.61,
          114.19,
          114.41,
          116.15,
          116.28,
          116.88,
          120.18,
          123.49,
          125.42,
          126.39
         ],
         "xaxis": "x",
         "y": [
          1466.045452608015,
          1443.7986230440652,
          1438.9464338799114,
          1436.01681023363,
          1431.9656900352563,
          1422.0324348595834,
          1421.414467371696,
          1420.4417407703916,
          1418.2559668780486,
          1417.0131655968528,
          1415.0288033301917,
          1414.085830719045,
          1410.130838796565,
          1408.0480594855367,
          1406.9265629334445,
          1405.8737294355622,
          1404.3631422429485,
          1403.1272072671734,
          1402.9441057892807,
          1402.9441057892807,
          1402.8525550503346,
          1400.1289205666822,
          1399.1905254924827,
          1399.121862438273,
          1398.8700979061707,
          1398.3207934724928,
          1396.9017570188253,
          1395.3911698262114,
          1394.9334161314798,
          1391.5918141599402,
          1391.2713865736282,
          1389.394596425229,
          1387.9755599715616,
          1387.723795439459,
          1387.1744910057814,
          1384.5195195763388,
          1383.6726752410855,
          1383.6497875563489,
          1382.0247619400523,
          1381.3610190826917,
          1381.0863668658526,
          1379.6902180969216,
          1379.3697905106096,
          1378.8662614464051,
          1376.9208082437963,
          1374.5404890311927,
          1374.4489382922463,
          1374.3344998685634,
          1372.8239126759495,
          1372.1830575033255,
          1367.74284666443,
          1366.1864841023432,
          1365.5914042991922,
          1365.2709767128802,
          1363.3255235102715,
          1362.959320554486,
          1362.9364328697498,
          1362.8906575002766,
          1362.8448821308034,
          1362.6617806529107,
          1362.2040269581794,
          1361.8835993718671,
          1360.4187875487264,
          1359.1141895187418,
          1358.9310880408493,
          1358.4504466613812,
          1358.3817836071714,
          1356.1387905029871,
          1351.4468151319895,
          1347.2812565099332,
          1346.6632890220455,
          1346.3428614357335,
          1343.5734515826082,
          1343.5505638978716,
          1342.4290673457795,
          1342.0399767052577,
          1340.140298872122,
          1339.7969836010734,
          1339.5223313842346,
          1339.4307806452882,
          1338.744150103191,
          1336.707146161636,
          1335.5627619248073,
          1334.8761313827101,
          1333.7317471458814,
          1333.640196406935,
          1332.4271491158966,
          1332.3813737464236,
          1330.4130328590782,
          1329.4288624154055,
          1328.9482210359374,
          1326.9798801485922,
          1323.7756042854717,
          1320.159350097093,
          1318.6258752197425,
          1318.3969983723769,
          1314.6205303908423,
          1313.2472693066477,
          1310.386308714576,
          1309.1503737388011,
          1301.7576515688877,
          1291.5726318611123,
          1289.8560555058693,
          1288.7116712690406,
          1285.8278229922323,
          1277.038952053388,
          1275.963230870769,
          1275.68857865393,
          1275.207937274462,
          1274.6357451560475,
          1274.132216091843,
          1265.434895891945,
          1263.0774643640777,
          1262.7341490930291,
          1262.4137215067171,
          1262.207732344088,
          1261.612652540937,
          1261.5211018019909,
          1261.3151126393616,
          1260.330942195689,
          1259.9418515551672,
          1259.9189638704306,
          1259.7587500772747,
          1259.7358623925381,
          1259.3925471214893,
          1258.4541520472899,
          1257.1266663325687,
          1256.78335106152,
          1256.5773618988908,
          1256.2111589431056,
          1256.0738328346863,
          1255.2956515536428,
          1254.036828893131,
          1252.6406801242001,
          1251.1529806163228,
          1250.9698791384303,
          1249.7110564779186,
          1249.482179630553,
          1248.1546939158316,
          1247.651164851627,
          1243.6687077074632,
          1243.3711678058878,
          1241.9979067216932,
          1234.4449707586239,
          1226.869147110818,
          1222.4518239566592,
          1220.2317185372115
         ],
         "yaxis": "y"
        }
       ],
       "layout": {
        "legend": {
         "tracegroupgap": 0
        },
        "template": {
         "data": {
          "bar": [
           {
            "error_x": {
             "color": "#2a3f5f"
            },
            "error_y": {
             "color": "#2a3f5f"
            },
            "marker": {
             "line": {
              "color": "white",
              "width": 0.5
             },
             "pattern": {
              "fillmode": "overlay",
              "size": 10,
              "solidity": 0.2
             }
            },
            "type": "bar"
           }
          ],
          "barpolar": [
           {
            "marker": {
             "line": {
              "color": "white",
              "width": 0.5
             },
             "pattern": {
              "fillmode": "overlay",
              "size": 10,
              "solidity": 0.2
             }
            },
            "type": "barpolar"
           }
          ],
          "box": [
           {
            "boxpoints": "outliers",
            "notched": false,
            "type": "box"
           }
          ],
          "carpet": [
           {
            "aaxis": {
             "endlinecolor": "#2a3f5f",
             "gridcolor": "#C8D4E3",
             "linecolor": "#C8D4E3",
             "minorgridcolor": "#C8D4E3",
             "startlinecolor": "#2a3f5f"
            },
            "baxis": {
             "endlinecolor": "#2a3f5f",
             "gridcolor": "#C8D4E3",
             "linecolor": "#C8D4E3",
             "minorgridcolor": "#C8D4E3",
             "startlinecolor": "#2a3f5f"
            },
            "type": "carpet"
           }
          ],
          "choropleth": [
           {
            "colorbar": {
             "outlinewidth": 0,
             "ticks": ""
            },
            "type": "choropleth"
           }
          ],
          "contour": [
           {
            "colorbar": {
             "outlinewidth": 0,
             "ticks": ""
            },
            "colorscale": [
             [
              0,
              "#0d0887"
             ],
             [
              0.1111111111111111,
              "#46039f"
             ],
             [
              0.2222222222222222,
              "#7201a8"
             ],
             [
              0.3333333333333333,
              "#9c179e"
             ],
             [
              0.4444444444444444,
              "#bd3786"
             ],
             [
              0.5555555555555556,
              "#d8576b"
             ],
             [
              0.6666666666666666,
              "#ed7953"
             ],
             [
              0.7777777777777778,
              "#fb9f3a"
             ],
             [
              0.8888888888888888,
              "#fdca26"
             ],
             [
              1,
              "#f0f921"
             ]
            ],
            "type": "contour"
           }
          ],
          "contourcarpet": [
           {
            "colorbar": {
             "outlinewidth": 0,
             "ticks": ""
            },
            "type": "contourcarpet"
           }
          ],
          "heatmap": [
           {
            "colorbar": {
             "outlinewidth": 0,
             "ticks": ""
            },
            "colorscale": [
             [
              0,
              "#0d0887"
             ],
             [
              0.1111111111111111,
              "#46039f"
             ],
             [
              0.2222222222222222,
              "#7201a8"
             ],
             [
              0.3333333333333333,
              "#9c179e"
             ],
             [
              0.4444444444444444,
              "#bd3786"
             ],
             [
              0.5555555555555556,
              "#d8576b"
             ],
             [
              0.6666666666666666,
              "#ed7953"
             ],
             [
              0.7777777777777778,
              "#fb9f3a"
             ],
             [
              0.8888888888888888,
              "#fdca26"
             ],
             [
              1,
              "#f0f921"
             ]
            ],
            "type": "heatmap"
           }
          ],
          "heatmapgl": [
           {
            "colorbar": {
             "outlinewidth": 0,
             "ticks": ""
            },
            "colorscale": [
             [
              0,
              "#0d0887"
             ],
             [
              0.1111111111111111,
              "#46039f"
             ],
             [
              0.2222222222222222,
              "#7201a8"
             ],
             [
              0.3333333333333333,
              "#9c179e"
             ],
             [
              0.4444444444444444,
              "#bd3786"
             ],
             [
              0.5555555555555556,
              "#d8576b"
             ],
             [
              0.6666666666666666,
              "#ed7953"
             ],
             [
              0.7777777777777778,
              "#fb9f3a"
             ],
             [
              0.8888888888888888,
              "#fdca26"
             ],
             [
              1,
              "#f0f921"
             ]
            ],
            "type": "heatmapgl"
           }
          ],
          "histogram": [
           {
            "marker": {
             "line": {
              "width": 1
             },
             "pattern": {
              "fillmode": "overlay",
              "size": 10,
              "solidity": 0.2
             }
            },
            "type": "histogram"
           }
          ],
          "histogram2d": [
           {
            "colorbar": {
             "outlinewidth": 0,
             "ticks": ""
            },
            "colorscale": [
             [
              0,
              "#0d0887"
             ],
             [
              0.1111111111111111,
              "#46039f"
             ],
             [
              0.2222222222222222,
              "#7201a8"
             ],
             [
              0.3333333333333333,
              "#9c179e"
             ],
             [
              0.4444444444444444,
              "#bd3786"
             ],
             [
              0.5555555555555556,
              "#d8576b"
             ],
             [
              0.6666666666666666,
              "#ed7953"
             ],
             [
              0.7777777777777778,
              "#fb9f3a"
             ],
             [
              0.8888888888888888,
              "#fdca26"
             ],
             [
              1,
              "#f0f921"
             ]
            ],
            "type": "histogram2d"
           }
          ],
          "histogram2dcontour": [
           {
            "colorbar": {
             "outlinewidth": 0,
             "ticks": ""
            },
            "colorscale": [
             [
              0,
              "#0d0887"
             ],
             [
              0.1111111111111111,
              "#46039f"
             ],
             [
              0.2222222222222222,
              "#7201a8"
             ],
             [
              0.3333333333333333,
              "#9c179e"
             ],
             [
              0.4444444444444444,
              "#bd3786"
             ],
             [
              0.5555555555555556,
              "#d8576b"
             ],
             [
              0.6666666666666666,
              "#ed7953"
             ],
             [
              0.7777777777777778,
              "#fb9f3a"
             ],
             [
              0.8888888888888888,
              "#fdca26"
             ],
             [
              1,
              "#f0f921"
             ]
            ],
            "type": "histogram2dcontour"
           }
          ],
          "mesh3d": [
           {
            "colorbar": {
             "outlinewidth": 0,
             "ticks": ""
            },
            "type": "mesh3d"
           }
          ],
          "parcoords": [
           {
            "line": {
             "colorbar": {
              "outlinewidth": 0,
              "ticks": ""
             }
            },
            "type": "parcoords"
           }
          ],
          "pie": [
           {
            "automargin": true,
            "type": "pie"
           }
          ],
          "scatter": [
           {
            "marker": {
             "colorbar": {
              "outlinewidth": 0,
              "ticks": ""
             },
             "opacity": 0.8
            },
            "type": "scatter"
           }
          ],
          "scatter3d": [
           {
            "line": {
             "colorbar": {
              "outlinewidth": 0,
              "ticks": ""
             }
            },
            "marker": {
             "colorbar": {
              "outlinewidth": 0,
              "ticks": ""
             },
             "opacity": 0.8
            },
            "type": "scatter3d"
           }
          ],
          "scattercarpet": [
           {
            "marker": {
             "colorbar": {
              "outlinewidth": 0,
              "ticks": ""
             }
            },
            "type": "scattercarpet"
           }
          ],
          "scattergeo": [
           {
            "marker": {
             "colorbar": {
              "outlinewidth": 0,
              "ticks": ""
             }
            },
            "type": "scattergeo"
           }
          ],
          "scattergl": [
           {
            "marker": {
             "colorbar": {
              "outlinewidth": 0,
              "ticks": ""
             }
            },
            "type": "scattergl"
           }
          ],
          "scattermapbox": [
           {
            "marker": {
             "colorbar": {
              "outlinewidth": 0,
              "ticks": ""
             }
            },
            "type": "scattermapbox"
           }
          ],
          "scatterpolar": [
           {
            "marker": {
             "colorbar": {
              "outlinewidth": 0,
              "ticks": ""
             }
            },
            "type": "scatterpolar"
           }
          ],
          "scatterpolargl": [
           {
            "marker": {
             "colorbar": {
              "outlinewidth": 0,
              "ticks": ""
             }
            },
            "type": "scatterpolargl"
           }
          ],
          "scatterternary": [
           {
            "marker": {
             "colorbar": {
              "outlinewidth": 0,
              "ticks": ""
             }
            },
            "type": "scatterternary"
           }
          ],
          "surface": [
           {
            "colorbar": {
             "outlinewidth": 0,
             "ticks": ""
            },
            "colorscale": [
             [
              0,
              "#0d0887"
             ],
             [
              0.1111111111111111,
              "#46039f"
             ],
             [
              0.2222222222222222,
              "#7201a8"
             ],
             [
              0.3333333333333333,
              "#9c179e"
             ],
             [
              0.4444444444444444,
              "#bd3786"
             ],
             [
              0.5555555555555556,
              "#d8576b"
             ],
             [
              0.6666666666666666,
              "#ed7953"
             ],
             [
              0.7777777777777778,
              "#fb9f3a"
             ],
             [
              0.8888888888888888,
              "#fdca26"
             ],
             [
              1,
              "#f0f921"
             ]
            ],
            "type": "surface"
           }
          ],
          "table": [
           {
            "cells": {
             "fill": {
              "color": "#EBF0F8"
             },
             "line": {
              "color": "white"
             }
            },
            "header": {
             "fill": {
              "color": "#C8D4E3"
             },
             "line": {
              "color": "white"
             }
            },
            "type": "table"
           }
          ]
         },
         "layout": {
          "annotationdefaults": {
           "arrowcolor": "#2a3f5f",
           "arrowhead": 0,
           "arrowwidth": 1
          },
          "autotypenumbers": "strict",
          "coloraxis": {
           "colorbar": {
            "outlinewidth": 0,
            "ticks": ""
           }
          },
          "colorscale": {
           "diverging": [
            [
             0,
             "#8e0152"
            ],
            [
             0.1,
             "#c51b7d"
            ],
            [
             0.2,
             "#de77ae"
            ],
            [
             0.3,
             "#f1b6da"
            ],
            [
             0.4,
             "#fde0ef"
            ],
            [
             0.5,
             "#f7f7f7"
            ],
            [
             0.6,
             "#e6f5d0"
            ],
            [
             0.7,
             "#b8e186"
            ],
            [
             0.8,
             "#7fbc41"
            ],
            [
             0.9,
             "#4d9221"
            ],
            [
             1,
             "#276419"
            ]
           ],
           "sequential": [
            [
             0,
             "#0d0887"
            ],
            [
             0.1111111111111111,
             "#46039f"
            ],
            [
             0.2222222222222222,
             "#7201a8"
            ],
            [
             0.3333333333333333,
             "#9c179e"
            ],
            [
             0.4444444444444444,
             "#bd3786"
            ],
            [
             0.5555555555555556,
             "#d8576b"
            ],
            [
             0.6666666666666666,
             "#ed7953"
            ],
            [
             0.7777777777777778,
             "#fb9f3a"
            ],
            [
             0.8888888888888888,
             "#fdca26"
            ],
            [
             1,
             "#f0f921"
            ]
           ],
           "sequentialminus": [
            [
             0,
             "#0d0887"
            ],
            [
             0.1111111111111111,
             "#46039f"
            ],
            [
             0.2222222222222222,
             "#7201a8"
            ],
            [
             0.3333333333333333,
             "#9c179e"
            ],
            [
             0.4444444444444444,
             "#bd3786"
            ],
            [
             0.5555555555555556,
             "#d8576b"
            ],
            [
             0.6666666666666666,
             "#ed7953"
            ],
            [
             0.7777777777777778,
             "#fb9f3a"
            ],
            [
             0.8888888888888888,
             "#fdca26"
            ],
            [
             1,
             "#f0f921"
            ]
           ]
          },
          "colorway": [
           "#636efa",
           "#EF553B",
           "#00cc96",
           "#ab63fa",
           "#FFA15A",
           "#19d3f3",
           "#FF6692",
           "#B6E880",
           "#FF97FF",
           "#FECB52"
          ],
          "font": {
           "color": "#2a3f5f"
          },
          "geo": {
           "bgcolor": "white",
           "lakecolor": "white",
           "landcolor": "white",
           "showlakes": true,
           "showland": true,
           "subunitcolor": "#C8D4E3"
          },
          "height": 400,
          "hoverlabel": {
           "align": "left"
          },
          "hovermode": "closest",
          "mapbox": {
           "style": "light"
          },
          "margin": {
           "b": 2,
           "l": 2,
           "r": 2,
           "t": 30
          },
          "paper_bgcolor": "white",
          "plot_bgcolor": "white",
          "polar": {
           "angularaxis": {
            "gridcolor": "#EBF0F8",
            "linecolor": "#EBF0F8",
            "ticks": ""
           },
           "bgcolor": "white",
           "radialaxis": {
            "gridcolor": "#EBF0F8",
            "linecolor": "#EBF0F8",
            "ticks": ""
           }
          },
          "scene": {
           "camera": {
            "eye": {
             "x": 1.5,
             "y": 1.5,
             "z": 0.1
            }
           },
           "xaxis": {
            "backgroundcolor": "white",
            "gridcolor": "#DFE8F3",
            "gridwidth": 2,
            "linecolor": "#EBF0F8",
            "showbackground": true,
            "ticks": "",
            "zerolinecolor": "#EBF0F8"
           },
           "yaxis": {
            "backgroundcolor": "white",
            "gridcolor": "#DFE8F3",
            "gridwidth": 2,
            "linecolor": "#EBF0F8",
            "showbackground": true,
            "ticks": "",
            "zerolinecolor": "#EBF0F8"
           },
           "zaxis": {
            "backgroundcolor": "white",
            "gridcolor": "#DFE8F3",
            "gridwidth": 2,
            "linecolor": "#EBF0F8",
            "showbackground": true,
            "ticks": "",
            "zerolinecolor": "#EBF0F8"
           }
          },
          "shapedefaults": {
           "line": {
            "color": "#2a3f5f"
           }
          },
          "ternary": {
           "aaxis": {
            "gridcolor": "#DFE8F3",
            "linecolor": "#A2B1C6",
            "ticks": ""
           },
           "baxis": {
            "gridcolor": "#DFE8F3",
            "linecolor": "#A2B1C6",
            "ticks": ""
           },
           "bgcolor": "white",
           "caxis": {
            "gridcolor": "#DFE8F3",
            "linecolor": "#A2B1C6",
            "ticks": ""
           }
          },
          "title": {
           "x": 0.5
          },
          "xaxis": {
           "automargin": true,
           "gridcolor": "#EBF0F8",
           "linecolor": "#EBF0F8",
           "linewidth": 2,
           "showline": true,
           "ticks": "",
           "title": {
            "standoff": 15
           },
           "zerolinecolor": "#EBF0F8",
           "zerolinewidth": 2
          },
          "yaxis": {
           "automargin": true,
           "gridcolor": "#EBF0F8",
           "linecolor": "#EBF0F8",
           "linewidth": 2,
           "showline": true,
           "ticks": "",
           "title": {
            "standoff": 15
           },
           "zerolinecolor": "#EBF0F8",
           "zerolinewidth": 2
          }
         }
        },
        "title": {
         "text": "Crude Oil vs Petrol"
        },
        "xaxis": {
         "anchor": "y",
         "domain": [
          0,
          1
         ],
         "title": {
          "text": "Avg_Brent_Crude"
         }
        },
        "yaxis": {
         "anchor": "x",
         "domain": [
          0,
          1
         ],
         "title": {
          "text": "Petrol"
         }
        }
       }
      }
     },
     "metadata": {},
     "output_type": "display_data"
    },
    {
     "data": {
      "application/vnd.plotly.v1+json": {
       "config": {
        "plotlyServerURL": "https://plot.ly"
       },
       "data": [
        {
         "hovertemplate": "Ex_Rate=%{x}<br>Petrol=%{y}<extra></extra>",
         "legendgroup": "",
         "marker": {
          "color": "#636efa",
          "symbol": "circle"
         },
         "mode": "markers",
         "name": "",
         "orientation": "v",
         "showlegend": false,
         "type": "scatter",
         "x": [
          7.5246,
          7.4735,
          7.6902,
          7.4753,
          7.3749,
          7.6575,
          7.6708,
          7.5757,
          7.3178,
          7.1859,
          6.9374,
          6.9767,
          6.901,
          6.8983,
          7.2334,
          6.9512,
          6.7701,
          6.8516,
          6.8353,
          6.8134,
          7.059,
          7.5657,
          8.0012,
          8.1398,
          8.2122,
          8.0841,
          7.679,
          7.6193,
          7.8536,
          8.1031,
          8.4189,
          8.2657,
          8.2758,
          8.3075,
          8.6479,
          8.8252,
          8.6833,
          8.7629,
          8.9067,
          9.1932,
          9.1598,
          9.2987,
          10.0487,
          9.9348,
          10.0928,
          10.0027,
          9.9452,
          10.2121,
          10.3581,
          10.8105,
          11.0054,
          10.7695,
          10.5576,
          10.4042,
          10.6743,
          10.6609,
          10.6781,
          10.6781,
          11.1004,
          11.0969,
          11.4749,
          11.5777,
          11.589,
          12.0423,
          12.0459,
          11.9454,
          12.3196,
          12.4128,
          12.8609,
          13.7884,
          13.4734,
          14.0938,
          14.8819,
          16.3276,
          15.7832,
          15.4655,
          14.6477,
          15.2048,
          15.1553,
          14.4407,
          13.8016,
          14.0057,
          13.9646,
          13.9125,
          13.8687,
          13.5813,
          13.2899,
          12.9148,
          13.5105,
          13.2587,
          12.8756,
          13.15,
          13.2152,
          13.1317,
          13.621,
          14.0964,
          13.2303,
          12.2029,
          11.8167,
          11.8489,
          11.9797,
          12.5099,
          13.2871,
          13.4713,
          13.943,
          14.7899,
          14.4892,
          14.0923,
          14.1778,
          13.9476,
          13.8038,
          14.3871,
          14.1401,
          14.4127,
          14.6227,
          14.0709,
          15.1729,
          14.8432,
          14.9293,
          14.8037,
          14.4784,
          14.3276,
          14.9789,
          16.4305,
          18.4771,
          18.1715,
          17.1271,
          16.8234,
          17.2814,
          16.7204,
          16.4657,
          15.6305,
          14.939,
          15.087,
          14.763,
          14.95,
          14.448,
          14.11,
          13.92,
          14.65,
          14.77,
          14.56,
          14.72,
          15.85,
          15.92,
          15.51,
          15.23
         ],
         "xaxis": "x",
         "y": [
          785.9999999999999,
          803.9999999999999,
          810.3,
          858.3,
          871.8,
          844.8,
          826.8,
          816.8,
          806.8,
          811.8,
          831.8,
          844.8,
          872.8000000000001,
          898.8000000000001,
          941.8,
          996.4,
          1025.4,
          1023.4,
          992.4,
          1009.4,
          1018.4,
          1054.4,
          1077.4,
          1056.8,
          1061.3999999999999,
          1095.3999999999999,
          1123.4,
          1193.7,
          1221.7,
          1166.7,
          1081.7,
          1103.7,
          1193.7,
          1216.7,
          1206.6999999999998,
          1197.6999999999998,
          1185.6999999999998,
          1226.7,
          1307.7000000000003,
          1319.6000000000001,
          1246.6000000000001,
          1238.6000000000004,
          1322.6000000000001,
          1354.6000000000001,
          1346.6000000000001,
          1326.6000000000001,
          1298.6000000000001,
          1315.6,
          1356.6000000000001,
          1395.6000000000001,
          1431.6,
          1441.7,
          1426.6999999999998,
          1404.7,
          1435.7,
          1435.7000000000003,
          1368.7,
          1363.7,
          1318.7,
          1248.4999999999998,
          1123.6,
          1030.6,
          1126.6,
          1288.7,
          1288.7,
          1335.7,
          1376.7,
          1325.6999999999998,
          1246.7,
          1250.7,
          1228.7,
          1229.7,
          1226.7,
          1232.7,
          1163.7,
          1252.4,
          1264.4,
          1316.4,
          1324.4,
          1225.4,
          1207.4,
          1250.4,
          1295.4,
          1275.3999999999999,
          1333.3999999999999,
          1362.3999999999999,
          1354.3999999999999,
          1329.7,
          1378.7,
          1353.7,
          1285.7,
          1304.7,
          1371.7,
          1400.7,
          1404.7,
          1458.7,
          1441.7,
          1411.7,
          1375.7,
          1447.8000000000002,
          1496.8000000000002,
          1578.8000000000002,
          1602.6599999999999,
          1602.8000000000002,
          1607.8,
          1707.8,
          1707.8,
          1523.8,
          1400.8,
          1407.8,
          1481.8,
          1613.2,
          1667.2,
          1676.2,
          1581.2,
          1592.2,
          1603.2,
          1621.2,
          1608.2,
          1629.8700000000003,
          1616.2,
          1603.2,
          1584.2,
          1396.2,
          1222.3000000000002,
          1340.3,
          1512.3,
          1517.3,
          1518.3000000000002,
          1486.307,
          1459.3000000000002,
          1446.6000000000001,
          1486.3,
          1567.3,
          1625.3,
          1731.5,
          1722.5,
          1712.5,
          1738.5,
          1829.5,
          1827.8,
          1826.8,
          1947.8,
          2028.8000000000002,
          1960.5,
          2013.5000000000002,
          2159.5
         ],
         "yaxis": "y"
        },
        {
         "hovertemplate": "<b>OLS trendline</b><br>Petrol = 64.8841 * Ex_Rate + 561.003<br>R<sup>2</sup>=0.541097<br><br>Ex_Rate=%{x}<br>Petrol=%{y} <b>(trend)</b><extra></extra>",
         "legendgroup": "",
         "line": {
          "color": "red"
         },
         "marker": {
          "color": "#636efa",
          "symbol": "circle"
         },
         "mode": "lines",
         "name": "",
         "showlegend": false,
         "type": "scatter",
         "x": [
          6.7701,
          6.8134,
          6.8353,
          6.8516,
          6.8983,
          6.901,
          6.9374,
          6.9512,
          6.9767,
          7.059,
          7.1859,
          7.2334,
          7.3178,
          7.3749,
          7.4735,
          7.4753,
          7.5246,
          7.5657,
          7.5757,
          7.6193,
          7.6575,
          7.6708,
          7.679,
          7.6902,
          7.8536,
          8.0012,
          8.0841,
          8.1031,
          8.1398,
          8.2122,
          8.2657,
          8.2758,
          8.3075,
          8.4189,
          8.6479,
          8.6833,
          8.7629,
          8.8252,
          8.9067,
          9.1598,
          9.1932,
          9.2987,
          9.9348,
          9.9452,
          10.0027,
          10.0487,
          10.0928,
          10.2121,
          10.3581,
          10.4042,
          10.5576,
          10.6609,
          10.6743,
          10.6781,
          10.6781,
          10.7695,
          10.8105,
          11.0054,
          11.0969,
          11.1004,
          11.4749,
          11.5777,
          11.589,
          11.8167,
          11.8489,
          11.9454,
          11.9797,
          12.0423,
          12.0459,
          12.2029,
          12.3196,
          12.4128,
          12.5099,
          12.8609,
          12.8756,
          12.9148,
          13.1317,
          13.15,
          13.2152,
          13.2303,
          13.2587,
          13.2871,
          13.2899,
          13.4713,
          13.4734,
          13.5105,
          13.5813,
          13.621,
          13.7884,
          13.8016,
          13.8038,
          13.8687,
          13.9125,
          13.92,
          13.943,
          13.9476,
          13.9646,
          14.0057,
          14.0709,
          14.0923,
          14.0938,
          14.0964,
          14.11,
          14.1401,
          14.1778,
          14.3276,
          14.3871,
          14.4127,
          14.4407,
          14.448,
          14.4784,
          14.4892,
          14.56,
          14.6227,
          14.6477,
          14.65,
          14.72,
          14.763,
          14.77,
          14.7899,
          14.8037,
          14.8432,
          14.8819,
          14.9293,
          14.939,
          14.95,
          14.9789,
          15.087,
          15.1553,
          15.1729,
          15.2048,
          15.23,
          15.4655,
          15.51,
          15.6305,
          15.7832,
          15.85,
          15.92,
          16.3276,
          16.4305,
          16.4657,
          16.7204,
          16.8234,
          17.1271,
          17.2814,
          18.1715,
          18.4771
         ],
         "xaxis": "x",
         "y": [
          1000.2752218587843,
          1003.084702763314,
          1004.5056642369675,
          1005.5632748315134,
          1008.5933616269299,
          1008.7685486579284,
          1011.1303293721289,
          1012.0257297527874,
          1013.6802739344387,
          1019.0202341756119,
          1027.2540246325361,
          1030.3360186963966,
          1035.8122355172352,
          1039.5171168024233,
          1045.9146876381421,
          1046.0314789921413,
          1049.2302644100007,
          1051.8970003263094,
          1052.545841181859,
          1055.374787312055,
          1057.8533593802547,
          1058.7163177181355,
          1059.2483672196863,
          1059.9750689779019,
          1070.577128557582,
          1080.154019585494,
          1085.5329102780001,
          1086.7657079035444,
          1089.1469538434112,
          1093.8445616375902,
          1097.3158602147805,
          1097.9711894788857,
          1100.0280149909777,
          1107.2561021218003,
          1122.114557713886,
          1124.4114543425312,
          1129.576227552706,
          1133.61850608278,
          1138.9065590555092,
          1155.3287211094691,
          1157.4958495670048,
          1164.341120593053,
          1205.6138874145622,
          1206.2886819043338,
          1210.0195168237437,
          1213.004184759272,
          1215.8655729322456,
          1223.6062443389521,
          1233.079320829976,
          1236.0704771740598,
          1246.0236958981905,
          1252.7262219360177,
          1253.5956686824543,
          1253.842228207563,
          1253.842228207563,
          1259.7726336272863,
          1262.4328811350395,
          1275.0787894097011,
          1281.0156832379798,
          1281.2427775374222,
          1305.5418675777541,
          1312.2119515728039,
          1312.9451417395749,
          1327.719248020439,
          1329.8085155753088,
          1336.069829831362,
          1338.2953539658972,
          1342.3570977216377,
          1342.5906804296355,
          1352.777481861764,
          1360.3494546460277,
          1366.39665141975,
          1372.6968961271364,
          1395.471210156927,
          1396.4250062145848,
          1398.9684623683393,
          1413.04182052521,
          1414.2291992908654,
          1418.4596416690488,
          1419.4393913609288,
          1421.2820993906894,
          1423.1248074204505,
          1423.306482860004,
          1435.0764559796737,
          1435.2127125593393,
          1437.619912133428,
          1442.213705390719,
          1444.789603587251,
          1455.651199509151,
          1456.5076694384766,
          1456.6504144266976,
          1460.8613915792143,
          1463.7033145265214,
          1464.1899451681838,
          1465.6822791359477,
          1465.9807459295005,
          1467.083775383935,
          1469.7505113002435,
          1473.9809536784269,
          1475.369473109303,
          1475.4667992376355,
          1475.6354978600784,
          1476.517921423626,
          1478.47093239883,
          1480.917062424252,
          1490.6366984403849,
          1494.497301530905,
          1496.1583341211117,
          1497.9750885166507,
          1498.448742341202,
          1500.4212185420727,
          1501.1219666660663,
          1505.7157599233574,
          1509.7839920876531,
          1511.4060942265273,
          1511.5553276233036,
          1516.0972136121509,
          1518.887229291014,
          1519.3414178898986,
          1520.6326111924423,
          1521.5280115731007,
          1524.0909329525216,
          1526.6019470634985,
          1529.6774527188036,
          1530.3068283486866,
          1531.0205532897912,
          1532.8957033623294,
          1539.9096730108204,
          1544.3412560542242,
          1545.4832159599914,
          1547.5530182891948,
          1549.1880972451795,
          1564.4682993933725,
          1567.355641200568,
          1575.1741735099406,
          1585.0819733741828,
          1589.4162302892541,
          1593.958116278101,
          1620.4048695503025,
          1627.0814419539074,
          1629.3653617654422,
          1645.8913383562904,
          1652.5743991684508,
          1672.2796959514917,
          1682.291310352622,
          1740.0446349050908,
          1759.873211450686
         ],
         "yaxis": "y"
        }
       ],
       "layout": {
        "legend": {
         "tracegroupgap": 0
        },
        "template": {
         "data": {
          "bar": [
           {
            "error_x": {
             "color": "#2a3f5f"
            },
            "error_y": {
             "color": "#2a3f5f"
            },
            "marker": {
             "line": {
              "color": "white",
              "width": 0.5
             },
             "pattern": {
              "fillmode": "overlay",
              "size": 10,
              "solidity": 0.2
             }
            },
            "type": "bar"
           }
          ],
          "barpolar": [
           {
            "marker": {
             "line": {
              "color": "white",
              "width": 0.5
             },
             "pattern": {
              "fillmode": "overlay",
              "size": 10,
              "solidity": 0.2
             }
            },
            "type": "barpolar"
           }
          ],
          "box": [
           {
            "boxpoints": "outliers",
            "notched": false,
            "type": "box"
           }
          ],
          "carpet": [
           {
            "aaxis": {
             "endlinecolor": "#2a3f5f",
             "gridcolor": "#C8D4E3",
             "linecolor": "#C8D4E3",
             "minorgridcolor": "#C8D4E3",
             "startlinecolor": "#2a3f5f"
            },
            "baxis": {
             "endlinecolor": "#2a3f5f",
             "gridcolor": "#C8D4E3",
             "linecolor": "#C8D4E3",
             "minorgridcolor": "#C8D4E3",
             "startlinecolor": "#2a3f5f"
            },
            "type": "carpet"
           }
          ],
          "choropleth": [
           {
            "colorbar": {
             "outlinewidth": 0,
             "ticks": ""
            },
            "type": "choropleth"
           }
          ],
          "contour": [
           {
            "colorbar": {
             "outlinewidth": 0,
             "ticks": ""
            },
            "colorscale": [
             [
              0,
              "#0d0887"
             ],
             [
              0.1111111111111111,
              "#46039f"
             ],
             [
              0.2222222222222222,
              "#7201a8"
             ],
             [
              0.3333333333333333,
              "#9c179e"
             ],
             [
              0.4444444444444444,
              "#bd3786"
             ],
             [
              0.5555555555555556,
              "#d8576b"
             ],
             [
              0.6666666666666666,
              "#ed7953"
             ],
             [
              0.7777777777777778,
              "#fb9f3a"
             ],
             [
              0.8888888888888888,
              "#fdca26"
             ],
             [
              1,
              "#f0f921"
             ]
            ],
            "type": "contour"
           }
          ],
          "contourcarpet": [
           {
            "colorbar": {
             "outlinewidth": 0,
             "ticks": ""
            },
            "type": "contourcarpet"
           }
          ],
          "heatmap": [
           {
            "colorbar": {
             "outlinewidth": 0,
             "ticks": ""
            },
            "colorscale": [
             [
              0,
              "#0d0887"
             ],
             [
              0.1111111111111111,
              "#46039f"
             ],
             [
              0.2222222222222222,
              "#7201a8"
             ],
             [
              0.3333333333333333,
              "#9c179e"
             ],
             [
              0.4444444444444444,
              "#bd3786"
             ],
             [
              0.5555555555555556,
              "#d8576b"
             ],
             [
              0.6666666666666666,
              "#ed7953"
             ],
             [
              0.7777777777777778,
              "#fb9f3a"
             ],
             [
              0.8888888888888888,
              "#fdca26"
             ],
             [
              1,
              "#f0f921"
             ]
            ],
            "type": "heatmap"
           }
          ],
          "heatmapgl": [
           {
            "colorbar": {
             "outlinewidth": 0,
             "ticks": ""
            },
            "colorscale": [
             [
              0,
              "#0d0887"
             ],
             [
              0.1111111111111111,
              "#46039f"
             ],
             [
              0.2222222222222222,
              "#7201a8"
             ],
             [
              0.3333333333333333,
              "#9c179e"
             ],
             [
              0.4444444444444444,
              "#bd3786"
             ],
             [
              0.5555555555555556,
              "#d8576b"
             ],
             [
              0.6666666666666666,
              "#ed7953"
             ],
             [
              0.7777777777777778,
              "#fb9f3a"
             ],
             [
              0.8888888888888888,
              "#fdca26"
             ],
             [
              1,
              "#f0f921"
             ]
            ],
            "type": "heatmapgl"
           }
          ],
          "histogram": [
           {
            "marker": {
             "line": {
              "width": 1
             },
             "pattern": {
              "fillmode": "overlay",
              "size": 10,
              "solidity": 0.2
             }
            },
            "type": "histogram"
           }
          ],
          "histogram2d": [
           {
            "colorbar": {
             "outlinewidth": 0,
             "ticks": ""
            },
            "colorscale": [
             [
              0,
              "#0d0887"
             ],
             [
              0.1111111111111111,
              "#46039f"
             ],
             [
              0.2222222222222222,
              "#7201a8"
             ],
             [
              0.3333333333333333,
              "#9c179e"
             ],
             [
              0.4444444444444444,
              "#bd3786"
             ],
             [
              0.5555555555555556,
              "#d8576b"
             ],
             [
              0.6666666666666666,
              "#ed7953"
             ],
             [
              0.7777777777777778,
              "#fb9f3a"
             ],
             [
              0.8888888888888888,
              "#fdca26"
             ],
             [
              1,
              "#f0f921"
             ]
            ],
            "type": "histogram2d"
           }
          ],
          "histogram2dcontour": [
           {
            "colorbar": {
             "outlinewidth": 0,
             "ticks": ""
            },
            "colorscale": [
             [
              0,
              "#0d0887"
             ],
             [
              0.1111111111111111,
              "#46039f"
             ],
             [
              0.2222222222222222,
              "#7201a8"
             ],
             [
              0.3333333333333333,
              "#9c179e"
             ],
             [
              0.4444444444444444,
              "#bd3786"
             ],
             [
              0.5555555555555556,
              "#d8576b"
             ],
             [
              0.6666666666666666,
              "#ed7953"
             ],
             [
              0.7777777777777778,
              "#fb9f3a"
             ],
             [
              0.8888888888888888,
              "#fdca26"
             ],
             [
              1,
              "#f0f921"
             ]
            ],
            "type": "histogram2dcontour"
           }
          ],
          "mesh3d": [
           {
            "colorbar": {
             "outlinewidth": 0,
             "ticks": ""
            },
            "type": "mesh3d"
           }
          ],
          "parcoords": [
           {
            "line": {
             "colorbar": {
              "outlinewidth": 0,
              "ticks": ""
             }
            },
            "type": "parcoords"
           }
          ],
          "pie": [
           {
            "automargin": true,
            "type": "pie"
           }
          ],
          "scatter": [
           {
            "marker": {
             "colorbar": {
              "outlinewidth": 0,
              "ticks": ""
             },
             "opacity": 0.8
            },
            "type": "scatter"
           }
          ],
          "scatter3d": [
           {
            "line": {
             "colorbar": {
              "outlinewidth": 0,
              "ticks": ""
             }
            },
            "marker": {
             "colorbar": {
              "outlinewidth": 0,
              "ticks": ""
             },
             "opacity": 0.8
            },
            "type": "scatter3d"
           }
          ],
          "scattercarpet": [
           {
            "marker": {
             "colorbar": {
              "outlinewidth": 0,
              "ticks": ""
             }
            },
            "type": "scattercarpet"
           }
          ],
          "scattergeo": [
           {
            "marker": {
             "colorbar": {
              "outlinewidth": 0,
              "ticks": ""
             }
            },
            "type": "scattergeo"
           }
          ],
          "scattergl": [
           {
            "marker": {
             "colorbar": {
              "outlinewidth": 0,
              "ticks": ""
             }
            },
            "type": "scattergl"
           }
          ],
          "scattermapbox": [
           {
            "marker": {
             "colorbar": {
              "outlinewidth": 0,
              "ticks": ""
             }
            },
            "type": "scattermapbox"
           }
          ],
          "scatterpolar": [
           {
            "marker": {
             "colorbar": {
              "outlinewidth": 0,
              "ticks": ""
             }
            },
            "type": "scatterpolar"
           }
          ],
          "scatterpolargl": [
           {
            "marker": {
             "colorbar": {
              "outlinewidth": 0,
              "ticks": ""
             }
            },
            "type": "scatterpolargl"
           }
          ],
          "scatterternary": [
           {
            "marker": {
             "colorbar": {
              "outlinewidth": 0,
              "ticks": ""
             }
            },
            "type": "scatterternary"
           }
          ],
          "surface": [
           {
            "colorbar": {
             "outlinewidth": 0,
             "ticks": ""
            },
            "colorscale": [
             [
              0,
              "#0d0887"
             ],
             [
              0.1111111111111111,
              "#46039f"
             ],
             [
              0.2222222222222222,
              "#7201a8"
             ],
             [
              0.3333333333333333,
              "#9c179e"
             ],
             [
              0.4444444444444444,
              "#bd3786"
             ],
             [
              0.5555555555555556,
              "#d8576b"
             ],
             [
              0.6666666666666666,
              "#ed7953"
             ],
             [
              0.7777777777777778,
              "#fb9f3a"
             ],
             [
              0.8888888888888888,
              "#fdca26"
             ],
             [
              1,
              "#f0f921"
             ]
            ],
            "type": "surface"
           }
          ],
          "table": [
           {
            "cells": {
             "fill": {
              "color": "#EBF0F8"
             },
             "line": {
              "color": "white"
             }
            },
            "header": {
             "fill": {
              "color": "#C8D4E3"
             },
             "line": {
              "color": "white"
             }
            },
            "type": "table"
           }
          ]
         },
         "layout": {
          "annotationdefaults": {
           "arrowcolor": "#2a3f5f",
           "arrowhead": 0,
           "arrowwidth": 1
          },
          "autotypenumbers": "strict",
          "coloraxis": {
           "colorbar": {
            "outlinewidth": 0,
            "ticks": ""
           }
          },
          "colorscale": {
           "diverging": [
            [
             0,
             "#8e0152"
            ],
            [
             0.1,
             "#c51b7d"
            ],
            [
             0.2,
             "#de77ae"
            ],
            [
             0.3,
             "#f1b6da"
            ],
            [
             0.4,
             "#fde0ef"
            ],
            [
             0.5,
             "#f7f7f7"
            ],
            [
             0.6,
             "#e6f5d0"
            ],
            [
             0.7,
             "#b8e186"
            ],
            [
             0.8,
             "#7fbc41"
            ],
            [
             0.9,
             "#4d9221"
            ],
            [
             1,
             "#276419"
            ]
           ],
           "sequential": [
            [
             0,
             "#0d0887"
            ],
            [
             0.1111111111111111,
             "#46039f"
            ],
            [
             0.2222222222222222,
             "#7201a8"
            ],
            [
             0.3333333333333333,
             "#9c179e"
            ],
            [
             0.4444444444444444,
             "#bd3786"
            ],
            [
             0.5555555555555556,
             "#d8576b"
            ],
            [
             0.6666666666666666,
             "#ed7953"
            ],
            [
             0.7777777777777778,
             "#fb9f3a"
            ],
            [
             0.8888888888888888,
             "#fdca26"
            ],
            [
             1,
             "#f0f921"
            ]
           ],
           "sequentialminus": [
            [
             0,
             "#0d0887"
            ],
            [
             0.1111111111111111,
             "#46039f"
            ],
            [
             0.2222222222222222,
             "#7201a8"
            ],
            [
             0.3333333333333333,
             "#9c179e"
            ],
            [
             0.4444444444444444,
             "#bd3786"
            ],
            [
             0.5555555555555556,
             "#d8576b"
            ],
            [
             0.6666666666666666,
             "#ed7953"
            ],
            [
             0.7777777777777778,
             "#fb9f3a"
            ],
            [
             0.8888888888888888,
             "#fdca26"
            ],
            [
             1,
             "#f0f921"
            ]
           ]
          },
          "colorway": [
           "#636efa",
           "#EF553B",
           "#00cc96",
           "#ab63fa",
           "#FFA15A",
           "#19d3f3",
           "#FF6692",
           "#B6E880",
           "#FF97FF",
           "#FECB52"
          ],
          "font": {
           "color": "#2a3f5f"
          },
          "geo": {
           "bgcolor": "white",
           "lakecolor": "white",
           "landcolor": "white",
           "showlakes": true,
           "showland": true,
           "subunitcolor": "#C8D4E3"
          },
          "height": 400,
          "hoverlabel": {
           "align": "left"
          },
          "hovermode": "closest",
          "mapbox": {
           "style": "light"
          },
          "margin": {
           "b": 2,
           "l": 2,
           "r": 2,
           "t": 30
          },
          "paper_bgcolor": "white",
          "plot_bgcolor": "white",
          "polar": {
           "angularaxis": {
            "gridcolor": "#EBF0F8",
            "linecolor": "#EBF0F8",
            "ticks": ""
           },
           "bgcolor": "white",
           "radialaxis": {
            "gridcolor": "#EBF0F8",
            "linecolor": "#EBF0F8",
            "ticks": ""
           }
          },
          "scene": {
           "camera": {
            "eye": {
             "x": 1.5,
             "y": 1.5,
             "z": 0.1
            }
           },
           "xaxis": {
            "backgroundcolor": "white",
            "gridcolor": "#DFE8F3",
            "gridwidth": 2,
            "linecolor": "#EBF0F8",
            "showbackground": true,
            "ticks": "",
            "zerolinecolor": "#EBF0F8"
           },
           "yaxis": {
            "backgroundcolor": "white",
            "gridcolor": "#DFE8F3",
            "gridwidth": 2,
            "linecolor": "#EBF0F8",
            "showbackground": true,
            "ticks": "",
            "zerolinecolor": "#EBF0F8"
           },
           "zaxis": {
            "backgroundcolor": "white",
            "gridcolor": "#DFE8F3",
            "gridwidth": 2,
            "linecolor": "#EBF0F8",
            "showbackground": true,
            "ticks": "",
            "zerolinecolor": "#EBF0F8"
           }
          },
          "shapedefaults": {
           "line": {
            "color": "#2a3f5f"
           }
          },
          "ternary": {
           "aaxis": {
            "gridcolor": "#DFE8F3",
            "linecolor": "#A2B1C6",
            "ticks": ""
           },
           "baxis": {
            "gridcolor": "#DFE8F3",
            "linecolor": "#A2B1C6",
            "ticks": ""
           },
           "bgcolor": "white",
           "caxis": {
            "gridcolor": "#DFE8F3",
            "linecolor": "#A2B1C6",
            "ticks": ""
           }
          },
          "title": {
           "x": 0.5
          },
          "xaxis": {
           "automargin": true,
           "gridcolor": "#EBF0F8",
           "linecolor": "#EBF0F8",
           "linewidth": 2,
           "showline": true,
           "ticks": "",
           "title": {
            "standoff": 15
           },
           "zerolinecolor": "#EBF0F8",
           "zerolinewidth": 2
          },
          "yaxis": {
           "automargin": true,
           "gridcolor": "#EBF0F8",
           "linecolor": "#EBF0F8",
           "linewidth": 2,
           "showline": true,
           "ticks": "",
           "title": {
            "standoff": 15
           },
           "zerolinecolor": "#EBF0F8",
           "zerolinewidth": 2
          }
         }
        },
        "title": {
         "text": "Exchange Rate vs Petrol"
        },
        "xaxis": {
         "anchor": "y",
         "domain": [
          0,
          1
         ],
         "title": {
          "text": "Ex_Rate"
         }
        },
        "yaxis": {
         "anchor": "x",
         "domain": [
          0,
          1
         ],
         "title": {
          "text": "Petrol"
         }
        }
       }
      }
     },
     "metadata": {},
     "output_type": "display_data"
    }
   ],
   "source": [
    "import plotly.express as px\n",
    "fig = px.scatter(dataset, x='Avg_Brent_Crude', y='Petrol', trendline='ols', trendline_color_override='red', title='Crude Oil vs Petrol')\n",
    "\n",
    "fig1 = px.scatter(dataset, x='Ex_Rate', y='Petrol', trendline='ols', trendline_color_override='red', title='Exchange Rate vs Petrol')\n",
    "\n",
    "fig.show()\n",
    "fig1.show()\n"
   ]
  },
  {
   "cell_type": "markdown",
   "metadata": {},
   "source": [
    "### Simple Linear Regression: Microsoft"
   ]
  },
  {
   "cell_type": "code",
   "execution_count": 4,
   "metadata": {},
   "outputs": [
    {
     "name": "stdout",
     "output_type": "stream",
     "text": [
      "Avg_Brent_Crude\n",
      "R-squared: 0.0474499912561569\n"
     ]
    },
    {
     "data": {
      "application/vnd.plotly.v1+json": {
       "config": {
        "plotlyServerURL": "https://plot.ly"
       },
       "data": [
        {
         "hovertemplate": "Avg Brent Crude=%{x}<br>Petrol=%{y}<extra></extra>",
         "legendgroup": "",
         "marker": {
          "color": "#636efa",
          "size": 15,
          "symbol": "circle"
         },
         "mode": "markers",
         "name": "",
         "orientation": "v",
         "showlegend": false,
         "type": "scatter",
         "x": [
          74.31,
          76.84,
          73.17,
          78.89,
          85.75,
          76.3,
          74.61,
          78.68,
          77.39,
          77.37,
          82.73,
          85.15,
          90.77,
          95.97,
          102.37,
          114.41,
          123.49,
          116.15,
          114.19,
          116.88,
          110.67,
          113.61,
          109.28,
          110.51,
          107.96,
          110.42,
          126.39,
          125.42,
          120.18,
          110.27,
          95.22,
          102.04,
          113.51,
          112.96,
          109.05,
          109.04,
          109.13,
          112.88,
          116.28,
          108.44,
          102.16,
          102.62,
          102.84,
          108.05,
          111.07,
          112.23,
          109.12,
          107.82,
          110.73,
          108.35,
          108.87,
          107.67,
          108.31,
          109.69,
          111.62,
          106.64,
          101.57,
          97.73,
          87.54,
          79.75,
          54.98,
          48.2,
          57.93,
          56.11,
          59.01,
          64.36,
          61.94,
          56.72,
          46.56,
          47.79,
          48.58,
          44.33,
          38.22,
          30.83,
          32.11,
          38.49,
          41.28,
          46.56,
          48.34,
          45.28,
          45.94,
          46.6,
          49.86,
          52.48,
          53.45,
          54.61,
          54.99,
          51.52,
          53.21,
          50.06,
          46.48,
          48.23,
          51.66,
          55.99,
          56.86,
          62.62,
          64.08,
          69.06,
          64.06,
          65.71,
          70.88,
          76.8,
          74.15,
          74.27,
          72.51,
          78.25,
          81.15,
          65.79,
          57.08,
          59.06,
          64.03,
          66.03,
          71.15,
          71.29,
          63.87,
          64.04,
          58.97,
          62.88,
          59.72,
          63.02,
          67.01,
          64.5,
          55.7,
          33.88,
          18.99,
          28.71,
          39.87,
          43.42,
          44.82,
          38.915,
          40.413,
          41.692,
          49.2,
          53.1,
          60,
          65.14,
          64.16,
          66,
          73,
          74,
          72.5,
          75.5,
          83.4,
          83.5,
          76,
          87,
          96.47
         ],
         "xaxis": "x",
         "y": [
          785.9999999999999,
          803.9999999999999,
          810.3,
          858.3,
          871.8,
          844.8,
          826.8,
          816.8,
          806.8,
          811.8,
          831.8,
          844.8,
          872.8000000000001,
          898.8000000000001,
          941.8,
          996.4,
          1025.4,
          1023.4,
          992.4,
          1009.4,
          1018.4,
          1054.4,
          1077.4,
          1056.8,
          1061.3999999999999,
          1095.3999999999999,
          1123.4,
          1193.7,
          1221.7,
          1166.7,
          1081.7,
          1103.7,
          1193.7,
          1216.7,
          1206.6999999999998,
          1197.6999999999998,
          1185.6999999999998,
          1226.7,
          1307.7000000000003,
          1319.6000000000001,
          1246.6000000000001,
          1238.6000000000004,
          1322.6000000000001,
          1354.6000000000001,
          1346.6000000000001,
          1326.6000000000001,
          1298.6000000000001,
          1315.6,
          1356.6000000000001,
          1395.6000000000001,
          1431.6,
          1441.7,
          1426.6999999999998,
          1404.7,
          1435.7,
          1435.7000000000003,
          1368.7,
          1363.7,
          1318.7,
          1248.4999999999998,
          1123.6,
          1030.6,
          1126.6,
          1288.7,
          1288.7,
          1335.7,
          1376.7,
          1325.6999999999998,
          1246.7,
          1250.7,
          1228.7,
          1229.7,
          1226.7,
          1232.7,
          1163.7,
          1252.4,
          1264.4,
          1316.4,
          1324.4,
          1225.4,
          1207.4,
          1250.4,
          1295.4,
          1275.3999999999999,
          1333.3999999999999,
          1362.3999999999999,
          1354.3999999999999,
          1329.7,
          1378.7,
          1353.7,
          1285.7,
          1304.7,
          1371.7,
          1400.7,
          1404.7,
          1458.7,
          1441.7,
          1411.7,
          1375.7,
          1447.8000000000002,
          1496.8000000000002,
          1578.8000000000002,
          1602.6599999999999,
          1602.8000000000002,
          1607.8,
          1707.8,
          1707.8,
          1523.8,
          1400.8,
          1407.8,
          1481.8,
          1613.2,
          1667.2,
          1676.2,
          1581.2,
          1592.2,
          1603.2,
          1621.2,
          1608.2,
          1629.8700000000003,
          1616.2,
          1603.2,
          1584.2,
          1396.2,
          1222.3000000000002,
          1340.3,
          1512.3,
          1517.3,
          1518.3000000000002,
          1486.307,
          1459.3000000000002,
          1446.6000000000001,
          1486.3,
          1567.3,
          1625.3,
          1731.5,
          1722.5,
          1712.5,
          1738.5,
          1829.5,
          1827.8,
          1826.8,
          1947.8,
          2028.8000000000002,
          1960.5,
          2013.5000000000002,
          2159.5
         ],
         "yaxis": "y"
        }
       ],
       "layout": {
        "legend": {
         "tracegroupgap": 0
        },
        "shapes": [
         {
          "line": {
           "color": "rgb(228,26,28)"
          },
          "path": "M18.99 1466.045452608015 L 19.52969849246231 1464.8102077131869 L 20.069396984924623 1463.5749628183587 L 20.609095477386933 1462.3397179235305 L 21.148793969849244 1461.1044730287024 L 21.688492462311558 1459.8692281338742 L 22.22819095477387 1458.633983239046 L 22.76788944723618 1457.398738344218 L 23.307587939698493 1456.1634934493898 L 23.847286432160804 1454.9282485545616 L 24.386984924623114 1453.6930036597334 L 24.926683417085428 1452.4577587649053 L 25.46638190954774 1451.2225138700771 L 26.00608040201005 1449.987268975249 L 26.545778894472363 1448.7520240804208 L 27.08547738693467 1447.5167791855927 L 27.625175879396984 1446.2815342907645 L 28.164874371859298 1445.0462893959364 L 28.704572864321605 1443.8110445011082 L 29.24427135678392 1442.57579960628 L 29.78396984924623 1441.340554711452 L 30.32366834170854 1440.1053098166237 L 30.863366834170854 1438.8700649217956 L 31.403065326633165 1437.6348200269674 L 31.942763819095475 1436.3995751321393 L 32.48246231155779 1435.164330237311 L 33.0221608040201 1433.929085342483 L 33.56185929648241 1432.6938404476548 L 34.101557788944724 1431.4585955528266 L 34.64125628140704 1430.2233506579985 L 35.180954773869345 1428.9881057631703 L 35.72065326633166 1427.7528608683422 L 36.26035175879397 1426.517615973514 L 36.80005025125628 1425.2823710786859 L 37.339748743718594 1424.0471261838577 L 37.87944723618091 1422.8118812890295 L 38.419145728643215 1421.5766363942014 L 38.95884422110553 1420.3413914993732 L 39.49854271356784 1419.106146604545 L 40.03824120603015 1417.870901709717 L 40.57793969849246 1416.635656814889 L 41.11763819095478 1415.4004119200606 L 41.657336683417086 1414.1651670252324 L 42.19703517587939 1412.9299221304045 L 42.736733668341714 1411.6946772355761 L 43.27643216080402 1410.459432340748 L 43.81613065326633 1409.22418744592 L 44.35582914572865 1407.9889425510917 L 44.895527638190956 1406.7536976562637 L 45.43522613065326 1405.5184527614356 L 45.974924623115584 1404.2832078666072 L 46.51462311557789 1403.0479629717793 L 47.0543216080402 1401.8127180769511 L 47.59402010050252 1400.5774731821227 L 48.133718592964826 1399.3422282872948 L 48.67341708542713 1398.1069833924666 L 49.213115577889454 1396.8717384976385 L 49.75281407035176 1395.6364936028103 L 50.29251256281407 1394.4012487079822 L 50.83221105527638 1393.166003813154 L 51.371909547738696 1391.9307589183259 L 51.911608040201 1390.6955140234977 L 52.451306532663324 1389.4602691286696 L 52.99100502512563 1388.2250242338414 L 53.53070351758794 1386.9897793390132 L 54.07040201005026 1385.754534444185 L 54.610100502512566 1384.519289549357 L 55.14979899497487 1383.2840446545288 L 55.689497487437194 1382.0487997597006 L 56.2291959798995 1380.8135548648725 L 56.76889447236181 1379.5783099700443 L 57.30859296482413 1378.3430650752161 L 57.848291457286436 1377.107820180388 L 58.38798994974874 1375.8725752855598 L 58.927688442211064 1374.6373303907317 L 59.46738693467337 1373.4020854959035 L 60.00708542713568 1372.1668406010754 L 60.546783919598 1370.9315957062472 L 61.086482412060306 1369.696350811419 L 61.62618090452261 1368.461105916591 L 62.16587939698492 1367.2258610217627 L 62.70557788944724 1365.9906161269346 L 63.24527638190955 1364.7553712321064 L 63.784974874371855 1363.5201263372783 L 64.32467336683418 1362.2848814424501 L 64.86437185929648 1361.049636547622 L 65.40407035175879 1359.8143916527938 L 65.94376884422111 1358.5791467579656 L 66.48346733668342 1357.3439018631375 L 67.02316582914573 1356.1086569683093 L 67.56286432160805 1354.8734120734812 L 68.10256281407035 1353.638167178653 L 68.64226130653266 1352.4029222838249 L 69.18195979899498 1351.1676773889967 L 69.72165829145729 1349.9324324941686 L 70.2613567839196 1348.6971875993404 L 70.80105527638192 1347.4619427045122 L 71.34075376884422 1346.226697809684 L 71.88045226130653 1344.991452914856 L 72.42015075376885 1343.7562080200278 L 72.95984924623116 1342.5209631251996 L 73.49954773869347 1341.2857182303715 L 74.03924623115579 1340.0504733355433 L 74.5789447236181 1338.8152284407151 L 75.1186432160804 1337.579983545887 L 75.65834170854272 1336.3447386510588 L 76.19804020100503 1335.1094937562307 L 76.73773869346734 1333.8742488614025 L 77.27743718592966 1332.6390039665744 L 77.81713567839196 1331.4037590717462 L 78.35683417085427 1330.168514176918 L 78.89653266331659 1328.93326928209 L 79.4362311557789 1327.6980243872617 L 79.9759296482412 1326.4627794924336 L 80.51562814070353 1325.2275345976054 L 81.05532663316583 1323.9922897027773 L 81.59502512562814 1322.7570448079491 L 82.13472361809046 1321.521799913121 L 82.67442211055277 1320.2865550182928 L 83.21412060301508 1319.0513101234646 L 83.75381909547738 1317.8160652286365 L 84.2935175879397 1316.5808203338083 L 84.83321608040201 1315.3455754389802 L 85.37291457286432 1314.110330544152 L 85.91261306532664 1312.8750856493239 L 86.45231155778895 1311.6398407544957 L 86.99201005025125 1310.4045958596676 L 87.53170854271357 1309.1693509648394 L 88.07140703517588 1307.9341060700112 L 88.61110552763819 1306.698861175183 L 89.15080402010051 1305.463616280355 L 89.69050251256282 1304.2283713855268 L 90.23020100502512 1302.9931264906986 L 90.76989949748744 1301.7578815958705 L 91.30959798994975 1300.5226367010423 L 91.84929648241206 1299.2873918062141 L 92.38899497487438 1298.052146911386 L 92.92869346733669 1296.8169020165578 L 93.46839195979899 1295.5816571217297 L 94.00809045226131 1294.3464122269015 L 94.54778894472362 1293.1111673320734 L 95.08748743718593 1291.8759224372452 L 95.62718592964825 1290.640677542417 L 96.16688442211056 1289.405432647589 L 96.70658291457286 1288.1701877527607 L 97.24628140703518 1286.9349428579326 L 97.78597989949749 1285.6996979631044 L 98.3256783919598 1284.4644530682763 L 98.86537688442212 1283.2292081734481 L 99.40507537688443 1281.99396327862 L 99.94477386934673 1280.7587183837918 L 100.48447236180905 1279.5234734889636 L 101.02417085427136 1278.2882285941355 L 101.56386934673367 1277.0529836993073 L 102.10356783919599 1275.8177388044792 L 102.6432663316583 1274.582493909651 L 103.1829648241206 1273.3472490148229 L 103.72266331658292 1272.1120041199947 L 104.26236180904523 1270.8767592251666 L 104.80206030150754 1269.6415143303384 L 105.34175879396984 1268.4062694355102 L 105.88145728643217 1267.171024540682 L 106.42115577889447 1265.935779645854 L 106.96085427135678 1264.7005347510258 L 107.5005527638191 1263.4652898561976 L 108.04025125628141 1262.2300449613695 L 108.57994974874372 1260.9948000665413 L 109.11964824120604 1259.7595551717131 L 109.65934673366834 1258.524310276885 L 110.19904522613065 1257.2890653820568 L 110.73874371859297 1256.0538204872287 L 111.27844221105528 1254.8185755924005 L 111.81814070351759 1253.5833306975724 L 112.3578391959799 1252.3480858027442 L 112.89753768844221 1251.112840907916 L 113.43723618090452 1249.877596013088 L 113.97693467336684 1248.6423511182597 L 114.51663316582915 1247.4071062234316 L 115.05633165829146 1246.1718613286034 L 115.59603015075378 1244.9366164337753 L 116.13572864321608 1243.7013715389471 L 116.67542713567839 1242.466126644119 L 117.21512562814071 1241.2308817492908 L 117.75482412060302 1239.9956368544626 L 118.29452261306533 1238.7603919596345 L 118.83422110552765 1237.5251470648063 L 119.37391959798995 1236.2899021699782 L 119.91361809045226 1235.05465727515 L 120.45331658291458 1233.8194123803219 L 120.99301507537689 1232.5841674854937 L 121.5327135678392 1231.3489225906656 L 122.07241206030152 1230.1136776958374 L 122.61211055276382 1228.8784328010092 L 123.15180904522613 1227.643187906181 L 123.69150753768845 1226.407943011353 L 124.23120603015076 1225.1726981165248 L 124.77090452261307 1223.9374532216966 L 125.31060301507539 1222.7022083268685 L 125.8503015075377 1221.4669634320403 L 126.39 1220.2317185372121",
          "type": "path"
         }
        ],
        "template": {
         "data": {
          "bar": [
           {
            "error_x": {
             "color": "#2a3f5f"
            },
            "error_y": {
             "color": "#2a3f5f"
            },
            "marker": {
             "line": {
              "color": "white",
              "width": 0.5
             },
             "pattern": {
              "fillmode": "overlay",
              "size": 10,
              "solidity": 0.2
             }
            },
            "type": "bar"
           }
          ],
          "barpolar": [
           {
            "marker": {
             "line": {
              "color": "white",
              "width": 0.5
             },
             "pattern": {
              "fillmode": "overlay",
              "size": 10,
              "solidity": 0.2
             }
            },
            "type": "barpolar"
           }
          ],
          "box": [
           {
            "boxpoints": "outliers",
            "notched": false,
            "type": "box"
           }
          ],
          "carpet": [
           {
            "aaxis": {
             "endlinecolor": "#2a3f5f",
             "gridcolor": "#C8D4E3",
             "linecolor": "#C8D4E3",
             "minorgridcolor": "#C8D4E3",
             "startlinecolor": "#2a3f5f"
            },
            "baxis": {
             "endlinecolor": "#2a3f5f",
             "gridcolor": "#C8D4E3",
             "linecolor": "#C8D4E3",
             "minorgridcolor": "#C8D4E3",
             "startlinecolor": "#2a3f5f"
            },
            "type": "carpet"
           }
          ],
          "choropleth": [
           {
            "colorbar": {
             "outlinewidth": 0,
             "ticks": ""
            },
            "type": "choropleth"
           }
          ],
          "contour": [
           {
            "colorbar": {
             "outlinewidth": 0,
             "ticks": ""
            },
            "colorscale": [
             [
              0,
              "#0d0887"
             ],
             [
              0.1111111111111111,
              "#46039f"
             ],
             [
              0.2222222222222222,
              "#7201a8"
             ],
             [
              0.3333333333333333,
              "#9c179e"
             ],
             [
              0.4444444444444444,
              "#bd3786"
             ],
             [
              0.5555555555555556,
              "#d8576b"
             ],
             [
              0.6666666666666666,
              "#ed7953"
             ],
             [
              0.7777777777777778,
              "#fb9f3a"
             ],
             [
              0.8888888888888888,
              "#fdca26"
             ],
             [
              1,
              "#f0f921"
             ]
            ],
            "type": "contour"
           }
          ],
          "contourcarpet": [
           {
            "colorbar": {
             "outlinewidth": 0,
             "ticks": ""
            },
            "type": "contourcarpet"
           }
          ],
          "heatmap": [
           {
            "colorbar": {
             "outlinewidth": 0,
             "ticks": ""
            },
            "colorscale": [
             [
              0,
              "#0d0887"
             ],
             [
              0.1111111111111111,
              "#46039f"
             ],
             [
              0.2222222222222222,
              "#7201a8"
             ],
             [
              0.3333333333333333,
              "#9c179e"
             ],
             [
              0.4444444444444444,
              "#bd3786"
             ],
             [
              0.5555555555555556,
              "#d8576b"
             ],
             [
              0.6666666666666666,
              "#ed7953"
             ],
             [
              0.7777777777777778,
              "#fb9f3a"
             ],
             [
              0.8888888888888888,
              "#fdca26"
             ],
             [
              1,
              "#f0f921"
             ]
            ],
            "type": "heatmap"
           }
          ],
          "heatmapgl": [
           {
            "colorbar": {
             "outlinewidth": 0,
             "ticks": ""
            },
            "colorscale": [
             [
              0,
              "#0d0887"
             ],
             [
              0.1111111111111111,
              "#46039f"
             ],
             [
              0.2222222222222222,
              "#7201a8"
             ],
             [
              0.3333333333333333,
              "#9c179e"
             ],
             [
              0.4444444444444444,
              "#bd3786"
             ],
             [
              0.5555555555555556,
              "#d8576b"
             ],
             [
              0.6666666666666666,
              "#ed7953"
             ],
             [
              0.7777777777777778,
              "#fb9f3a"
             ],
             [
              0.8888888888888888,
              "#fdca26"
             ],
             [
              1,
              "#f0f921"
             ]
            ],
            "type": "heatmapgl"
           }
          ],
          "histogram": [
           {
            "marker": {
             "line": {
              "width": 1
             },
             "pattern": {
              "fillmode": "overlay",
              "size": 10,
              "solidity": 0.2
             }
            },
            "type": "histogram"
           }
          ],
          "histogram2d": [
           {
            "colorbar": {
             "outlinewidth": 0,
             "ticks": ""
            },
            "colorscale": [
             [
              0,
              "#0d0887"
             ],
             [
              0.1111111111111111,
              "#46039f"
             ],
             [
              0.2222222222222222,
              "#7201a8"
             ],
             [
              0.3333333333333333,
              "#9c179e"
             ],
             [
              0.4444444444444444,
              "#bd3786"
             ],
             [
              0.5555555555555556,
              "#d8576b"
             ],
             [
              0.6666666666666666,
              "#ed7953"
             ],
             [
              0.7777777777777778,
              "#fb9f3a"
             ],
             [
              0.8888888888888888,
              "#fdca26"
             ],
             [
              1,
              "#f0f921"
             ]
            ],
            "type": "histogram2d"
           }
          ],
          "histogram2dcontour": [
           {
            "colorbar": {
             "outlinewidth": 0,
             "ticks": ""
            },
            "colorscale": [
             [
              0,
              "#0d0887"
             ],
             [
              0.1111111111111111,
              "#46039f"
             ],
             [
              0.2222222222222222,
              "#7201a8"
             ],
             [
              0.3333333333333333,
              "#9c179e"
             ],
             [
              0.4444444444444444,
              "#bd3786"
             ],
             [
              0.5555555555555556,
              "#d8576b"
             ],
             [
              0.6666666666666666,
              "#ed7953"
             ],
             [
              0.7777777777777778,
              "#fb9f3a"
             ],
             [
              0.8888888888888888,
              "#fdca26"
             ],
             [
              1,
              "#f0f921"
             ]
            ],
            "type": "histogram2dcontour"
           }
          ],
          "mesh3d": [
           {
            "colorbar": {
             "outlinewidth": 0,
             "ticks": ""
            },
            "type": "mesh3d"
           }
          ],
          "parcoords": [
           {
            "line": {
             "colorbar": {
              "outlinewidth": 0,
              "ticks": ""
             }
            },
            "type": "parcoords"
           }
          ],
          "pie": [
           {
            "automargin": true,
            "type": "pie"
           }
          ],
          "scatter": [
           {
            "marker": {
             "colorbar": {
              "outlinewidth": 0,
              "ticks": ""
             },
             "opacity": 0.8
            },
            "type": "scatter"
           }
          ],
          "scatter3d": [
           {
            "line": {
             "colorbar": {
              "outlinewidth": 0,
              "ticks": ""
             }
            },
            "marker": {
             "colorbar": {
              "outlinewidth": 0,
              "ticks": ""
             },
             "opacity": 0.8
            },
            "type": "scatter3d"
           }
          ],
          "scattercarpet": [
           {
            "marker": {
             "colorbar": {
              "outlinewidth": 0,
              "ticks": ""
             }
            },
            "type": "scattercarpet"
           }
          ],
          "scattergeo": [
           {
            "marker": {
             "colorbar": {
              "outlinewidth": 0,
              "ticks": ""
             }
            },
            "type": "scattergeo"
           }
          ],
          "scattergl": [
           {
            "marker": {
             "colorbar": {
              "outlinewidth": 0,
              "ticks": ""
             }
            },
            "type": "scattergl"
           }
          ],
          "scattermapbox": [
           {
            "marker": {
             "colorbar": {
              "outlinewidth": 0,
              "ticks": ""
             }
            },
            "type": "scattermapbox"
           }
          ],
          "scatterpolar": [
           {
            "marker": {
             "colorbar": {
              "outlinewidth": 0,
              "ticks": ""
             }
            },
            "type": "scatterpolar"
           }
          ],
          "scatterpolargl": [
           {
            "marker": {
             "colorbar": {
              "outlinewidth": 0,
              "ticks": ""
             }
            },
            "type": "scatterpolargl"
           }
          ],
          "scatterternary": [
           {
            "marker": {
             "colorbar": {
              "outlinewidth": 0,
              "ticks": ""
             }
            },
            "type": "scatterternary"
           }
          ],
          "surface": [
           {
            "colorbar": {
             "outlinewidth": 0,
             "ticks": ""
            },
            "colorscale": [
             [
              0,
              "#0d0887"
             ],
             [
              0.1111111111111111,
              "#46039f"
             ],
             [
              0.2222222222222222,
              "#7201a8"
             ],
             [
              0.3333333333333333,
              "#9c179e"
             ],
             [
              0.4444444444444444,
              "#bd3786"
             ],
             [
              0.5555555555555556,
              "#d8576b"
             ],
             [
              0.6666666666666666,
              "#ed7953"
             ],
             [
              0.7777777777777778,
              "#fb9f3a"
             ],
             [
              0.8888888888888888,
              "#fdca26"
             ],
             [
              1,
              "#f0f921"
             ]
            ],
            "type": "surface"
           }
          ],
          "table": [
           {
            "cells": {
             "fill": {
              "color": "#EBF0F8"
             },
             "line": {
              "color": "white"
             }
            },
            "header": {
             "fill": {
              "color": "#C8D4E3"
             },
             "line": {
              "color": "white"
             }
            },
            "type": "table"
           }
          ]
         },
         "layout": {
          "annotationdefaults": {
           "arrowcolor": "#2a3f5f",
           "arrowhead": 0,
           "arrowwidth": 1
          },
          "autotypenumbers": "strict",
          "coloraxis": {
           "colorbar": {
            "outlinewidth": 0,
            "ticks": ""
           }
          },
          "colorscale": {
           "diverging": [
            [
             0,
             "#8e0152"
            ],
            [
             0.1,
             "#c51b7d"
            ],
            [
             0.2,
             "#de77ae"
            ],
            [
             0.3,
             "#f1b6da"
            ],
            [
             0.4,
             "#fde0ef"
            ],
            [
             0.5,
             "#f7f7f7"
            ],
            [
             0.6,
             "#e6f5d0"
            ],
            [
             0.7,
             "#b8e186"
            ],
            [
             0.8,
             "#7fbc41"
            ],
            [
             0.9,
             "#4d9221"
            ],
            [
             1,
             "#276419"
            ]
           ],
           "sequential": [
            [
             0,
             "#0d0887"
            ],
            [
             0.1111111111111111,
             "#46039f"
            ],
            [
             0.2222222222222222,
             "#7201a8"
            ],
            [
             0.3333333333333333,
             "#9c179e"
            ],
            [
             0.4444444444444444,
             "#bd3786"
            ],
            [
             0.5555555555555556,
             "#d8576b"
            ],
            [
             0.6666666666666666,
             "#ed7953"
            ],
            [
             0.7777777777777778,
             "#fb9f3a"
            ],
            [
             0.8888888888888888,
             "#fdca26"
            ],
            [
             1,
             "#f0f921"
            ]
           ],
           "sequentialminus": [
            [
             0,
             "#0d0887"
            ],
            [
             0.1111111111111111,
             "#46039f"
            ],
            [
             0.2222222222222222,
             "#7201a8"
            ],
            [
             0.3333333333333333,
             "#9c179e"
            ],
            [
             0.4444444444444444,
             "#bd3786"
            ],
            [
             0.5555555555555556,
             "#d8576b"
            ],
            [
             0.6666666666666666,
             "#ed7953"
            ],
            [
             0.7777777777777778,
             "#fb9f3a"
            ],
            [
             0.8888888888888888,
             "#fdca26"
            ],
            [
             1,
             "#f0f921"
            ]
           ]
          },
          "colorway": [
           "#636efa",
           "#EF553B",
           "#00cc96",
           "#ab63fa",
           "#FFA15A",
           "#19d3f3",
           "#FF6692",
           "#B6E880",
           "#FF97FF",
           "#FECB52"
          ],
          "font": {
           "color": "#2a3f5f"
          },
          "geo": {
           "bgcolor": "white",
           "lakecolor": "white",
           "landcolor": "white",
           "showlakes": true,
           "showland": true,
           "subunitcolor": "#C8D4E3"
          },
          "height": 400,
          "hoverlabel": {
           "align": "left"
          },
          "hovermode": "closest",
          "mapbox": {
           "style": "light"
          },
          "margin": {
           "b": 2,
           "l": 2,
           "r": 2,
           "t": 30
          },
          "paper_bgcolor": "white",
          "plot_bgcolor": "white",
          "polar": {
           "angularaxis": {
            "gridcolor": "#EBF0F8",
            "linecolor": "#EBF0F8",
            "ticks": ""
           },
           "bgcolor": "white",
           "radialaxis": {
            "gridcolor": "#EBF0F8",
            "linecolor": "#EBF0F8",
            "ticks": ""
           }
          },
          "scene": {
           "camera": {
            "eye": {
             "x": 1.5,
             "y": 1.5,
             "z": 0.1
            }
           },
           "xaxis": {
            "backgroundcolor": "white",
            "gridcolor": "#DFE8F3",
            "gridwidth": 2,
            "linecolor": "#EBF0F8",
            "showbackground": true,
            "ticks": "",
            "zerolinecolor": "#EBF0F8"
           },
           "yaxis": {
            "backgroundcolor": "white",
            "gridcolor": "#DFE8F3",
            "gridwidth": 2,
            "linecolor": "#EBF0F8",
            "showbackground": true,
            "ticks": "",
            "zerolinecolor": "#EBF0F8"
           },
           "zaxis": {
            "backgroundcolor": "white",
            "gridcolor": "#DFE8F3",
            "gridwidth": 2,
            "linecolor": "#EBF0F8",
            "showbackground": true,
            "ticks": "",
            "zerolinecolor": "#EBF0F8"
           }
          },
          "shapedefaults": {
           "line": {
            "color": "#2a3f5f"
           }
          },
          "ternary": {
           "aaxis": {
            "gridcolor": "#DFE8F3",
            "linecolor": "#A2B1C6",
            "ticks": ""
           },
           "baxis": {
            "gridcolor": "#DFE8F3",
            "linecolor": "#A2B1C6",
            "ticks": ""
           },
           "bgcolor": "white",
           "caxis": {
            "gridcolor": "#DFE8F3",
            "linecolor": "#A2B1C6",
            "ticks": ""
           }
          },
          "title": {
           "x": 0.5
          },
          "xaxis": {
           "automargin": true,
           "gridcolor": "#EBF0F8",
           "linecolor": "#EBF0F8",
           "linewidth": 2,
           "showline": true,
           "ticks": "",
           "title": {
            "standoff": 15
           },
           "zerolinecolor": "#EBF0F8",
           "zerolinewidth": 2
          },
          "yaxis": {
           "automargin": true,
           "gridcolor": "#EBF0F8",
           "linecolor": "#EBF0F8",
           "linewidth": 2,
           "showline": true,
           "ticks": "",
           "title": {
            "standoff": 15
           },
           "zerolinecolor": "#EBF0F8",
           "zerolinewidth": 2
          }
         }
        },
        "title": {
         "text": "Avg_Brent_Crude"
        },
        "xaxis": {
         "anchor": "y",
         "domain": [
          0,
          1
         ],
         "title": {
          "text": "Avg Brent Crude"
         }
        },
        "yaxis": {
         "anchor": "x",
         "domain": [
          0,
          1
         ],
         "title": {
          "text": "Petrol"
         }
        }
       }
      }
     },
     "metadata": {},
     "output_type": "display_data"
    },
    {
     "name": "stdout",
     "output_type": "stream",
     "text": [
      "Ex_Rate\n",
      "R-squared: 0.5410971695838112\n"
     ]
    },
    {
     "data": {
      "application/vnd.plotly.v1+json": {
       "config": {
        "plotlyServerURL": "https://plot.ly"
       },
       "data": [
        {
         "hovertemplate": "Ex Rate=%{x}<br>Petrol=%{y}<extra></extra>",
         "legendgroup": "",
         "marker": {
          "color": "#636efa",
          "size": 15,
          "symbol": "circle"
         },
         "mode": "markers",
         "name": "",
         "orientation": "v",
         "showlegend": false,
         "type": "scatter",
         "x": [
          7.5246,
          7.4735,
          7.6902,
          7.4753,
          7.3749,
          7.6575,
          7.6708,
          7.5757,
          7.3178,
          7.1859,
          6.9374,
          6.9767,
          6.901,
          6.8983,
          7.2334,
          6.9512,
          6.7701,
          6.8516,
          6.8353,
          6.8134,
          7.059,
          7.5657,
          8.0012,
          8.1398,
          8.2122,
          8.0841,
          7.679,
          7.6193,
          7.8536,
          8.1031,
          8.4189,
          8.2657,
          8.2758,
          8.3075,
          8.6479,
          8.8252,
          8.6833,
          8.7629,
          8.9067,
          9.1932,
          9.1598,
          9.2987,
          10.0487,
          9.9348,
          10.0928,
          10.0027,
          9.9452,
          10.2121,
          10.3581,
          10.8105,
          11.0054,
          10.7695,
          10.5576,
          10.4042,
          10.6743,
          10.6609,
          10.6781,
          10.6781,
          11.1004,
          11.0969,
          11.4749,
          11.5777,
          11.589,
          12.0423,
          12.0459,
          11.9454,
          12.3196,
          12.4128,
          12.8609,
          13.7884,
          13.4734,
          14.0938,
          14.8819,
          16.3276,
          15.7832,
          15.4655,
          14.6477,
          15.2048,
          15.1553,
          14.4407,
          13.8016,
          14.0057,
          13.9646,
          13.9125,
          13.8687,
          13.5813,
          13.2899,
          12.9148,
          13.5105,
          13.2587,
          12.8756,
          13.15,
          13.2152,
          13.1317,
          13.621,
          14.0964,
          13.2303,
          12.2029,
          11.8167,
          11.8489,
          11.9797,
          12.5099,
          13.2871,
          13.4713,
          13.943,
          14.7899,
          14.4892,
          14.0923,
          14.1778,
          13.9476,
          13.8038,
          14.3871,
          14.1401,
          14.4127,
          14.6227,
          14.0709,
          15.1729,
          14.8432,
          14.9293,
          14.8037,
          14.4784,
          14.3276,
          14.9789,
          16.4305,
          18.4771,
          18.1715,
          17.1271,
          16.8234,
          17.2814,
          16.7204,
          16.4657,
          15.6305,
          14.939,
          15.087,
          14.763,
          14.95,
          14.448,
          14.11,
          13.92,
          14.65,
          14.77,
          14.56,
          14.72,
          15.85,
          15.92,
          15.51,
          15.23
         ],
         "xaxis": "x",
         "y": [
          785.9999999999999,
          803.9999999999999,
          810.3,
          858.3,
          871.8,
          844.8,
          826.8,
          816.8,
          806.8,
          811.8,
          831.8,
          844.8,
          872.8000000000001,
          898.8000000000001,
          941.8,
          996.4,
          1025.4,
          1023.4,
          992.4,
          1009.4,
          1018.4,
          1054.4,
          1077.4,
          1056.8,
          1061.3999999999999,
          1095.3999999999999,
          1123.4,
          1193.7,
          1221.7,
          1166.7,
          1081.7,
          1103.7,
          1193.7,
          1216.7,
          1206.6999999999998,
          1197.6999999999998,
          1185.6999999999998,
          1226.7,
          1307.7000000000003,
          1319.6000000000001,
          1246.6000000000001,
          1238.6000000000004,
          1322.6000000000001,
          1354.6000000000001,
          1346.6000000000001,
          1326.6000000000001,
          1298.6000000000001,
          1315.6,
          1356.6000000000001,
          1395.6000000000001,
          1431.6,
          1441.7,
          1426.6999999999998,
          1404.7,
          1435.7,
          1435.7000000000003,
          1368.7,
          1363.7,
          1318.7,
          1248.4999999999998,
          1123.6,
          1030.6,
          1126.6,
          1288.7,
          1288.7,
          1335.7,
          1376.7,
          1325.6999999999998,
          1246.7,
          1250.7,
          1228.7,
          1229.7,
          1226.7,
          1232.7,
          1163.7,
          1252.4,
          1264.4,
          1316.4,
          1324.4,
          1225.4,
          1207.4,
          1250.4,
          1295.4,
          1275.3999999999999,
          1333.3999999999999,
          1362.3999999999999,
          1354.3999999999999,
          1329.7,
          1378.7,
          1353.7,
          1285.7,
          1304.7,
          1371.7,
          1400.7,
          1404.7,
          1458.7,
          1441.7,
          1411.7,
          1375.7,
          1447.8000000000002,
          1496.8000000000002,
          1578.8000000000002,
          1602.6599999999999,
          1602.8000000000002,
          1607.8,
          1707.8,
          1707.8,
          1523.8,
          1400.8,
          1407.8,
          1481.8,
          1613.2,
          1667.2,
          1676.2,
          1581.2,
          1592.2,
          1603.2,
          1621.2,
          1608.2,
          1629.8700000000003,
          1616.2,
          1603.2,
          1584.2,
          1396.2,
          1222.3000000000002,
          1340.3,
          1512.3,
          1517.3,
          1518.3000000000002,
          1486.307,
          1459.3000000000002,
          1446.6000000000001,
          1486.3,
          1567.3,
          1625.3,
          1731.5,
          1722.5,
          1712.5,
          1738.5,
          1829.5,
          1827.8,
          1826.8,
          1947.8,
          2028.8000000000002,
          1960.5,
          2013.5000000000002,
          2159.5
         ],
         "yaxis": "y"
        }
       ],
       "layout": {
        "legend": {
         "tracegroupgap": 0
        },
        "shapes": [
         {
          "line": {
           "color": "rgb(228,26,28)"
          },
          "path": "M6.7701 1000.2752218587839 L 6.828929145728644 1004.0922971833663 L 6.887758291457287 1007.9093725079488 L 6.94658743718593 1011.7264478325312 L 7.005416582914573 1015.5435231571136 L 7.0642457286432165 1019.360598481696 L 7.123074874371859 1023.1776738062783 L 7.181904020100503 1026.9947491308608 L 7.240733165829146 1030.8118244554432 L 7.299562311557789 1034.6288997800257 L 7.358391457286432 1038.4459751046081 L 7.417220603015076 1042.2630504291906 L 7.476049748743719 1046.0801257537728 L 7.534878894472362 1049.8972010783552 L 7.5937080402010055 1053.7142764029377 L 7.652537185929648 1057.5313517275201 L 7.711366331658292 1061.3484270521026 L 7.770195477386935 1065.165502376685 L 7.829024623115578 1068.9825777012675 L 7.887853768844222 1072.79965302585 L 7.946682914572865 1076.6167283504324 L 8.005512060301507 1080.4338036750146 L 8.064341206030152 1084.2508789995973 L 8.123170351758795 1088.0679543241795 L 8.181999497487437 1091.885029648762 L 8.24082864321608 1095.7021049733444 L 8.299657788944725 1099.5191802979268 L 8.358486934673367 1103.3362556225093 L 8.41731608040201 1107.1533309470915 L 8.476145226130654 1110.9704062716742 L 8.534974371859297 1114.7874815962564 L 8.59380351758794 1118.6045569208388 L 8.652632663316583 1122.4216322454213 L 8.711461809045227 1126.2387075700037 L 8.77029095477387 1130.0557828945862 L 8.829120100502513 1133.8728582191684 L 8.887949246231155 1137.689933543751 L 8.9467783919598 1141.5070088683333 L 9.005607537688443 1145.324084192916 L 9.064436683417085 1149.1411595174982 L 9.12326582914573 1152.9582348420809 L 9.182094974874373 1156.775310166663 L 9.240924120603015 1160.5923854912455 L 9.29975326633166 1164.409460815828 L 9.358582412060303 1168.2265361404102 L 9.417411557788945 1172.0436114649929 L 9.476240703517588 1175.860686789575 L 9.53506984924623 1179.6777621141575 L 9.593898994974875 1183.49483743874 L 9.652728140703518 1187.3119127633224 L 9.71155728643216 1191.1289880879049 L 9.770386432160805 1194.9460634124873 L 9.829215577889448 1198.7631387370698 L 9.88804472361809 1202.580214061652 L 9.946873869346735 1206.3972893862347 L 10.005703015075378 1210.2143647108169 L 10.06453216080402 1214.0314400353993 L 10.123361306532663 1217.8485153599818 L 10.182190452261306 1221.665590684564 L 10.24101959798995 1225.4826660091467 L 10.299848743718593 1229.299741333729 L 10.358677889447236 1233.1168166583116 L 10.41750703517588 1236.9338919828938 L 10.476336180904523 1240.7509673074765 L 10.535165326633166 1244.5680426320587 L 10.59399447236181 1248.3851179566414 L 10.652823618090453 1252.2021932812236 L 10.711652763819096 1256.0192686058058 L 10.77048190954774 1259.8363439303885 L 10.829311055276381 1263.6534192549707 L 10.888140201005026 1267.4704945795534 L 10.946969346733669 1271.2875699041356 L 11.005798492462311 1275.104645228718 L 11.064627638190956 1278.9217205533005 L 11.123456783919599 1282.738795877883 L 11.182285929648241 1286.5558712024654 L 11.241115075376886 1290.3729465270478 L 11.299944221105529 1294.1900218516303 L 11.358773366834171 1298.0070971762125 L 11.417602512562816 1301.8241725007952 L 11.476431658291457 1305.6412478253774 L 11.535260804020101 1309.4583231499598 L 11.594089949748744 1313.2753984745423 L 11.652919095477387 1317.0924737991245 L 11.711748241206031 1320.9095491237072 L 11.770577386934674 1324.7266244482894 L 11.829406532663317 1328.543699772872 L 11.888235678391961 1332.3607750974543 L 11.947064824120604 1336.1778504220367 L 12.005893969849247 1339.9949257466192 L 12.064723115577891 1343.8120010712016 L 12.123552261306532 1347.629076395784 L 12.182381407035177 1351.4461517203663 L 12.241210552763821 1355.263227044949 L 12.300039698492462 1359.0803023695312 L 12.358868844221107 1362.8973776941139 L 12.41769798994975 1366.714453018696 L 12.476527135678392 1370.5315283432785 L 12.535356281407037 1374.348603667861 L 12.59418542713568 1378.1656789924434 L 12.653014572864322 1381.9827543170259 L 12.711843718592966 1385.7998296416083 L 12.77067286432161 1389.6169049661908 L 12.829502010050252 1393.433980290773 L 12.888331155778896 1397.2510556153557 L 12.947160301507537 1401.0681309399379 L 13.005989447236182 1404.8852062645203 L 13.064818592964825 1408.7022815891028 L 13.123647738693467 1412.519356913685 L 13.182476884422112 1416.3364322382677 L 13.241306030150755 1420.1535075628499 L 13.300135175879397 1423.9705828874323 L 13.358964321608042 1427.7876582120148 L 13.417793467336685 1431.6047335365972 L 13.476622613065327 1435.4218088611797 L 13.535451758793972 1439.2388841857621 L 13.594280904522613 1443.0559595103446 L 13.653110050251257 1446.8730348349268 L 13.7119391959799 1450.6901101595095 L 13.770768341708543 1454.5071854840917 L 13.829597487437187 1458.3242608086744 L 13.88842663316583 1462.1413361332566 L 13.947255778894473 1465.958411457839 L 14.006084924623117 1469.7754867824215 L 14.06491407035176 1473.592562107004 L 14.123743216080403 1477.4096374315864 L 14.182572361809047 1481.2267127561688 L 14.241401507537688 1485.043788080751 L 14.300230653266333 1488.8608634053335 L 14.359059798994977 1492.6779387299161 L 14.417888944723618 1496.4950140544984 L 14.476718090452263 1500.3120893790808 L 14.535547236180905 1504.1291647036633 L 14.594376381909548 1507.9462400282455 L 14.653205527638193 1511.7633153528282 L 14.712034673366835 1515.5803906774104 L 14.770863819095478 1519.3974660019928 L 14.829692964824122 1523.2145413265753 L 14.888522110552763 1527.0316166511575 L 14.947351256281408 1530.8486919757402 L 15.006180402010052 1534.6657673003226 L 15.065009547738693 1538.482842624905 L 15.123838693467338 1542.2999179494873 L 15.182667839195982 1546.11699327407 L 15.241496984924623 1549.9340685986522 L 15.300326130653268 1553.7511439232348 L 15.359155276381909 1557.568219247817 L 15.417984422110553 1561.3852945723995 L 15.476813567839198 1565.202369896982 L 15.535642713567839 1569.0194452215642 L 15.594471859296483 1572.8365205461469 L 15.653301005025128 1576.6535958707293 L 15.712130150753769 1580.4706711953115 L 15.770959296482413 1584.287746519894 L 15.829788442211058 1588.1048218444764 L 15.888617587939699 1591.9218971690589 L 15.947446733668343 1595.7389724936413 L 16.006275879396988 1599.5560478182238 L 16.06510502512563 1603.373123142806 L 16.123934170854273 1607.1901984673887 L 16.182763316582914 1611.0072737919709 L 16.24159246231156 1614.8243491165533 L 16.300421608040203 1618.6414244411358 L 16.359250753768844 1622.4584997657182 L 16.41807989949749 1626.2755750903007 L 16.476909045226133 1630.092650414883 L 16.535738190954774 1633.9097257394653 L 16.59456733668342 1637.726801064048 L 16.653396482412063 1641.5438763886305 L 16.712225628140704 1645.3609517132127 L 16.77105477386935 1649.1780270377951 L 16.82988391959799 1652.9951023623776 L 16.888713065326634 1656.81217768696 L 16.94754221105528 1660.6292530115425 L 17.00637135678392 1664.4463283361247 L 17.065200502512564 1668.2634036607071 L 17.12402964824121 1672.0804789852898 L 17.18285879396985 1675.897554309872 L 17.241687939698494 1679.7146296344545 L 17.30051708542714 1683.531704959037 L 17.35934623115578 1687.3487802836194 L 17.418175376884424 1691.1658556082018 L 17.477004522613065 1694.982930932784 L 17.53583366834171 1698.8000062573665 L 17.594662814070354 1702.6170815819492 L 17.653491959798995 1706.4341569065314 L 17.71232110552764 1710.2512322311138 L 17.771150251256284 1714.0683075556963 L 17.829979396984925 1717.8853828802787 L 17.88880854271357 1721.7024582048612 L 17.947637688442214 1725.5195335294436 L 18.006466834170855 1729.3366088540258 L 18.0652959798995 1733.1536841786085 L 18.124125125628144 1736.970759503191 L 18.182954271356785 1740.7878348277732 L 18.24178341708543 1744.6049101523556 L 18.30061256281407 1748.421985476938 L 18.359441708542715 1752.2390608015205 L 18.41827085427136 1756.056136126103 L 18.4771 1759.8732114506852",
          "type": "path"
         }
        ],
        "template": {
         "data": {
          "bar": [
           {
            "error_x": {
             "color": "#2a3f5f"
            },
            "error_y": {
             "color": "#2a3f5f"
            },
            "marker": {
             "line": {
              "color": "white",
              "width": 0.5
             },
             "pattern": {
              "fillmode": "overlay",
              "size": 10,
              "solidity": 0.2
             }
            },
            "type": "bar"
           }
          ],
          "barpolar": [
           {
            "marker": {
             "line": {
              "color": "white",
              "width": 0.5
             },
             "pattern": {
              "fillmode": "overlay",
              "size": 10,
              "solidity": 0.2
             }
            },
            "type": "barpolar"
           }
          ],
          "box": [
           {
            "boxpoints": "outliers",
            "notched": false,
            "type": "box"
           }
          ],
          "carpet": [
           {
            "aaxis": {
             "endlinecolor": "#2a3f5f",
             "gridcolor": "#C8D4E3",
             "linecolor": "#C8D4E3",
             "minorgridcolor": "#C8D4E3",
             "startlinecolor": "#2a3f5f"
            },
            "baxis": {
             "endlinecolor": "#2a3f5f",
             "gridcolor": "#C8D4E3",
             "linecolor": "#C8D4E3",
             "minorgridcolor": "#C8D4E3",
             "startlinecolor": "#2a3f5f"
            },
            "type": "carpet"
           }
          ],
          "choropleth": [
           {
            "colorbar": {
             "outlinewidth": 0,
             "ticks": ""
            },
            "type": "choropleth"
           }
          ],
          "contour": [
           {
            "colorbar": {
             "outlinewidth": 0,
             "ticks": ""
            },
            "colorscale": [
             [
              0,
              "#0d0887"
             ],
             [
              0.1111111111111111,
              "#46039f"
             ],
             [
              0.2222222222222222,
              "#7201a8"
             ],
             [
              0.3333333333333333,
              "#9c179e"
             ],
             [
              0.4444444444444444,
              "#bd3786"
             ],
             [
              0.5555555555555556,
              "#d8576b"
             ],
             [
              0.6666666666666666,
              "#ed7953"
             ],
             [
              0.7777777777777778,
              "#fb9f3a"
             ],
             [
              0.8888888888888888,
              "#fdca26"
             ],
             [
              1,
              "#f0f921"
             ]
            ],
            "type": "contour"
           }
          ],
          "contourcarpet": [
           {
            "colorbar": {
             "outlinewidth": 0,
             "ticks": ""
            },
            "type": "contourcarpet"
           }
          ],
          "heatmap": [
           {
            "colorbar": {
             "outlinewidth": 0,
             "ticks": ""
            },
            "colorscale": [
             [
              0,
              "#0d0887"
             ],
             [
              0.1111111111111111,
              "#46039f"
             ],
             [
              0.2222222222222222,
              "#7201a8"
             ],
             [
              0.3333333333333333,
              "#9c179e"
             ],
             [
              0.4444444444444444,
              "#bd3786"
             ],
             [
              0.5555555555555556,
              "#d8576b"
             ],
             [
              0.6666666666666666,
              "#ed7953"
             ],
             [
              0.7777777777777778,
              "#fb9f3a"
             ],
             [
              0.8888888888888888,
              "#fdca26"
             ],
             [
              1,
              "#f0f921"
             ]
            ],
            "type": "heatmap"
           }
          ],
          "heatmapgl": [
           {
            "colorbar": {
             "outlinewidth": 0,
             "ticks": ""
            },
            "colorscale": [
             [
              0,
              "#0d0887"
             ],
             [
              0.1111111111111111,
              "#46039f"
             ],
             [
              0.2222222222222222,
              "#7201a8"
             ],
             [
              0.3333333333333333,
              "#9c179e"
             ],
             [
              0.4444444444444444,
              "#bd3786"
             ],
             [
              0.5555555555555556,
              "#d8576b"
             ],
             [
              0.6666666666666666,
              "#ed7953"
             ],
             [
              0.7777777777777778,
              "#fb9f3a"
             ],
             [
              0.8888888888888888,
              "#fdca26"
             ],
             [
              1,
              "#f0f921"
             ]
            ],
            "type": "heatmapgl"
           }
          ],
          "histogram": [
           {
            "marker": {
             "line": {
              "width": 1
             },
             "pattern": {
              "fillmode": "overlay",
              "size": 10,
              "solidity": 0.2
             }
            },
            "type": "histogram"
           }
          ],
          "histogram2d": [
           {
            "colorbar": {
             "outlinewidth": 0,
             "ticks": ""
            },
            "colorscale": [
             [
              0,
              "#0d0887"
             ],
             [
              0.1111111111111111,
              "#46039f"
             ],
             [
              0.2222222222222222,
              "#7201a8"
             ],
             [
              0.3333333333333333,
              "#9c179e"
             ],
             [
              0.4444444444444444,
              "#bd3786"
             ],
             [
              0.5555555555555556,
              "#d8576b"
             ],
             [
              0.6666666666666666,
              "#ed7953"
             ],
             [
              0.7777777777777778,
              "#fb9f3a"
             ],
             [
              0.8888888888888888,
              "#fdca26"
             ],
             [
              1,
              "#f0f921"
             ]
            ],
            "type": "histogram2d"
           }
          ],
          "histogram2dcontour": [
           {
            "colorbar": {
             "outlinewidth": 0,
             "ticks": ""
            },
            "colorscale": [
             [
              0,
              "#0d0887"
             ],
             [
              0.1111111111111111,
              "#46039f"
             ],
             [
              0.2222222222222222,
              "#7201a8"
             ],
             [
              0.3333333333333333,
              "#9c179e"
             ],
             [
              0.4444444444444444,
              "#bd3786"
             ],
             [
              0.5555555555555556,
              "#d8576b"
             ],
             [
              0.6666666666666666,
              "#ed7953"
             ],
             [
              0.7777777777777778,
              "#fb9f3a"
             ],
             [
              0.8888888888888888,
              "#fdca26"
             ],
             [
              1,
              "#f0f921"
             ]
            ],
            "type": "histogram2dcontour"
           }
          ],
          "mesh3d": [
           {
            "colorbar": {
             "outlinewidth": 0,
             "ticks": ""
            },
            "type": "mesh3d"
           }
          ],
          "parcoords": [
           {
            "line": {
             "colorbar": {
              "outlinewidth": 0,
              "ticks": ""
             }
            },
            "type": "parcoords"
           }
          ],
          "pie": [
           {
            "automargin": true,
            "type": "pie"
           }
          ],
          "scatter": [
           {
            "marker": {
             "colorbar": {
              "outlinewidth": 0,
              "ticks": ""
             },
             "opacity": 0.8
            },
            "type": "scatter"
           }
          ],
          "scatter3d": [
           {
            "line": {
             "colorbar": {
              "outlinewidth": 0,
              "ticks": ""
             }
            },
            "marker": {
             "colorbar": {
              "outlinewidth": 0,
              "ticks": ""
             },
             "opacity": 0.8
            },
            "type": "scatter3d"
           }
          ],
          "scattercarpet": [
           {
            "marker": {
             "colorbar": {
              "outlinewidth": 0,
              "ticks": ""
             }
            },
            "type": "scattercarpet"
           }
          ],
          "scattergeo": [
           {
            "marker": {
             "colorbar": {
              "outlinewidth": 0,
              "ticks": ""
             }
            },
            "type": "scattergeo"
           }
          ],
          "scattergl": [
           {
            "marker": {
             "colorbar": {
              "outlinewidth": 0,
              "ticks": ""
             }
            },
            "type": "scattergl"
           }
          ],
          "scattermapbox": [
           {
            "marker": {
             "colorbar": {
              "outlinewidth": 0,
              "ticks": ""
             }
            },
            "type": "scattermapbox"
           }
          ],
          "scatterpolar": [
           {
            "marker": {
             "colorbar": {
              "outlinewidth": 0,
              "ticks": ""
             }
            },
            "type": "scatterpolar"
           }
          ],
          "scatterpolargl": [
           {
            "marker": {
             "colorbar": {
              "outlinewidth": 0,
              "ticks": ""
             }
            },
            "type": "scatterpolargl"
           }
          ],
          "scatterternary": [
           {
            "marker": {
             "colorbar": {
              "outlinewidth": 0,
              "ticks": ""
             }
            },
            "type": "scatterternary"
           }
          ],
          "surface": [
           {
            "colorbar": {
             "outlinewidth": 0,
             "ticks": ""
            },
            "colorscale": [
             [
              0,
              "#0d0887"
             ],
             [
              0.1111111111111111,
              "#46039f"
             ],
             [
              0.2222222222222222,
              "#7201a8"
             ],
             [
              0.3333333333333333,
              "#9c179e"
             ],
             [
              0.4444444444444444,
              "#bd3786"
             ],
             [
              0.5555555555555556,
              "#d8576b"
             ],
             [
              0.6666666666666666,
              "#ed7953"
             ],
             [
              0.7777777777777778,
              "#fb9f3a"
             ],
             [
              0.8888888888888888,
              "#fdca26"
             ],
             [
              1,
              "#f0f921"
             ]
            ],
            "type": "surface"
           }
          ],
          "table": [
           {
            "cells": {
             "fill": {
              "color": "#EBF0F8"
             },
             "line": {
              "color": "white"
             }
            },
            "header": {
             "fill": {
              "color": "#C8D4E3"
             },
             "line": {
              "color": "white"
             }
            },
            "type": "table"
           }
          ]
         },
         "layout": {
          "annotationdefaults": {
           "arrowcolor": "#2a3f5f",
           "arrowhead": 0,
           "arrowwidth": 1
          },
          "autotypenumbers": "strict",
          "coloraxis": {
           "colorbar": {
            "outlinewidth": 0,
            "ticks": ""
           }
          },
          "colorscale": {
           "diverging": [
            [
             0,
             "#8e0152"
            ],
            [
             0.1,
             "#c51b7d"
            ],
            [
             0.2,
             "#de77ae"
            ],
            [
             0.3,
             "#f1b6da"
            ],
            [
             0.4,
             "#fde0ef"
            ],
            [
             0.5,
             "#f7f7f7"
            ],
            [
             0.6,
             "#e6f5d0"
            ],
            [
             0.7,
             "#b8e186"
            ],
            [
             0.8,
             "#7fbc41"
            ],
            [
             0.9,
             "#4d9221"
            ],
            [
             1,
             "#276419"
            ]
           ],
           "sequential": [
            [
             0,
             "#0d0887"
            ],
            [
             0.1111111111111111,
             "#46039f"
            ],
            [
             0.2222222222222222,
             "#7201a8"
            ],
            [
             0.3333333333333333,
             "#9c179e"
            ],
            [
             0.4444444444444444,
             "#bd3786"
            ],
            [
             0.5555555555555556,
             "#d8576b"
            ],
            [
             0.6666666666666666,
             "#ed7953"
            ],
            [
             0.7777777777777778,
             "#fb9f3a"
            ],
            [
             0.8888888888888888,
             "#fdca26"
            ],
            [
             1,
             "#f0f921"
            ]
           ],
           "sequentialminus": [
            [
             0,
             "#0d0887"
            ],
            [
             0.1111111111111111,
             "#46039f"
            ],
            [
             0.2222222222222222,
             "#7201a8"
            ],
            [
             0.3333333333333333,
             "#9c179e"
            ],
            [
             0.4444444444444444,
             "#bd3786"
            ],
            [
             0.5555555555555556,
             "#d8576b"
            ],
            [
             0.6666666666666666,
             "#ed7953"
            ],
            [
             0.7777777777777778,
             "#fb9f3a"
            ],
            [
             0.8888888888888888,
             "#fdca26"
            ],
            [
             1,
             "#f0f921"
            ]
           ]
          },
          "colorway": [
           "#636efa",
           "#EF553B",
           "#00cc96",
           "#ab63fa",
           "#FFA15A",
           "#19d3f3",
           "#FF6692",
           "#B6E880",
           "#FF97FF",
           "#FECB52"
          ],
          "font": {
           "color": "#2a3f5f"
          },
          "geo": {
           "bgcolor": "white",
           "lakecolor": "white",
           "landcolor": "white",
           "showlakes": true,
           "showland": true,
           "subunitcolor": "#C8D4E3"
          },
          "height": 400,
          "hoverlabel": {
           "align": "left"
          },
          "hovermode": "closest",
          "mapbox": {
           "style": "light"
          },
          "margin": {
           "b": 2,
           "l": 2,
           "r": 2,
           "t": 30
          },
          "paper_bgcolor": "white",
          "plot_bgcolor": "white",
          "polar": {
           "angularaxis": {
            "gridcolor": "#EBF0F8",
            "linecolor": "#EBF0F8",
            "ticks": ""
           },
           "bgcolor": "white",
           "radialaxis": {
            "gridcolor": "#EBF0F8",
            "linecolor": "#EBF0F8",
            "ticks": ""
           }
          },
          "scene": {
           "camera": {
            "eye": {
             "x": 1.5,
             "y": 1.5,
             "z": 0.1
            }
           },
           "xaxis": {
            "backgroundcolor": "white",
            "gridcolor": "#DFE8F3",
            "gridwidth": 2,
            "linecolor": "#EBF0F8",
            "showbackground": true,
            "ticks": "",
            "zerolinecolor": "#EBF0F8"
           },
           "yaxis": {
            "backgroundcolor": "white",
            "gridcolor": "#DFE8F3",
            "gridwidth": 2,
            "linecolor": "#EBF0F8",
            "showbackground": true,
            "ticks": "",
            "zerolinecolor": "#EBF0F8"
           },
           "zaxis": {
            "backgroundcolor": "white",
            "gridcolor": "#DFE8F3",
            "gridwidth": 2,
            "linecolor": "#EBF0F8",
            "showbackground": true,
            "ticks": "",
            "zerolinecolor": "#EBF0F8"
           }
          },
          "shapedefaults": {
           "line": {
            "color": "#2a3f5f"
           }
          },
          "ternary": {
           "aaxis": {
            "gridcolor": "#DFE8F3",
            "linecolor": "#A2B1C6",
            "ticks": ""
           },
           "baxis": {
            "gridcolor": "#DFE8F3",
            "linecolor": "#A2B1C6",
            "ticks": ""
           },
           "bgcolor": "white",
           "caxis": {
            "gridcolor": "#DFE8F3",
            "linecolor": "#A2B1C6",
            "ticks": ""
           }
          },
          "title": {
           "x": 0.5
          },
          "xaxis": {
           "automargin": true,
           "gridcolor": "#EBF0F8",
           "linecolor": "#EBF0F8",
           "linewidth": 2,
           "showline": true,
           "ticks": "",
           "title": {
            "standoff": 15
           },
           "zerolinecolor": "#EBF0F8",
           "zerolinewidth": 2
          },
          "yaxis": {
           "automargin": true,
           "gridcolor": "#EBF0F8",
           "linecolor": "#EBF0F8",
           "linewidth": 2,
           "showline": true,
           "ticks": "",
           "title": {
            "standoff": 15
           },
           "zerolinecolor": "#EBF0F8",
           "zerolinewidth": 2
          }
         }
        },
        "title": {
         "text": "Ex_Rate"
        },
        "xaxis": {
         "anchor": "y",
         "domain": [
          0,
          1
         ],
         "title": {
          "text": "Ex Rate"
         }
        },
        "yaxis": {
         "anchor": "x",
         "domain": [
          0,
          1
         ],
         "title": {
          "text": "Petrol"
         }
        }
       }
      }
     },
     "metadata": {},
     "output_type": "display_data"
    }
   ],
   "source": [
    "import statsmodels.formula.api as smf\n",
    "import graphing # custom graphing code from Microsft\n",
    "\n",
    "for feature in [\"Avg_Brent_Crude\", \"Ex_Rate\"]:\n",
    "    # Perform linear regression. This method takes care of\n",
    "    # the entire fitting procedure for us.\n",
    "    formula = \"Petrol ~ \" + feature\n",
    "    simple_model = smf.ols(formula = formula, data = dataset).fit()\n",
    "\n",
    "    print(feature)\n",
    "    print(\"R-squared:\", simple_model.rsquared)\n",
    "    \n",
    "    # Show a graph of the result\n",
    "    graphing.scatter_2D(dataset, label_x=feature, \n",
    "                                 label_y=\"Petrol\",\n",
    "                                 title = feature,\n",
    "                                 trendline=lambda x: simple_model.params[1] * x + simple_model.params[0],\n",
    "                                 show=True)"
   ]
  },
  {
   "cell_type": "markdown",
   "metadata": {},
   "source": [
    "### R-Squared"
   ]
  },
  {
   "cell_type": "code",
   "execution_count": 14,
   "metadata": {},
   "outputs": [
    {
     "name": "stdout",
     "output_type": "stream",
     "text": [
      "naive R-squared: 2.220446049250313e-16\n",
      "trained R-squared: 0.5410971695838112\n"
     ]
    },
    {
     "data": {
      "application/vnd.plotly.v1+json": {
       "config": {
        "plotlyServerURL": "https://plot.ly"
       },
       "data": [
        {
         "hovertemplate": "Ex Rate=%{x}<br>Petrol=%{y}<extra></extra>",
         "legendgroup": "",
         "marker": {
          "color": "#636efa",
          "size": 15,
          "symbol": "circle"
         },
         "mode": "markers",
         "name": "",
         "orientation": "v",
         "showlegend": false,
         "type": "scatter",
         "x": [
          7.5246,
          7.4735,
          7.6902,
          7.4753,
          7.3749,
          7.6575,
          7.6708,
          7.5757,
          7.3178,
          7.1859,
          6.9374,
          6.9767,
          6.901,
          6.8983,
          7.2334,
          6.9512,
          6.7701,
          6.8516,
          6.8353,
          6.8134,
          7.059,
          7.5657,
          8.0012,
          8.1398,
          8.2122,
          8.0841,
          7.679,
          7.6193,
          7.8536,
          8.1031,
          8.4189,
          8.2657,
          8.2758,
          8.3075,
          8.6479,
          8.8252,
          8.6833,
          8.7629,
          8.9067,
          9.1932,
          9.1598,
          9.2987,
          10.0487,
          9.9348,
          10.0928,
          10.0027,
          9.9452,
          10.2121,
          10.3581,
          10.8105,
          11.0054,
          10.7695,
          10.5576,
          10.4042,
          10.6743,
          10.6609,
          10.6781,
          10.6781,
          11.1004,
          11.0969,
          11.4749,
          11.5777,
          11.589,
          12.0423,
          12.0459,
          11.9454,
          12.3196,
          12.4128,
          12.8609,
          13.7884,
          13.4734,
          14.0938,
          14.8819,
          16.3276,
          15.7832,
          15.4655,
          14.6477,
          15.2048,
          15.1553,
          14.4407,
          13.8016,
          14.0057,
          13.9646,
          13.9125,
          13.8687,
          13.5813,
          13.2899,
          12.9148,
          13.5105,
          13.2587,
          12.8756,
          13.15,
          13.2152,
          13.1317,
          13.621,
          14.0964,
          13.2303,
          12.2029,
          11.8167,
          11.8489,
          11.9797,
          12.5099,
          13.2871,
          13.4713,
          13.943,
          14.7899,
          14.4892,
          14.0923,
          14.1778,
          13.9476,
          13.8038,
          14.3871,
          14.1401,
          14.4127,
          14.6227,
          14.0709,
          15.1729,
          14.8432,
          14.9293,
          14.8037,
          14.4784,
          14.3276,
          14.9789,
          16.4305,
          18.4771,
          18.1715,
          17.1271,
          16.8234,
          17.2814,
          16.7204,
          16.4657,
          15.6305,
          14.939,
          15.087,
          14.763,
          14.95,
          14.448,
          14.11,
          13.92,
          14.65,
          14.77,
          14.56,
          14.72,
          15.85,
          15.92,
          15.51,
          15.23
         ],
         "xaxis": "x",
         "y": [
          785.9999999999999,
          803.9999999999999,
          810.3,
          858.3,
          871.8,
          844.8,
          826.8,
          816.8,
          806.8,
          811.8,
          831.8,
          844.8,
          872.8000000000001,
          898.8000000000001,
          941.8,
          996.4,
          1025.4,
          1023.4,
          992.4,
          1009.4,
          1018.4,
          1054.4,
          1077.4,
          1056.8,
          1061.3999999999999,
          1095.3999999999999,
          1123.4,
          1193.7,
          1221.7,
          1166.7,
          1081.7,
          1103.7,
          1193.7,
          1216.7,
          1206.6999999999998,
          1197.6999999999998,
          1185.6999999999998,
          1226.7,
          1307.7000000000003,
          1319.6000000000001,
          1246.6000000000001,
          1238.6000000000004,
          1322.6000000000001,
          1354.6000000000001,
          1346.6000000000001,
          1326.6000000000001,
          1298.6000000000001,
          1315.6,
          1356.6000000000001,
          1395.6000000000001,
          1431.6,
          1441.7,
          1426.6999999999998,
          1404.7,
          1435.7,
          1435.7000000000003,
          1368.7,
          1363.7,
          1318.7,
          1248.4999999999998,
          1123.6,
          1030.6,
          1126.6,
          1288.7,
          1288.7,
          1335.7,
          1376.7,
          1325.6999999999998,
          1246.7,
          1250.7,
          1228.7,
          1229.7,
          1226.7,
          1232.7,
          1163.7,
          1252.4,
          1264.4,
          1316.4,
          1324.4,
          1225.4,
          1207.4,
          1250.4,
          1295.4,
          1275.3999999999999,
          1333.3999999999999,
          1362.3999999999999,
          1354.3999999999999,
          1329.7,
          1378.7,
          1353.7,
          1285.7,
          1304.7,
          1371.7,
          1400.7,
          1404.7,
          1458.7,
          1441.7,
          1411.7,
          1375.7,
          1447.8000000000002,
          1496.8000000000002,
          1578.8000000000002,
          1602.6599999999999,
          1602.8000000000002,
          1607.8,
          1707.8,
          1707.8,
          1523.8,
          1400.8,
          1407.8,
          1481.8,
          1613.2,
          1667.2,
          1676.2,
          1581.2,
          1592.2,
          1603.2,
          1621.2,
          1608.2,
          1629.8700000000003,
          1616.2,
          1603.2,
          1584.2,
          1396.2,
          1222.3000000000002,
          1340.3,
          1512.3,
          1517.3,
          1518.3000000000002,
          1486.307,
          1459.3000000000002,
          1446.6000000000001,
          1486.3,
          1567.3,
          1625.3,
          1731.5,
          1722.5,
          1712.5,
          1738.5,
          1829.5,
          1827.8,
          1826.8,
          1947.8,
          2028.8000000000002,
          1960.5,
          2013.5000000000002,
          2159.5
         ],
         "yaxis": "y"
        }
       ],
       "layout": {
        "legend": {
         "tracegroupgap": 0
        },
        "shapes": [
         {
          "line": {
           "color": "rgb(228,26,28)"
          },
          "path": "M6.7701 1335.7499115646258 L 6.828929145728644 1335.7499115646258 L 6.887758291457287 1335.7499115646258 L 6.94658743718593 1335.7499115646258 L 7.005416582914573 1335.7499115646258 L 7.0642457286432165 1335.7499115646258 L 7.123074874371859 1335.7499115646258 L 7.181904020100503 1335.7499115646258 L 7.240733165829146 1335.7499115646258 L 7.299562311557789 1335.7499115646258 L 7.358391457286432 1335.7499115646258 L 7.417220603015076 1335.7499115646258 L 7.476049748743719 1335.7499115646258 L 7.534878894472362 1335.7499115646258 L 7.5937080402010055 1335.7499115646258 L 7.652537185929648 1335.7499115646258 L 7.711366331658292 1335.7499115646258 L 7.770195477386935 1335.7499115646258 L 7.829024623115578 1335.7499115646258 L 7.887853768844222 1335.7499115646258 L 7.946682914572865 1335.7499115646258 L 8.005512060301507 1335.7499115646258 L 8.064341206030152 1335.7499115646258 L 8.123170351758795 1335.7499115646258 L 8.181999497487437 1335.7499115646258 L 8.24082864321608 1335.7499115646258 L 8.299657788944725 1335.7499115646258 L 8.358486934673367 1335.7499115646258 L 8.41731608040201 1335.7499115646258 L 8.476145226130654 1335.7499115646258 L 8.534974371859297 1335.7499115646258 L 8.59380351758794 1335.7499115646258 L 8.652632663316583 1335.7499115646258 L 8.711461809045227 1335.7499115646258 L 8.77029095477387 1335.7499115646258 L 8.829120100502513 1335.7499115646258 L 8.887949246231155 1335.7499115646258 L 8.9467783919598 1335.7499115646258 L 9.005607537688443 1335.7499115646258 L 9.064436683417085 1335.7499115646258 L 9.12326582914573 1335.7499115646258 L 9.182094974874373 1335.7499115646258 L 9.240924120603015 1335.7499115646258 L 9.29975326633166 1335.7499115646258 L 9.358582412060303 1335.7499115646258 L 9.417411557788945 1335.7499115646258 L 9.476240703517588 1335.7499115646258 L 9.53506984924623 1335.7499115646258 L 9.593898994974875 1335.7499115646258 L 9.652728140703518 1335.7499115646258 L 9.71155728643216 1335.7499115646258 L 9.770386432160805 1335.7499115646258 L 9.829215577889448 1335.7499115646258 L 9.88804472361809 1335.7499115646258 L 9.946873869346735 1335.7499115646258 L 10.005703015075378 1335.7499115646258 L 10.06453216080402 1335.7499115646258 L 10.123361306532663 1335.7499115646258 L 10.182190452261306 1335.7499115646258 L 10.24101959798995 1335.7499115646258 L 10.299848743718593 1335.7499115646258 L 10.358677889447236 1335.7499115646258 L 10.41750703517588 1335.7499115646258 L 10.476336180904523 1335.7499115646258 L 10.535165326633166 1335.7499115646258 L 10.59399447236181 1335.7499115646258 L 10.652823618090453 1335.7499115646258 L 10.711652763819096 1335.7499115646258 L 10.77048190954774 1335.7499115646258 L 10.829311055276381 1335.7499115646258 L 10.888140201005026 1335.7499115646258 L 10.946969346733669 1335.7499115646258 L 11.005798492462311 1335.7499115646258 L 11.064627638190956 1335.7499115646258 L 11.123456783919599 1335.7499115646258 L 11.182285929648241 1335.7499115646258 L 11.241115075376886 1335.7499115646258 L 11.299944221105529 1335.7499115646258 L 11.358773366834171 1335.7499115646258 L 11.417602512562816 1335.7499115646258 L 11.476431658291457 1335.7499115646258 L 11.535260804020101 1335.7499115646258 L 11.594089949748744 1335.7499115646258 L 11.652919095477387 1335.7499115646258 L 11.711748241206031 1335.7499115646258 L 11.770577386934674 1335.7499115646258 L 11.829406532663317 1335.7499115646258 L 11.888235678391961 1335.7499115646258 L 11.947064824120604 1335.7499115646258 L 12.005893969849247 1335.7499115646258 L 12.064723115577891 1335.7499115646258 L 12.123552261306532 1335.7499115646258 L 12.182381407035177 1335.7499115646258 L 12.241210552763821 1335.7499115646258 L 12.300039698492462 1335.7499115646258 L 12.358868844221107 1335.7499115646258 L 12.41769798994975 1335.7499115646258 L 12.476527135678392 1335.7499115646258 L 12.535356281407037 1335.7499115646258 L 12.59418542713568 1335.7499115646258 L 12.653014572864322 1335.7499115646258 L 12.711843718592966 1335.7499115646258 L 12.77067286432161 1335.7499115646258 L 12.829502010050252 1335.7499115646258 L 12.888331155778896 1335.7499115646258 L 12.947160301507537 1335.7499115646258 L 13.005989447236182 1335.7499115646258 L 13.064818592964825 1335.7499115646258 L 13.123647738693467 1335.7499115646258 L 13.182476884422112 1335.7499115646258 L 13.241306030150755 1335.7499115646258 L 13.300135175879397 1335.7499115646258 L 13.358964321608042 1335.7499115646258 L 13.417793467336685 1335.7499115646258 L 13.476622613065327 1335.7499115646258 L 13.535451758793972 1335.7499115646258 L 13.594280904522613 1335.7499115646258 L 13.653110050251257 1335.7499115646258 L 13.7119391959799 1335.7499115646258 L 13.770768341708543 1335.7499115646258 L 13.829597487437187 1335.7499115646258 L 13.88842663316583 1335.7499115646258 L 13.947255778894473 1335.7499115646258 L 14.006084924623117 1335.7499115646258 L 14.06491407035176 1335.7499115646258 L 14.123743216080403 1335.7499115646258 L 14.182572361809047 1335.7499115646258 L 14.241401507537688 1335.7499115646258 L 14.300230653266333 1335.7499115646258 L 14.359059798994977 1335.7499115646258 L 14.417888944723618 1335.7499115646258 L 14.476718090452263 1335.7499115646258 L 14.535547236180905 1335.7499115646258 L 14.594376381909548 1335.7499115646258 L 14.653205527638193 1335.7499115646258 L 14.712034673366835 1335.7499115646258 L 14.770863819095478 1335.7499115646258 L 14.829692964824122 1335.7499115646258 L 14.888522110552763 1335.7499115646258 L 14.947351256281408 1335.7499115646258 L 15.006180402010052 1335.7499115646258 L 15.065009547738693 1335.7499115646258 L 15.123838693467338 1335.7499115646258 L 15.182667839195982 1335.7499115646258 L 15.241496984924623 1335.7499115646258 L 15.300326130653268 1335.7499115646258 L 15.359155276381909 1335.7499115646258 L 15.417984422110553 1335.7499115646258 L 15.476813567839198 1335.7499115646258 L 15.535642713567839 1335.7499115646258 L 15.594471859296483 1335.7499115646258 L 15.653301005025128 1335.7499115646258 L 15.712130150753769 1335.7499115646258 L 15.770959296482413 1335.7499115646258 L 15.829788442211058 1335.7499115646258 L 15.888617587939699 1335.7499115646258 L 15.947446733668343 1335.7499115646258 L 16.006275879396988 1335.7499115646258 L 16.06510502512563 1335.7499115646258 L 16.123934170854273 1335.7499115646258 L 16.182763316582914 1335.7499115646258 L 16.24159246231156 1335.7499115646258 L 16.300421608040203 1335.7499115646258 L 16.359250753768844 1335.7499115646258 L 16.41807989949749 1335.7499115646258 L 16.476909045226133 1335.7499115646258 L 16.535738190954774 1335.7499115646258 L 16.59456733668342 1335.7499115646258 L 16.653396482412063 1335.7499115646258 L 16.712225628140704 1335.7499115646258 L 16.77105477386935 1335.7499115646258 L 16.82988391959799 1335.7499115646258 L 16.888713065326634 1335.7499115646258 L 16.94754221105528 1335.7499115646258 L 17.00637135678392 1335.7499115646258 L 17.065200502512564 1335.7499115646258 L 17.12402964824121 1335.7499115646258 L 17.18285879396985 1335.7499115646258 L 17.241687939698494 1335.7499115646258 L 17.30051708542714 1335.7499115646258 L 17.35934623115578 1335.7499115646258 L 17.418175376884424 1335.7499115646258 L 17.477004522613065 1335.7499115646258 L 17.53583366834171 1335.7499115646258 L 17.594662814070354 1335.7499115646258 L 17.653491959798995 1335.7499115646258 L 17.71232110552764 1335.7499115646258 L 17.771150251256284 1335.7499115646258 L 17.829979396984925 1335.7499115646258 L 17.88880854271357 1335.7499115646258 L 17.947637688442214 1335.7499115646258 L 18.006466834170855 1335.7499115646258 L 18.0652959798995 1335.7499115646258 L 18.124125125628144 1335.7499115646258 L 18.182954271356785 1335.7499115646258 L 18.24178341708543 1335.7499115646258 L 18.30061256281407 1335.7499115646258 L 18.359441708542715 1335.7499115646258 L 18.41827085427136 1335.7499115646258 L 18.4771 1335.7499115646258",
          "type": "path"
         }
        ],
        "template": {
         "data": {
          "bar": [
           {
            "error_x": {
             "color": "#2a3f5f"
            },
            "error_y": {
             "color": "#2a3f5f"
            },
            "marker": {
             "line": {
              "color": "white",
              "width": 0.5
             },
             "pattern": {
              "fillmode": "overlay",
              "size": 10,
              "solidity": 0.2
             }
            },
            "type": "bar"
           }
          ],
          "barpolar": [
           {
            "marker": {
             "line": {
              "color": "white",
              "width": 0.5
             },
             "pattern": {
              "fillmode": "overlay",
              "size": 10,
              "solidity": 0.2
             }
            },
            "type": "barpolar"
           }
          ],
          "box": [
           {
            "boxpoints": "outliers",
            "notched": false,
            "type": "box"
           }
          ],
          "carpet": [
           {
            "aaxis": {
             "endlinecolor": "#2a3f5f",
             "gridcolor": "#C8D4E3",
             "linecolor": "#C8D4E3",
             "minorgridcolor": "#C8D4E3",
             "startlinecolor": "#2a3f5f"
            },
            "baxis": {
             "endlinecolor": "#2a3f5f",
             "gridcolor": "#C8D4E3",
             "linecolor": "#C8D4E3",
             "minorgridcolor": "#C8D4E3",
             "startlinecolor": "#2a3f5f"
            },
            "type": "carpet"
           }
          ],
          "choropleth": [
           {
            "colorbar": {
             "outlinewidth": 0,
             "ticks": ""
            },
            "type": "choropleth"
           }
          ],
          "contour": [
           {
            "colorbar": {
             "outlinewidth": 0,
             "ticks": ""
            },
            "colorscale": [
             [
              0,
              "#0d0887"
             ],
             [
              0.1111111111111111,
              "#46039f"
             ],
             [
              0.2222222222222222,
              "#7201a8"
             ],
             [
              0.3333333333333333,
              "#9c179e"
             ],
             [
              0.4444444444444444,
              "#bd3786"
             ],
             [
              0.5555555555555556,
              "#d8576b"
             ],
             [
              0.6666666666666666,
              "#ed7953"
             ],
             [
              0.7777777777777778,
              "#fb9f3a"
             ],
             [
              0.8888888888888888,
              "#fdca26"
             ],
             [
              1,
              "#f0f921"
             ]
            ],
            "type": "contour"
           }
          ],
          "contourcarpet": [
           {
            "colorbar": {
             "outlinewidth": 0,
             "ticks": ""
            },
            "type": "contourcarpet"
           }
          ],
          "heatmap": [
           {
            "colorbar": {
             "outlinewidth": 0,
             "ticks": ""
            },
            "colorscale": [
             [
              0,
              "#0d0887"
             ],
             [
              0.1111111111111111,
              "#46039f"
             ],
             [
              0.2222222222222222,
              "#7201a8"
             ],
             [
              0.3333333333333333,
              "#9c179e"
             ],
             [
              0.4444444444444444,
              "#bd3786"
             ],
             [
              0.5555555555555556,
              "#d8576b"
             ],
             [
              0.6666666666666666,
              "#ed7953"
             ],
             [
              0.7777777777777778,
              "#fb9f3a"
             ],
             [
              0.8888888888888888,
              "#fdca26"
             ],
             [
              1,
              "#f0f921"
             ]
            ],
            "type": "heatmap"
           }
          ],
          "heatmapgl": [
           {
            "colorbar": {
             "outlinewidth": 0,
             "ticks": ""
            },
            "colorscale": [
             [
              0,
              "#0d0887"
             ],
             [
              0.1111111111111111,
              "#46039f"
             ],
             [
              0.2222222222222222,
              "#7201a8"
             ],
             [
              0.3333333333333333,
              "#9c179e"
             ],
             [
              0.4444444444444444,
              "#bd3786"
             ],
             [
              0.5555555555555556,
              "#d8576b"
             ],
             [
              0.6666666666666666,
              "#ed7953"
             ],
             [
              0.7777777777777778,
              "#fb9f3a"
             ],
             [
              0.8888888888888888,
              "#fdca26"
             ],
             [
              1,
              "#f0f921"
             ]
            ],
            "type": "heatmapgl"
           }
          ],
          "histogram": [
           {
            "marker": {
             "line": {
              "width": 1
             },
             "pattern": {
              "fillmode": "overlay",
              "size": 10,
              "solidity": 0.2
             }
            },
            "type": "histogram"
           }
          ],
          "histogram2d": [
           {
            "colorbar": {
             "outlinewidth": 0,
             "ticks": ""
            },
            "colorscale": [
             [
              0,
              "#0d0887"
             ],
             [
              0.1111111111111111,
              "#46039f"
             ],
             [
              0.2222222222222222,
              "#7201a8"
             ],
             [
              0.3333333333333333,
              "#9c179e"
             ],
             [
              0.4444444444444444,
              "#bd3786"
             ],
             [
              0.5555555555555556,
              "#d8576b"
             ],
             [
              0.6666666666666666,
              "#ed7953"
             ],
             [
              0.7777777777777778,
              "#fb9f3a"
             ],
             [
              0.8888888888888888,
              "#fdca26"
             ],
             [
              1,
              "#f0f921"
             ]
            ],
            "type": "histogram2d"
           }
          ],
          "histogram2dcontour": [
           {
            "colorbar": {
             "outlinewidth": 0,
             "ticks": ""
            },
            "colorscale": [
             [
              0,
              "#0d0887"
             ],
             [
              0.1111111111111111,
              "#46039f"
             ],
             [
              0.2222222222222222,
              "#7201a8"
             ],
             [
              0.3333333333333333,
              "#9c179e"
             ],
             [
              0.4444444444444444,
              "#bd3786"
             ],
             [
              0.5555555555555556,
              "#d8576b"
             ],
             [
              0.6666666666666666,
              "#ed7953"
             ],
             [
              0.7777777777777778,
              "#fb9f3a"
             ],
             [
              0.8888888888888888,
              "#fdca26"
             ],
             [
              1,
              "#f0f921"
             ]
            ],
            "type": "histogram2dcontour"
           }
          ],
          "mesh3d": [
           {
            "colorbar": {
             "outlinewidth": 0,
             "ticks": ""
            },
            "type": "mesh3d"
           }
          ],
          "parcoords": [
           {
            "line": {
             "colorbar": {
              "outlinewidth": 0,
              "ticks": ""
             }
            },
            "type": "parcoords"
           }
          ],
          "pie": [
           {
            "automargin": true,
            "type": "pie"
           }
          ],
          "scatter": [
           {
            "marker": {
             "colorbar": {
              "outlinewidth": 0,
              "ticks": ""
             },
             "opacity": 0.8
            },
            "type": "scatter"
           }
          ],
          "scatter3d": [
           {
            "line": {
             "colorbar": {
              "outlinewidth": 0,
              "ticks": ""
             }
            },
            "marker": {
             "colorbar": {
              "outlinewidth": 0,
              "ticks": ""
             },
             "opacity": 0.8
            },
            "type": "scatter3d"
           }
          ],
          "scattercarpet": [
           {
            "marker": {
             "colorbar": {
              "outlinewidth": 0,
              "ticks": ""
             }
            },
            "type": "scattercarpet"
           }
          ],
          "scattergeo": [
           {
            "marker": {
             "colorbar": {
              "outlinewidth": 0,
              "ticks": ""
             }
            },
            "type": "scattergeo"
           }
          ],
          "scattergl": [
           {
            "marker": {
             "colorbar": {
              "outlinewidth": 0,
              "ticks": ""
             }
            },
            "type": "scattergl"
           }
          ],
          "scattermapbox": [
           {
            "marker": {
             "colorbar": {
              "outlinewidth": 0,
              "ticks": ""
             }
            },
            "type": "scattermapbox"
           }
          ],
          "scatterpolar": [
           {
            "marker": {
             "colorbar": {
              "outlinewidth": 0,
              "ticks": ""
             }
            },
            "type": "scatterpolar"
           }
          ],
          "scatterpolargl": [
           {
            "marker": {
             "colorbar": {
              "outlinewidth": 0,
              "ticks": ""
             }
            },
            "type": "scatterpolargl"
           }
          ],
          "scatterternary": [
           {
            "marker": {
             "colorbar": {
              "outlinewidth": 0,
              "ticks": ""
             }
            },
            "type": "scatterternary"
           }
          ],
          "surface": [
           {
            "colorbar": {
             "outlinewidth": 0,
             "ticks": ""
            },
            "colorscale": [
             [
              0,
              "#0d0887"
             ],
             [
              0.1111111111111111,
              "#46039f"
             ],
             [
              0.2222222222222222,
              "#7201a8"
             ],
             [
              0.3333333333333333,
              "#9c179e"
             ],
             [
              0.4444444444444444,
              "#bd3786"
             ],
             [
              0.5555555555555556,
              "#d8576b"
             ],
             [
              0.6666666666666666,
              "#ed7953"
             ],
             [
              0.7777777777777778,
              "#fb9f3a"
             ],
             [
              0.8888888888888888,
              "#fdca26"
             ],
             [
              1,
              "#f0f921"
             ]
            ],
            "type": "surface"
           }
          ],
          "table": [
           {
            "cells": {
             "fill": {
              "color": "#EBF0F8"
             },
             "line": {
              "color": "white"
             }
            },
            "header": {
             "fill": {
              "color": "#C8D4E3"
             },
             "line": {
              "color": "white"
             }
            },
            "type": "table"
           }
          ]
         },
         "layout": {
          "annotationdefaults": {
           "arrowcolor": "#2a3f5f",
           "arrowhead": 0,
           "arrowwidth": 1
          },
          "autotypenumbers": "strict",
          "coloraxis": {
           "colorbar": {
            "outlinewidth": 0,
            "ticks": ""
           }
          },
          "colorscale": {
           "diverging": [
            [
             0,
             "#8e0152"
            ],
            [
             0.1,
             "#c51b7d"
            ],
            [
             0.2,
             "#de77ae"
            ],
            [
             0.3,
             "#f1b6da"
            ],
            [
             0.4,
             "#fde0ef"
            ],
            [
             0.5,
             "#f7f7f7"
            ],
            [
             0.6,
             "#e6f5d0"
            ],
            [
             0.7,
             "#b8e186"
            ],
            [
             0.8,
             "#7fbc41"
            ],
            [
             0.9,
             "#4d9221"
            ],
            [
             1,
             "#276419"
            ]
           ],
           "sequential": [
            [
             0,
             "#0d0887"
            ],
            [
             0.1111111111111111,
             "#46039f"
            ],
            [
             0.2222222222222222,
             "#7201a8"
            ],
            [
             0.3333333333333333,
             "#9c179e"
            ],
            [
             0.4444444444444444,
             "#bd3786"
            ],
            [
             0.5555555555555556,
             "#d8576b"
            ],
            [
             0.6666666666666666,
             "#ed7953"
            ],
            [
             0.7777777777777778,
             "#fb9f3a"
            ],
            [
             0.8888888888888888,
             "#fdca26"
            ],
            [
             1,
             "#f0f921"
            ]
           ],
           "sequentialminus": [
            [
             0,
             "#0d0887"
            ],
            [
             0.1111111111111111,
             "#46039f"
            ],
            [
             0.2222222222222222,
             "#7201a8"
            ],
            [
             0.3333333333333333,
             "#9c179e"
            ],
            [
             0.4444444444444444,
             "#bd3786"
            ],
            [
             0.5555555555555556,
             "#d8576b"
            ],
            [
             0.6666666666666666,
             "#ed7953"
            ],
            [
             0.7777777777777778,
             "#fb9f3a"
            ],
            [
             0.8888888888888888,
             "#fdca26"
            ],
            [
             1,
             "#f0f921"
            ]
           ]
          },
          "colorway": [
           "#636efa",
           "#EF553B",
           "#00cc96",
           "#ab63fa",
           "#FFA15A",
           "#19d3f3",
           "#FF6692",
           "#B6E880",
           "#FF97FF",
           "#FECB52"
          ],
          "font": {
           "color": "#2a3f5f"
          },
          "geo": {
           "bgcolor": "white",
           "lakecolor": "white",
           "landcolor": "white",
           "showlakes": true,
           "showland": true,
           "subunitcolor": "#C8D4E3"
          },
          "height": 400,
          "hoverlabel": {
           "align": "left"
          },
          "hovermode": "closest",
          "mapbox": {
           "style": "light"
          },
          "margin": {
           "b": 2,
           "l": 2,
           "r": 2,
           "t": 30
          },
          "paper_bgcolor": "white",
          "plot_bgcolor": "white",
          "polar": {
           "angularaxis": {
            "gridcolor": "#EBF0F8",
            "linecolor": "#EBF0F8",
            "ticks": ""
           },
           "bgcolor": "white",
           "radialaxis": {
            "gridcolor": "#EBF0F8",
            "linecolor": "#EBF0F8",
            "ticks": ""
           }
          },
          "scene": {
           "camera": {
            "eye": {
             "x": 1.5,
             "y": 1.5,
             "z": 0.1
            }
           },
           "xaxis": {
            "backgroundcolor": "white",
            "gridcolor": "#DFE8F3",
            "gridwidth": 2,
            "linecolor": "#EBF0F8",
            "showbackground": true,
            "ticks": "",
            "zerolinecolor": "#EBF0F8"
           },
           "yaxis": {
            "backgroundcolor": "white",
            "gridcolor": "#DFE8F3",
            "gridwidth": 2,
            "linecolor": "#EBF0F8",
            "showbackground": true,
            "ticks": "",
            "zerolinecolor": "#EBF0F8"
           },
           "zaxis": {
            "backgroundcolor": "white",
            "gridcolor": "#DFE8F3",
            "gridwidth": 2,
            "linecolor": "#EBF0F8",
            "showbackground": true,
            "ticks": "",
            "zerolinecolor": "#EBF0F8"
           }
          },
          "shapedefaults": {
           "line": {
            "color": "#2a3f5f"
           }
          },
          "ternary": {
           "aaxis": {
            "gridcolor": "#DFE8F3",
            "linecolor": "#A2B1C6",
            "ticks": ""
           },
           "baxis": {
            "gridcolor": "#DFE8F3",
            "linecolor": "#A2B1C6",
            "ticks": ""
           },
           "bgcolor": "white",
           "caxis": {
            "gridcolor": "#DFE8F3",
            "linecolor": "#A2B1C6",
            "ticks": ""
           }
          },
          "title": {
           "x": 0.5
          },
          "xaxis": {
           "automargin": true,
           "gridcolor": "#EBF0F8",
           "linecolor": "#EBF0F8",
           "linewidth": 2,
           "showline": true,
           "ticks": "",
           "title": {
            "standoff": 15
           },
           "zerolinecolor": "#EBF0F8",
           "zerolinewidth": 2
          },
          "yaxis": {
           "automargin": true,
           "gridcolor": "#EBF0F8",
           "linecolor": "#EBF0F8",
           "linewidth": 2,
           "showline": true,
           "ticks": "",
           "title": {
            "standoff": 15
           },
           "zerolinecolor": "#EBF0F8",
           "zerolinewidth": 2
          }
         }
        },
        "title": {
         "text": "Naive model"
        },
        "xaxis": {
         "anchor": "y",
         "domain": [
          0,
          1
         ],
         "title": {
          "text": "Ex Rate"
         }
        },
        "yaxis": {
         "anchor": "x",
         "domain": [
          0,
          1
         ],
         "title": {
          "text": "Petrol"
         }
        }
       }
      }
     },
     "metadata": {},
     "output_type": "display_data"
    },
    {
     "data": {
      "application/vnd.plotly.v1+json": {
       "config": {
        "plotlyServerURL": "https://plot.ly"
       },
       "data": [
        {
         "hovertemplate": "Ex Rate=%{x}<br>Petrol=%{y}<extra></extra>",
         "legendgroup": "",
         "marker": {
          "color": "#636efa",
          "size": 15,
          "symbol": "circle"
         },
         "mode": "markers",
         "name": "",
         "orientation": "v",
         "showlegend": false,
         "type": "scatter",
         "x": [
          7.5246,
          7.4735,
          7.6902,
          7.4753,
          7.3749,
          7.6575,
          7.6708,
          7.5757,
          7.3178,
          7.1859,
          6.9374,
          6.9767,
          6.901,
          6.8983,
          7.2334,
          6.9512,
          6.7701,
          6.8516,
          6.8353,
          6.8134,
          7.059,
          7.5657,
          8.0012,
          8.1398,
          8.2122,
          8.0841,
          7.679,
          7.6193,
          7.8536,
          8.1031,
          8.4189,
          8.2657,
          8.2758,
          8.3075,
          8.6479,
          8.8252,
          8.6833,
          8.7629,
          8.9067,
          9.1932,
          9.1598,
          9.2987,
          10.0487,
          9.9348,
          10.0928,
          10.0027,
          9.9452,
          10.2121,
          10.3581,
          10.8105,
          11.0054,
          10.7695,
          10.5576,
          10.4042,
          10.6743,
          10.6609,
          10.6781,
          10.6781,
          11.1004,
          11.0969,
          11.4749,
          11.5777,
          11.589,
          12.0423,
          12.0459,
          11.9454,
          12.3196,
          12.4128,
          12.8609,
          13.7884,
          13.4734,
          14.0938,
          14.8819,
          16.3276,
          15.7832,
          15.4655,
          14.6477,
          15.2048,
          15.1553,
          14.4407,
          13.8016,
          14.0057,
          13.9646,
          13.9125,
          13.8687,
          13.5813,
          13.2899,
          12.9148,
          13.5105,
          13.2587,
          12.8756,
          13.15,
          13.2152,
          13.1317,
          13.621,
          14.0964,
          13.2303,
          12.2029,
          11.8167,
          11.8489,
          11.9797,
          12.5099,
          13.2871,
          13.4713,
          13.943,
          14.7899,
          14.4892,
          14.0923,
          14.1778,
          13.9476,
          13.8038,
          14.3871,
          14.1401,
          14.4127,
          14.6227,
          14.0709,
          15.1729,
          14.8432,
          14.9293,
          14.8037,
          14.4784,
          14.3276,
          14.9789,
          16.4305,
          18.4771,
          18.1715,
          17.1271,
          16.8234,
          17.2814,
          16.7204,
          16.4657,
          15.6305,
          14.939,
          15.087,
          14.763,
          14.95,
          14.448,
          14.11,
          13.92,
          14.65,
          14.77,
          14.56,
          14.72,
          15.85,
          15.92,
          15.51,
          15.23
         ],
         "xaxis": "x",
         "y": [
          785.9999999999999,
          803.9999999999999,
          810.3,
          858.3,
          871.8,
          844.8,
          826.8,
          816.8,
          806.8,
          811.8,
          831.8,
          844.8,
          872.8000000000001,
          898.8000000000001,
          941.8,
          996.4,
          1025.4,
          1023.4,
          992.4,
          1009.4,
          1018.4,
          1054.4,
          1077.4,
          1056.8,
          1061.3999999999999,
          1095.3999999999999,
          1123.4,
          1193.7,
          1221.7,
          1166.7,
          1081.7,
          1103.7,
          1193.7,
          1216.7,
          1206.6999999999998,
          1197.6999999999998,
          1185.6999999999998,
          1226.7,
          1307.7000000000003,
          1319.6000000000001,
          1246.6000000000001,
          1238.6000000000004,
          1322.6000000000001,
          1354.6000000000001,
          1346.6000000000001,
          1326.6000000000001,
          1298.6000000000001,
          1315.6,
          1356.6000000000001,
          1395.6000000000001,
          1431.6,
          1441.7,
          1426.6999999999998,
          1404.7,
          1435.7,
          1435.7000000000003,
          1368.7,
          1363.7,
          1318.7,
          1248.4999999999998,
          1123.6,
          1030.6,
          1126.6,
          1288.7,
          1288.7,
          1335.7,
          1376.7,
          1325.6999999999998,
          1246.7,
          1250.7,
          1228.7,
          1229.7,
          1226.7,
          1232.7,
          1163.7,
          1252.4,
          1264.4,
          1316.4,
          1324.4,
          1225.4,
          1207.4,
          1250.4,
          1295.4,
          1275.3999999999999,
          1333.3999999999999,
          1362.3999999999999,
          1354.3999999999999,
          1329.7,
          1378.7,
          1353.7,
          1285.7,
          1304.7,
          1371.7,
          1400.7,
          1404.7,
          1458.7,
          1441.7,
          1411.7,
          1375.7,
          1447.8000000000002,
          1496.8000000000002,
          1578.8000000000002,
          1602.6599999999999,
          1602.8000000000002,
          1607.8,
          1707.8,
          1707.8,
          1523.8,
          1400.8,
          1407.8,
          1481.8,
          1613.2,
          1667.2,
          1676.2,
          1581.2,
          1592.2,
          1603.2,
          1621.2,
          1608.2,
          1629.8700000000003,
          1616.2,
          1603.2,
          1584.2,
          1396.2,
          1222.3000000000002,
          1340.3,
          1512.3,
          1517.3,
          1518.3000000000002,
          1486.307,
          1459.3000000000002,
          1446.6000000000001,
          1486.3,
          1567.3,
          1625.3,
          1731.5,
          1722.5,
          1712.5,
          1738.5,
          1829.5,
          1827.8,
          1826.8,
          1947.8,
          2028.8000000000002,
          1960.5,
          2013.5000000000002,
          2159.5
         ],
         "yaxis": "y"
        }
       ],
       "layout": {
        "legend": {
         "tracegroupgap": 0
        },
        "shapes": [
         {
          "line": {
           "color": "rgb(228,26,28)"
          },
          "path": "M6.7701 1000.2752218587839 L 6.828929145728644 1004.0922971833663 L 6.887758291457287 1007.9093725079488 L 6.94658743718593 1011.7264478325312 L 7.005416582914573 1015.5435231571136 L 7.0642457286432165 1019.360598481696 L 7.123074874371859 1023.1776738062783 L 7.181904020100503 1026.9947491308608 L 7.240733165829146 1030.8118244554432 L 7.299562311557789 1034.6288997800257 L 7.358391457286432 1038.4459751046081 L 7.417220603015076 1042.2630504291906 L 7.476049748743719 1046.0801257537728 L 7.534878894472362 1049.8972010783552 L 7.5937080402010055 1053.7142764029377 L 7.652537185929648 1057.5313517275201 L 7.711366331658292 1061.3484270521026 L 7.770195477386935 1065.165502376685 L 7.829024623115578 1068.9825777012675 L 7.887853768844222 1072.79965302585 L 7.946682914572865 1076.6167283504324 L 8.005512060301507 1080.4338036750146 L 8.064341206030152 1084.2508789995973 L 8.123170351758795 1088.0679543241795 L 8.181999497487437 1091.885029648762 L 8.24082864321608 1095.7021049733444 L 8.299657788944725 1099.5191802979268 L 8.358486934673367 1103.3362556225093 L 8.41731608040201 1107.1533309470915 L 8.476145226130654 1110.9704062716742 L 8.534974371859297 1114.7874815962564 L 8.59380351758794 1118.6045569208388 L 8.652632663316583 1122.4216322454213 L 8.711461809045227 1126.2387075700037 L 8.77029095477387 1130.0557828945862 L 8.829120100502513 1133.8728582191684 L 8.887949246231155 1137.689933543751 L 8.9467783919598 1141.5070088683333 L 9.005607537688443 1145.324084192916 L 9.064436683417085 1149.1411595174982 L 9.12326582914573 1152.9582348420809 L 9.182094974874373 1156.775310166663 L 9.240924120603015 1160.5923854912455 L 9.29975326633166 1164.409460815828 L 9.358582412060303 1168.2265361404102 L 9.417411557788945 1172.0436114649929 L 9.476240703517588 1175.860686789575 L 9.53506984924623 1179.6777621141575 L 9.593898994974875 1183.49483743874 L 9.652728140703518 1187.3119127633224 L 9.71155728643216 1191.1289880879049 L 9.770386432160805 1194.9460634124873 L 9.829215577889448 1198.7631387370698 L 9.88804472361809 1202.580214061652 L 9.946873869346735 1206.3972893862347 L 10.005703015075378 1210.2143647108169 L 10.06453216080402 1214.0314400353993 L 10.123361306532663 1217.8485153599818 L 10.182190452261306 1221.665590684564 L 10.24101959798995 1225.4826660091467 L 10.299848743718593 1229.299741333729 L 10.358677889447236 1233.1168166583116 L 10.41750703517588 1236.9338919828938 L 10.476336180904523 1240.7509673074765 L 10.535165326633166 1244.5680426320587 L 10.59399447236181 1248.3851179566414 L 10.652823618090453 1252.2021932812236 L 10.711652763819096 1256.0192686058058 L 10.77048190954774 1259.8363439303885 L 10.829311055276381 1263.6534192549707 L 10.888140201005026 1267.4704945795534 L 10.946969346733669 1271.2875699041356 L 11.005798492462311 1275.104645228718 L 11.064627638190956 1278.9217205533005 L 11.123456783919599 1282.738795877883 L 11.182285929648241 1286.5558712024654 L 11.241115075376886 1290.3729465270478 L 11.299944221105529 1294.1900218516303 L 11.358773366834171 1298.0070971762125 L 11.417602512562816 1301.8241725007952 L 11.476431658291457 1305.6412478253774 L 11.535260804020101 1309.4583231499598 L 11.594089949748744 1313.2753984745423 L 11.652919095477387 1317.0924737991245 L 11.711748241206031 1320.9095491237072 L 11.770577386934674 1324.7266244482894 L 11.829406532663317 1328.543699772872 L 11.888235678391961 1332.3607750974543 L 11.947064824120604 1336.1778504220367 L 12.005893969849247 1339.9949257466192 L 12.064723115577891 1343.8120010712016 L 12.123552261306532 1347.629076395784 L 12.182381407035177 1351.4461517203663 L 12.241210552763821 1355.263227044949 L 12.300039698492462 1359.0803023695312 L 12.358868844221107 1362.8973776941139 L 12.41769798994975 1366.714453018696 L 12.476527135678392 1370.5315283432785 L 12.535356281407037 1374.348603667861 L 12.59418542713568 1378.1656789924434 L 12.653014572864322 1381.9827543170259 L 12.711843718592966 1385.7998296416083 L 12.77067286432161 1389.6169049661908 L 12.829502010050252 1393.433980290773 L 12.888331155778896 1397.2510556153557 L 12.947160301507537 1401.0681309399379 L 13.005989447236182 1404.8852062645203 L 13.064818592964825 1408.7022815891028 L 13.123647738693467 1412.519356913685 L 13.182476884422112 1416.3364322382677 L 13.241306030150755 1420.1535075628499 L 13.300135175879397 1423.9705828874323 L 13.358964321608042 1427.7876582120148 L 13.417793467336685 1431.6047335365972 L 13.476622613065327 1435.4218088611797 L 13.535451758793972 1439.2388841857621 L 13.594280904522613 1443.0559595103446 L 13.653110050251257 1446.8730348349268 L 13.7119391959799 1450.6901101595095 L 13.770768341708543 1454.5071854840917 L 13.829597487437187 1458.3242608086744 L 13.88842663316583 1462.1413361332566 L 13.947255778894473 1465.958411457839 L 14.006084924623117 1469.7754867824215 L 14.06491407035176 1473.592562107004 L 14.123743216080403 1477.4096374315864 L 14.182572361809047 1481.2267127561688 L 14.241401507537688 1485.043788080751 L 14.300230653266333 1488.8608634053335 L 14.359059798994977 1492.6779387299161 L 14.417888944723618 1496.4950140544984 L 14.476718090452263 1500.3120893790808 L 14.535547236180905 1504.1291647036633 L 14.594376381909548 1507.9462400282455 L 14.653205527638193 1511.7633153528282 L 14.712034673366835 1515.5803906774104 L 14.770863819095478 1519.3974660019928 L 14.829692964824122 1523.2145413265753 L 14.888522110552763 1527.0316166511575 L 14.947351256281408 1530.8486919757402 L 15.006180402010052 1534.6657673003226 L 15.065009547738693 1538.482842624905 L 15.123838693467338 1542.2999179494873 L 15.182667839195982 1546.11699327407 L 15.241496984924623 1549.9340685986522 L 15.300326130653268 1553.7511439232348 L 15.359155276381909 1557.568219247817 L 15.417984422110553 1561.3852945723995 L 15.476813567839198 1565.202369896982 L 15.535642713567839 1569.0194452215642 L 15.594471859296483 1572.8365205461469 L 15.653301005025128 1576.6535958707293 L 15.712130150753769 1580.4706711953115 L 15.770959296482413 1584.287746519894 L 15.829788442211058 1588.1048218444764 L 15.888617587939699 1591.9218971690589 L 15.947446733668343 1595.7389724936413 L 16.006275879396988 1599.5560478182238 L 16.06510502512563 1603.373123142806 L 16.123934170854273 1607.1901984673887 L 16.182763316582914 1611.0072737919709 L 16.24159246231156 1614.8243491165533 L 16.300421608040203 1618.6414244411358 L 16.359250753768844 1622.4584997657182 L 16.41807989949749 1626.2755750903007 L 16.476909045226133 1630.092650414883 L 16.535738190954774 1633.9097257394653 L 16.59456733668342 1637.726801064048 L 16.653396482412063 1641.5438763886305 L 16.712225628140704 1645.3609517132127 L 16.77105477386935 1649.1780270377951 L 16.82988391959799 1652.9951023623776 L 16.888713065326634 1656.81217768696 L 16.94754221105528 1660.6292530115425 L 17.00637135678392 1664.4463283361247 L 17.065200502512564 1668.2634036607071 L 17.12402964824121 1672.0804789852898 L 17.18285879396985 1675.897554309872 L 17.241687939698494 1679.7146296344545 L 17.30051708542714 1683.531704959037 L 17.35934623115578 1687.3487802836194 L 17.418175376884424 1691.1658556082018 L 17.477004522613065 1694.982930932784 L 17.53583366834171 1698.8000062573665 L 17.594662814070354 1702.6170815819492 L 17.653491959798995 1706.4341569065314 L 17.71232110552764 1710.2512322311138 L 17.771150251256284 1714.0683075556963 L 17.829979396984925 1717.8853828802787 L 17.88880854271357 1721.7024582048612 L 17.947637688442214 1725.5195335294436 L 18.006466834170855 1729.3366088540258 L 18.0652959798995 1733.1536841786085 L 18.124125125628144 1736.970759503191 L 18.182954271356785 1740.7878348277732 L 18.24178341708543 1744.6049101523556 L 18.30061256281407 1748.421985476938 L 18.359441708542715 1752.2390608015205 L 18.41827085427136 1756.056136126103 L 18.4771 1759.8732114506852",
          "type": "path"
         }
        ],
        "template": {
         "data": {
          "bar": [
           {
            "error_x": {
             "color": "#2a3f5f"
            },
            "error_y": {
             "color": "#2a3f5f"
            },
            "marker": {
             "line": {
              "color": "white",
              "width": 0.5
             },
             "pattern": {
              "fillmode": "overlay",
              "size": 10,
              "solidity": 0.2
             }
            },
            "type": "bar"
           }
          ],
          "barpolar": [
           {
            "marker": {
             "line": {
              "color": "white",
              "width": 0.5
             },
             "pattern": {
              "fillmode": "overlay",
              "size": 10,
              "solidity": 0.2
             }
            },
            "type": "barpolar"
           }
          ],
          "box": [
           {
            "boxpoints": "outliers",
            "notched": false,
            "type": "box"
           }
          ],
          "carpet": [
           {
            "aaxis": {
             "endlinecolor": "#2a3f5f",
             "gridcolor": "#C8D4E3",
             "linecolor": "#C8D4E3",
             "minorgridcolor": "#C8D4E3",
             "startlinecolor": "#2a3f5f"
            },
            "baxis": {
             "endlinecolor": "#2a3f5f",
             "gridcolor": "#C8D4E3",
             "linecolor": "#C8D4E3",
             "minorgridcolor": "#C8D4E3",
             "startlinecolor": "#2a3f5f"
            },
            "type": "carpet"
           }
          ],
          "choropleth": [
           {
            "colorbar": {
             "outlinewidth": 0,
             "ticks": ""
            },
            "type": "choropleth"
           }
          ],
          "contour": [
           {
            "colorbar": {
             "outlinewidth": 0,
             "ticks": ""
            },
            "colorscale": [
             [
              0,
              "#0d0887"
             ],
             [
              0.1111111111111111,
              "#46039f"
             ],
             [
              0.2222222222222222,
              "#7201a8"
             ],
             [
              0.3333333333333333,
              "#9c179e"
             ],
             [
              0.4444444444444444,
              "#bd3786"
             ],
             [
              0.5555555555555556,
              "#d8576b"
             ],
             [
              0.6666666666666666,
              "#ed7953"
             ],
             [
              0.7777777777777778,
              "#fb9f3a"
             ],
             [
              0.8888888888888888,
              "#fdca26"
             ],
             [
              1,
              "#f0f921"
             ]
            ],
            "type": "contour"
           }
          ],
          "contourcarpet": [
           {
            "colorbar": {
             "outlinewidth": 0,
             "ticks": ""
            },
            "type": "contourcarpet"
           }
          ],
          "heatmap": [
           {
            "colorbar": {
             "outlinewidth": 0,
             "ticks": ""
            },
            "colorscale": [
             [
              0,
              "#0d0887"
             ],
             [
              0.1111111111111111,
              "#46039f"
             ],
             [
              0.2222222222222222,
              "#7201a8"
             ],
             [
              0.3333333333333333,
              "#9c179e"
             ],
             [
              0.4444444444444444,
              "#bd3786"
             ],
             [
              0.5555555555555556,
              "#d8576b"
             ],
             [
              0.6666666666666666,
              "#ed7953"
             ],
             [
              0.7777777777777778,
              "#fb9f3a"
             ],
             [
              0.8888888888888888,
              "#fdca26"
             ],
             [
              1,
              "#f0f921"
             ]
            ],
            "type": "heatmap"
           }
          ],
          "heatmapgl": [
           {
            "colorbar": {
             "outlinewidth": 0,
             "ticks": ""
            },
            "colorscale": [
             [
              0,
              "#0d0887"
             ],
             [
              0.1111111111111111,
              "#46039f"
             ],
             [
              0.2222222222222222,
              "#7201a8"
             ],
             [
              0.3333333333333333,
              "#9c179e"
             ],
             [
              0.4444444444444444,
              "#bd3786"
             ],
             [
              0.5555555555555556,
              "#d8576b"
             ],
             [
              0.6666666666666666,
              "#ed7953"
             ],
             [
              0.7777777777777778,
              "#fb9f3a"
             ],
             [
              0.8888888888888888,
              "#fdca26"
             ],
             [
              1,
              "#f0f921"
             ]
            ],
            "type": "heatmapgl"
           }
          ],
          "histogram": [
           {
            "marker": {
             "line": {
              "width": 1
             },
             "pattern": {
              "fillmode": "overlay",
              "size": 10,
              "solidity": 0.2
             }
            },
            "type": "histogram"
           }
          ],
          "histogram2d": [
           {
            "colorbar": {
             "outlinewidth": 0,
             "ticks": ""
            },
            "colorscale": [
             [
              0,
              "#0d0887"
             ],
             [
              0.1111111111111111,
              "#46039f"
             ],
             [
              0.2222222222222222,
              "#7201a8"
             ],
             [
              0.3333333333333333,
              "#9c179e"
             ],
             [
              0.4444444444444444,
              "#bd3786"
             ],
             [
              0.5555555555555556,
              "#d8576b"
             ],
             [
              0.6666666666666666,
              "#ed7953"
             ],
             [
              0.7777777777777778,
              "#fb9f3a"
             ],
             [
              0.8888888888888888,
              "#fdca26"
             ],
             [
              1,
              "#f0f921"
             ]
            ],
            "type": "histogram2d"
           }
          ],
          "histogram2dcontour": [
           {
            "colorbar": {
             "outlinewidth": 0,
             "ticks": ""
            },
            "colorscale": [
             [
              0,
              "#0d0887"
             ],
             [
              0.1111111111111111,
              "#46039f"
             ],
             [
              0.2222222222222222,
              "#7201a8"
             ],
             [
              0.3333333333333333,
              "#9c179e"
             ],
             [
              0.4444444444444444,
              "#bd3786"
             ],
             [
              0.5555555555555556,
              "#d8576b"
             ],
             [
              0.6666666666666666,
              "#ed7953"
             ],
             [
              0.7777777777777778,
              "#fb9f3a"
             ],
             [
              0.8888888888888888,
              "#fdca26"
             ],
             [
              1,
              "#f0f921"
             ]
            ],
            "type": "histogram2dcontour"
           }
          ],
          "mesh3d": [
           {
            "colorbar": {
             "outlinewidth": 0,
             "ticks": ""
            },
            "type": "mesh3d"
           }
          ],
          "parcoords": [
           {
            "line": {
             "colorbar": {
              "outlinewidth": 0,
              "ticks": ""
             }
            },
            "type": "parcoords"
           }
          ],
          "pie": [
           {
            "automargin": true,
            "type": "pie"
           }
          ],
          "scatter": [
           {
            "marker": {
             "colorbar": {
              "outlinewidth": 0,
              "ticks": ""
             },
             "opacity": 0.8
            },
            "type": "scatter"
           }
          ],
          "scatter3d": [
           {
            "line": {
             "colorbar": {
              "outlinewidth": 0,
              "ticks": ""
             }
            },
            "marker": {
             "colorbar": {
              "outlinewidth": 0,
              "ticks": ""
             },
             "opacity": 0.8
            },
            "type": "scatter3d"
           }
          ],
          "scattercarpet": [
           {
            "marker": {
             "colorbar": {
              "outlinewidth": 0,
              "ticks": ""
             }
            },
            "type": "scattercarpet"
           }
          ],
          "scattergeo": [
           {
            "marker": {
             "colorbar": {
              "outlinewidth": 0,
              "ticks": ""
             }
            },
            "type": "scattergeo"
           }
          ],
          "scattergl": [
           {
            "marker": {
             "colorbar": {
              "outlinewidth": 0,
              "ticks": ""
             }
            },
            "type": "scattergl"
           }
          ],
          "scattermapbox": [
           {
            "marker": {
             "colorbar": {
              "outlinewidth": 0,
              "ticks": ""
             }
            },
            "type": "scattermapbox"
           }
          ],
          "scatterpolar": [
           {
            "marker": {
             "colorbar": {
              "outlinewidth": 0,
              "ticks": ""
             }
            },
            "type": "scatterpolar"
           }
          ],
          "scatterpolargl": [
           {
            "marker": {
             "colorbar": {
              "outlinewidth": 0,
              "ticks": ""
             }
            },
            "type": "scatterpolargl"
           }
          ],
          "scatterternary": [
           {
            "marker": {
             "colorbar": {
              "outlinewidth": 0,
              "ticks": ""
             }
            },
            "type": "scatterternary"
           }
          ],
          "surface": [
           {
            "colorbar": {
             "outlinewidth": 0,
             "ticks": ""
            },
            "colorscale": [
             [
              0,
              "#0d0887"
             ],
             [
              0.1111111111111111,
              "#46039f"
             ],
             [
              0.2222222222222222,
              "#7201a8"
             ],
             [
              0.3333333333333333,
              "#9c179e"
             ],
             [
              0.4444444444444444,
              "#bd3786"
             ],
             [
              0.5555555555555556,
              "#d8576b"
             ],
             [
              0.6666666666666666,
              "#ed7953"
             ],
             [
              0.7777777777777778,
              "#fb9f3a"
             ],
             [
              0.8888888888888888,
              "#fdca26"
             ],
             [
              1,
              "#f0f921"
             ]
            ],
            "type": "surface"
           }
          ],
          "table": [
           {
            "cells": {
             "fill": {
              "color": "#EBF0F8"
             },
             "line": {
              "color": "white"
             }
            },
            "header": {
             "fill": {
              "color": "#C8D4E3"
             },
             "line": {
              "color": "white"
             }
            },
            "type": "table"
           }
          ]
         },
         "layout": {
          "annotationdefaults": {
           "arrowcolor": "#2a3f5f",
           "arrowhead": 0,
           "arrowwidth": 1
          },
          "autotypenumbers": "strict",
          "coloraxis": {
           "colorbar": {
            "outlinewidth": 0,
            "ticks": ""
           }
          },
          "colorscale": {
           "diverging": [
            [
             0,
             "#8e0152"
            ],
            [
             0.1,
             "#c51b7d"
            ],
            [
             0.2,
             "#de77ae"
            ],
            [
             0.3,
             "#f1b6da"
            ],
            [
             0.4,
             "#fde0ef"
            ],
            [
             0.5,
             "#f7f7f7"
            ],
            [
             0.6,
             "#e6f5d0"
            ],
            [
             0.7,
             "#b8e186"
            ],
            [
             0.8,
             "#7fbc41"
            ],
            [
             0.9,
             "#4d9221"
            ],
            [
             1,
             "#276419"
            ]
           ],
           "sequential": [
            [
             0,
             "#0d0887"
            ],
            [
             0.1111111111111111,
             "#46039f"
            ],
            [
             0.2222222222222222,
             "#7201a8"
            ],
            [
             0.3333333333333333,
             "#9c179e"
            ],
            [
             0.4444444444444444,
             "#bd3786"
            ],
            [
             0.5555555555555556,
             "#d8576b"
            ],
            [
             0.6666666666666666,
             "#ed7953"
            ],
            [
             0.7777777777777778,
             "#fb9f3a"
            ],
            [
             0.8888888888888888,
             "#fdca26"
            ],
            [
             1,
             "#f0f921"
            ]
           ],
           "sequentialminus": [
            [
             0,
             "#0d0887"
            ],
            [
             0.1111111111111111,
             "#46039f"
            ],
            [
             0.2222222222222222,
             "#7201a8"
            ],
            [
             0.3333333333333333,
             "#9c179e"
            ],
            [
             0.4444444444444444,
             "#bd3786"
            ],
            [
             0.5555555555555556,
             "#d8576b"
            ],
            [
             0.6666666666666666,
             "#ed7953"
            ],
            [
             0.7777777777777778,
             "#fb9f3a"
            ],
            [
             0.8888888888888888,
             "#fdca26"
            ],
            [
             1,
             "#f0f921"
            ]
           ]
          },
          "colorway": [
           "#636efa",
           "#EF553B",
           "#00cc96",
           "#ab63fa",
           "#FFA15A",
           "#19d3f3",
           "#FF6692",
           "#B6E880",
           "#FF97FF",
           "#FECB52"
          ],
          "font": {
           "color": "#2a3f5f"
          },
          "geo": {
           "bgcolor": "white",
           "lakecolor": "white",
           "landcolor": "white",
           "showlakes": true,
           "showland": true,
           "subunitcolor": "#C8D4E3"
          },
          "height": 400,
          "hoverlabel": {
           "align": "left"
          },
          "hovermode": "closest",
          "mapbox": {
           "style": "light"
          },
          "margin": {
           "b": 2,
           "l": 2,
           "r": 2,
           "t": 30
          },
          "paper_bgcolor": "white",
          "plot_bgcolor": "white",
          "polar": {
           "angularaxis": {
            "gridcolor": "#EBF0F8",
            "linecolor": "#EBF0F8",
            "ticks": ""
           },
           "bgcolor": "white",
           "radialaxis": {
            "gridcolor": "#EBF0F8",
            "linecolor": "#EBF0F8",
            "ticks": ""
           }
          },
          "scene": {
           "camera": {
            "eye": {
             "x": 1.5,
             "y": 1.5,
             "z": 0.1
            }
           },
           "xaxis": {
            "backgroundcolor": "white",
            "gridcolor": "#DFE8F3",
            "gridwidth": 2,
            "linecolor": "#EBF0F8",
            "showbackground": true,
            "ticks": "",
            "zerolinecolor": "#EBF0F8"
           },
           "yaxis": {
            "backgroundcolor": "white",
            "gridcolor": "#DFE8F3",
            "gridwidth": 2,
            "linecolor": "#EBF0F8",
            "showbackground": true,
            "ticks": "",
            "zerolinecolor": "#EBF0F8"
           },
           "zaxis": {
            "backgroundcolor": "white",
            "gridcolor": "#DFE8F3",
            "gridwidth": 2,
            "linecolor": "#EBF0F8",
            "showbackground": true,
            "ticks": "",
            "zerolinecolor": "#EBF0F8"
           }
          },
          "shapedefaults": {
           "line": {
            "color": "#2a3f5f"
           }
          },
          "ternary": {
           "aaxis": {
            "gridcolor": "#DFE8F3",
            "linecolor": "#A2B1C6",
            "ticks": ""
           },
           "baxis": {
            "gridcolor": "#DFE8F3",
            "linecolor": "#A2B1C6",
            "ticks": ""
           },
           "bgcolor": "white",
           "caxis": {
            "gridcolor": "#DFE8F3",
            "linecolor": "#A2B1C6",
            "ticks": ""
           }
          },
          "title": {
           "x": 0.5
          },
          "xaxis": {
           "automargin": true,
           "gridcolor": "#EBF0F8",
           "linecolor": "#EBF0F8",
           "linewidth": 2,
           "showline": true,
           "ticks": "",
           "title": {
            "standoff": 15
           },
           "zerolinecolor": "#EBF0F8",
           "zerolinewidth": 2
          },
          "yaxis": {
           "automargin": true,
           "gridcolor": "#EBF0F8",
           "linecolor": "#EBF0F8",
           "linewidth": 2,
           "showline": true,
           "ticks": "",
           "title": {
            "standoff": 15
           },
           "zerolinecolor": "#EBF0F8",
           "zerolinewidth": 2
          }
         }
        },
        "title": {
         "text": "Trained model"
        },
        "xaxis": {
         "anchor": "y",
         "domain": [
          0,
          1
         ],
         "title": {
          "text": "Ex Rate"
         }
        },
        "yaxis": {
         "anchor": "x",
         "domain": [
          0,
          1
         ],
         "title": {
          "text": "Petrol"
         }
        }
       }
      }
     },
     "metadata": {},
     "output_type": "display_data"
    }
   ],
   "source": [
    "formula = \"Petrol ~ Ex_Rate\"\n",
    "petrol_trained_model = smf.ols(formula = formula, data = dataset).fit()\n",
    "petrol_naive_model = smf.ols(formula = formula, data = dataset).fit()\n",
    "petrol_naive_model.params[0] = dataset['Petrol'].mean()\n",
    "petrol_naive_model.params[1] = 0\n",
    "\n",
    "print(\"naive R-squared:\", petrol_naive_model.rsquared)\n",
    "print(\"trained R-squared:\", petrol_trained_model.rsquared)\n",
    "\n",
    "# Show a graph of the result\n",
    "graphing.scatter_2D(dataset, label_x=\"Ex_Rate\", \n",
    "                                label_y=\"Petrol\",\n",
    "                                title = \"Naive model\",\n",
    "                                trendline=lambda x: dataset['Petrol'].mean().repeat(len(x)), \n",
    "                                show=True)\n",
    "# Show a graph of the result\n",
    "graphing.scatter_2D(dataset, label_x=\"Ex_Rate\", \n",
    "                                label_y=\"Petrol\",\n",
    "                                title = \"Trained model\",\n",
    "                                trendline=lambda x: petrol_trained_model.params[1] * x + petrol_trained_model.params[0])\n",
    "\n"
   ]
  },
  {
   "cell_type": "code",
   "execution_count": 15,
   "metadata": {},
   "outputs": [
    {
     "name": "stdout",
     "output_type": "stream",
     "text": [
      "R-squared: 0.8566876783297591\n"
     ]
    }
   ],
   "source": [
    "model = smf.ols(formula = \"Petrol ~ Avg_Brent_Crude + Ex_Rate\", data = dataset).fit()\n",
    "\n",
    "print(\"R-squared:\", model.rsquared)"
   ]
  },
  {
   "cell_type": "code",
   "execution_count": 7,
   "metadata": {},
   "outputs": [
    {
     "data": {
      "application/vnd.plotly.v1+json": {
       "config": {
        "plotlyServerURL": "https://plot.ly"
       },
       "data": [
        {
         "colorbar": {
          "title": {
           "text": "Petrol"
          }
         },
         "type": "surface",
         "x": [
          18.99,
          126.39
         ],
         "y": [
          0,
          25
         ],
         "z": [
          [
           -702.8963922984678,
           304.0382653574429
          ],
          [
           2447.9690900503438,
           3454.9037477062543
          ]
         ]
        },
        {
         "mode": "markers",
         "type": "scatter3d",
         "x": [
          74.31,
          76.84,
          73.17,
          78.89,
          85.75,
          76.3,
          74.61,
          78.68,
          77.39,
          77.37,
          82.73,
          85.15,
          90.77,
          95.97,
          102.37,
          114.41,
          123.49,
          116.15,
          114.19,
          116.88,
          110.67,
          113.61,
          109.28,
          110.51,
          107.96,
          110.42,
          126.39,
          125.42,
          120.18,
          110.27,
          95.22,
          102.04,
          113.51,
          112.96,
          109.05,
          109.04,
          109.13,
          112.88,
          116.28,
          108.44,
          102.16,
          102.62,
          102.84,
          108.05,
          111.07,
          112.23,
          109.12,
          107.82,
          110.73,
          108.35,
          108.87,
          107.67,
          108.31,
          109.69,
          111.62,
          106.64,
          101.57,
          97.73,
          87.54,
          79.75,
          54.98,
          48.2,
          57.93,
          56.11,
          59.01,
          64.36,
          61.94,
          56.72,
          46.56,
          47.79,
          48.58,
          44.33,
          38.22,
          30.83,
          32.11,
          38.49,
          41.28,
          46.56,
          48.34,
          45.28,
          45.94,
          46.6,
          49.86,
          52.48,
          53.45,
          54.61,
          54.99,
          51.52,
          53.21,
          50.06,
          46.48,
          48.23,
          51.66,
          55.99,
          56.86,
          62.62,
          64.08,
          69.06,
          64.06,
          65.71,
          70.88,
          76.8,
          74.15,
          74.27,
          72.51,
          78.25,
          81.15,
          65.79,
          57.08,
          59.06,
          64.03,
          66.03,
          71.15,
          71.29,
          63.87,
          64.04,
          58.97,
          62.88,
          59.72,
          63.02,
          67.01,
          64.5,
          55.7,
          33.88,
          18.99,
          28.71,
          39.87,
          43.42,
          44.82,
          38.915,
          40.413,
          41.692,
          49.2,
          53.1,
          60,
          65.14,
          64.16,
          66,
          73,
          74,
          72.5,
          75.5,
          83.4,
          83.5,
          76,
          87,
          96.47
         ],
         "y": [
          7.5246,
          7.4735,
          7.6902,
          7.4753,
          7.3749,
          7.6575,
          7.6708,
          7.5757,
          7.3178,
          7.1859,
          6.9374,
          6.9767,
          6.901,
          6.8983,
          7.2334,
          6.9512,
          6.7701,
          6.8516,
          6.8353,
          6.8134,
          7.059,
          7.5657,
          8.0012,
          8.1398,
          8.2122,
          8.0841,
          7.679,
          7.6193,
          7.8536,
          8.1031,
          8.4189,
          8.2657,
          8.2758,
          8.3075,
          8.6479,
          8.8252,
          8.6833,
          8.7629,
          8.9067,
          9.1932,
          9.1598,
          9.2987,
          10.0487,
          9.9348,
          10.0928,
          10.0027,
          9.9452,
          10.2121,
          10.3581,
          10.8105,
          11.0054,
          10.7695,
          10.5576,
          10.4042,
          10.6743,
          10.6609,
          10.6781,
          10.6781,
          11.1004,
          11.0969,
          11.4749,
          11.5777,
          11.589,
          12.0423,
          12.0459,
          11.9454,
          12.3196,
          12.4128,
          12.8609,
          13.7884,
          13.4734,
          14.0938,
          14.8819,
          16.3276,
          15.7832,
          15.4655,
          14.6477,
          15.2048,
          15.1553,
          14.4407,
          13.8016,
          14.0057,
          13.9646,
          13.9125,
          13.8687,
          13.5813,
          13.2899,
          12.9148,
          13.5105,
          13.2587,
          12.8756,
          13.15,
          13.2152,
          13.1317,
          13.621,
          14.0964,
          13.2303,
          12.2029,
          11.8167,
          11.8489,
          11.9797,
          12.5099,
          13.2871,
          13.4713,
          13.943,
          14.7899,
          14.4892,
          14.0923,
          14.1778,
          13.9476,
          13.8038,
          14.3871,
          14.1401,
          14.4127,
          14.6227,
          14.0709,
          15.1729,
          14.8432,
          14.9293,
          14.8037,
          14.4784,
          14.3276,
          14.9789,
          16.4305,
          18.4771,
          18.1715,
          17.1271,
          16.8234,
          17.2814,
          16.7204,
          16.4657,
          15.6305,
          14.939,
          15.087,
          14.763,
          14.95,
          14.448,
          14.11,
          13.92,
          14.65,
          14.77,
          14.56,
          14.72,
          15.85,
          15.92,
          15.51,
          15.23
         ],
         "z": [
          785.9999999999999,
          803.9999999999999,
          810.3,
          858.3,
          871.8,
          844.8,
          826.8,
          816.8,
          806.8,
          811.8,
          831.8,
          844.8,
          872.8000000000001,
          898.8000000000001,
          941.8,
          996.4,
          1025.4,
          1023.4,
          992.4,
          1009.4,
          1018.4,
          1054.4,
          1077.4,
          1056.8,
          1061.3999999999999,
          1095.3999999999999,
          1123.4,
          1193.7,
          1221.7,
          1166.7,
          1081.7,
          1103.7,
          1193.7,
          1216.7,
          1206.6999999999998,
          1197.6999999999998,
          1185.6999999999998,
          1226.7,
          1307.7000000000003,
          1319.6000000000001,
          1246.6000000000001,
          1238.6000000000004,
          1322.6000000000001,
          1354.6000000000001,
          1346.6000000000001,
          1326.6000000000001,
          1298.6000000000001,
          1315.6,
          1356.6000000000001,
          1395.6000000000001,
          1431.6,
          1441.7,
          1426.6999999999998,
          1404.7,
          1435.7,
          1435.7000000000003,
          1368.7,
          1363.7,
          1318.7,
          1248.4999999999998,
          1123.6,
          1030.6,
          1126.6,
          1288.7,
          1288.7,
          1335.7,
          1376.7,
          1325.6999999999998,
          1246.7,
          1250.7,
          1228.7,
          1229.7,
          1226.7,
          1232.7,
          1163.7,
          1252.4,
          1264.4,
          1316.4,
          1324.4,
          1225.4,
          1207.4,
          1250.4,
          1295.4,
          1275.3999999999999,
          1333.3999999999999,
          1362.3999999999999,
          1354.3999999999999,
          1329.7,
          1378.7,
          1353.7,
          1285.7,
          1304.7,
          1371.7,
          1400.7,
          1404.7,
          1458.7,
          1441.7,
          1411.7,
          1375.7,
          1447.8000000000002,
          1496.8000000000002,
          1578.8000000000002,
          1602.6599999999999,
          1602.8000000000002,
          1607.8,
          1707.8,
          1707.8,
          1523.8,
          1400.8,
          1407.8,
          1481.8,
          1613.2,
          1667.2,
          1676.2,
          1581.2,
          1592.2,
          1603.2,
          1621.2,
          1608.2,
          1629.8700000000003,
          1616.2,
          1603.2,
          1584.2,
          1396.2,
          1222.3000000000002,
          1340.3,
          1512.3,
          1517.3,
          1518.3000000000002,
          1486.307,
          1459.3000000000002,
          1446.6000000000001,
          1486.3,
          1567.3,
          1625.3,
          1731.5,
          1722.5,
          1712.5,
          1738.5,
          1829.5,
          1827.8,
          1826.8,
          1947.8,
          2028.8000000000002,
          1960.5,
          2013.5000000000002,
          2159.5
         ]
        }
       ],
       "layout": {
        "scene": {
         "xaxis": {
          "title": {
           "text": "Brent Crude Oil"
          }
         },
         "yaxis": {
          "title": {
           "text": "Exchange Rate"
          }
         },
         "zaxis": {
          "title": {
           "text": "Petrol"
          }
         }
        },
        "template": {
         "data": {
          "bar": [
           {
            "error_x": {
             "color": "#2a3f5f"
            },
            "error_y": {
             "color": "#2a3f5f"
            },
            "marker": {
             "line": {
              "color": "white",
              "width": 0.5
             },
             "pattern": {
              "fillmode": "overlay",
              "size": 10,
              "solidity": 0.2
             }
            },
            "type": "bar"
           }
          ],
          "barpolar": [
           {
            "marker": {
             "line": {
              "color": "white",
              "width": 0.5
             },
             "pattern": {
              "fillmode": "overlay",
              "size": 10,
              "solidity": 0.2
             }
            },
            "type": "barpolar"
           }
          ],
          "box": [
           {
            "boxpoints": "outliers",
            "notched": false,
            "type": "box"
           }
          ],
          "carpet": [
           {
            "aaxis": {
             "endlinecolor": "#2a3f5f",
             "gridcolor": "#C8D4E3",
             "linecolor": "#C8D4E3",
             "minorgridcolor": "#C8D4E3",
             "startlinecolor": "#2a3f5f"
            },
            "baxis": {
             "endlinecolor": "#2a3f5f",
             "gridcolor": "#C8D4E3",
             "linecolor": "#C8D4E3",
             "minorgridcolor": "#C8D4E3",
             "startlinecolor": "#2a3f5f"
            },
            "type": "carpet"
           }
          ],
          "choropleth": [
           {
            "colorbar": {
             "outlinewidth": 0,
             "ticks": ""
            },
            "type": "choropleth"
           }
          ],
          "contour": [
           {
            "colorbar": {
             "outlinewidth": 0,
             "ticks": ""
            },
            "colorscale": [
             [
              0,
              "#0d0887"
             ],
             [
              0.1111111111111111,
              "#46039f"
             ],
             [
              0.2222222222222222,
              "#7201a8"
             ],
             [
              0.3333333333333333,
              "#9c179e"
             ],
             [
              0.4444444444444444,
              "#bd3786"
             ],
             [
              0.5555555555555556,
              "#d8576b"
             ],
             [
              0.6666666666666666,
              "#ed7953"
             ],
             [
              0.7777777777777778,
              "#fb9f3a"
             ],
             [
              0.8888888888888888,
              "#fdca26"
             ],
             [
              1,
              "#f0f921"
             ]
            ],
            "type": "contour"
           }
          ],
          "contourcarpet": [
           {
            "colorbar": {
             "outlinewidth": 0,
             "ticks": ""
            },
            "type": "contourcarpet"
           }
          ],
          "heatmap": [
           {
            "colorbar": {
             "outlinewidth": 0,
             "ticks": ""
            },
            "colorscale": [
             [
              0,
              "#0d0887"
             ],
             [
              0.1111111111111111,
              "#46039f"
             ],
             [
              0.2222222222222222,
              "#7201a8"
             ],
             [
              0.3333333333333333,
              "#9c179e"
             ],
             [
              0.4444444444444444,
              "#bd3786"
             ],
             [
              0.5555555555555556,
              "#d8576b"
             ],
             [
              0.6666666666666666,
              "#ed7953"
             ],
             [
              0.7777777777777778,
              "#fb9f3a"
             ],
             [
              0.8888888888888888,
              "#fdca26"
             ],
             [
              1,
              "#f0f921"
             ]
            ],
            "type": "heatmap"
           }
          ],
          "heatmapgl": [
           {
            "colorbar": {
             "outlinewidth": 0,
             "ticks": ""
            },
            "colorscale": [
             [
              0,
              "#0d0887"
             ],
             [
              0.1111111111111111,
              "#46039f"
             ],
             [
              0.2222222222222222,
              "#7201a8"
             ],
             [
              0.3333333333333333,
              "#9c179e"
             ],
             [
              0.4444444444444444,
              "#bd3786"
             ],
             [
              0.5555555555555556,
              "#d8576b"
             ],
             [
              0.6666666666666666,
              "#ed7953"
             ],
             [
              0.7777777777777778,
              "#fb9f3a"
             ],
             [
              0.8888888888888888,
              "#fdca26"
             ],
             [
              1,
              "#f0f921"
             ]
            ],
            "type": "heatmapgl"
           }
          ],
          "histogram": [
           {
            "marker": {
             "line": {
              "width": 1
             },
             "pattern": {
              "fillmode": "overlay",
              "size": 10,
              "solidity": 0.2
             }
            },
            "type": "histogram"
           }
          ],
          "histogram2d": [
           {
            "colorbar": {
             "outlinewidth": 0,
             "ticks": ""
            },
            "colorscale": [
             [
              0,
              "#0d0887"
             ],
             [
              0.1111111111111111,
              "#46039f"
             ],
             [
              0.2222222222222222,
              "#7201a8"
             ],
             [
              0.3333333333333333,
              "#9c179e"
             ],
             [
              0.4444444444444444,
              "#bd3786"
             ],
             [
              0.5555555555555556,
              "#d8576b"
             ],
             [
              0.6666666666666666,
              "#ed7953"
             ],
             [
              0.7777777777777778,
              "#fb9f3a"
             ],
             [
              0.8888888888888888,
              "#fdca26"
             ],
             [
              1,
              "#f0f921"
             ]
            ],
            "type": "histogram2d"
           }
          ],
          "histogram2dcontour": [
           {
            "colorbar": {
             "outlinewidth": 0,
             "ticks": ""
            },
            "colorscale": [
             [
              0,
              "#0d0887"
             ],
             [
              0.1111111111111111,
              "#46039f"
             ],
             [
              0.2222222222222222,
              "#7201a8"
             ],
             [
              0.3333333333333333,
              "#9c179e"
             ],
             [
              0.4444444444444444,
              "#bd3786"
             ],
             [
              0.5555555555555556,
              "#d8576b"
             ],
             [
              0.6666666666666666,
              "#ed7953"
             ],
             [
              0.7777777777777778,
              "#fb9f3a"
             ],
             [
              0.8888888888888888,
              "#fdca26"
             ],
             [
              1,
              "#f0f921"
             ]
            ],
            "type": "histogram2dcontour"
           }
          ],
          "mesh3d": [
           {
            "colorbar": {
             "outlinewidth": 0,
             "ticks": ""
            },
            "type": "mesh3d"
           }
          ],
          "parcoords": [
           {
            "line": {
             "colorbar": {
              "outlinewidth": 0,
              "ticks": ""
             }
            },
            "type": "parcoords"
           }
          ],
          "pie": [
           {
            "automargin": true,
            "type": "pie"
           }
          ],
          "scatter": [
           {
            "marker": {
             "colorbar": {
              "outlinewidth": 0,
              "ticks": ""
             },
             "opacity": 0.8
            },
            "type": "scatter"
           }
          ],
          "scatter3d": [
           {
            "line": {
             "colorbar": {
              "outlinewidth": 0,
              "ticks": ""
             }
            },
            "marker": {
             "colorbar": {
              "outlinewidth": 0,
              "ticks": ""
             },
             "opacity": 0.8
            },
            "type": "scatter3d"
           }
          ],
          "scattercarpet": [
           {
            "marker": {
             "colorbar": {
              "outlinewidth": 0,
              "ticks": ""
             }
            },
            "type": "scattercarpet"
           }
          ],
          "scattergeo": [
           {
            "marker": {
             "colorbar": {
              "outlinewidth": 0,
              "ticks": ""
             }
            },
            "type": "scattergeo"
           }
          ],
          "scattergl": [
           {
            "marker": {
             "colorbar": {
              "outlinewidth": 0,
              "ticks": ""
             }
            },
            "type": "scattergl"
           }
          ],
          "scattermapbox": [
           {
            "marker": {
             "colorbar": {
              "outlinewidth": 0,
              "ticks": ""
             }
            },
            "type": "scattermapbox"
           }
          ],
          "scatterpolar": [
           {
            "marker": {
             "colorbar": {
              "outlinewidth": 0,
              "ticks": ""
             }
            },
            "type": "scatterpolar"
           }
          ],
          "scatterpolargl": [
           {
            "marker": {
             "colorbar": {
              "outlinewidth": 0,
              "ticks": ""
             }
            },
            "type": "scatterpolargl"
           }
          ],
          "scatterternary": [
           {
            "marker": {
             "colorbar": {
              "outlinewidth": 0,
              "ticks": ""
             }
            },
            "type": "scatterternary"
           }
          ],
          "surface": [
           {
            "colorbar": {
             "outlinewidth": 0,
             "ticks": ""
            },
            "colorscale": [
             [
              0,
              "#0d0887"
             ],
             [
              0.1111111111111111,
              "#46039f"
             ],
             [
              0.2222222222222222,
              "#7201a8"
             ],
             [
              0.3333333333333333,
              "#9c179e"
             ],
             [
              0.4444444444444444,
              "#bd3786"
             ],
             [
              0.5555555555555556,
              "#d8576b"
             ],
             [
              0.6666666666666666,
              "#ed7953"
             ],
             [
              0.7777777777777778,
              "#fb9f3a"
             ],
             [
              0.8888888888888888,
              "#fdca26"
             ],
             [
              1,
              "#f0f921"
             ]
            ],
            "type": "surface"
           }
          ],
          "table": [
           {
            "cells": {
             "fill": {
              "color": "#EBF0F8"
             },
             "line": {
              "color": "white"
             }
            },
            "header": {
             "fill": {
              "color": "#C8D4E3"
             },
             "line": {
              "color": "white"
             }
            },
            "type": "table"
           }
          ]
         },
         "layout": {
          "annotationdefaults": {
           "arrowcolor": "#2a3f5f",
           "arrowhead": 0,
           "arrowwidth": 1
          },
          "autotypenumbers": "strict",
          "coloraxis": {
           "colorbar": {
            "outlinewidth": 0,
            "ticks": ""
           }
          },
          "colorscale": {
           "diverging": [
            [
             0,
             "#8e0152"
            ],
            [
             0.1,
             "#c51b7d"
            ],
            [
             0.2,
             "#de77ae"
            ],
            [
             0.3,
             "#f1b6da"
            ],
            [
             0.4,
             "#fde0ef"
            ],
            [
             0.5,
             "#f7f7f7"
            ],
            [
             0.6,
             "#e6f5d0"
            ],
            [
             0.7,
             "#b8e186"
            ],
            [
             0.8,
             "#7fbc41"
            ],
            [
             0.9,
             "#4d9221"
            ],
            [
             1,
             "#276419"
            ]
           ],
           "sequential": [
            [
             0,
             "#0d0887"
            ],
            [
             0.1111111111111111,
             "#46039f"
            ],
            [
             0.2222222222222222,
             "#7201a8"
            ],
            [
             0.3333333333333333,
             "#9c179e"
            ],
            [
             0.4444444444444444,
             "#bd3786"
            ],
            [
             0.5555555555555556,
             "#d8576b"
            ],
            [
             0.6666666666666666,
             "#ed7953"
            ],
            [
             0.7777777777777778,
             "#fb9f3a"
            ],
            [
             0.8888888888888888,
             "#fdca26"
            ],
            [
             1,
             "#f0f921"
            ]
           ],
           "sequentialminus": [
            [
             0,
             "#0d0887"
            ],
            [
             0.1111111111111111,
             "#46039f"
            ],
            [
             0.2222222222222222,
             "#7201a8"
            ],
            [
             0.3333333333333333,
             "#9c179e"
            ],
            [
             0.4444444444444444,
             "#bd3786"
            ],
            [
             0.5555555555555556,
             "#d8576b"
            ],
            [
             0.6666666666666666,
             "#ed7953"
            ],
            [
             0.7777777777777778,
             "#fb9f3a"
            ],
            [
             0.8888888888888888,
             "#fdca26"
            ],
            [
             1,
             "#f0f921"
            ]
           ]
          },
          "colorway": [
           "#636efa",
           "#EF553B",
           "#00cc96",
           "#ab63fa",
           "#FFA15A",
           "#19d3f3",
           "#FF6692",
           "#B6E880",
           "#FF97FF",
           "#FECB52"
          ],
          "font": {
           "color": "#2a3f5f"
          },
          "geo": {
           "bgcolor": "white",
           "lakecolor": "white",
           "landcolor": "white",
           "showlakes": true,
           "showland": true,
           "subunitcolor": "#C8D4E3"
          },
          "height": 400,
          "hoverlabel": {
           "align": "left"
          },
          "hovermode": "closest",
          "mapbox": {
           "style": "light"
          },
          "margin": {
           "b": 2,
           "l": 2,
           "r": 2,
           "t": 30
          },
          "paper_bgcolor": "white",
          "plot_bgcolor": "white",
          "polar": {
           "angularaxis": {
            "gridcolor": "#EBF0F8",
            "linecolor": "#EBF0F8",
            "ticks": ""
           },
           "bgcolor": "white",
           "radialaxis": {
            "gridcolor": "#EBF0F8",
            "linecolor": "#EBF0F8",
            "ticks": ""
           }
          },
          "scene": {
           "camera": {
            "eye": {
             "x": 1.5,
             "y": 1.5,
             "z": 0.1
            }
           },
           "xaxis": {
            "backgroundcolor": "white",
            "gridcolor": "#DFE8F3",
            "gridwidth": 2,
            "linecolor": "#EBF0F8",
            "showbackground": true,
            "ticks": "",
            "zerolinecolor": "#EBF0F8"
           },
           "yaxis": {
            "backgroundcolor": "white",
            "gridcolor": "#DFE8F3",
            "gridwidth": 2,
            "linecolor": "#EBF0F8",
            "showbackground": true,
            "ticks": "",
            "zerolinecolor": "#EBF0F8"
           },
           "zaxis": {
            "backgroundcolor": "white",
            "gridcolor": "#DFE8F3",
            "gridwidth": 2,
            "linecolor": "#EBF0F8",
            "showbackground": true,
            "ticks": "",
            "zerolinecolor": "#EBF0F8"
           }
          },
          "shapedefaults": {
           "line": {
            "color": "#2a3f5f"
           }
          },
          "ternary": {
           "aaxis": {
            "gridcolor": "#DFE8F3",
            "linecolor": "#A2B1C6",
            "ticks": ""
           },
           "baxis": {
            "gridcolor": "#DFE8F3",
            "linecolor": "#A2B1C6",
            "ticks": ""
           },
           "bgcolor": "white",
           "caxis": {
            "gridcolor": "#DFE8F3",
            "linecolor": "#A2B1C6",
            "ticks": ""
           }
          },
          "title": {
           "x": 0.5
          },
          "xaxis": {
           "automargin": true,
           "gridcolor": "#EBF0F8",
           "linecolor": "#EBF0F8",
           "linewidth": 2,
           "showline": true,
           "ticks": "",
           "title": {
            "standoff": 15
           },
           "zerolinecolor": "#EBF0F8",
           "zerolinewidth": 2
          },
          "yaxis": {
           "automargin": true,
           "gridcolor": "#EBF0F8",
           "linecolor": "#EBF0F8",
           "linewidth": 2,
           "showline": true,
           "ticks": "",
           "title": {
            "standoff": 15
           },
           "zerolinecolor": "#EBF0F8",
           "zerolinewidth": 2
          }
         }
        },
        "title": {}
       }
      }
     },
     "metadata": {},
     "output_type": "display_data"
    }
   ],
   "source": [
    "import numpy as np\n",
    "# Show a graph of the result\n",
    "# this needs to be 3D, because we now have three variables in play: two features and one label\n",
    "\n",
    "def predict( Avg_Brent_Crude , Ex_Rate):\n",
    "    '''\n",
    "    This converts given Avg_Brent_Crude and Ex_Change values into a prediction from the model\n",
    "    '''\n",
    "    # to make a prediction with statsmodels, we need to provide a dataframe\n",
    "    # so create a dataframe with just the Avg_Brent_Crude and Ex_Rate variables\n",
    "    df = pd.DataFrame(dict(Avg_Brent_Crude=[Avg_Brent_Crude], Ex_Rate=[Ex_Rate]))\n",
    "    return model.predict(df)\n",
    "\n",
    "# Create the surface graph\n",
    "fig = graphing.surface(\n",
    "    x_values=np.array([min(dataset.Avg_Brent_Crude), max(dataset.Avg_Brent_Crude)]),\n",
    "    y_values=np.array([0, 25]),\n",
    "    calc_z=predict,\n",
    "    axis_title_x=\"Brent Crude Oil\",\n",
    "    axis_title_y=\"Exchange Rate\",\n",
    "    axis_title_z=\"Petrol\"\n",
    ")\n",
    "\n",
    "# Add our datapoints to it and display\n",
    "fig.add_scatter3d(x=dataset.Avg_Brent_Crude, y=dataset.Ex_Rate, z=dataset.Petrol, mode='markers')\n",
    "fig.show()"
   ]
  },
  {
   "cell_type": "code",
   "execution_count": 8,
   "metadata": {},
   "outputs": [
    {
     "data": {
      "text/html": [
       "<table class=\"simpletable\">\n",
       "<caption>OLS Regression Results</caption>\n",
       "<tr>\n",
       "  <th>Dep. Variable:</th>         <td>Petrol</td>      <th>  R-squared:         </th> <td>   0.857</td>\n",
       "</tr>\n",
       "<tr>\n",
       "  <th>Model:</th>                   <td>OLS</td>       <th>  Adj. R-squared:    </th> <td>   0.855</td>\n",
       "</tr>\n",
       "<tr>\n",
       "  <th>Method:</th>             <td>Least Squares</td>  <th>  F-statistic:       </th> <td>   430.4</td>\n",
       "</tr>\n",
       "<tr>\n",
       "  <th>Date:</th>             <td>Mon, 14 Mar 2022</td> <th>  Prob (F-statistic):</th> <td>1.79e-61</td>\n",
       "</tr>\n",
       "<tr>\n",
       "  <th>Time:</th>                 <td>10:50:16</td>     <th>  Log-Likelihood:    </th> <td> -891.55</td>\n",
       "</tr>\n",
       "<tr>\n",
       "  <th>No. Observations:</th>      <td>   147</td>      <th>  AIC:               </th> <td>   1789.</td>\n",
       "</tr>\n",
       "<tr>\n",
       "  <th>Df Residuals:</th>          <td>   144</td>      <th>  BIC:               </th> <td>   1798.</td>\n",
       "</tr>\n",
       "<tr>\n",
       "  <th>Df Model:</th>              <td>     2</td>      <th>                     </th>     <td> </td>   \n",
       "</tr>\n",
       "<tr>\n",
       "  <th>Covariance Type:</th>      <td>nonrobust</td>    <th>                     </th>     <td> </td>   \n",
       "</tr>\n",
       "</table>\n",
       "<table class=\"simpletable\">\n",
       "<tr>\n",
       "         <td></td>            <th>coef</th>     <th>std err</th>      <th>t</th>      <th>P>|t|</th>  <th>[0.025</th>    <th>0.975]</th>  \n",
       "</tr>\n",
       "<tr>\n",
       "  <th>Intercept</th>       <td> -880.9382</td> <td>   87.955</td> <td>  -10.016</td> <td> 0.000</td> <td>-1054.789</td> <td> -707.088</td>\n",
       "</tr>\n",
       "<tr>\n",
       "  <th>Avg_Brent_Crude</th> <td>    9.3756</td> <td>    0.526</td> <td>   17.807</td> <td> 0.000</td> <td>    8.335</td> <td>   10.416</td>\n",
       "</tr>\n",
       "<tr>\n",
       "  <th>Ex_Rate</th>         <td>  126.0346</td> <td>    4.420</td> <td>   28.515</td> <td> 0.000</td> <td>  117.298</td> <td>  134.771</td>\n",
       "</tr>\n",
       "</table>\n",
       "<table class=\"simpletable\">\n",
       "<tr>\n",
       "  <th>Omnibus:</th>       <td>11.083</td> <th>  Durbin-Watson:     </th> <td>   0.256</td>\n",
       "</tr>\n",
       "<tr>\n",
       "  <th>Prob(Omnibus):</th> <td> 0.004</td> <th>  Jarque-Bera (JB):  </th> <td>  13.895</td>\n",
       "</tr>\n",
       "<tr>\n",
       "  <th>Skew:</th>          <td>-0.478</td> <th>  Prob(JB):          </th> <td>0.000961</td>\n",
       "</tr>\n",
       "<tr>\n",
       "  <th>Kurtosis:</th>      <td> 4.164</td> <th>  Cond. No.          </th> <td>    822.</td>\n",
       "</tr>\n",
       "</table><br/><br/>Notes:<br/>[1] Standard Errors assume that the covariance matrix of the errors is correctly specified."
      ],
      "text/plain": [
       "<class 'statsmodels.iolib.summary.Summary'>\n",
       "\"\"\"\n",
       "                            OLS Regression Results                            \n",
       "==============================================================================\n",
       "Dep. Variable:                 Petrol   R-squared:                       0.857\n",
       "Model:                            OLS   Adj. R-squared:                  0.855\n",
       "Method:                 Least Squares   F-statistic:                     430.4\n",
       "Date:                Mon, 14 Mar 2022   Prob (F-statistic):           1.79e-61\n",
       "Time:                        10:50:16   Log-Likelihood:                -891.55\n",
       "No. Observations:                 147   AIC:                             1789.\n",
       "Df Residuals:                     144   BIC:                             1798.\n",
       "Df Model:                           2                                         \n",
       "Covariance Type:            nonrobust                                         \n",
       "===================================================================================\n",
       "                      coef    std err          t      P>|t|      [0.025      0.975]\n",
       "-----------------------------------------------------------------------------------\n",
       "Intercept        -880.9382     87.955    -10.016      0.000   -1054.789    -707.088\n",
       "Avg_Brent_Crude     9.3756      0.526     17.807      0.000       8.335      10.416\n",
       "Ex_Rate           126.0346      4.420     28.515      0.000     117.298     134.771\n",
       "==============================================================================\n",
       "Omnibus:                       11.083   Durbin-Watson:                   0.256\n",
       "Prob(Omnibus):                  0.004   Jarque-Bera (JB):               13.895\n",
       "Skew:                          -0.478   Prob(JB):                     0.000961\n",
       "Kurtosis:                       4.164   Cond. No.                         822.\n",
       "==============================================================================\n",
       "\n",
       "Notes:\n",
       "[1] Standard Errors assume that the covariance matrix of the errors is correctly specified.\n",
       "\"\"\""
      ]
     },
     "execution_count": 8,
     "metadata": {},
     "output_type": "execute_result"
    }
   ],
   "source": [
    "# Print summary information\n",
    "model.summary()"
   ]
  },
  {
   "cell_type": "code",
   "execution_count": 9,
   "metadata": {},
   "outputs": [
    {
     "data": {
      "text/html": [
       "<table class=\"simpletable\">\n",
       "<caption>OLS Regression Results</caption>\n",
       "<tr>\n",
       "  <th>Dep. Variable:</th>         <td>Petrol</td>      <th>  R-squared:         </th> <td>   0.047</td>\n",
       "</tr>\n",
       "<tr>\n",
       "  <th>Model:</th>                   <td>OLS</td>       <th>  Adj. R-squared:    </th> <td>   0.041</td>\n",
       "</tr>\n",
       "<tr>\n",
       "  <th>Method:</th>             <td>Least Squares</td>  <th>  F-statistic:       </th> <td>   7.223</td>\n",
       "</tr>\n",
       "<tr>\n",
       "  <th>Date:</th>             <td>Mon, 14 Mar 2022</td> <th>  Prob (F-statistic):</th>  <td>0.00804</td>\n",
       "</tr>\n",
       "<tr>\n",
       "  <th>Time:</th>                 <td>10:50:16</td>     <th>  Log-Likelihood:    </th> <td> -1030.8</td>\n",
       "</tr>\n",
       "<tr>\n",
       "  <th>No. Observations:</th>      <td>   147</td>      <th>  AIC:               </th> <td>   2066.</td>\n",
       "</tr>\n",
       "<tr>\n",
       "  <th>Df Residuals:</th>          <td>   145</td>      <th>  BIC:               </th> <td>   2072.</td>\n",
       "</tr>\n",
       "<tr>\n",
       "  <th>Df Model:</th>              <td>     1</td>      <th>                     </th>     <td> </td>   \n",
       "</tr>\n",
       "<tr>\n",
       "  <th>Covariance Type:</th>      <td>nonrobust</td>    <th>                     </th>     <td> </td>   \n",
       "</tr>\n",
       "</table>\n",
       "<table class=\"simpletable\">\n",
       "<tr>\n",
       "         <td></td>            <th>coef</th>     <th>std err</th>      <th>t</th>      <th>P>|t|</th>  <th>[0.025</th>    <th>0.975]</th>  \n",
       "</tr>\n",
       "<tr>\n",
       "  <th>Intercept</th>       <td> 1509.5092</td> <td>   68.392</td> <td>   22.071</td> <td> 0.000</td> <td> 1374.335</td> <td> 1644.683</td>\n",
       "</tr>\n",
       "<tr>\n",
       "  <th>Avg_Brent_Crude</th> <td>   -2.2888</td> <td>    0.852</td> <td>   -2.688</td> <td> 0.008</td> <td>   -3.972</td> <td>   -0.606</td>\n",
       "</tr>\n",
       "</table>\n",
       "<table class=\"simpletable\">\n",
       "<tr>\n",
       "  <th>Omnibus:</th>       <td> 4.159</td> <th>  Durbin-Watson:     </th> <td>   0.068</td>\n",
       "</tr>\n",
       "<tr>\n",
       "  <th>Prob(Omnibus):</th> <td> 0.125</td> <th>  Jarque-Bera (JB):  </th> <td>   3.765</td>\n",
       "</tr>\n",
       "<tr>\n",
       "  <th>Skew:</th>          <td> 0.292</td> <th>  Prob(JB):          </th> <td>   0.152</td>\n",
       "</tr>\n",
       "<tr>\n",
       "  <th>Kurtosis:</th>      <td> 3.523</td> <th>  Cond. No.          </th> <td>    246.</td>\n",
       "</tr>\n",
       "</table><br/><br/>Notes:<br/>[1] Standard Errors assume that the covariance matrix of the errors is correctly specified."
      ],
      "text/plain": [
       "<class 'statsmodels.iolib.summary.Summary'>\n",
       "\"\"\"\n",
       "                            OLS Regression Results                            \n",
       "==============================================================================\n",
       "Dep. Variable:                 Petrol   R-squared:                       0.047\n",
       "Model:                            OLS   Adj. R-squared:                  0.041\n",
       "Method:                 Least Squares   F-statistic:                     7.223\n",
       "Date:                Mon, 14 Mar 2022   Prob (F-statistic):            0.00804\n",
       "Time:                        10:50:16   Log-Likelihood:                -1030.8\n",
       "No. Observations:                 147   AIC:                             2066.\n",
       "Df Residuals:                     145   BIC:                             2072.\n",
       "Df Model:                           1                                         \n",
       "Covariance Type:            nonrobust                                         \n",
       "===================================================================================\n",
       "                      coef    std err          t      P>|t|      [0.025      0.975]\n",
       "-----------------------------------------------------------------------------------\n",
       "Intercept        1509.5092     68.392     22.071      0.000    1374.335    1644.683\n",
       "Avg_Brent_Crude    -2.2888      0.852     -2.688      0.008      -3.972      -0.606\n",
       "==============================================================================\n",
       "Omnibus:                        4.159   Durbin-Watson:                   0.068\n",
       "Prob(Omnibus):                  0.125   Jarque-Bera (JB):                3.765\n",
       "Skew:                           0.292   Prob(JB):                        0.152\n",
       "Kurtosis:                       3.523   Cond. No.                         246.\n",
       "==============================================================================\n",
       "\n",
       "Notes:\n",
       "[1] Standard Errors assume that the covariance matrix of the errors is correctly specified.\n",
       "\"\"\""
      ]
     },
     "execution_count": 9,
     "metadata": {},
     "output_type": "execute_result"
    }
   ],
   "source": [
    "petrol_trained_model.summary()"
   ]
  },
  {
   "cell_type": "markdown",
   "metadata": {},
   "source": [
    "# Using Sklearn"
   ]
  },
  {
   "cell_type": "markdown",
   "metadata": {},
   "source": [
    "Creat train and test dataset"
   ]
  },
  {
   "cell_type": "code",
   "execution_count": 16,
   "metadata": {},
   "outputs": [],
   "source": [
    "cdf = dataset[['Avg_Brent_Crude', 'Ex_Rate', 'Petrol']]"
   ]
  },
  {
   "cell_type": "code",
   "execution_count": 20,
   "metadata": {},
   "outputs": [],
   "source": [
    "msk = np.random.rand(len(df)) < 0.8\n",
    "train = cdf[msk]\n",
    "test = cdf[~msk]"
   ]
  },
  {
   "cell_type": "markdown",
   "metadata": {},
   "source": [
    "Mulltiple Regression Model"
   ]
  },
  {
   "cell_type": "code",
   "execution_count": 21,
   "metadata": {},
   "outputs": [
    {
     "name": "stdout",
     "output_type": "stream",
     "text": [
      "Coefficients:  [[  9.66428564 130.22517033]]\n"
     ]
    }
   ],
   "source": [
    "from sklearn import linear_model\n",
    "regr = linear_model.LinearRegression()\n",
    "x = np.asanyarray(train[['Avg_Brent_Crude', 'Ex_Rate']])\n",
    "y = np.asanyarray(train[['Petrol']])\n",
    "regr.fit (x, y)\n",
    "# The coefficients\n",
    "print ('Coefficients: ', regr.coef_)"
   ]
  },
  {
   "cell_type": "markdown",
   "metadata": {},
   "source": [
    "Prediction"
   ]
  },
  {
   "cell_type": "code",
   "execution_count": 22,
   "metadata": {},
   "outputs": [
    {
     "name": "stdout",
     "output_type": "stream",
     "text": [
      "RSS: 12340.25\n",
      "R-Squared: 0.83\n"
     ]
    },
    {
     "name": "stderr",
     "output_type": "stream",
     "text": [
      "C:\\Users\\PC\\AppData\\Local\\Programs\\Python\\Python310\\lib\\site-packages\\sklearn\\base.py:443: UserWarning:\n",
      "\n",
      "X has feature names, but LinearRegression was fitted without feature names\n",
      "\n"
     ]
    }
   ],
   "source": [
    "y_hat= regr.predict(test[['Avg_Brent_Crude', 'Ex_Rate']])\n",
    "x = np.asanyarray(test[['Avg_Brent_Crude', 'Ex_Rate']])\n",
    "y = np.asanyarray(test[['Petrol']])\n",
    "print(\"RSS: %.2f\"\n",
    "      % np.mean((y_hat - y) ** 2))\n",
    "\n",
    "# Explained variance score: 1 is perfect prediction\n",
    "print('R-Squared: %.2f' % regr.score(x, y))"
   ]
  },
  {
   "cell_type": "code",
   "execution_count": null,
   "metadata": {},
   "outputs": [],
   "source": []
  }
 ],
 "metadata": {
  "interpreter": {
   "hash": "8ed06d07b9ff369db6ed7b53447be18709da67cd911d838d72fee7fecb26667a"
  },
  "kernelspec": {
   "display_name": "Python 3.10.2 64-bit",
   "language": "python",
   "name": "python3"
  },
  "language_info": {
   "codemirror_mode": {
    "name": "ipython",
    "version": 3
   },
   "file_extension": ".py",
   "mimetype": "text/x-python",
   "name": "python",
   "nbconvert_exporter": "python",
   "pygments_lexer": "ipython3",
   "version": "3.10.2"
  },
  "orig_nbformat": 4
 },
 "nbformat": 4,
 "nbformat_minor": 2
}
